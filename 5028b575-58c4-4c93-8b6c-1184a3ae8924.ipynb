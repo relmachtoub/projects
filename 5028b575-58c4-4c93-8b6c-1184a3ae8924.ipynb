{
 "cells": [
  {
   "cell_type": "markdown",
   "metadata": {},
   "source": [
    "Hello, my name is Artem. I'm going to review your project!\n",
    "\n",
    "You can find my comments in <font color='green'>green</font>, <font color='blue'>blue</font> or <font color='red'>red</font> boxes like this:\n",
    "\n",
    "<div class=\"alert alert-block alert-success\">\n",
    "<b>Success:</b> if everything is done succesfully\n",
    "</div>\n",
    "\n",
    "<div class=\"alert alert-block alert-info\">\n",
    "<b>Improve: </b> \"Improve\" comments mean that there are tiny corrections that could help you to make your project better.\n",
    "</div>\n",
    "\n",
    "<div class=\"alert alert-block alert-danger\">\n",
    "<b>Needs fixing:</b> if the block requires some corrections. Work can't be accepted with the red comments.\n",
    "</div>\n",
    "\n",
    "### <font color='orange'>General feedback</font>\n",
    "* I'm glad to say that you executed your project really well.\n",
    "* Thank you for structuring the project. It's a pleasure to check such notebooks.\n",
    "* There are a couple of things that need to be done before your project is complete, but they're pretty straightforward.\n",
    "* While there's room for improvement, on the whole, your project is looking good.\n",
    "* I believe you can easily fix it! Good luck!"
   ]
  },
  {
   "cell_type": "markdown",
   "metadata": {},
   "source": [
    "### <font color='orange'>General feedback (review 2)</font>\n",
    "* Thank you for correcting your project!\n",
    "* All \"needs fixing\"blocks were corrected. Good job! But there is one more small bug.\n",
    "* One more time and you'll have it!"
   ]
  },
  {
   "cell_type": "markdown",
   "metadata": {},
   "source": [
    "### <font color='orange'>General feedback (review 2)</font>\n",
    "* Thank you for correcting the project!\n",
    "* Great that you've achieved required score!\n",
    "* Keep up the good work. Good luck next!"
   ]
  },
  {
   "cell_type": "markdown",
   "metadata": {},
   "source": [
    "# Project description\n",
    "\n",
    "Sweet Lift Taxi company has collected historical data on taxi orders at airports. To attract more drivers during peak hours, we need to predict the amount of taxi orders for the next hour. Build a model for such a prediction.\n",
    "\n",
    "The RMSE metric on the test set should not be more than 48.\n",
    "\n",
    "## Project instructions\n",
    "\n",
    "1. Download the data and resample it by one hour.\n",
    "2. Analyze the data.\n",
    "3. Train different models with different hyperparameters. The test sample should be 10% of the initial dataset. \n",
    "4. Test the data using the test sample and provide a conclusion.\n",
    "\n",
    "## Data description\n",
    "\n",
    "The data is stored in file `taxi.csv`. The number of orders is in the '*num_orders*' column."
   ]
  },
  {
   "cell_type": "markdown",
   "metadata": {},
   "source": [
    "## Preparation"
   ]
  },
  {
   "cell_type": "code",
   "execution_count": 1,
   "metadata": {},
   "outputs": [],
   "source": [
    "import pandas as pd\n",
    "from sklearn.tree import DecisionTreeClassifier\n",
    "from sklearn.ensemble import RandomForestClassifier\n",
    "from sklearn.linear_model import LogisticRegression\n",
    "from sklearn.tree import DecisionTreeRegressor\n",
    "from sklearn.metrics import mean_squared_error\n",
    "from sklearn.ensemble import RandomForestRegressor\n",
    "from sklearn.linear_model import LinearRegression\n",
    "from sklearn.model_selection import train_test_split\n",
    "from joblib import dump\n",
    "from sklearn.metrics import r2_score\n",
    "from sklearn.preprocessing import StandardScaler\n",
    "from sklearn.metrics import f1_score\n",
    "from sklearn.metrics import accuracy_score\n",
    "from sklearn.utils import shuffle\n",
    "from sklearn.metrics import roc_curve\n",
    "from sklearn.metrics import roc_auc_score\n",
    "import matplotlib.pyplot as plt\n",
    "from sklearn.model_selection import cross_val_score\n",
    "from sklearn.metrics import fbeta_score, make_scorer\n",
    "from sklearn.metrics import mean_absolute_error\n",
    "import numpy as np\n",
    "from sklearn.preprocessing import OrdinalEncoder"
   ]
  },
  {
   "cell_type": "markdown",
   "metadata": {},
   "source": [
    "<div class=\"alert alert-block alert-success\">\n",
    "<b>Success:</b> Thank you for collecting all imports in the first cell!\n",
    "</div>"
   ]
  },
  {
   "cell_type": "code",
   "execution_count": 2,
   "metadata": {},
   "outputs": [
    {
     "data": {
      "text/html": [
       "<div>\n",
       "<style scoped>\n",
       "    .dataframe tbody tr th:only-of-type {\n",
       "        vertical-align: middle;\n",
       "    }\n",
       "\n",
       "    .dataframe tbody tr th {\n",
       "        vertical-align: top;\n",
       "    }\n",
       "\n",
       "    .dataframe thead th {\n",
       "        text-align: right;\n",
       "    }\n",
       "</style>\n",
       "<table border=\"1\" class=\"dataframe\">\n",
       "  <thead>\n",
       "    <tr style=\"text-align: right;\">\n",
       "      <th></th>\n",
       "      <th>num_orders</th>\n",
       "    </tr>\n",
       "    <tr>\n",
       "      <th>datetime</th>\n",
       "      <th></th>\n",
       "    </tr>\n",
       "  </thead>\n",
       "  <tbody>\n",
       "    <tr>\n",
       "      <td>2018-03-01 00:00:00</td>\n",
       "      <td>9</td>\n",
       "    </tr>\n",
       "    <tr>\n",
       "      <td>2018-03-01 00:10:00</td>\n",
       "      <td>14</td>\n",
       "    </tr>\n",
       "    <tr>\n",
       "      <td>2018-03-01 00:20:00</td>\n",
       "      <td>28</td>\n",
       "    </tr>\n",
       "    <tr>\n",
       "      <td>2018-03-01 00:30:00</td>\n",
       "      <td>20</td>\n",
       "    </tr>\n",
       "    <tr>\n",
       "      <td>2018-03-01 00:40:00</td>\n",
       "      <td>32</td>\n",
       "    </tr>\n",
       "    <tr>\n",
       "      <td>2018-03-01 00:50:00</td>\n",
       "      <td>21</td>\n",
       "    </tr>\n",
       "    <tr>\n",
       "      <td>2018-03-01 01:00:00</td>\n",
       "      <td>7</td>\n",
       "    </tr>\n",
       "    <tr>\n",
       "      <td>2018-03-01 01:10:00</td>\n",
       "      <td>5</td>\n",
       "    </tr>\n",
       "    <tr>\n",
       "      <td>2018-03-01 01:20:00</td>\n",
       "      <td>17</td>\n",
       "    </tr>\n",
       "    <tr>\n",
       "      <td>2018-03-01 01:30:00</td>\n",
       "      <td>12</td>\n",
       "    </tr>\n",
       "  </tbody>\n",
       "</table>\n",
       "</div>"
      ],
      "text/plain": [
       "                     num_orders\n",
       "datetime                       \n",
       "2018-03-01 00:00:00           9\n",
       "2018-03-01 00:10:00          14\n",
       "2018-03-01 00:20:00          28\n",
       "2018-03-01 00:30:00          20\n",
       "2018-03-01 00:40:00          32\n",
       "2018-03-01 00:50:00          21\n",
       "2018-03-01 01:00:00           7\n",
       "2018-03-01 01:10:00           5\n",
       "2018-03-01 01:20:00          17\n",
       "2018-03-01 01:30:00          12"
      ]
     },
     "metadata": {},
     "output_type": "display_data"
    }
   ],
   "source": [
    "data = pd.read_csv('/datasets/taxi.csv', index_col=0, parse_dates=[0])\n",
    "data.sort_index(inplace=True)\n",
    "\n",
    "display(data.head(10))"
   ]
  },
  {
   "cell_type": "code",
   "execution_count": 3,
   "metadata": {},
   "outputs": [],
   "source": [
    "data = data.resample('1H').sum()"
   ]
  },
  {
   "cell_type": "markdown",
   "metadata": {},
   "source": [
    "<div class=\"alert alert-block alert-success\">\n",
    "<b>Success:</b> Data loading was done correctly!\n",
    "</div>\n",
    "\n",
    "<div class=\"alert alert-block alert-danger\">\n",
    "\n",
    "<b>Needs fixing:</b> Resampling was done in the wrong way because the result of `data.resample('1H').sum()` was not saved.\n",
    "</div>\n",
    "\n",
    " - Fixed!"
   ]
  },
  {
   "cell_type": "markdown",
   "metadata": {},
   "source": [
    "<div class=\"alert alert-block alert-success\">\n",
    "<b>Success (review 2):</b> Well done!\n",
    "</div>"
   ]
  },
  {
   "cell_type": "code",
   "execution_count": 4,
   "metadata": {},
   "outputs": [],
   "source": [
    "def make_features(data, max_lag, rolling_1, rolling_2, rolling_3):\n",
    "    data['year'] = data.index.year\n",
    "    data['month'] = data.index.month\n",
    "    data['day'] = data.index.day\n",
    "    data['dayofweek'] = data.index.dayofweek\n",
    "    \n",
    "    for lag in range(1, max_lag + 1):\n",
    "        data['lag_{}'.format(lag)] = data['num_orders'].shift(lag)\n",
    "\n",
    "    data['rolling_mean_{}'.format(rolling_1)] = data['num_orders'].shift(1).rolling(rolling_1).mean()\n",
    "    data['rolling_mean_{}'.format(rolling_2)] = data['num_orders'].shift(1).rolling(rolling_2).mean()\n",
    "    data['rolling_mean_{}'.format(rolling_3)] = data['num_orders'].shift(1).rolling(rolling_3).mean()"
   ]
  },
  {
   "cell_type": "markdown",
   "metadata": {},
   "source": [
    "<div class=\"alert alert-block alert-info\">\n",
    "<b>Improve: </b> It would be better if this function returns new dataframe instead of modifying a global variable.\n",
    "</div>"
   ]
  },
  {
   "cell_type": "code",
   "execution_count": 5,
   "metadata": {},
   "outputs": [
    {
     "data": {
      "text/html": [
       "<div>\n",
       "<style scoped>\n",
       "    .dataframe tbody tr th:only-of-type {\n",
       "        vertical-align: middle;\n",
       "    }\n",
       "\n",
       "    .dataframe tbody tr th {\n",
       "        vertical-align: top;\n",
       "    }\n",
       "\n",
       "    .dataframe thead th {\n",
       "        text-align: right;\n",
       "    }\n",
       "</style>\n",
       "<table border=\"1\" class=\"dataframe\">\n",
       "  <thead>\n",
       "    <tr style=\"text-align: right;\">\n",
       "      <th></th>\n",
       "      <th>num_orders</th>\n",
       "      <th>year</th>\n",
       "      <th>month</th>\n",
       "      <th>day</th>\n",
       "      <th>dayofweek</th>\n",
       "      <th>lag_1</th>\n",
       "      <th>lag_2</th>\n",
       "      <th>lag_3</th>\n",
       "      <th>lag_4</th>\n",
       "      <th>lag_5</th>\n",
       "      <th>...</th>\n",
       "      <th>lag_44</th>\n",
       "      <th>lag_45</th>\n",
       "      <th>lag_46</th>\n",
       "      <th>lag_47</th>\n",
       "      <th>lag_48</th>\n",
       "      <th>lag_49</th>\n",
       "      <th>lag_50</th>\n",
       "      <th>rolling_mean_10</th>\n",
       "      <th>rolling_mean_15</th>\n",
       "      <th>rolling_mean_20</th>\n",
       "    </tr>\n",
       "    <tr>\n",
       "      <th>datetime</th>\n",
       "      <th></th>\n",
       "      <th></th>\n",
       "      <th></th>\n",
       "      <th></th>\n",
       "      <th></th>\n",
       "      <th></th>\n",
       "      <th></th>\n",
       "      <th></th>\n",
       "      <th></th>\n",
       "      <th></th>\n",
       "      <th></th>\n",
       "      <th></th>\n",
       "      <th></th>\n",
       "      <th></th>\n",
       "      <th></th>\n",
       "      <th></th>\n",
       "      <th></th>\n",
       "      <th></th>\n",
       "      <th></th>\n",
       "      <th></th>\n",
       "      <th></th>\n",
       "    </tr>\n",
       "  </thead>\n",
       "  <tbody>\n",
       "    <tr>\n",
       "      <td>2018-03-03 02:00:00</td>\n",
       "      <td>25</td>\n",
       "      <td>2018</td>\n",
       "      <td>3</td>\n",
       "      <td>3</td>\n",
       "      <td>5</td>\n",
       "      <td>108.0</td>\n",
       "      <td>163.0</td>\n",
       "      <td>72.0</td>\n",
       "      <td>119.0</td>\n",
       "      <td>101.0</td>\n",
       "      <td>...</td>\n",
       "      <td>12.0</td>\n",
       "      <td>6.0</td>\n",
       "      <td>43.0</td>\n",
       "      <td>66.0</td>\n",
       "      <td>71.0</td>\n",
       "      <td>85.0</td>\n",
       "      <td>124.0</td>\n",
       "      <td>95.9</td>\n",
       "      <td>82.266667</td>\n",
       "      <td>69.85</td>\n",
       "    </tr>\n",
       "    <tr>\n",
       "      <td>2018-03-03 03:00:00</td>\n",
       "      <td>64</td>\n",
       "      <td>2018</td>\n",
       "      <td>3</td>\n",
       "      <td>3</td>\n",
       "      <td>5</td>\n",
       "      <td>25.0</td>\n",
       "      <td>108.0</td>\n",
       "      <td>163.0</td>\n",
       "      <td>72.0</td>\n",
       "      <td>119.0</td>\n",
       "      <td>...</td>\n",
       "      <td>15.0</td>\n",
       "      <td>12.0</td>\n",
       "      <td>6.0</td>\n",
       "      <td>43.0</td>\n",
       "      <td>66.0</td>\n",
       "      <td>71.0</td>\n",
       "      <td>85.0</td>\n",
       "      <td>90.2</td>\n",
       "      <td>77.866667</td>\n",
       "      <td>70.55</td>\n",
       "    </tr>\n",
       "    <tr>\n",
       "      <td>2018-03-03 04:00:00</td>\n",
       "      <td>44</td>\n",
       "      <td>2018</td>\n",
       "      <td>3</td>\n",
       "      <td>3</td>\n",
       "      <td>5</td>\n",
       "      <td>64.0</td>\n",
       "      <td>25.0</td>\n",
       "      <td>108.0</td>\n",
       "      <td>163.0</td>\n",
       "      <td>72.0</td>\n",
       "      <td>...</td>\n",
       "      <td>34.0</td>\n",
       "      <td>15.0</td>\n",
       "      <td>12.0</td>\n",
       "      <td>6.0</td>\n",
       "      <td>43.0</td>\n",
       "      <td>66.0</td>\n",
       "      <td>71.0</td>\n",
       "      <td>88.3</td>\n",
       "      <td>79.733333</td>\n",
       "      <td>73.40</td>\n",
       "    </tr>\n",
       "    <tr>\n",
       "      <td>2018-03-03 05:00:00</td>\n",
       "      <td>15</td>\n",
       "      <td>2018</td>\n",
       "      <td>3</td>\n",
       "      <td>3</td>\n",
       "      <td>5</td>\n",
       "      <td>44.0</td>\n",
       "      <td>64.0</td>\n",
       "      <td>25.0</td>\n",
       "      <td>108.0</td>\n",
       "      <td>163.0</td>\n",
       "      <td>...</td>\n",
       "      <td>69.0</td>\n",
       "      <td>34.0</td>\n",
       "      <td>15.0</td>\n",
       "      <td>12.0</td>\n",
       "      <td>6.0</td>\n",
       "      <td>43.0</td>\n",
       "      <td>66.0</td>\n",
       "      <td>83.8</td>\n",
       "      <td>79.666667</td>\n",
       "      <td>73.30</td>\n",
       "    </tr>\n",
       "    <tr>\n",
       "      <td>2018-03-03 06:00:00</td>\n",
       "      <td>9</td>\n",
       "      <td>2018</td>\n",
       "      <td>3</td>\n",
       "      <td>3</td>\n",
       "      <td>5</td>\n",
       "      <td>15.0</td>\n",
       "      <td>44.0</td>\n",
       "      <td>64.0</td>\n",
       "      <td>25.0</td>\n",
       "      <td>108.0</td>\n",
       "      <td>...</td>\n",
       "      <td>64.0</td>\n",
       "      <td>69.0</td>\n",
       "      <td>34.0</td>\n",
       "      <td>15.0</td>\n",
       "      <td>12.0</td>\n",
       "      <td>6.0</td>\n",
       "      <td>43.0</td>\n",
       "      <td>80.4</td>\n",
       "      <td>77.733333</td>\n",
       "      <td>71.80</td>\n",
       "    </tr>\n",
       "  </tbody>\n",
       "</table>\n",
       "<p>5 rows × 58 columns</p>\n",
       "</div>"
      ],
      "text/plain": [
       "                     num_orders  year  month  day  dayofweek  lag_1  lag_2  \\\n",
       "datetime                                                                     \n",
       "2018-03-03 02:00:00          25  2018      3    3          5  108.0  163.0   \n",
       "2018-03-03 03:00:00          64  2018      3    3          5   25.0  108.0   \n",
       "2018-03-03 04:00:00          44  2018      3    3          5   64.0   25.0   \n",
       "2018-03-03 05:00:00          15  2018      3    3          5   44.0   64.0   \n",
       "2018-03-03 06:00:00           9  2018      3    3          5   15.0   44.0   \n",
       "\n",
       "                     lag_3  lag_4  lag_5  ...  lag_44  lag_45  lag_46  lag_47  \\\n",
       "datetime                                  ...                                   \n",
       "2018-03-03 02:00:00   72.0  119.0  101.0  ...    12.0     6.0    43.0    66.0   \n",
       "2018-03-03 03:00:00  163.0   72.0  119.0  ...    15.0    12.0     6.0    43.0   \n",
       "2018-03-03 04:00:00  108.0  163.0   72.0  ...    34.0    15.0    12.0     6.0   \n",
       "2018-03-03 05:00:00   25.0  108.0  163.0  ...    69.0    34.0    15.0    12.0   \n",
       "2018-03-03 06:00:00   64.0   25.0  108.0  ...    64.0    69.0    34.0    15.0   \n",
       "\n",
       "                     lag_48  lag_49  lag_50  rolling_mean_10  rolling_mean_15  \\\n",
       "datetime                                                                        \n",
       "2018-03-03 02:00:00    71.0    85.0   124.0             95.9        82.266667   \n",
       "2018-03-03 03:00:00    66.0    71.0    85.0             90.2        77.866667   \n",
       "2018-03-03 04:00:00    43.0    66.0    71.0             88.3        79.733333   \n",
       "2018-03-03 05:00:00     6.0    43.0    66.0             83.8        79.666667   \n",
       "2018-03-03 06:00:00    12.0     6.0    43.0             80.4        77.733333   \n",
       "\n",
       "                     rolling_mean_20  \n",
       "datetime                              \n",
       "2018-03-03 02:00:00            69.85  \n",
       "2018-03-03 03:00:00            70.55  \n",
       "2018-03-03 04:00:00            73.40  \n",
       "2018-03-03 05:00:00            73.30  \n",
       "2018-03-03 06:00:00            71.80  \n",
       "\n",
       "[5 rows x 58 columns]"
      ]
     },
     "execution_count": 5,
     "metadata": {},
     "output_type": "execute_result"
    }
   ],
   "source": [
    "make_features(data, 50, 10, 15, 20)\n",
    "data.dropna(inplace=True)\n",
    "\n",
    "data.head()"
   ]
  },
  {
   "cell_type": "markdown",
   "metadata": {},
   "source": [
    "## Analysis"
   ]
  },
  {
   "cell_type": "code",
   "execution_count": 6,
   "metadata": {
    "scrolled": true
   },
   "outputs": [
    {
     "data": {
      "text/html": [
       "<div>\n",
       "<style scoped>\n",
       "    .dataframe tbody tr th:only-of-type {\n",
       "        vertical-align: middle;\n",
       "    }\n",
       "\n",
       "    .dataframe tbody tr th {\n",
       "        vertical-align: top;\n",
       "    }\n",
       "\n",
       "    .dataframe thead th {\n",
       "        text-align: right;\n",
       "    }\n",
       "</style>\n",
       "<table border=\"1\" class=\"dataframe\">\n",
       "  <thead>\n",
       "    <tr style=\"text-align: right;\">\n",
       "      <th></th>\n",
       "      <th>num_orders</th>\n",
       "      <th>year</th>\n",
       "      <th>month</th>\n",
       "      <th>day</th>\n",
       "      <th>dayofweek</th>\n",
       "      <th>lag_1</th>\n",
       "      <th>lag_2</th>\n",
       "      <th>lag_3</th>\n",
       "      <th>lag_4</th>\n",
       "      <th>lag_5</th>\n",
       "      <th>...</th>\n",
       "      <th>lag_44</th>\n",
       "      <th>lag_45</th>\n",
       "      <th>lag_46</th>\n",
       "      <th>lag_47</th>\n",
       "      <th>lag_48</th>\n",
       "      <th>lag_49</th>\n",
       "      <th>lag_50</th>\n",
       "      <th>rolling_mean_10</th>\n",
       "      <th>rolling_mean_15</th>\n",
       "      <th>rolling_mean_20</th>\n",
       "    </tr>\n",
       "  </thead>\n",
       "  <tbody>\n",
       "    <tr>\n",
       "      <td>count</td>\n",
       "      <td>4366.000000</td>\n",
       "      <td>4366.0</td>\n",
       "      <td>4366.000000</td>\n",
       "      <td>4366.000000</td>\n",
       "      <td>4366.000000</td>\n",
       "      <td>4366.000000</td>\n",
       "      <td>4366.000000</td>\n",
       "      <td>4366.000000</td>\n",
       "      <td>4366.000000</td>\n",
       "      <td>4366.000000</td>\n",
       "      <td>...</td>\n",
       "      <td>4366.000000</td>\n",
       "      <td>4366.000000</td>\n",
       "      <td>4366.000000</td>\n",
       "      <td>4366.000000</td>\n",
       "      <td>4366.000000</td>\n",
       "      <td>4366.000000</td>\n",
       "      <td>4366.000000</td>\n",
       "      <td>4366.000000</td>\n",
       "      <td>4366.000000</td>\n",
       "      <td>4366.000000</td>\n",
       "    </tr>\n",
       "    <tr>\n",
       "      <td>mean</td>\n",
       "      <td>84.670179</td>\n",
       "      <td>2018.0</td>\n",
       "      <td>5.534127</td>\n",
       "      <td>16.000458</td>\n",
       "      <td>2.999084</td>\n",
       "      <td>84.647962</td>\n",
       "      <td>84.634219</td>\n",
       "      <td>84.614292</td>\n",
       "      <td>84.606276</td>\n",
       "      <td>84.598259</td>\n",
       "      <td>...</td>\n",
       "      <td>83.638571</td>\n",
       "      <td>83.595740</td>\n",
       "      <td>83.552451</td>\n",
       "      <td>83.517865</td>\n",
       "      <td>83.484654</td>\n",
       "      <td>83.443426</td>\n",
       "      <td>83.431287</td>\n",
       "      <td>84.570683</td>\n",
       "      <td>84.517865</td>\n",
       "      <td>84.465586</td>\n",
       "    </tr>\n",
       "    <tr>\n",
       "      <td>std</td>\n",
       "      <td>45.075492</td>\n",
       "      <td>0.0</td>\n",
       "      <td>1.701856</td>\n",
       "      <td>8.772001</td>\n",
       "      <td>2.000229</td>\n",
       "      <td>45.040061</td>\n",
       "      <td>45.006979</td>\n",
       "      <td>44.993303</td>\n",
       "      <td>44.984055</td>\n",
       "      <td>44.978013</td>\n",
       "      <td>...</td>\n",
       "      <td>43.980298</td>\n",
       "      <td>43.964824</td>\n",
       "      <td>43.911682</td>\n",
       "      <td>43.865994</td>\n",
       "      <td>43.820535</td>\n",
       "      <td>43.734311</td>\n",
       "      <td>43.715688</td>\n",
       "      <td>29.686380</td>\n",
       "      <td>27.933872</td>\n",
       "      <td>26.884792</td>\n",
       "    </tr>\n",
       "    <tr>\n",
       "      <td>min</td>\n",
       "      <td>0.000000</td>\n",
       "      <td>2018.0</td>\n",
       "      <td>3.000000</td>\n",
       "      <td>1.000000</td>\n",
       "      <td>0.000000</td>\n",
       "      <td>0.000000</td>\n",
       "      <td>0.000000</td>\n",
       "      <td>0.000000</td>\n",
       "      <td>0.000000</td>\n",
       "      <td>0.000000</td>\n",
       "      <td>...</td>\n",
       "      <td>0.000000</td>\n",
       "      <td>0.000000</td>\n",
       "      <td>0.000000</td>\n",
       "      <td>0.000000</td>\n",
       "      <td>0.000000</td>\n",
       "      <td>0.000000</td>\n",
       "      <td>0.000000</td>\n",
       "      <td>27.000000</td>\n",
       "      <td>34.133333</td>\n",
       "      <td>39.550000</td>\n",
       "    </tr>\n",
       "    <tr>\n",
       "      <td>25%</td>\n",
       "      <td>54.000000</td>\n",
       "      <td>2018.0</td>\n",
       "      <td>4.000000</td>\n",
       "      <td>8.000000</td>\n",
       "      <td>1.000000</td>\n",
       "      <td>54.000000</td>\n",
       "      <td>54.000000</td>\n",
       "      <td>54.000000</td>\n",
       "      <td>54.000000</td>\n",
       "      <td>54.000000</td>\n",
       "      <td>...</td>\n",
       "      <td>54.000000</td>\n",
       "      <td>54.000000</td>\n",
       "      <td>54.000000</td>\n",
       "      <td>54.000000</td>\n",
       "      <td>54.000000</td>\n",
       "      <td>54.000000</td>\n",
       "      <td>54.000000</td>\n",
       "      <td>62.900000</td>\n",
       "      <td>62.933333</td>\n",
       "      <td>63.400000</td>\n",
       "    </tr>\n",
       "    <tr>\n",
       "      <td>50%</td>\n",
       "      <td>78.000000</td>\n",
       "      <td>2018.0</td>\n",
       "      <td>6.000000</td>\n",
       "      <td>16.000000</td>\n",
       "      <td>3.000000</td>\n",
       "      <td>78.000000</td>\n",
       "      <td>78.000000</td>\n",
       "      <td>78.000000</td>\n",
       "      <td>78.000000</td>\n",
       "      <td>78.000000</td>\n",
       "      <td>...</td>\n",
       "      <td>78.000000</td>\n",
       "      <td>78.000000</td>\n",
       "      <td>78.000000</td>\n",
       "      <td>78.000000</td>\n",
       "      <td>78.000000</td>\n",
       "      <td>78.000000</td>\n",
       "      <td>78.000000</td>\n",
       "      <td>80.600000</td>\n",
       "      <td>81.000000</td>\n",
       "      <td>80.800000</td>\n",
       "    </tr>\n",
       "    <tr>\n",
       "      <td>75%</td>\n",
       "      <td>108.000000</td>\n",
       "      <td>2018.0</td>\n",
       "      <td>7.000000</td>\n",
       "      <td>24.000000</td>\n",
       "      <td>5.000000</td>\n",
       "      <td>108.000000</td>\n",
       "      <td>108.000000</td>\n",
       "      <td>108.000000</td>\n",
       "      <td>108.000000</td>\n",
       "      <td>108.000000</td>\n",
       "      <td>...</td>\n",
       "      <td>107.000000</td>\n",
       "      <td>107.000000</td>\n",
       "      <td>107.000000</td>\n",
       "      <td>107.000000</td>\n",
       "      <td>107.000000</td>\n",
       "      <td>107.000000</td>\n",
       "      <td>107.000000</td>\n",
       "      <td>100.900000</td>\n",
       "      <td>100.133333</td>\n",
       "      <td>100.037500</td>\n",
       "    </tr>\n",
       "    <tr>\n",
       "      <td>max</td>\n",
       "      <td>462.000000</td>\n",
       "      <td>2018.0</td>\n",
       "      <td>8.000000</td>\n",
       "      <td>31.000000</td>\n",
       "      <td>6.000000</td>\n",
       "      <td>462.000000</td>\n",
       "      <td>462.000000</td>\n",
       "      <td>462.000000</td>\n",
       "      <td>462.000000</td>\n",
       "      <td>462.000000</td>\n",
       "      <td>...</td>\n",
       "      <td>462.000000</td>\n",
       "      <td>462.000000</td>\n",
       "      <td>462.000000</td>\n",
       "      <td>462.000000</td>\n",
       "      <td>462.000000</td>\n",
       "      <td>462.000000</td>\n",
       "      <td>462.000000</td>\n",
       "      <td>213.400000</td>\n",
       "      <td>193.533333</td>\n",
       "      <td>191.950000</td>\n",
       "    </tr>\n",
       "  </tbody>\n",
       "</table>\n",
       "<p>8 rows × 58 columns</p>\n",
       "</div>"
      ],
      "text/plain": [
       "        num_orders    year        month          day    dayofweek  \\\n",
       "count  4366.000000  4366.0  4366.000000  4366.000000  4366.000000   \n",
       "mean     84.670179  2018.0     5.534127    16.000458     2.999084   \n",
       "std      45.075492     0.0     1.701856     8.772001     2.000229   \n",
       "min       0.000000  2018.0     3.000000     1.000000     0.000000   \n",
       "25%      54.000000  2018.0     4.000000     8.000000     1.000000   \n",
       "50%      78.000000  2018.0     6.000000    16.000000     3.000000   \n",
       "75%     108.000000  2018.0     7.000000    24.000000     5.000000   \n",
       "max     462.000000  2018.0     8.000000    31.000000     6.000000   \n",
       "\n",
       "             lag_1        lag_2        lag_3        lag_4        lag_5  ...  \\\n",
       "count  4366.000000  4366.000000  4366.000000  4366.000000  4366.000000  ...   \n",
       "mean     84.647962    84.634219    84.614292    84.606276    84.598259  ...   \n",
       "std      45.040061    45.006979    44.993303    44.984055    44.978013  ...   \n",
       "min       0.000000     0.000000     0.000000     0.000000     0.000000  ...   \n",
       "25%      54.000000    54.000000    54.000000    54.000000    54.000000  ...   \n",
       "50%      78.000000    78.000000    78.000000    78.000000    78.000000  ...   \n",
       "75%     108.000000   108.000000   108.000000   108.000000   108.000000  ...   \n",
       "max     462.000000   462.000000   462.000000   462.000000   462.000000  ...   \n",
       "\n",
       "            lag_44       lag_45       lag_46       lag_47       lag_48  \\\n",
       "count  4366.000000  4366.000000  4366.000000  4366.000000  4366.000000   \n",
       "mean     83.638571    83.595740    83.552451    83.517865    83.484654   \n",
       "std      43.980298    43.964824    43.911682    43.865994    43.820535   \n",
       "min       0.000000     0.000000     0.000000     0.000000     0.000000   \n",
       "25%      54.000000    54.000000    54.000000    54.000000    54.000000   \n",
       "50%      78.000000    78.000000    78.000000    78.000000    78.000000   \n",
       "75%     107.000000   107.000000   107.000000   107.000000   107.000000   \n",
       "max     462.000000   462.000000   462.000000   462.000000   462.000000   \n",
       "\n",
       "            lag_49       lag_50  rolling_mean_10  rolling_mean_15  \\\n",
       "count  4366.000000  4366.000000      4366.000000      4366.000000   \n",
       "mean     83.443426    83.431287        84.570683        84.517865   \n",
       "std      43.734311    43.715688        29.686380        27.933872   \n",
       "min       0.000000     0.000000        27.000000        34.133333   \n",
       "25%      54.000000    54.000000        62.900000        62.933333   \n",
       "50%      78.000000    78.000000        80.600000        81.000000   \n",
       "75%     107.000000   107.000000       100.900000       100.133333   \n",
       "max     462.000000   462.000000       213.400000       193.533333   \n",
       "\n",
       "       rolling_mean_20  \n",
       "count      4366.000000  \n",
       "mean         84.465586  \n",
       "std          26.884792  \n",
       "min          39.550000  \n",
       "25%          63.400000  \n",
       "50%          80.800000  \n",
       "75%         100.037500  \n",
       "max         191.950000  \n",
       "\n",
       "[8 rows x 58 columns]"
      ]
     },
     "execution_count": 6,
     "metadata": {},
     "output_type": "execute_result"
    }
   ],
   "source": [
    "data.describe()"
   ]
  },
  {
   "cell_type": "code",
   "execution_count": 7,
   "metadata": {},
   "outputs": [
    {
     "name": "stdout",
     "output_type": "stream",
     "text": [
      "Decomposed information for number of orders\n"
     ]
    },
    {
     "data": {
      "image/png": "[encoded data removed]",
      "text/plain": [
       "<Figure size 1080x720 with 3 Axes>"
      ]
     },
     "metadata": {
      "needs_background": "light"
     },
     "output_type": "display_data"
    }
   ],
   "source": [
    "from statsmodels.tsa.seasonal import seasonal_decompose\n",
    "\n",
    "decomposed = seasonal_decompose(data)\n",
    "\n",
    "plt.show()\n",
    "print(\"Decomposed information for number of orders\")\n",
    "plt.figure(figsize=(15, 10))\n",
    "plt.subplot(311)\n",
    "decomposed.trend['num_orders'].plot(ax=plt.gca())\n",
    "plt.title('Trend')\n",
    "plt.subplot(312)\n",
    "decomposed.seasonal['num_orders'].plot(ax=plt.gca())\n",
    "plt.title('Seasonality')\n",
    "plt.subplot(313)\n",
    "decomposed.resid['num_orders'].plot(ax=plt.gca())\n",
    "plt.title('Residuals')\n",
    "plt.tight_layout() \n"
   ]
  },
  {
   "cell_type": "markdown",
   "metadata": {},
   "source": [
    "### Findings:\n",
    " - Number of orders trends upwards towards the end of the year.\n",
    " - Seasonality seems random.\n",
    " - Residuals look stable, except towards end of the year where it can vary."
   ]
  },
  {
   "cell_type": "markdown",
   "metadata": {},
   "source": [
    "<div class=\"alert alert-block alert-danger\">\n",
    "<b>Needs fixing:</b> Please make seasonal decomposition, visualize trend and seasonality and provide some findings.\n",
    "</div>\n",
    "\n",
    "- Done!"
   ]
  },
  {
   "cell_type": "markdown",
   "metadata": {},
   "source": [
    "<div class=\"alert alert-block alert-info\">\n",
    "<b>Improve: </b> In general, it's OK^ but it would be better if you've visualized seasonality on smaller interval (e.g one week). In this case you could see daily seasonality.\n",
    "</div>\n",
    "\n",
    "<div class=\"alert alert-block alert-success\">\n",
    "<b>Success:</b> Othe findings (except seasonality) are absolutely right!\n",
    "</div>"
   ]
  },
  {
   "cell_type": "markdown",
   "metadata": {},
   "source": [
    "## Training"
   ]
  },
  {
   "cell_type": "code",
   "execution_count": 8,
   "metadata": {},
   "outputs": [
    {
     "name": "stdout",
     "output_type": "stream",
     "text": [
      "2018-03-03 02:00:00 2018-07-28 09:00:00\n",
      "2018-07-28 10:00:00 2018-08-13 18:00:00\n",
      "2018-08-13 19:00:00 2018-08-31 23:00:00\n"
     ]
    }
   ],
   "source": [
    "train_valid, test = train_test_split(data, shuffle=False, test_size=0.1)\n",
    "train, valid = train_test_split(train_valid, shuffle=False, test_size=0.1)\n",
    "\n",
    "print(train.index.min(), train.index.max())\n",
    "print(valid.index.min(), valid.index.max())\n",
    "print(test.index.min(), test.index.max())\n",
    "\n",
    "features_train = train.drop('num_orders', axis=1)\n",
    "target_train = train['num_orders']\n",
    "\n",
    "features_valid = valid.drop('num_orders', axis=1)\n",
    "target_valid = valid['num_orders']\n",
    "\n",
    "features_test = test.drop('num_orders', axis=1)\n",
    "target_test = test['num_orders']"
   ]
  },
  {
   "cell_type": "markdown",
   "metadata": {},
   "source": [
    "<div class=\"alert alert-block alert-success\">\n",
    "<b>Success:</b> Data was split correctly.\n",
    "</div>"
   ]
  },
  {
   "cell_type": "markdown",
   "metadata": {},
   "source": [
    "## Testing"
   ]
  },
  {
   "cell_type": "code",
   "execution_count": 9,
   "metadata": {},
   "outputs": [],
   "source": [
    "def rmse(y, a):\n",
    "    return mean_squared_error(y, a)**0.5"
   ]
  },
  {
   "cell_type": "markdown",
   "metadata": {},
   "source": [
    "### Linear Regression Model"
   ]
  },
  {
   "cell_type": "code",
   "execution_count": 10,
   "metadata": {
    "scrolled": true
   },
   "outputs": [
    {
     "name": "stdout",
     "output_type": "stream",
     "text": [
      "Valid RMSE using Linear Regression:  31.372136973810864\n",
      "Test RMSE using Linear Regression:  44.10736165414813\n",
      "CPU times: user 138 ms, sys: 147 ms, total: 285 ms\n",
      "Wall time: 238 ms\n"
     ]
    }
   ],
   "source": [
    "%%time\n",
    "model = LinearRegression()\n",
    "model.fit(features_train, target_train)\n",
    "\n",
    "pred_valid = model.predict(features_valid)\n",
    "pred_test = model.predict(features_test)\n",
    "\n",
    "\n",
    "print(\"Valid RMSE using Linear Regression: \", rmse(pred_valid, target_valid))\n",
    "print(\"Test RMSE using Linear Regression: \", rmse(pred_test, target_test))"
   ]
  },
  {
   "cell_type": "markdown",
   "metadata": {},
   "source": [
    "<div class=\"alert alert-block alert-danger\">\n",
    "<b>Needs fixing:</b> Score is incorrect becaause resampling wasn't done.\n",
    "</div>\n",
    "\n",
    "- Fixed!"
   ]
  },
  {
   "cell_type": "markdown",
   "metadata": {},
   "source": [
    "<div class=\"alert alert-block alert-success\">\n",
    "<b>Success (review 2):</b> It's OK now.\n",
    "</div>"
   ]
  },
  {
   "cell_type": "code",
   "execution_count": 11,
   "metadata": {},
   "outputs": [
    {
     "data": {
      "text/plain": [
       "[<matplotlib.lines.Line2D at 0x7ff8f1ab5910>]"
      ]
     },
     "execution_count": 11,
     "metadata": {},
     "output_type": "execute_result"
    },
    {
     "data": {
      "image/png": "[encoded data removed]",
      "text/plain": [
       "<Figure size 1080x576 with 1 Axes>"
      ]
     },
     "metadata": {
      "needs_background": "light"
     },
     "output_type": "display_data"
    }
   ],
   "source": [
    "plt.figure(figsize=(15, 8))\n",
    "plt.plot(features_test.index, pred_test)\n",
    "plt.plot(features_test.index, target_test, color='red', alpha=0.3)"
   ]
  },
  {
   "cell_type": "markdown",
   "metadata": {},
   "source": [
    "### Tune using validation data"
   ]
  },
  {
   "cell_type": "code",
   "execution_count": 15,
   "metadata": {
    "scrolled": false
   },
   "outputs": [
    {
     "name": "stdout",
     "output_type": "stream",
     "text": [
      "# of n estimators: 10\n",
      "Valid RMSE: 33.88415332173909\n",
      "\n",
      "# of n estimators: 20\n",
      "Valid RMSE: 33.435357027580736\n",
      "\n",
      "# of n estimators: 30\n",
      "Valid RMSE: 32.72448608089329\n",
      "\n",
      "# of n estimators: 40\n",
      "Valid RMSE: 32.327291146716256\n",
      "\n",
      "# of n estimators: 50\n",
      "Valid RMSE: 32.505997240681175\n",
      "\n",
      "# of n estimators: 60\n",
      "Valid RMSE: 32.77444793744121\n",
      "\n",
      "# of n estimators: 70\n",
      "Valid RMSE: 32.773901467348594\n",
      "\n",
      "# of n estimators: 80\n",
      "Valid RMSE: 32.87488254270063\n",
      "\n",
      "# of n estimators: 90\n",
      "Valid RMSE: 32.86625937149637\n",
      "\n",
      "# of n estimators: 100\n",
      "Valid RMSE: 32.380660469639274\n",
      "\n",
      "CPU times: user 36.9 s, sys: 36 ms, total: 37 s\n",
      "Wall time: 37 s\n"
     ]
    }
   ],
   "source": [
    "%%time\n",
    "for n in range(10, 101, 10):\n",
    "    print('# of n estimators:', n)\n",
    "    model = RandomForestRegressor(n_estimators=n, max_depth= 10)\n",
    "    model.fit(features_train, target_train)\n",
    "    predict_valid = model.predict(features_valid)\n",
    "    print('Valid RMSE:', rmse(predict_valid, target_valid))\n",
    "    print()\n",
    "    \n"
   ]
  },
  {
   "cell_type": "markdown",
   "metadata": {},
   "source": [
    "### Test Random Forest Model"
   ]
  },
  {
   "cell_type": "code",
   "execution_count": 16,
   "metadata": {},
   "outputs": [
    {
     "name": "stdout",
     "output_type": "stream",
     "text": [
      "Test RMSE: 46.33737666998599\n"
     ]
    }
   ],
   "source": [
    "# Now we use test data using optimal hyperparameters\n",
    "\n",
    "model = RandomForestRegressor(n_estimators=40, max_depth= 10)\n",
    "\n",
    "\n",
    "#features = pd.concat([features_train,features_valid], join = 'outer', sort=True)\n",
    "#target = pd.concat([target_train, target_valid], join = 'outer', sort=True)\n",
    "\n",
    "model.fit(features_train, target_train)\n",
    "\n",
    "\n",
    "predict_test = model.predict(features_test)\n",
    "print('Test RMSE:', rmse(predict_test, target_test))\n",
    "\n"
   ]
  },
  {
   "cell_type": "markdown",
   "metadata": {},
   "source": [
    "<div class=\"alert alert-block alert-danger\">\n",
    "<b>Needs fixing:</b> Parameters tuning should be done on validation set or with the help of cross-validation. <a href=\"https://stackoverflow.com/questions/46732748/how-do-i-use-a-timeseriessplit-with-a-gridsearchcv-object-to-tune-a-model-in-sci\"> Here is a good example</a>.\n",
    "</div>\n",
    "\n",
    "- Got it, thanks!"
   ]
  },
  {
   "cell_type": "markdown",
   "metadata": {},
   "source": [
    "<div class=\"alert alert-block alert-danger\">\n",
    "<b>Needs fixing:</b> Don't forget aboud testing.\n",
    "</div>\n",
    "\n",
    "- Sure, complete!"
   ]
  },
  {
   "cell_type": "markdown",
   "metadata": {},
   "source": [
    "<div class=\"alert alert-block alert-danger\">\n",
    "<b>Needs fixing (review 2):</b> Don't forget that RMSE of the best model should be lower than 48. To achieve it, you could increase max_lag parameter and refit best model on union of train and valid set before testing.\n",
    "</div>\n",
    "\n",
    " - OK, done!"
   ]
  },
  {
   "cell_type": "code",
   "execution_count": 14,
   "metadata": {},
   "outputs": [
    {
     "data": {
      "text/plain": [
       "[<matplotlib.lines.Line2D at 0x7ff8f0fbc710>]"
      ]
     },
     "execution_count": 14,
     "metadata": {},
     "output_type": "execute_result"
    },
    {
     "data": {
      "image/png": "[encoded data removed]",
      "text/plain": [
       "<Figure size 1080x576 with 1 Axes>"
      ]
     },
     "metadata": {
      "needs_background": "light"
     },
     "output_type": "display_data"
    }
   ],
   "source": [
    "plt.figure(figsize=(15, 8))\n",
    "plt.plot(features_test.index, pred_test)\n",
    "plt.plot(features_test.index, target_test, color='red', alpha=0.3)"
   ]
  },
  {
   "cell_type": "markdown",
   "metadata": {},
   "source": [
    "## Conclusion:\n",
    "- First we expanded the data by deriving more features. \n",
    "- The additional features added were: date (broken into year, month, day), 1 day lag, 2 day lag, and 2 day rolling mean.\n",
    "- We parsed the dates, converted it to datetime, set it as the index, and then sorted it in ascending order.\n",
    "- We then made 2 models:\n",
    "    - Linear Regression, RMSE < 45, time to compute < 20 ms\n",
    "    - Random Forest Regressor, RMSE < 48, time to compute < 40 seconds\n",
    "- Both models worked successfully however Linear Regression works much faster.\n"
   ]
  },
  {
   "cell_type": "markdown",
   "metadata": {},
   "source": [
    "<div class=\"alert alert-block alert-success\">\n",
    "<b>Success:</b> Glad to see well-structured conclusion at the end of the project!\n",
    "</div>"
   ]
  },
  {
   "cell_type": "markdown",
   "metadata": {},
   "source": [
    "# Review checklist"
   ]
  },
  {
   "cell_type": "markdown",
   "metadata": {},
   "source": [
    "- [x]  Jupyter Notebook is open\n",
    "- [x]  The code is error-free\n",
    "- [x]  The cells with the code have been arranged in order of execution\n",
    "- [x]  The data has been downloaded and prepared\n",
    "- [x]  The data has been analyzed\n",
    "- [x]  The model has been trained and hyperparameters have been selected\n",
    "- [x]  The models have been evaluated. Conclusion has been provided\n",
    "- [x] *RMSE* for the test set is not more than 48"
   ]
  }
 ],
 "metadata": {
  "ExecuteTimeLog": [
   {
    "duration": 328,
    "start_time": "2021-06-10T00:24:07.076Z"
   },
   {
    "duration": 1437,
    "start_time": "2021-06-10T00:25:39.283Z"
   },
   {
    "duration": 43,
    "start_time": "2021-06-10T00:25:42.721Z"
   },
   {
    "duration": 39,
    "start_time": "2021-06-10T00:26:12.185Z"
   },
   {
    "duration": 47,
    "start_time": "2021-06-10T00:26:44.691Z"
   },
   {
    "duration": 42,
    "start_time": "2021-06-10T01:42:44.145Z"
   },
   {
    "duration": 44,
    "start_time": "2021-06-10T01:42:58.259Z"
   },
   {
    "duration": 360,
    "start_time": "2021-06-10T01:43:13.765Z"
   },
   {
    "duration": 275,
    "start_time": "2021-06-10T01:44:41.191Z"
   },
   {
    "duration": 279,
    "start_time": "2021-06-10T01:44:51.101Z"
   },
   {
    "duration": 46,
    "start_time": "2021-06-10T01:46:14.646Z"
   },
   {
    "duration": 46,
    "start_time": "2021-06-10T01:46:37.491Z"
   },
   {
    "duration": 264,
    "start_time": "2021-06-10T01:47:02.873Z"
   },
   {
    "duration": 43,
    "start_time": "2021-06-10T01:47:07.656Z"
   },
   {
    "duration": 51,
    "start_time": "2021-06-10T01:48:09.064Z"
   },
   {
    "duration": 50,
    "start_time": "2021-06-10T01:48:18.763Z"
   },
   {
    "duration": 332,
    "start_time": "2021-06-10T01:48:25.923Z"
   },
   {
    "duration": 57,
    "start_time": "2021-06-10T01:48:31.471Z"
   },
   {
    "duration": 19,
    "start_time": "2021-06-10T01:48:56.827Z"
   },
   {
    "duration": 49,
    "start_time": "2021-06-10T01:50:37.166Z"
   },
   {
    "duration": 51,
    "start_time": "2021-06-10T01:50:42.905Z"
   },
   {
    "duration": 51,
    "start_time": "2021-06-10T01:50:50.182Z"
   },
   {
    "duration": 54,
    "start_time": "2021-06-10T01:54:56.442Z"
   },
   {
    "duration": 335,
    "start_time": "2021-06-10T01:55:01.541Z"
   },
   {
    "duration": 53,
    "start_time": "2021-06-10T01:55:16.149Z"
   },
   {
    "duration": 46,
    "start_time": "2021-06-10T01:55:33.992Z"
   },
   {
    "duration": 52,
    "start_time": "2021-06-10T01:55:48.086Z"
   },
   {
    "duration": 274,
    "start_time": "2021-06-10T02:07:31.436Z"
   },
   {
    "duration": 5,
    "start_time": "2021-06-10T02:07:35.236Z"
   },
   {
    "duration": 6792,
    "start_time": "2021-06-10T02:07:36.613Z"
   },
   {
    "duration": 6,
    "start_time": "2021-06-10T02:08:01.382Z"
   },
   {
    "duration": 6728,
    "start_time": "2021-06-10T02:08:04.882Z"
   },
   {
    "duration": 5,
    "start_time": "2021-06-10T02:08:19.699Z"
   },
   {
    "duration": 23,
    "start_time": "2021-06-10T02:08:23.405Z"
   },
   {
    "duration": 32,
    "start_time": "2021-06-10T02:08:32.110Z"
   },
   {
    "duration": 54,
    "start_time": "2021-06-10T02:23:42.653Z"
   },
   {
    "duration": 38617,
    "start_time": "2021-06-10T02:26:05.847Z"
   },
   {
    "duration": 387,
    "start_time": "2021-06-12T15:55:00.956Z"
   },
   {
    "duration": 1444,
    "start_time": "2021-06-12T15:55:08.698Z"
   },
   {
    "duration": 55,
    "start_time": "2021-06-12T15:55:10.144Z"
   },
   {
    "duration": 36,
    "start_time": "2021-06-12T15:55:10.202Z"
   },
   {
    "duration": 5,
    "start_time": "2021-06-12T15:55:10.241Z"
   },
   {
    "duration": 40,
    "start_time": "2021-06-12T15:55:10.249Z"
   },
   {
    "duration": 83,
    "start_time": "2021-06-12T15:55:10.292Z"
   },
   {
    "duration": 42488,
    "start_time": "2021-06-12T15:55:10.378Z"
   },
   {
    "duration": 7,
    "start_time": "2021-06-12T15:55:52.868Z"
   },
   {
    "duration": 30,
    "start_time": "2021-06-12T16:13:22.788Z"
   },
   {
    "duration": 26,
    "start_time": "2021-06-12T16:17:01.787Z"
   },
   {
    "duration": 14,
    "start_time": "2021-06-12T16:17:16.128Z"
   },
   {
    "duration": 14,
    "start_time": "2021-06-12T16:24:23.827Z"
   },
   {
    "duration": 15,
    "start_time": "2021-06-12T16:46:30.447Z"
   },
   {
    "duration": 104,
    "start_time": "2021-06-12T16:51:22.906Z"
   },
   {
    "duration": 324,
    "start_time": "2021-06-12T21:12:43.045Z"
   },
   {
    "duration": 378,
    "start_time": "2021-06-12T21:12:50.965Z"
   },
   {
    "duration": 1459,
    "start_time": "2021-06-12T21:13:10.555Z"
   },
   {
    "duration": 57,
    "start_time": "2021-06-12T21:13:12.016Z"
   },
   {
    "duration": 22,
    "start_time": "2021-06-12T21:13:12.076Z"
   },
   {
    "duration": 5,
    "start_time": "2021-06-12T21:13:12.101Z"
   },
   {
    "duration": 37,
    "start_time": "2021-06-12T21:13:12.124Z"
   },
   {
    "duration": 75,
    "start_time": "2021-06-12T21:13:12.163Z"
   },
   {
    "duration": 40705,
    "start_time": "2021-06-12T21:13:12.240Z"
   },
   {
    "duration": 105,
    "start_time": "2021-06-12T21:13:52.947Z"
   },
   {
    "duration": -1553,
    "start_time": "2021-06-12T21:13:54.609Z"
   },
   {
    "duration": 22,
    "start_time": "2021-06-12T21:14:03.455Z"
   },
   {
    "duration": 391,
    "start_time": "2021-06-12T21:14:06.675Z"
   },
   {
    "duration": 14,
    "start_time": "2021-06-12T21:14:39.474Z"
   },
   {
    "duration": 21,
    "start_time": "2021-06-12T21:15:24.029Z"
   },
   {
    "duration": 12,
    "start_time": "2021-06-12T21:16:30.589Z"
   },
   {
    "duration": 11,
    "start_time": "2021-06-12T21:17:25.929Z"
   },
   {
    "duration": 377,
    "start_time": "2021-06-12T21:22:56.359Z"
   },
   {
    "duration": 64,
    "start_time": "2021-06-12T21:23:22.562Z"
   },
   {
    "duration": 14,
    "start_time": "2021-06-12T21:23:38.041Z"
   },
   {
    "duration": 21,
    "start_time": "2021-06-12T21:23:39.210Z"
   },
   {
    "duration": 1077,
    "start_time": "2021-06-13T01:41:39.214Z"
   },
   {
    "duration": 45,
    "start_time": "2021-06-13T01:41:40.294Z"
   },
   {
    "duration": 13,
    "start_time": "2021-06-13T01:41:40.341Z"
   },
   {
    "duration": 4,
    "start_time": "2021-06-13T01:41:40.355Z"
   },
   {
    "duration": 33,
    "start_time": "2021-06-13T01:41:40.360Z"
   },
   {
    "duration": 37,
    "start_time": "2021-06-13T01:41:40.395Z"
   },
   {
    "duration": 26207,
    "start_time": "2021-06-13T01:41:40.433Z"
   },
   {
    "duration": 12,
    "start_time": "2021-06-13T01:42:06.642Z"
   },
   {
    "duration": 3,
    "start_time": "2021-06-13T01:42:06.656Z"
   },
   {
    "duration": 43,
    "start_time": "2021-06-13T01:42:06.662Z"
   },
   {
    "duration": 381,
    "start_time": "2021-06-13T01:42:06.707Z"
   },
   {
    "duration": 5,
    "start_time": "2021-06-13T01:42:53.695Z"
   },
   {
    "duration": 63,
    "start_time": "2021-06-13T01:50:00.465Z"
   },
   {
    "duration": 4702,
    "start_time": "2021-06-13T01:50:05.954Z"
   },
   {
    "duration": 4488,
    "start_time": "2021-06-13T01:50:13.714Z"
   },
   {
    "duration": 6966,
    "start_time": "2021-06-13T01:50:29.435Z"
   },
   {
    "duration": 3730,
    "start_time": "2021-06-13T01:50:40.994Z"
   },
   {
    "duration": 4502,
    "start_time": "2021-06-13T01:50:48.931Z"
   },
   {
    "duration": 3053,
    "start_time": "2021-06-13T01:50:58.924Z"
   },
   {
    "duration": 2448,
    "start_time": "2021-06-13T01:51:05.954Z"
   },
   {
    "duration": 3060,
    "start_time": "2021-06-13T01:51:12.194Z"
   },
   {
    "duration": 995,
    "start_time": "2021-06-13T01:51:54.275Z"
   },
   {
    "duration": 1692,
    "start_time": "2021-06-13T01:51:58.634Z"
   },
   {
    "duration": 2392,
    "start_time": "2021-06-13T01:52:04.124Z"
   },
   {
    "duration": 3042,
    "start_time": "2021-06-13T01:52:11.525Z"
   },
   {
    "duration": 3,
    "start_time": "2021-06-13T01:58:20.374Z"
   },
   {
    "duration": 3043,
    "start_time": "2021-06-13T01:58:24.444Z"
   },
   {
    "duration": 19,
    "start_time": "2021-06-13T01:58:45.814Z"
   },
   {
    "duration": 1247,
    "start_time": "2021-06-13T02:06:44.429Z"
   },
   {
    "duration": 46,
    "start_time": "2021-06-13T02:06:45.678Z"
   },
   {
    "duration": 14,
    "start_time": "2021-06-13T02:06:45.725Z"
   },
   {
    "duration": 4,
    "start_time": "2021-06-13T02:06:45.740Z"
   },
   {
    "duration": 41,
    "start_time": "2021-06-13T02:06:45.746Z"
   },
   {
    "duration": 39,
    "start_time": "2021-06-13T02:06:45.790Z"
   },
   {
    "duration": 26258,
    "start_time": "2021-06-13T02:06:45.830Z"
   },
   {
    "duration": 13,
    "start_time": "2021-06-13T02:07:12.093Z"
   },
   {
    "duration": 5,
    "start_time": "2021-06-13T02:07:12.108Z"
   },
   {
    "duration": 21,
    "start_time": "2021-06-13T02:07:12.115Z"
   },
   {
    "duration": 3194,
    "start_time": "2021-06-13T02:07:12.138Z"
   },
   {
    "duration": 365,
    "start_time": "2021-06-14T01:34:17.186Z"
   },
   {
    "duration": 1469,
    "start_time": "2021-06-14T01:34:23.957Z"
   },
   {
    "duration": 58,
    "start_time": "2021-06-14T01:34:25.428Z"
   },
   {
    "duration": 13,
    "start_time": "2021-06-14T01:34:25.489Z"
   },
   {
    "duration": 5,
    "start_time": "2021-06-14T01:34:25.505Z"
   },
   {
    "duration": 32,
    "start_time": "2021-06-14T01:34:25.512Z"
   },
   {
    "duration": 84,
    "start_time": "2021-06-14T01:34:25.546Z"
   },
   {
    "duration": 11348,
    "start_time": "2021-06-14T01:34:25.633Z"
   },
   {
    "duration": 12,
    "start_time": "2021-06-14T01:34:36.987Z"
   },
   {
    "duration": 4,
    "start_time": "2021-06-14T01:34:37.002Z"
   },
   {
    "duration": 22,
    "start_time": "2021-06-14T01:34:37.008Z"
   },
   {
    "duration": 1210,
    "start_time": "2021-06-14T01:34:37.032Z"
   },
   {
    "duration": 2160,
    "start_time": "2021-06-14T14:24:01.407Z"
   },
   {
    "duration": 301,
    "start_time": "2021-06-14T14:24:38.339Z"
   },
   {
    "duration": 1473,
    "start_time": "2021-06-14T14:24:48.820Z"
   },
   {
    "duration": 56,
    "start_time": "2021-06-14T14:24:50.296Z"
   },
   {
    "duration": 17,
    "start_time": "2021-06-14T14:24:50.355Z"
   },
   {
    "duration": 5,
    "start_time": "2021-06-14T14:24:50.375Z"
   },
   {
    "duration": 32,
    "start_time": "2021-06-14T14:24:50.382Z"
   },
   {
    "duration": 70,
    "start_time": "2021-06-14T14:24:50.416Z"
   },
   {
    "duration": 494,
    "start_time": "2021-06-14T14:24:50.489Z"
   },
   {
    "duration": -77,
    "start_time": "2021-06-14T14:24:51.062Z"
   },
   {
    "duration": -79,
    "start_time": "2021-06-14T14:24:51.065Z"
   },
   {
    "duration": -79,
    "start_time": "2021-06-14T14:24:51.067Z"
   },
   {
    "duration": -79,
    "start_time": "2021-06-14T14:24:51.068Z"
   },
   {
    "duration": 333,
    "start_time": "2021-06-14T14:50:18.366Z"
   },
   {
    "duration": 337,
    "start_time": "2021-06-14T14:50:28.198Z"
   },
   {
    "duration": 1924,
    "start_time": "2021-06-14T14:56:36.206Z"
   },
   {
    "duration": 77,
    "start_time": "2021-06-14T14:56:38.133Z"
   },
   {
    "duration": 19,
    "start_time": "2021-06-14T14:56:38.214Z"
   },
   {
    "duration": 7,
    "start_time": "2021-06-14T14:56:38.237Z"
   },
   {
    "duration": 39,
    "start_time": "2021-06-14T14:56:38.263Z"
   },
   {
    "duration": 96,
    "start_time": "2021-06-14T14:56:38.306Z"
   },
   {
    "duration": 459,
    "start_time": "2021-06-14T14:56:38.404Z"
   },
   {
    "duration": -66,
    "start_time": "2021-06-14T14:56:38.932Z"
   },
   {
    "duration": -68,
    "start_time": "2021-06-14T14:56:38.935Z"
   },
   {
    "duration": -68,
    "start_time": "2021-06-14T14:56:38.937Z"
   },
   {
    "duration": -68,
    "start_time": "2021-06-14T14:56:38.938Z"
   },
   {
    "duration": 25,
    "start_time": "2021-06-14T14:57:29.712Z"
   },
   {
    "duration": 49,
    "start_time": "2021-06-14T14:57:35.345Z"
   },
   {
    "duration": 30,
    "start_time": "2021-06-14T14:57:37.820Z"
   },
   {
    "duration": 1548,
    "start_time": "2021-06-14T14:57:54.739Z"
   },
   {
    "duration": 78,
    "start_time": "2021-06-14T14:57:56.290Z"
   },
   {
    "duration": 20,
    "start_time": "2021-06-14T14:57:56.372Z"
   },
   {
    "duration": 15,
    "start_time": "2021-06-14T14:57:56.396Z"
   },
   {
    "duration": 62,
    "start_time": "2021-06-14T14:57:56.415Z"
   },
   {
    "duration": 84,
    "start_time": "2021-06-14T14:57:56.480Z"
   },
   {
    "duration": 56,
    "start_time": "2021-06-14T14:57:56.566Z"
   },
   {
    "duration": 10,
    "start_time": "2021-06-14T14:57:56.625Z"
   },
   {
    "duration": 25,
    "start_time": "2021-06-14T14:57:56.639Z"
   },
   {
    "duration": 20,
    "start_time": "2021-06-14T14:57:56.666Z"
   },
   {
    "duration": 1884,
    "start_time": "2021-06-14T14:57:56.689Z"
   },
   {
    "duration": 484,
    "start_time": "2021-06-14T17:11:18.669Z"
   },
   {
    "duration": 2909,
    "start_time": "2021-06-14T17:11:37.229Z"
   },
   {
    "duration": 2477,
    "start_time": "2021-06-14T17:12:22.819Z"
   },
   {
    "duration": 2714,
    "start_time": "2021-06-14T17:12:34.207Z"
   },
   {
    "duration": 113,
    "start_time": "2021-06-14T17:13:51.941Z"
   },
   {
    "duration": 8261,
    "start_time": "2021-06-14T17:14:20.105Z"
   },
   {
    "duration": 10606,
    "start_time": "2021-06-14T17:14:40.037Z"
   },
   {
    "duration": 1508,
    "start_time": "2021-06-14T17:14:54.207Z"
   },
   {
    "duration": 1387,
    "start_time": "2021-06-14T17:16:00.632Z"
   },
   {
    "duration": 10317,
    "start_time": "2021-06-14T17:16:10.766Z"
   },
   {
    "duration": 12952,
    "start_time": "2021-06-14T17:17:00.822Z"
   },
   {
    "duration": 12892,
    "start_time": "2021-06-14T17:19:23.456Z"
   },
   {
    "duration": 12802,
    "start_time": "2021-06-14T17:19:42.293Z"
   },
   {
    "duration": 12771,
    "start_time": "2021-06-14T17:25:16.567Z"
   },
   {
    "duration": 13011,
    "start_time": "2021-06-14T17:25:38.084Z"
   },
   {
    "duration": 13381,
    "start_time": "2021-06-14T17:26:14.609Z"
   },
   {
    "duration": 12475,
    "start_time": "2021-06-14T17:26:32.920Z"
   },
   {
    "duration": 357,
    "start_time": "2021-06-14T18:51:14.360Z"
   },
   {
    "duration": 15,
    "start_time": "2021-06-14T19:10:13.095Z"
   },
   {
    "duration": 1721,
    "start_time": "2021-06-14T19:13:27.695Z"
   },
   {
    "duration": 57,
    "start_time": "2021-06-14T19:13:29.419Z"
   },
   {
    "duration": 13,
    "start_time": "2021-06-14T19:13:29.479Z"
   },
   {
    "duration": 6,
    "start_time": "2021-06-14T19:13:29.495Z"
   },
   {
    "duration": 60,
    "start_time": "2021-06-14T19:13:29.503Z"
   },
   {
    "duration": 46,
    "start_time": "2021-06-14T19:13:29.565Z"
   },
   {
    "duration": 12841,
    "start_time": "2021-06-14T19:13:29.614Z"
   },
   {
    "duration": 18,
    "start_time": "2021-06-14T19:13:42.459Z"
   },
   {
    "duration": 4,
    "start_time": "2021-06-14T19:13:42.480Z"
   },
   {
    "duration": 680,
    "start_time": "2021-06-14T19:13:42.486Z"
   },
   {
    "duration": 1110,
    "start_time": "2021-06-14T19:13:43.169Z"
   },
   {
    "duration": 13,
    "start_time": "2021-06-14T19:14:17.468Z"
   },
   {
    "duration": 307,
    "start_time": "2021-06-14T19:14:38.428Z"
   },
   {
    "duration": 1171,
    "start_time": "2021-06-14T19:16:46.426Z"
   },
   {
    "duration": 224,
    "start_time": "2021-06-14T19:17:45.231Z"
   },
   {
    "duration": 220,
    "start_time": "2021-06-14T19:20:20.827Z"
   },
   {
    "duration": 226,
    "start_time": "2021-06-14T19:20:50.257Z"
   },
   {
    "duration": 1376,
    "start_time": "2021-06-14T19:21:12.639Z"
   },
   {
    "duration": 1093,
    "start_time": "2021-06-14T19:21:23.225Z"
   },
   {
    "duration": 1544,
    "start_time": "2021-06-14T19:21:29.889Z"
   },
   {
    "duration": 1814,
    "start_time": "2021-06-14T19:21:36.858Z"
   },
   {
    "duration": 1533,
    "start_time": "2021-06-14T19:21:48.153Z"
   },
   {
    "duration": 222,
    "start_time": "2021-06-14T19:21:53.207Z"
   },
   {
    "duration": 17,
    "start_time": "2021-06-14T19:38:09.005Z"
   },
   {
    "duration": 2328,
    "start_time": "2021-06-14T19:40:07.203Z"
   },
   {
    "duration": 1530,
    "start_time": "2021-06-14T19:40:18.777Z"
   },
   {
    "duration": 1891,
    "start_time": "2021-06-14T19:40:25.148Z"
   },
   {
    "duration": 226,
    "start_time": "2021-06-14T19:40:34.754Z"
   },
   {
    "duration": 1562,
    "start_time": "2021-06-14T19:42:36.163Z"
   },
   {
    "duration": 62,
    "start_time": "2021-06-14T19:42:37.727Z"
   },
   {
    "duration": 13,
    "start_time": "2021-06-14T19:42:37.792Z"
   },
   {
    "duration": 10,
    "start_time": "2021-06-14T19:42:37.807Z"
   },
   {
    "duration": 53,
    "start_time": "2021-06-14T19:42:37.819Z"
   },
   {
    "duration": 48,
    "start_time": "2021-06-14T19:42:37.876Z"
   },
   {
    "duration": 19287,
    "start_time": "2021-06-14T19:42:37.926Z"
   },
   {
    "duration": 24,
    "start_time": "2021-06-14T19:42:57.216Z"
   },
   {
    "duration": 5,
    "start_time": "2021-06-14T19:42:57.264Z"
   },
   {
    "duration": 21,
    "start_time": "2021-06-14T19:42:57.272Z"
   },
   {
    "duration": 1707,
    "start_time": "2021-06-14T19:42:57.295Z"
   },
   {
    "duration": 233,
    "start_time": "2021-06-14T19:42:59.005Z"
   },
   {
    "duration": 480,
    "start_time": "2021-06-14T19:43:35.708Z"
   },
   {
    "duration": 499,
    "start_time": "2021-06-14T19:43:47.437Z"
   },
   {
    "duration": 499,
    "start_time": "2021-06-14T19:46:26.321Z"
   },
   {
    "duration": 487,
    "start_time": "2021-06-14T19:46:47.697Z"
   },
   {
    "duration": 1568,
    "start_time": "2021-06-14T19:46:54.218Z"
   },
   {
    "duration": 58,
    "start_time": "2021-06-14T19:46:55.789Z"
   },
   {
    "duration": 19,
    "start_time": "2021-06-14T19:46:55.850Z"
   },
   {
    "duration": 6,
    "start_time": "2021-06-14T19:46:55.872Z"
   },
   {
    "duration": 34,
    "start_time": "2021-06-14T19:46:55.881Z"
   },
   {
    "duration": 78,
    "start_time": "2021-06-14T19:46:55.917Z"
   },
   {
    "duration": 12678,
    "start_time": "2021-06-14T19:46:55.997Z"
   },
   {
    "duration": 17,
    "start_time": "2021-06-14T19:47:08.678Z"
   },
   {
    "duration": 5,
    "start_time": "2021-06-14T19:47:08.698Z"
   },
   {
    "duration": 16,
    "start_time": "2021-06-14T19:47:08.706Z"
   },
   {
    "duration": 639,
    "start_time": "2021-06-14T19:47:08.762Z"
   },
   {
    "duration": 1519,
    "start_time": "2021-06-14T19:47:09.403Z"
   },
   {
    "duration": 232,
    "start_time": "2021-06-14T19:47:10.925Z"
   },
   {
    "duration": 509,
    "start_time": "2021-06-14T19:47:11.159Z"
   },
   {
    "duration": 1542,
    "start_time": "2021-06-14T19:53:36.620Z"
   },
   {
    "duration": 1921,
    "start_time": "2021-06-14T19:53:59.507Z"
   },
   {
    "duration": 1674,
    "start_time": "2021-06-14T19:55:39.136Z"
   },
   {
    "duration": 61,
    "start_time": "2021-06-14T19:55:40.813Z"
   },
   {
    "duration": 16,
    "start_time": "2021-06-14T19:55:40.879Z"
   },
   {
    "duration": 7,
    "start_time": "2021-06-14T19:55:40.898Z"
   },
   {
    "duration": 66,
    "start_time": "2021-06-14T19:55:40.907Z"
   },
   {
    "duration": 48,
    "start_time": "2021-06-14T19:55:40.975Z"
   },
   {
    "duration": 542,
    "start_time": "2021-06-14T19:55:41.026Z"
   },
   {
    "duration": -100,
    "start_time": "2021-06-14T19:55:41.671Z"
   },
   {
    "duration": -102,
    "start_time": "2021-06-14T19:55:41.674Z"
   },
   {
    "duration": -103,
    "start_time": "2021-06-14T19:55:41.676Z"
   },
   {
    "duration": -103,
    "start_time": "2021-06-14T19:55:41.678Z"
   },
   {
    "duration": -104,
    "start_time": "2021-06-14T19:55:41.680Z"
   },
   {
    "duration": -108,
    "start_time": "2021-06-14T19:55:41.685Z"
   },
   {
    "duration": -109,
    "start_time": "2021-06-14T19:55:41.688Z"
   },
   {
    "duration": 1923,
    "start_time": "2021-06-14T19:56:09.130Z"
   },
   {
    "duration": 17,
    "start_time": "2021-06-14T19:56:20.385Z"
   },
   {
    "duration": 4,
    "start_time": "2021-06-14T19:56:23.946Z"
   },
   {
    "duration": 12,
    "start_time": "2021-06-14T19:56:25.363Z"
   },
   {
    "duration": 491,
    "start_time": "2021-06-14T19:56:26.925Z"
   },
   {
    "duration": 1483,
    "start_time": "2021-06-14T19:56:32.330Z"
   },
   {
    "duration": 55,
    "start_time": "2021-06-14T19:56:33.816Z"
   },
   {
    "duration": 13,
    "start_time": "2021-06-14T19:56:33.874Z"
   },
   {
    "duration": 6,
    "start_time": "2021-06-14T19:56:33.890Z"
   },
   {
    "duration": 37,
    "start_time": "2021-06-14T19:56:33.898Z"
   },
   {
    "duration": 66,
    "start_time": "2021-06-14T19:56:33.937Z"
   },
   {
    "duration": 1862,
    "start_time": "2021-06-14T19:56:34.006Z"
   },
   {
    "duration": 17,
    "start_time": "2021-06-14T19:56:35.871Z"
   },
   {
    "duration": 8,
    "start_time": "2021-06-14T19:56:35.890Z"
   },
   {
    "duration": 25,
    "start_time": "2021-06-14T19:56:35.900Z"
   },
   {
    "duration": 608,
    "start_time": "2021-06-14T19:56:35.928Z"
   },
   {
    "duration": 1631,
    "start_time": "2021-06-14T19:56:36.539Z"
   },
   {
    "duration": 229,
    "start_time": "2021-06-14T19:56:38.172Z"
   },
   {
    "duration": 512,
    "start_time": "2021-06-14T19:56:38.403Z"
   },
   {
    "duration": 1049,
    "start_time": "2021-06-15T15:01:20.735Z"
   },
   {
    "duration": 45,
    "start_time": "2021-06-15T15:01:21.788Z"
   },
   {
    "duration": 9,
    "start_time": "2021-06-15T15:01:21.835Z"
   },
   {
    "duration": 3,
    "start_time": "2021-06-15T15:01:21.846Z"
   },
   {
    "duration": 21,
    "start_time": "2021-06-15T15:01:21.851Z"
   },
   {
    "duration": 44,
    "start_time": "2021-06-15T15:01:21.873Z"
   },
   {
    "duration": 1198,
    "start_time": "2021-06-15T15:01:21.918Z"
   },
   {
    "duration": 11,
    "start_time": "2021-06-15T15:01:23.118Z"
   },
   {
    "duration": 3,
    "start_time": "2021-06-15T15:01:23.130Z"
   },
   {
    "duration": 11,
    "start_time": "2021-06-15T15:01:23.134Z"
   },
   {
    "duration": 461,
    "start_time": "2021-06-15T15:01:23.147Z"
   },
   {
    "duration": 1343,
    "start_time": "2021-06-15T15:01:23.610Z"
   },
   {
    "duration": 183,
    "start_time": "2021-06-15T15:01:24.954Z"
   },
   {
    "duration": 314,
    "start_time": "2021-06-15T15:01:25.138Z"
   },
   {
    "duration": 1058,
    "start_time": "2021-06-15T15:12:07.644Z"
   },
   {
    "duration": 44,
    "start_time": "2021-06-15T15:12:08.704Z"
   },
   {
    "duration": 9,
    "start_time": "2021-06-15T15:12:08.750Z"
   },
   {
    "duration": 4,
    "start_time": "2021-06-15T15:12:08.761Z"
   },
   {
    "duration": 29,
    "start_time": "2021-06-15T15:12:08.766Z"
   },
   {
    "duration": 29,
    "start_time": "2021-06-15T15:12:08.798Z"
   },
   {
    "duration": 1269,
    "start_time": "2021-06-15T15:12:08.829Z"
   },
   {
    "duration": 12,
    "start_time": "2021-06-15T15:12:10.100Z"
   },
   {
    "duration": 4,
    "start_time": "2021-06-15T15:12:10.114Z"
   },
   {
    "duration": 11,
    "start_time": "2021-06-15T15:12:10.119Z"
   },
   {
    "duration": 405,
    "start_time": "2021-06-15T15:12:10.131Z"
   },
   {
    "duration": 1266,
    "start_time": "2021-06-15T15:12:10.538Z"
   },
   {
    "duration": 174,
    "start_time": "2021-06-15T15:12:11.806Z"
   },
   {
    "duration": 322,
    "start_time": "2021-06-15T15:12:11.982Z"
   },
   {
    "duration": 840,
    "start_time": "2021-06-15T15:13:20.998Z"
   },
   {
    "duration": 674,
    "start_time": "2021-06-15T15:13:28.972Z"
   },
   {
    "duration": 664,
    "start_time": "2021-06-15T15:13:34.685Z"
   },
   {
    "duration": 172,
    "start_time": "2021-06-15T15:13:38.252Z"
   },
   {
    "duration": 309,
    "start_time": "2021-06-15T15:13:44.813Z"
   },
   {
    "duration": 1353,
    "start_time": "2021-06-15T15:13:57.146Z"
   },
   {
    "duration": 2532,
    "start_time": "2021-06-15T15:14:02.611Z"
   },
   {
    "duration": 253,
    "start_time": "2021-06-15T15:15:04.495Z"
   },
   {
    "duration": 4306,
    "start_time": "2021-06-15T15:15:09.150Z"
   },
   {
    "duration": 225,
    "start_time": "2021-06-15T15:15:18.331Z"
   },
   {
    "duration": 283,
    "start_time": "2021-06-15T15:33:37.273Z"
   },
   {
    "duration": 187,
    "start_time": "2021-06-15T15:37:17.956Z"
   },
   {
    "duration": 212,
    "start_time": "2021-06-15T15:37:34.615Z"
   },
   {
    "duration": 181,
    "start_time": "2021-06-15T15:37:48.318Z"
   },
   {
    "duration": 191,
    "start_time": "2021-06-15T15:42:24.041Z"
   },
   {
    "duration": 205,
    "start_time": "2021-06-15T15:42:32.996Z"
   },
   {
    "duration": 189,
    "start_time": "2021-06-15T15:53:17.039Z"
   },
   {
    "duration": 232,
    "start_time": "2021-06-15T15:53:47.666Z"
   },
   {
    "duration": 20,
    "start_time": "2021-06-15T15:54:11.303Z"
   },
   {
    "duration": 25,
    "start_time": "2021-06-15T15:54:29.585Z"
   },
   {
    "duration": 22,
    "start_time": "2021-06-15T15:54:43.256Z"
   },
   {
    "duration": 19,
    "start_time": "2021-06-15T15:55:06.305Z"
   },
   {
    "duration": 245,
    "start_time": "2021-06-15T15:55:45.290Z"
   },
   {
    "duration": 1026,
    "start_time": "2021-06-15T15:56:06.251Z"
   },
   {
    "duration": 49,
    "start_time": "2021-06-15T15:56:07.279Z"
   },
   {
    "duration": 9,
    "start_time": "2021-06-15T15:56:07.330Z"
   },
   {
    "duration": 4,
    "start_time": "2021-06-15T15:56:07.341Z"
   },
   {
    "duration": 23,
    "start_time": "2021-06-15T15:56:07.347Z"
   },
   {
    "duration": 42,
    "start_time": "2021-06-15T15:56:07.371Z"
   },
   {
    "duration": 1217,
    "start_time": "2021-06-15T15:56:07.415Z"
   },
   {
    "duration": 12,
    "start_time": "2021-06-15T15:56:08.634Z"
   },
   {
    "duration": 3,
    "start_time": "2021-06-15T15:56:08.648Z"
   },
   {
    "duration": 14,
    "start_time": "2021-06-15T15:56:08.652Z"
   },
   {
    "duration": 383,
    "start_time": "2021-06-15T15:56:08.685Z"
   },
   {
    "duration": 755,
    "start_time": "2021-06-15T15:56:09.070Z"
   },
   {
    "duration": 256,
    "start_time": "2021-06-15T15:56:09.827Z"
   },
   {
    "duration": 316,
    "start_time": "2021-06-15T15:56:10.090Z"
   },
   {
    "duration": 21,
    "start_time": "2021-06-15T15:58:09.702Z"
   },
   {
    "duration": 1133,
    "start_time": "2021-06-15T15:58:15.570Z"
   },
   {
    "duration": 43,
    "start_time": "2021-06-15T15:58:16.705Z"
   },
   {
    "duration": 9,
    "start_time": "2021-06-15T15:58:16.750Z"
   },
   {
    "duration": 6,
    "start_time": "2021-06-15T15:58:16.760Z"
   },
   {
    "duration": 42,
    "start_time": "2021-06-15T15:58:16.768Z"
   },
   {
    "duration": 36,
    "start_time": "2021-06-15T15:58:16.811Z"
   },
   {
    "duration": 1229,
    "start_time": "2021-06-15T15:58:16.849Z"
   },
   {
    "duration": 20,
    "start_time": "2021-06-15T15:58:18.079Z"
   },
   {
    "duration": 3,
    "start_time": "2021-06-15T15:58:18.102Z"
   },
   {
    "duration": 12,
    "start_time": "2021-06-15T15:58:18.107Z"
   },
   {
    "duration": 421,
    "start_time": "2021-06-15T15:58:18.121Z"
   },
   {
    "duration": 1057,
    "start_time": "2021-06-15T15:58:18.544Z"
   },
   {
    "duration": 366,
    "start_time": "2021-06-15T15:58:19.603Z"
   },
   {
    "duration": 327,
    "start_time": "2021-06-15T15:58:19.970Z"
   },
   {
    "duration": 1572,
    "start_time": "2021-06-15T16:03:21.368Z"
   },
   {
    "duration": 111,
    "start_time": "2021-06-15T16:03:27.390Z"
   },
   {
    "duration": 33356,
    "start_time": "2021-06-15T16:03:45.813Z"
   },
   {
    "duration": 2839,
    "start_time": "2021-06-15T16:05:14.640Z"
   },
   {
    "duration": 2799,
    "start_time": "2021-06-15T16:05:38.115Z"
   },
   {
    "duration": 1101,
    "start_time": "2021-06-15T16:05:53.009Z"
   },
   {
    "duration": 47,
    "start_time": "2021-06-15T16:05:54.111Z"
   },
   {
    "duration": 10,
    "start_time": "2021-06-15T16:05:54.160Z"
   },
   {
    "duration": 4,
    "start_time": "2021-06-15T16:05:54.172Z"
   },
   {
    "duration": 26,
    "start_time": "2021-06-15T16:05:54.190Z"
   },
   {
    "duration": 37,
    "start_time": "2021-06-15T16:05:54.217Z"
   },
   {
    "duration": 1247,
    "start_time": "2021-06-15T16:05:54.256Z"
   },
   {
    "duration": 12,
    "start_time": "2021-06-15T16:05:55.505Z"
   },
   {
    "duration": 3,
    "start_time": "2021-06-15T16:05:55.519Z"
   },
   {
    "duration": 12,
    "start_time": "2021-06-15T16:05:55.524Z"
   },
   {
    "duration": 429,
    "start_time": "2021-06-15T16:05:55.537Z"
   },
   {
    "duration": 32845,
    "start_time": "2021-06-15T16:05:55.967Z"
   },
   {
    "duration": 2812,
    "start_time": "2021-06-15T16:06:28.813Z"
   },
   {
    "duration": 324,
    "start_time": "2021-06-15T16:06:31.626Z"
   },
   {
    "duration": 13,
    "start_time": "2021-06-15T16:09:00.739Z"
   },
   {
    "duration": 1100,
    "start_time": "2021-06-15T16:11:33.594Z"
   },
   {
    "duration": 47,
    "start_time": "2021-06-15T16:11:34.696Z"
   },
   {
    "duration": 9,
    "start_time": "2021-06-15T16:11:34.746Z"
   },
   {
    "duration": 4,
    "start_time": "2021-06-15T16:11:34.757Z"
   },
   {
    "duration": 36,
    "start_time": "2021-06-15T16:11:34.763Z"
   },
   {
    "duration": 38,
    "start_time": "2021-06-15T16:11:34.801Z"
   },
   {
    "duration": 1221,
    "start_time": "2021-06-15T16:11:34.841Z"
   },
   {
    "duration": 22,
    "start_time": "2021-06-15T16:11:36.064Z"
   },
   {
    "duration": 25,
    "start_time": "2021-06-15T16:11:36.089Z"
   },
   {
    "duration": 27,
    "start_time": "2021-06-15T16:11:36.115Z"
   },
   {
    "duration": 392,
    "start_time": "2021-06-15T16:11:36.144Z"
   },
   {
    "duration": 36851,
    "start_time": "2021-06-15T16:11:36.537Z"
   },
   {
    "duration": 2988,
    "start_time": "2021-06-15T16:12:13.390Z"
   },
   {
    "duration": 324,
    "start_time": "2021-06-15T16:12:16.380Z"
   },
   {
    "duration": 1189,
    "start_time": "2021-06-15T16:48:58.720Z"
   },
   {
    "duration": 284,
    "start_time": "2021-06-15T16:55:29.262Z"
   },
   {
    "duration": 12,
    "start_time": "2021-06-15T16:55:37.242Z"
   },
   {
    "duration": 1122,
    "start_time": "2021-06-15T16:55:44.099Z"
   },
   {
    "duration": 47,
    "start_time": "2021-06-15T16:55:45.223Z"
   },
   {
    "duration": 20,
    "start_time": "2021-06-15T16:55:45.272Z"
   },
   {
    "duration": 5,
    "start_time": "2021-06-15T16:55:45.295Z"
   },
   {
    "duration": 29,
    "start_time": "2021-06-15T16:55:45.302Z"
   },
   {
    "duration": 40,
    "start_time": "2021-06-15T16:55:45.333Z"
   },
   {
    "duration": 1242,
    "start_time": "2021-06-15T16:55:45.394Z"
   },
   {
    "duration": 15,
    "start_time": "2021-06-15T16:55:46.638Z"
   },
   {
    "duration": 3,
    "start_time": "2021-06-15T16:55:46.656Z"
   },
   {
    "duration": 15,
    "start_time": "2021-06-15T16:55:46.685Z"
   },
   {
    "duration": 413,
    "start_time": "2021-06-15T16:55:46.703Z"
   },
   {
    "duration": 33502,
    "start_time": "2021-06-15T16:55:47.118Z"
   },
   {
    "duration": 1716,
    "start_time": "2021-06-15T16:56:20.622Z"
   },
   {
    "duration": 326,
    "start_time": "2021-06-15T16:56:22.340Z"
   },
   {
    "duration": 1532,
    "start_time": "2021-06-15T16:56:52.064Z"
   },
   {
    "duration": 2547,
    "start_time": "2021-06-15T16:57:01.900Z"
   },
   {
    "duration": 3027,
    "start_time": "2021-06-15T16:57:34.373Z"
   },
   {
    "duration": 3546,
    "start_time": "2021-06-15T16:57:42.031Z"
   },
   {
    "duration": 2491,
    "start_time": "2021-06-15T16:57:50.555Z"
   },
   {
    "duration": 94,
    "start_time": "2021-06-15T16:58:03.360Z"
   },
   {
    "duration": 2060,
    "start_time": "2021-06-15T16:58:11.674Z"
   },
   {
    "duration": 34987,
    "start_time": "2021-06-15T17:00:02.722Z"
   },
   {
    "duration": 2185,
    "start_time": "2021-06-15T17:00:37.711Z"
   },
   {
    "duration": 1108,
    "start_time": "2021-06-15T17:02:10.840Z"
   },
   {
    "duration": 53,
    "start_time": "2021-06-15T17:02:11.950Z"
   },
   {
    "duration": 10,
    "start_time": "2021-06-15T17:02:12.005Z"
   },
   {
    "duration": 4,
    "start_time": "2021-06-15T17:02:12.017Z"
   },
   {
    "duration": 28,
    "start_time": "2021-06-15T17:02:12.023Z"
   },
   {
    "duration": 67,
    "start_time": "2021-06-15T17:02:12.053Z"
   },
   {
    "duration": 1322,
    "start_time": "2021-06-15T17:02:12.122Z"
   },
   {
    "duration": 14,
    "start_time": "2021-06-15T17:02:13.446Z"
   },
   {
    "duration": 3,
    "start_time": "2021-06-15T17:02:13.462Z"
   },
   {
    "duration": 21,
    "start_time": "2021-06-15T17:02:13.485Z"
   },
   {
    "duration": 464,
    "start_time": "2021-06-15T17:02:13.509Z"
   },
   {
    "duration": 39852,
    "start_time": "2021-06-15T17:02:13.975Z"
   },
   {
    "duration": 2523,
    "start_time": "2021-06-15T17:02:53.829Z"
   },
   {
    "duration": 354,
    "start_time": "2021-06-15T17:02:56.354Z"
   },
   {
    "duration": 1154,
    "start_time": "2021-06-15T17:03:22.868Z"
   },
   {
    "duration": 49,
    "start_time": "2021-06-15T17:03:24.024Z"
   },
   {
    "duration": 14,
    "start_time": "2021-06-15T17:03:24.075Z"
   },
   {
    "duration": 5,
    "start_time": "2021-06-15T17:03:24.091Z"
   },
   {
    "duration": 42,
    "start_time": "2021-06-15T17:03:24.098Z"
   },
   {
    "duration": 73,
    "start_time": "2021-06-15T17:03:24.142Z"
   },
   {
    "duration": 1305,
    "start_time": "2021-06-15T17:03:24.217Z"
   },
   {
    "duration": 12,
    "start_time": "2021-06-15T17:03:25.524Z"
   },
   {
    "duration": 3,
    "start_time": "2021-06-15T17:03:25.538Z"
   },
   {
    "duration": 47,
    "start_time": "2021-06-15T17:03:25.542Z"
   },
   {
    "duration": 408,
    "start_time": "2021-06-15T17:03:25.597Z"
   },
   {
    "duration": 55981,
    "start_time": "2021-06-15T17:03:26.008Z"
   },
   {
    "duration": 3467,
    "start_time": "2021-06-15T17:04:21.993Z"
   },
   {
    "duration": 337,
    "start_time": "2021-06-15T17:04:25.462Z"
   },
   {
    "duration": 3687,
    "start_time": "2021-06-15T17:04:38.718Z"
   },
   {
    "duration": 3859,
    "start_time": "2021-06-15T17:04:47.078Z"
   },
   {
    "duration": 7655,
    "start_time": "2021-06-15T17:05:04.767Z"
   },
   {
    "duration": 3757,
    "start_time": "2021-06-15T17:05:19.879Z"
   },
   {
    "duration": 4983,
    "start_time": "2021-06-15T17:05:30.488Z"
   },
   {
    "duration": 2478,
    "start_time": "2021-06-15T17:05:39.098Z"
   },
   {
    "duration": 2584,
    "start_time": "2021-06-15T17:05:51.689Z"
   },
   {
    "duration": 7,
    "start_time": "2021-06-15T17:08:58.691Z"
   },
   {
    "duration": 284,
    "start_time": "2021-06-15T17:09:01.285Z"
   },
   {
    "duration": 33,
    "start_time": "2021-06-15T17:09:23.785Z"
   },
   {
    "duration": 1107,
    "start_time": "2021-06-15T17:09:43.578Z"
   },
   {
    "duration": 46,
    "start_time": "2021-06-15T17:09:44.687Z"
   },
   {
    "duration": 11,
    "start_time": "2021-06-15T17:09:44.736Z"
   },
   {
    "duration": 4,
    "start_time": "2021-06-15T17:09:44.749Z"
   },
   {
    "duration": 53,
    "start_time": "2021-06-15T17:09:44.755Z"
   },
   {
    "duration": 60,
    "start_time": "2021-06-15T17:09:44.810Z"
   },
   {
    "duration": 1196,
    "start_time": "2021-06-15T17:09:44.872Z"
   },
   {
    "duration": 35,
    "start_time": "2021-06-15T17:09:46.070Z"
   },
   {
    "duration": 3,
    "start_time": "2021-06-15T17:09:46.107Z"
   },
   {
    "duration": 18,
    "start_time": "2021-06-15T17:09:46.112Z"
   },
   {
    "duration": 441,
    "start_time": "2021-06-15T17:09:46.131Z"
   },
   {
    "duration": 63168,
    "start_time": "2021-06-15T17:09:46.573Z"
   },
   {
    "duration": 317,
    "start_time": "2021-06-15T17:10:52.629Z"
   },
   {
    "duration": 2918,
    "start_time": "2021-06-15T17:10:52.948Z"
   },
   {
    "duration": 4820,
    "start_time": "2021-06-15T17:11:00.824Z"
   },
   {
    "duration": 1102,
    "start_time": "2021-06-15T17:13:17.570Z"
   },
   {
    "duration": 47,
    "start_time": "2021-06-15T17:13:18.674Z"
   },
   {
    "duration": 9,
    "start_time": "2021-06-15T17:13:18.723Z"
   },
   {
    "duration": 6,
    "start_time": "2021-06-15T17:13:18.734Z"
   },
   {
    "duration": 61,
    "start_time": "2021-06-15T17:13:18.742Z"
   },
   {
    "duration": 70,
    "start_time": "2021-06-15T17:13:18.805Z"
   },
   {
    "duration": 1235,
    "start_time": "2021-06-15T17:13:18.876Z"
   },
   {
    "duration": 12,
    "start_time": "2021-06-15T17:13:20.113Z"
   },
   {
    "duration": 3,
    "start_time": "2021-06-15T17:13:20.127Z"
   },
   {
    "duration": 169,
    "start_time": "2021-06-15T17:13:20.131Z"
   },
   {
    "duration": 416,
    "start_time": "2021-06-15T17:13:20.302Z"
   },
   {
    "duration": 82858,
    "start_time": "2021-06-15T17:13:20.720Z"
   },
   {
    "duration": 6494,
    "start_time": "2021-06-15T17:14:43.584Z"
   },
   {
    "duration": 323,
    "start_time": "2021-06-15T17:14:50.080Z"
   },
   {
    "duration": 3900,
    "start_time": "2021-06-15T17:15:07.010Z"
   },
   {
    "duration": 1074,
    "start_time": "2021-06-15T17:15:48.423Z"
   },
   {
    "duration": 45,
    "start_time": "2021-06-15T17:15:49.499Z"
   },
   {
    "duration": 9,
    "start_time": "2021-06-15T17:15:49.546Z"
   },
   {
    "duration": 4,
    "start_time": "2021-06-15T17:15:49.557Z"
   },
   {
    "duration": 78,
    "start_time": "2021-06-15T17:15:49.562Z"
   },
   {
    "duration": 156,
    "start_time": "2021-06-15T17:15:49.642Z"
   },
   {
    "duration": 1167,
    "start_time": "2021-06-15T17:15:49.800Z"
   },
   {
    "duration": 90,
    "start_time": "2021-06-15T17:15:50.969Z"
   },
   {
    "duration": 3,
    "start_time": "2021-06-15T17:15:51.060Z"
   },
   {
    "duration": 226,
    "start_time": "2021-06-15T17:15:51.064Z"
   },
   {
    "duration": 402,
    "start_time": "2021-06-15T17:15:51.292Z"
   },
   {
    "duration": 1052,
    "start_time": "2021-06-15T17:17:41.741Z"
   },
   {
    "duration": 45,
    "start_time": "2021-06-15T17:17:42.795Z"
   },
   {
    "duration": 9,
    "start_time": "2021-06-15T17:17:42.842Z"
   },
   {
    "duration": 5,
    "start_time": "2021-06-15T17:17:42.853Z"
   },
   {
    "duration": 74,
    "start_time": "2021-06-15T17:17:42.859Z"
   },
   {
    "duration": 148,
    "start_time": "2021-06-15T17:17:42.934Z"
   },
   {
    "duration": 1181,
    "start_time": "2021-06-15T17:17:43.084Z"
   },
   {
    "duration": 88,
    "start_time": "2021-06-15T17:17:44.267Z"
   },
   {
    "duration": 3,
    "start_time": "2021-06-15T17:17:44.357Z"
   },
   {
    "duration": 246,
    "start_time": "2021-06-15T17:17:44.361Z"
   },
   {
    "duration": 490,
    "start_time": "2021-06-15T17:17:44.608Z"
   },
   {
    "duration": 80728,
    "start_time": "2021-06-15T17:17:45.100Z"
   },
   {
    "duration": 10106,
    "start_time": "2021-06-15T17:19:05.830Z"
   },
   {
    "duration": 330,
    "start_time": "2021-06-15T17:19:15.938Z"
   },
   {
    "duration": 37014,
    "start_time": "2021-06-15T17:21:05.543Z"
   },
   {
    "duration": 2646,
    "start_time": "2021-06-15T17:21:45.024Z"
   }
  ],
  "kernelspec": {
   "display_name": "Python 3",
   "language": "python",
   "name": "python3"
  },
  "language_info": {
   "codemirror_mode": {
    "name": "ipython",
    "version": 3
   },
   "file_extension": ".py",
   "mimetype": "text/x-python",
   "name": "python",
   "nbconvert_exporter": "python",
   "pygments_lexer": "ipython3",
   "version": "3.7.8"
  },
  "toc": {
   "base_numbering": 1,
   "nav_menu": {},
   "number_sections": true,
   "sideBar": true,
   "skip_h1_title": true,
   "title_cell": "Table of Contents",
   "title_sidebar": "Contents",
   "toc_cell": false,
   "toc_position": {},
   "toc_section_display": true,
   "toc_window_display": false
  }
 },
 "nbformat": 4,
 "nbformat_minor": 2
}
