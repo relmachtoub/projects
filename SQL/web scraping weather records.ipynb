{
 "cells": [
  {
   "cell_type": "markdown",
   "metadata": {},
   "source": [
    "Write a code to parse the data on weather in Chicago in November 2017 from the website:\n",
    "[https://code.s3.yandex.net/data-analyst-eng/chicago_weather_2017.html)\n",
    "The name of the DataFrame should be weather_records, and it should be specified when you search: attrs={\"id\": \"weather_records\"} . Print the DataFrame in its entirety."
   ]
  },
  {
   "cell_type": "code",
   "execution_count": 8,
   "metadata": {},
   "outputs": [
    {
     "name": "stdout",
     "output_type": "stream",
     "text": [
      "           Date and time Temperature       Description\n",
      "0    2017-11-01 00:00:00     276.150     broken clouds\n",
      "1    2017-11-01 01:00:00     275.700  scattered clouds\n",
      "2    2017-11-01 02:00:00     275.610   overcast clouds\n",
      "3    2017-11-01 03:00:00     275.350     broken clouds\n",
      "4    2017-11-01 04:00:00     275.240     broken clouds\n",
      "..                   ...         ...               ...\n",
      "692  2017-11-29 20:00:00     281.340        few clouds\n",
      "693  2017-11-29 21:00:00     281.690      sky is clear\n",
      "694  2017-11-29 22:00:00     281.070        few clouds\n",
      "695  2017-11-29 23:00:00     280.060      sky is clear\n",
      "696  2017-11-30 00:00:00     278.460      sky is clear\n",
      "\n",
      "[697 rows x 3 columns]\n"
     ]
    }
   ],
   "source": [
    "import pandas as pd\n",
    "import requests # Import the library for sending requests to the server\n",
    "import re\n",
    "from bs4 import BeautifulSoup # Import the library for webpage parsing\n",
    "\n",
    "URL = 'https://code.s3.yandex.net/data-analyst-eng/chicago_weather_2017.html'\n",
    "req=requests.get(URL)\n",
    "soup = BeautifulSoup(req.text, 'lxml')\n",
    "\n",
    "table = soup.find(\"table\",attrs={\"id\": \"weather_records\"})\n",
    "\n",
    "heading_table = []\n",
    "for row in table.find_all('th'):\n",
    "    heading_table.append(row.text)\n",
    "\n",
    "content=[]\n",
    "for row in table.find_all('tr'): \n",
    "    if not row.find_all('th'): \n",
    "        content.append([element.text for element in row.find_all('td')])\n",
    "\n",
    "weather_records = pd.DataFrame(content, columns = heading_table)\n",
    "print(weather_records)\n",
    "\n"
   ]
  },
  {
   "cell_type": "code",
   "execution_count": null,
   "metadata": {},
   "outputs": [],
   "source": []
  }
 ],
 "metadata": {
  "ExecuteTimeLog": [
   {
    "duration": 1358,
    "start_time": "2021-09-20T01:02:34.074Z"
   },
   {
    "duration": 1276,
    "start_time": "2021-09-20T01:14:47.069Z"
   },
   {
    "duration": 689,
    "start_time": "2021-09-20T01:14:48.348Z"
   },
   {
    "duration": 10,
    "start_time": "2021-09-20T01:14:49.040Z"
   },
   {
    "duration": 632,
    "start_time": "2021-09-20T01:14:49.052Z"
   },
   {
    "duration": 508,
    "start_time": "2021-09-20T01:14:49.687Z"
   },
   {
    "duration": 66,
    "start_time": "2021-09-20T01:14:50.198Z"
   },
   {
    "duration": 150,
    "start_time": "2021-09-20T01:14:50.267Z"
   },
   {
    "duration": 1898,
    "start_time": "2021-09-20T01:19:05.988Z"
   },
   {
    "duration": 10,
    "start_time": "2021-09-20T01:19:07.889Z"
   },
   {
    "duration": 547,
    "start_time": "2021-09-20T01:19:07.903Z"
   },
   {
    "duration": 493,
    "start_time": "2021-09-20T01:19:08.453Z"
   },
   {
    "duration": 47,
    "start_time": "2021-09-20T01:19:08.948Z"
   },
   {
    "duration": 42,
    "start_time": "2021-09-20T01:19:08.997Z"
   },
   {
    "duration": 1886,
    "start_time": "2021-09-20T01:19:38.335Z"
   },
   {
    "duration": 15,
    "start_time": "2021-09-20T01:19:40.224Z"
   },
   {
    "duration": 762,
    "start_time": "2021-09-20T01:19:40.243Z"
   },
   {
    "duration": 710,
    "start_time": "2021-09-20T01:19:41.009Z"
   },
   {
    "duration": 51,
    "start_time": "2021-09-20T01:19:41.722Z"
   },
   {
    "duration": 43,
    "start_time": "2021-09-20T01:19:41.777Z"
   },
   {
    "duration": 1456,
    "start_time": "2021-09-20T01:20:51.124Z"
   },
   {
    "duration": 10,
    "start_time": "2021-09-20T01:20:52.583Z"
   },
   {
    "duration": 545,
    "start_time": "2021-09-20T01:20:52.596Z"
   },
   {
    "duration": 501,
    "start_time": "2021-09-20T01:20:53.143Z"
   },
   {
    "duration": 50,
    "start_time": "2021-09-20T01:20:53.646Z"
   },
   {
    "duration": 41,
    "start_time": "2021-09-20T01:20:53.698Z"
   },
   {
    "duration": 420,
    "start_time": "2021-09-20T01:27:53.654Z"
   },
   {
    "duration": 270,
    "start_time": "2021-09-20T01:28:52.402Z"
   }
  ],
  "kernelspec": {
   "display_name": "Python 3",
   "language": "python",
   "name": "python3"
  },
  "language_info": {
   "codemirror_mode": {
    "name": "ipython",
    "version": 3
   },
   "file_extension": ".py",
   "mimetype": "text/x-python",
   "name": "python",
   "nbconvert_exporter": "python",
   "pygments_lexer": "ipython3",
   "version": "3.7.8"
  },
  "toc": {
   "base_numbering": 1,
   "nav_menu": {},
   "number_sections": true,
   "sideBar": true,
   "skip_h1_title": false,
   "title_cell": "Table of Contents",
   "title_sidebar": "Contents",
   "toc_cell": false,
   "toc_position": {},
   "toc_section_display": true,
   "toc_window_display": true
  }
 },
 "nbformat": 4,
 "nbformat_minor": 2
}
