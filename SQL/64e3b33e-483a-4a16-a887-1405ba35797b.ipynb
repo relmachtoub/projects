{
 "cells": [
  {
   "cell_type": "markdown",
   "metadata": {},
   "source": [
    "# Test the hypothesis:\n",
    "\"The average duration of rides from the Loop to O'Hare International Airport changes on rainy Saturdays.\""
   ]
  },
  {
   "cell_type": "markdown",
   "metadata": {},
   "source": [
    "# Web Scraping"
   ]
  },
  {
   "cell_type": "markdown",
   "metadata": {},
   "source": [
    "Write a code to parse the data on weather in Chicago in November 2017 from the website:\n",
    "[https://code.s3.yandex.net/data-analyst-eng/chicago_weather_2017.html)\n",
    "The name of the DataFrame should be weather_records, and it should be specified when you search: attrs={\"id\": \"weather_records\"} . Print the DataFrame in its entirety."
   ]
  },
  {
   "cell_type": "code",
   "execution_count": 1,
   "metadata": {},
   "outputs": [
    {
     "name": "stdout",
     "output_type": "stream",
     "text": [
      "           Date and time Temperature       Description\n",
      "0    2017-11-01 00:00:00     276.150     broken clouds\n",
      "1    2017-11-01 01:00:00     275.700  scattered clouds\n",
      "2    2017-11-01 02:00:00     275.610   overcast clouds\n",
      "3    2017-11-01 03:00:00     275.350     broken clouds\n",
      "4    2017-11-01 04:00:00     275.240     broken clouds\n",
      "..                   ...         ...               ...\n",
      "692  2017-11-29 20:00:00     281.340        few clouds\n",
      "693  2017-11-29 21:00:00     281.690      sky is clear\n",
      "694  2017-11-29 22:00:00     281.070        few clouds\n",
      "695  2017-11-29 23:00:00     280.060      sky is clear\n",
      "696  2017-11-30 00:00:00     278.460      sky is clear\n",
      "\n",
      "[697 rows x 3 columns]\n"
     ]
    }
   ],
   "source": [
    "import pandas as pd\n",
    "import requests # Import the library for sending requests to the server\n",
    "import re\n",
    "from bs4 import BeautifulSoup # Import the library for webpage parsing\n",
    "\n",
    "URL = 'https://code.s3.yandex.net/data-analyst-eng/chicago_weather_2017.html'\n",
    "req=requests.get(URL)\n",
    "soup = BeautifulSoup(req.text, 'lxml')\n",
    "\n",
    "table = soup.find(\"table\",attrs={\"id\": \"weather_records\"})\n",
    "\n",
    "heading_table = []\n",
    "for row in table.find_all('th'):\n",
    "    heading_table.append(row.text)\n",
    "\n",
    "content=[]\n",
    "for row in table.find_all('tr'): \n",
    "    if not row.find_all('th'): \n",
    "        content.append([element.text for element in row.find_all('td')])\n",
    "\n",
    "weather_records = pd.DataFrame(content, columns = heading_table)\n",
    "print(weather_records)"
   ]
  },
  {
   "cell_type": "markdown",
   "metadata": {},
   "source": [
    "# Step 4. Exploratory data analysis (Python)"
   ]
  },
  {
   "cell_type": "markdown",
   "metadata": {},
   "source": [
    "## Import the files"
   ]
  },
  {
   "cell_type": "code",
   "execution_count": 2,
   "metadata": {},
   "outputs": [
    {
     "data": {
      "text/html": [
       "<div>\n",
       "<style scoped>\n",
       "    .dataframe tbody tr th:only-of-type {\n",
       "        vertical-align: middle;\n",
       "    }\n",
       "\n",
       "    .dataframe tbody tr th {\n",
       "        vertical-align: top;\n",
       "    }\n",
       "\n",
       "    .dataframe thead th {\n",
       "        text-align: right;\n",
       "    }\n",
       "</style>\n",
       "<table border=\"1\" class=\"dataframe\">\n",
       "  <thead>\n",
       "    <tr style=\"text-align: right;\">\n",
       "      <th></th>\n",
       "      <th>company_name</th>\n",
       "      <th>trips_amount</th>\n",
       "    </tr>\n",
       "  </thead>\n",
       "  <tbody>\n",
       "    <tr>\n",
       "      <td>0</td>\n",
       "      <td>Flash Cab</td>\n",
       "      <td>19558</td>\n",
       "    </tr>\n",
       "    <tr>\n",
       "      <td>1</td>\n",
       "      <td>Taxi Affiliation Services</td>\n",
       "      <td>11422</td>\n",
       "    </tr>\n",
       "    <tr>\n",
       "      <td>2</td>\n",
       "      <td>Medallion Leasing</td>\n",
       "      <td>10367</td>\n",
       "    </tr>\n",
       "    <tr>\n",
       "      <td>3</td>\n",
       "      <td>Yellow Cab</td>\n",
       "      <td>9888</td>\n",
       "    </tr>\n",
       "    <tr>\n",
       "      <td>4</td>\n",
       "      <td>Taxi Affiliation Service Yellow</td>\n",
       "      <td>9299</td>\n",
       "    </tr>\n",
       "    <tr>\n",
       "      <td>5</td>\n",
       "      <td>Chicago Carriage Cab Corp</td>\n",
       "      <td>9181</td>\n",
       "    </tr>\n",
       "    <tr>\n",
       "      <td>6</td>\n",
       "      <td>City Service</td>\n",
       "      <td>8448</td>\n",
       "    </tr>\n",
       "    <tr>\n",
       "      <td>7</td>\n",
       "      <td>Sun Taxi</td>\n",
       "      <td>7701</td>\n",
       "    </tr>\n",
       "    <tr>\n",
       "      <td>8</td>\n",
       "      <td>Star North Management LLC</td>\n",
       "      <td>7455</td>\n",
       "    </tr>\n",
       "    <tr>\n",
       "      <td>9</td>\n",
       "      <td>Blue Ribbon Taxi Association Inc.</td>\n",
       "      <td>5953</td>\n",
       "    </tr>\n",
       "  </tbody>\n",
       "</table>\n",
       "</div>"
      ],
      "text/plain": [
       "                        company_name  trips_amount\n",
       "0                          Flash Cab         19558\n",
       "1          Taxi Affiliation Services         11422\n",
       "2                  Medallion Leasing         10367\n",
       "3                         Yellow Cab          9888\n",
       "4    Taxi Affiliation Service Yellow          9299\n",
       "5          Chicago Carriage Cab Corp          9181\n",
       "6                       City Service          8448\n",
       "7                           Sun Taxi          7701\n",
       "8          Star North Management LLC          7455\n",
       "9  Blue Ribbon Taxi Association Inc.          5953"
      ]
     },
     "metadata": {},
     "output_type": "display_data"
    },
    {
     "name": "stdout",
     "output_type": "stream",
     "text": [
      "<class 'pandas.core.frame.DataFrame'>\n",
      "RangeIndex: 64 entries, 0 to 63\n",
      "Data columns (total 2 columns):\n",
      "company_name    64 non-null object\n",
      "trips_amount    64 non-null int64\n",
      "dtypes: int64(1), object(1)\n",
      "memory usage: 1.1+ KB\n"
     ]
    },
    {
     "data": {
      "text/html": [
       "<div>\n",
       "<style scoped>\n",
       "    .dataframe tbody tr th:only-of-type {\n",
       "        vertical-align: middle;\n",
       "    }\n",
       "\n",
       "    .dataframe tbody tr th {\n",
       "        vertical-align: top;\n",
       "    }\n",
       "\n",
       "    .dataframe thead th {\n",
       "        text-align: right;\n",
       "    }\n",
       "</style>\n",
       "<table border=\"1\" class=\"dataframe\">\n",
       "  <thead>\n",
       "    <tr style=\"text-align: right;\">\n",
       "      <th></th>\n",
       "      <th>dropoff_location_name</th>\n",
       "      <th>average_trips</th>\n",
       "    </tr>\n",
       "  </thead>\n",
       "  <tbody>\n",
       "    <tr>\n",
       "      <td>0</td>\n",
       "      <td>Loop</td>\n",
       "      <td>10727.47</td>\n",
       "    </tr>\n",
       "    <tr>\n",
       "      <td>1</td>\n",
       "      <td>River North</td>\n",
       "      <td>9523.67</td>\n",
       "    </tr>\n",
       "    <tr>\n",
       "      <td>2</td>\n",
       "      <td>Streeterville</td>\n",
       "      <td>6664.67</td>\n",
       "    </tr>\n",
       "    <tr>\n",
       "      <td>3</td>\n",
       "      <td>West Loop</td>\n",
       "      <td>5163.67</td>\n",
       "    </tr>\n",
       "    <tr>\n",
       "      <td>4</td>\n",
       "      <td>O'Hare</td>\n",
       "      <td>2546.90</td>\n",
       "    </tr>\n",
       "    <tr>\n",
       "      <td>5</td>\n",
       "      <td>Lake View</td>\n",
       "      <td>2420.97</td>\n",
       "    </tr>\n",
       "    <tr>\n",
       "      <td>6</td>\n",
       "      <td>Grant Park</td>\n",
       "      <td>2068.53</td>\n",
       "    </tr>\n",
       "    <tr>\n",
       "      <td>7</td>\n",
       "      <td>Museum Campus</td>\n",
       "      <td>1510.00</td>\n",
       "    </tr>\n",
       "    <tr>\n",
       "      <td>8</td>\n",
       "      <td>Gold Coast</td>\n",
       "      <td>1364.23</td>\n",
       "    </tr>\n",
       "    <tr>\n",
       "      <td>9</td>\n",
       "      <td>Sheffield &amp; DePaul</td>\n",
       "      <td>1259.77</td>\n",
       "    </tr>\n",
       "  </tbody>\n",
       "</table>\n",
       "</div>"
      ],
      "text/plain": [
       "  dropoff_location_name  average_trips\n",
       "0                  Loop       10727.47\n",
       "1           River North        9523.67\n",
       "2         Streeterville        6664.67\n",
       "3             West Loop        5163.67\n",
       "4                O'Hare        2546.90\n",
       "5             Lake View        2420.97\n",
       "6            Grant Park        2068.53\n",
       "7         Museum Campus        1510.00\n",
       "8            Gold Coast        1364.23\n",
       "9    Sheffield & DePaul        1259.77"
      ]
     },
     "metadata": {},
     "output_type": "display_data"
    },
    {
     "name": "stdout",
     "output_type": "stream",
     "text": [
      "<class 'pandas.core.frame.DataFrame'>\n",
      "RangeIndex: 94 entries, 0 to 93\n",
      "Data columns (total 2 columns):\n",
      "dropoff_location_name    94 non-null object\n",
      "average_trips            94 non-null float64\n",
      "dtypes: float64(1), object(1)\n",
      "memory usage: 1.6+ KB\n"
     ]
    }
   ],
   "source": [
    "import pandas as pd\n",
    "import numpy as np\n",
    "import matplotlib.pyplot as plt\n",
    "from scipy import stats as st\n",
    "import statistics\n",
    "\n",
    "taxi_trips = pd.read_csv('/datasets/project_sql_result_01.csv')\n",
    "display(taxi_trips.head(10))\n",
    "taxi_trips.info()\n",
    "\n",
    "chicago_trips = pd.read_csv('/datasets/project_sql_result_04.csv')\n",
    "chicago_trips['average_trips'] = chicago_trips['average_trips'].round(2)\n",
    "display(chicago_trips.head(10))\n",
    "chicago_trips.info()"
   ]
  },
  {
   "cell_type": "markdown",
   "metadata": {},
   "source": [
    "## Top 10 Neighborhoods for Drop Off's in Chicago:"
   ]
  },
  {
   "cell_type": "code",
   "execution_count": 3,
   "metadata": {},
   "outputs": [
    {
     "data": {
      "text/html": [
       "<div>\n",
       "<style scoped>\n",
       "    .dataframe tbody tr th:only-of-type {\n",
       "        vertical-align: middle;\n",
       "    }\n",
       "\n",
       "    .dataframe tbody tr th {\n",
       "        vertical-align: top;\n",
       "    }\n",
       "\n",
       "    .dataframe thead th {\n",
       "        text-align: right;\n",
       "    }\n",
       "</style>\n",
       "<table border=\"1\" class=\"dataframe\">\n",
       "  <thead>\n",
       "    <tr style=\"text-align: right;\">\n",
       "      <th></th>\n",
       "      <th>dropoff_location_name</th>\n",
       "      <th>average_trips</th>\n",
       "    </tr>\n",
       "  </thead>\n",
       "  <tbody>\n",
       "    <tr>\n",
       "      <td>0</td>\n",
       "      <td>Loop</td>\n",
       "      <td>10727.47</td>\n",
       "    </tr>\n",
       "    <tr>\n",
       "      <td>1</td>\n",
       "      <td>River North</td>\n",
       "      <td>9523.67</td>\n",
       "    </tr>\n",
       "    <tr>\n",
       "      <td>2</td>\n",
       "      <td>Streeterville</td>\n",
       "      <td>6664.67</td>\n",
       "    </tr>\n",
       "    <tr>\n",
       "      <td>3</td>\n",
       "      <td>West Loop</td>\n",
       "      <td>5163.67</td>\n",
       "    </tr>\n",
       "    <tr>\n",
       "      <td>4</td>\n",
       "      <td>O'Hare</td>\n",
       "      <td>2546.90</td>\n",
       "    </tr>\n",
       "    <tr>\n",
       "      <td>5</td>\n",
       "      <td>Lake View</td>\n",
       "      <td>2420.97</td>\n",
       "    </tr>\n",
       "    <tr>\n",
       "      <td>6</td>\n",
       "      <td>Grant Park</td>\n",
       "      <td>2068.53</td>\n",
       "    </tr>\n",
       "    <tr>\n",
       "      <td>7</td>\n",
       "      <td>Museum Campus</td>\n",
       "      <td>1510.00</td>\n",
       "    </tr>\n",
       "    <tr>\n",
       "      <td>8</td>\n",
       "      <td>Gold Coast</td>\n",
       "      <td>1364.23</td>\n",
       "    </tr>\n",
       "    <tr>\n",
       "      <td>9</td>\n",
       "      <td>Sheffield &amp; DePaul</td>\n",
       "      <td>1259.77</td>\n",
       "    </tr>\n",
       "  </tbody>\n",
       "</table>\n",
       "</div>"
      ],
      "text/plain": [
       "  dropoff_location_name  average_trips\n",
       "0                  Loop       10727.47\n",
       "1           River North        9523.67\n",
       "2         Streeterville        6664.67\n",
       "3             West Loop        5163.67\n",
       "4                O'Hare        2546.90\n",
       "5             Lake View        2420.97\n",
       "6            Grant Park        2068.53\n",
       "7         Museum Campus        1510.00\n",
       "8            Gold Coast        1364.23\n",
       "9    Sheffield & DePaul        1259.77"
      ]
     },
     "metadata": {},
     "output_type": "display_data"
    }
   ],
   "source": [
    "top_10 = chicago_trips.head(10)\n",
    "display(top_10)"
   ]
  },
  {
   "cell_type": "markdown",
   "metadata": {},
   "source": [
    "## Taxi Companies VS Number of Rides"
   ]
  },
  {
   "cell_type": "code",
   "execution_count": 4,
   "metadata": {
    "scrolled": false
   },
   "outputs": [
    {
     "data": {
      "text/plain": [
       "<matplotlib.axes._subplots.AxesSubplot at 0x7f961d054c50>"
      ]
     },
     "execution_count": 4,
     "metadata": {},
     "output_type": "execute_result"
    },
    {
     "data": {
      "image/png": "[encoded data removed]",
      "text/plain": [
       "<Figure size 720x720 with 1 Axes>"
      ]
     },
     "metadata": {
      "needs_background": "light"
     },
     "output_type": "display_data"
    }
   ],
   "source": [
    "taxi_trips.head(10).plot(x='company_name', y='trips_amount', kind='bar', figsize = (10,10), title='Taxi Companies vs Number of Rides')"
   ]
  },
  {
   "cell_type": "markdown",
   "metadata": {},
   "source": [
    "### Explanation:\n",
    "- The top 3 taxi companies base on number of rides for November 15-16, 2017 are the following:\n",
    "    - Flash Cab\n",
    "    - Taxi Affiliation Services\n",
    "    - Medallion Leasing"
   ]
  },
  {
   "cell_type": "markdown",
   "metadata": {},
   "source": [
    "## Top 10 neighborhoods by Number of Dropoffs"
   ]
  },
  {
   "cell_type": "code",
   "execution_count": 5,
   "metadata": {},
   "outputs": [
    {
     "data": {
      "text/plain": [
       "Text(0, 0.5, '# of Rides')"
      ]
     },
     "execution_count": 5,
     "metadata": {},
     "output_type": "execute_result"
    },
    {
     "data": {
      "image/png": "[encoded data removed]",
      "text/plain": [
       "<Figure size 720x720 with 1 Axes>"
      ]
     },
     "metadata": {
      "needs_background": "light"
     },
     "output_type": "display_data"
    }
   ],
   "source": [
    "top_10.plot(x='dropoff_location_name', y='average_trips', kind='bar', figsize=(10,10), title='Top 10 Neighborhoods by Number of Dropoffs')\n",
    "plt.ylabel('# of Rides')"
   ]
  },
  {
   "cell_type": "markdown",
   "metadata": {},
   "source": [
    "### Explanation:\n",
    "- Above we can see that in the Loop neighborhood we find the highest average number of drop offs for November 2017."
   ]
  },
  {
   "cell_type": "markdown",
   "metadata": {},
   "source": [
    "# Step 5: Testing hypotheses (Python)"
   ]
  },
  {
   "cell_type": "code",
   "execution_count": 6,
   "metadata": {},
   "outputs": [
    {
     "name": "stdout",
     "output_type": "stream",
     "text": [
      "<class 'pandas.core.frame.DataFrame'>\n",
      "RangeIndex: 1068 entries, 0 to 1067\n",
      "Data columns (total 3 columns):\n",
      "start_ts              1068 non-null datetime64[ns]\n",
      "weather_conditions    1068 non-null object\n",
      "duration_seconds      1068 non-null int64\n",
      "dtypes: datetime64[ns](1), int64(1), object(1)\n",
      "memory usage: 25.2+ KB\n"
     ]
    },
    {
     "data": {
      "text/html": [
       "<div>\n",
       "<style scoped>\n",
       "    .dataframe tbody tr th:only-of-type {\n",
       "        vertical-align: middle;\n",
       "    }\n",
       "\n",
       "    .dataframe tbody tr th {\n",
       "        vertical-align: top;\n",
       "    }\n",
       "\n",
       "    .dataframe thead th {\n",
       "        text-align: right;\n",
       "    }\n",
       "</style>\n",
       "<table border=\"1\" class=\"dataframe\">\n",
       "  <thead>\n",
       "    <tr style=\"text-align: right;\">\n",
       "      <th></th>\n",
       "      <th>start_ts</th>\n",
       "      <th>weather_conditions</th>\n",
       "      <th>duration_seconds</th>\n",
       "    </tr>\n",
       "  </thead>\n",
       "  <tbody>\n",
       "    <tr>\n",
       "      <td>0</td>\n",
       "      <td>2017-11-25 16:00:00</td>\n",
       "      <td>Good</td>\n",
       "      <td>2410</td>\n",
       "    </tr>\n",
       "    <tr>\n",
       "      <td>1</td>\n",
       "      <td>2017-11-25 14:00:00</td>\n",
       "      <td>Good</td>\n",
       "      <td>1920</td>\n",
       "    </tr>\n",
       "    <tr>\n",
       "      <td>2</td>\n",
       "      <td>2017-11-25 12:00:00</td>\n",
       "      <td>Good</td>\n",
       "      <td>1543</td>\n",
       "    </tr>\n",
       "    <tr>\n",
       "      <td>3</td>\n",
       "      <td>2017-11-04 10:00:00</td>\n",
       "      <td>Good</td>\n",
       "      <td>2512</td>\n",
       "    </tr>\n",
       "    <tr>\n",
       "      <td>4</td>\n",
       "      <td>2017-11-11 07:00:00</td>\n",
       "      <td>Good</td>\n",
       "      <td>1440</td>\n",
       "    </tr>\n",
       "    <tr>\n",
       "      <td>5</td>\n",
       "      <td>2017-11-11 04:00:00</td>\n",
       "      <td>Good</td>\n",
       "      <td>1320</td>\n",
       "    </tr>\n",
       "    <tr>\n",
       "      <td>6</td>\n",
       "      <td>2017-11-04 16:00:00</td>\n",
       "      <td>Bad</td>\n",
       "      <td>2969</td>\n",
       "    </tr>\n",
       "    <tr>\n",
       "      <td>7</td>\n",
       "      <td>2017-11-18 11:00:00</td>\n",
       "      <td>Good</td>\n",
       "      <td>2280</td>\n",
       "    </tr>\n",
       "    <tr>\n",
       "      <td>8</td>\n",
       "      <td>2017-11-11 14:00:00</td>\n",
       "      <td>Good</td>\n",
       "      <td>2460</td>\n",
       "    </tr>\n",
       "    <tr>\n",
       "      <td>9</td>\n",
       "      <td>2017-11-11 12:00:00</td>\n",
       "      <td>Good</td>\n",
       "      <td>2040</td>\n",
       "    </tr>\n",
       "  </tbody>\n",
       "</table>\n",
       "</div>"
      ],
      "text/plain": [
       "             start_ts weather_conditions  duration_seconds\n",
       "0 2017-11-25 16:00:00               Good              2410\n",
       "1 2017-11-25 14:00:00               Good              1920\n",
       "2 2017-11-25 12:00:00               Good              1543\n",
       "3 2017-11-04 10:00:00               Good              2512\n",
       "4 2017-11-11 07:00:00               Good              1440\n",
       "5 2017-11-11 04:00:00               Good              1320\n",
       "6 2017-11-04 16:00:00                Bad              2969\n",
       "7 2017-11-18 11:00:00               Good              2280\n",
       "8 2017-11-11 14:00:00               Good              2460\n",
       "9 2017-11-11 12:00:00               Good              2040"
      ]
     },
     "execution_count": 6,
     "metadata": {},
     "output_type": "execute_result"
    }
   ],
   "source": [
    "loop_to_ohare = pd.read_csv('/datasets/project_sql_result_07.csv')\n",
    "loop_to_ohare['start_ts'] = pd.to_datetime(loop_to_ohare['start_ts'], format='%Y.%m.%d %H:%M:%S')\n",
    "loop_to_ohare['duration_seconds'] = loop_to_ohare['duration_seconds'].astype(int)\n",
    "loop_to_ohare.info()\n",
    "loop_to_ohare.head(10)"
   ]
  },
  {
   "cell_type": "markdown",
   "metadata": {},
   "source": [
    "## Test the hypothesis:\n",
    "- \"The average duration of rides from the Loop to O'Hare International Airport changes on rainy Saturdays.\"\n",
    "\n",
    "- Null Hypothesis: The average duration of rides on Saturdays is the same for good and bad weather conditions.\n",
    "- Alt Hypothesis: The average duration of rides on Saturdays is different for good and bad weather conditions."
   ]
  },
  {
   "cell_type": "code",
   "execution_count": 7,
   "metadata": {},
   "outputs": [
    {
     "name": "stdout",
     "output_type": "stream",
     "text": [
      "Below is a table of the average duration of car rides grouped by weather condition:\n"
     ]
    },
    {
     "data": {
      "text/html": [
       "<div>\n",
       "<style scoped>\n",
       "    .dataframe tbody tr th:only-of-type {\n",
       "        vertical-align: middle;\n",
       "    }\n",
       "\n",
       "    .dataframe tbody tr th {\n",
       "        vertical-align: top;\n",
       "    }\n",
       "\n",
       "    .dataframe thead th {\n",
       "        text-align: right;\n",
       "    }\n",
       "</style>\n",
       "<table border=\"1\" class=\"dataframe\">\n",
       "  <thead>\n",
       "    <tr style=\"text-align: right;\">\n",
       "      <th></th>\n",
       "      <th>duration_seconds</th>\n",
       "    </tr>\n",
       "    <tr>\n",
       "      <th>weather_conditions</th>\n",
       "      <th></th>\n",
       "    </tr>\n",
       "  </thead>\n",
       "  <tbody>\n",
       "    <tr>\n",
       "      <td>Bad</td>\n",
       "      <td>2427</td>\n",
       "    </tr>\n",
       "    <tr>\n",
       "      <td>Good</td>\n",
       "      <td>1999</td>\n",
       "    </tr>\n",
       "  </tbody>\n",
       "</table>\n",
       "</div>"
      ],
      "text/plain": [
       "                    duration_seconds\n",
       "weather_conditions                  \n",
       "Bad                             2427\n",
       "Good                            1999"
      ]
     },
     "metadata": {},
     "output_type": "display_data"
    },
    {
     "name": "stdout",
     "output_type": "stream",
     "text": [
      "Shapiro test P Value for good weather ride duration: 1.5529984048014178e-22\n",
      "Shapiro test P Value for bad weather ride duration: 0.0036118649877607822\n",
      "\n",
      "The p value is less than alpha level .05, thus the null hypothesis is rejected and there is evidence that the data sets tested are not normally distributed.\n",
      "\n",
      "LeveneResult(statistic=0.38853489683656073, pvalue=0.5332038671974493)\n",
      "\n",
      "The p-value of the test is greater than an alpha value of 0.05, hence there is evidence that the sample groups have equal variance.\n",
      "\n",
      "Now we will run the ttest using the good_weather_duration and bad_weather_duration: pvalue = 6.517970327099473e-12\n",
      "\n",
      "We reject the null hypothesis\n"
     ]
    }
   ],
   "source": [
    "## Let's make a pivot table. This table is made just to do a quick comparison between\n",
    "## between weather conditions and average ride durations.\n",
    "\n",
    "print('Below is a table of the average duration of car rides grouped by weather condition:')\n",
    "pivot_loop = loop_to_ohare.pivot_table(index='weather_conditions', values='duration_seconds', aggfunc='mean').astype('int')\n",
    "display(pivot_loop)\n",
    "\n",
    "good_weather_duration = loop_to_ohare.query('weather_conditions == \"Good\"')['duration_seconds']\n",
    "bad_weather_duration = loop_to_ohare.query('weather_conditions == \"Bad\"')['duration_seconds']\n",
    "\n",
    "shapiro_test_good_weather = st.shapiro(good_weather_duration)\n",
    "print('Shapiro test P Value for good weather ride duration:' , shapiro_test_good_weather[1])\n",
    "\n",
    "shapiro_test_bad_weather = st.shapiro(bad_weather_duration)\n",
    "print('Shapiro test P Value for bad weather ride duration:' , shapiro_test_bad_weather[1])\n",
    "print()\n",
    "print('The p value is less than alpha level .05, thus the null hypothesis is rejected and there is evidence that the data sets tested are not normally distributed.')\n",
    "print()\n",
    "\n",
    "print(st.levene(good_weather_duration, bad_weather_duration, center='median'))\n",
    "print()\n",
    "print('The p-value of the test is greater than an alpha value of 0.05, hence there is evidence that the sample groups have equal variance.')\n",
    "print()\n",
    "\n",
    "results = st.ttest_ind(good_weather_duration, bad_weather_duration, equal_var=True)\n",
    "\n",
    "alpha = .05\n",
    "\n",
    "print('Now we will run the ttest using the good_weather_duration and bad_weather_duration: pvalue =', results.pvalue)\n",
    "print()\n",
    "if (results.pvalue < alpha):\n",
    "        print(\"We reject the null hypothesis\")\n",
    "else:\n",
    "        print(\"We can't reject the null hypothesis\") "
   ]
  },
  {
   "cell_type": "markdown",
   "metadata": {},
   "source": [
    "### Explanation:\n",
    "- We reject the null hypothesis. The p-value of the test is less than an alpha value of 0.05, hence there is evidence that the average duration of rides on Saturdays is significantly different for good and bad weather conditions."
   ]
  }
 ],
 "metadata": {
  "ExecuteTimeLog": [
   {
    "duration": 1358,
    "start_time": "2021-09-20T01:02:34.074Z"
   },
   {
    "duration": 1276,
    "start_time": "2021-09-20T01:14:47.069Z"
   },
   {
    "duration": 689,
    "start_time": "2021-09-20T01:14:48.348Z"
   },
   {
    "duration": 10,
    "start_time": "2021-09-20T01:14:49.040Z"
   },
   {
    "duration": 632,
    "start_time": "2021-09-20T01:14:49.052Z"
   },
   {
    "duration": 508,
    "start_time": "2021-09-20T01:14:49.687Z"
   },
   {
    "duration": 66,
    "start_time": "2021-09-20T01:14:50.198Z"
   },
   {
    "duration": 150,
    "start_time": "2021-09-20T01:14:50.267Z"
   }
  ],
  "kernelspec": {
   "display_name": "Python 3",
   "language": "python",
   "name": "python3"
  },
  "language_info": {
   "codemirror_mode": {
    "name": "ipython",
    "version": 3
   },
   "file_extension": ".py",
   "mimetype": "text/x-python",
   "name": "python",
   "nbconvert_exporter": "python",
   "pygments_lexer": "ipython3",
   "version": "3.7.8"
  },
  "toc": {
   "base_numbering": 1,
   "nav_menu": {},
   "number_sections": true,
   "sideBar": true,
   "skip_h1_title": false,
   "title_cell": "Table of Contents",
   "title_sidebar": "Contents",
   "toc_cell": false,
   "toc_position": {},
   "toc_section_display": true,
   "toc_window_display": true
  }
 },
 "nbformat": 4,
 "nbformat_minor": 2
}
