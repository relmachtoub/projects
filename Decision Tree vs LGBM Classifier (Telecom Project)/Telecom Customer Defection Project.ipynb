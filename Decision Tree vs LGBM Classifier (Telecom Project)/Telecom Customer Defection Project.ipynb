{
 "cells": [
  {
   "cell_type": "markdown",
   "metadata": {},
   "source": [
    "# Assignment:\n",
    "\n",
    "The telecom operator Interconnect would like to be able to forecast their churn of clients. If it's discovered that a user is planning to leave, they will be offered promotional codes and special plan options. Interconnect's marketing team has collected some of their clientele's personal data, including information about their plans and contracts.\n",
    "\n",
    "### Interconnect's services\n",
    "\n",
    "Interconnect mainly provides two types of services:\n",
    "\n",
    "1. Internet. The network can be set up via a telephone line (DSL, *digital subscriber line*) or through a fiber optic cable.\n",
    "    1. Landline communication. The telephone can be connected to several lines simultaneously.\n",
    "\n",
    "Some other services the company provides include:\n",
    "\n",
    "- Internet security: antivirus software (*DeviceProtection*) and a malicious website blocker (*OnlineSecurity*)\n",
    "- A dedicated technical support line (*TechSupport*)\n",
    "- Cloud file storage and data backup (*OnlineBackup*)\n",
    "- TV streaming (*StreamingTV*) and a movie directory (*StreamingMovies*)\n",
    "\n",
    "The clients can choose either a monthly payment or sign a 1- or 2-year contract. They can use various payment methods and receive an electronic invoice after a transaction.\n",
    "\n",
    "### Data Description\n",
    "\n",
    "The data consists of files obtained from different sources:\n",
    "\n",
    "- `contract.csv` — contract information\n",
    "- `personal.csv` — the client's personal data\n",
    "- `internet.csv` — information about Internet services\n",
    "- `phone.csv` — information about telephone services\n",
    "\n",
    "In each file, the column `customerID` contains a unique code assigned to each client.\n",
    "\n",
    "The contract information is valid as of February 1, 2020."
   ]
  },
  {
   "cell_type": "markdown",
   "metadata": {},
   "source": [
    "# Goal: Predict When a Customer Will Leave"
   ]
  },
  {
   "cell_type": "markdown",
   "metadata": {},
   "source": [
    "# Open Data"
   ]
  },
  {
   "cell_type": "code",
   "execution_count": 1,
   "metadata": {},
   "outputs": [],
   "source": [
    "import pandas as pd\n",
    "from sklearn.tree import DecisionTreeClassifier\n",
    "from sklearn.ensemble import RandomForestClassifier\n",
    "from sklearn.linear_model import LogisticRegression\n",
    "from sklearn.tree import DecisionTreeRegressor\n",
    "from sklearn.metrics import mean_squared_error\n",
    "from sklearn.ensemble import RandomForestRegressor\n",
    "from sklearn.linear_model import LinearRegression\n",
    "from sklearn.model_selection import train_test_split\n",
    "from joblib import dump\n",
    "from sklearn.metrics import r2_score\n",
    "from sklearn.preprocessing import StandardScaler\n",
    "from sklearn.metrics import f1_score\n",
    "from sklearn.metrics import accuracy_score\n",
    "from sklearn.utils import shuffle\n",
    "from sklearn.metrics import roc_curve\n",
    "from sklearn.metrics import roc_auc_score\n",
    "import matplotlib.pyplot as plt\n",
    "from sklearn.model_selection import cross_val_score\n",
    "from sklearn.metrics import fbeta_score, make_scorer\n",
    "from sklearn.metrics import mean_absolute_error\n",
    "import numpy as np\n",
    "from sklearn.preprocessing import OrdinalEncoder"
   ]
  },
  {
   "cell_type": "code",
   "execution_count": 2,
   "metadata": {},
   "outputs": [],
   "source": [
    "contract = pd.read_csv('/datasets/final_provider/contract.csv')\n",
    "personal = pd.read_csv('/datasets/final_provider/personal.csv')\n",
    "internet = pd.read_csv('/datasets/final_provider/internet.csv')\n",
    "phone = pd.read_csv('/datasets/final_provider/phone.csv')\n"
   ]
  },
  {
   "cell_type": "code",
   "execution_count": 3,
   "metadata": {},
   "outputs": [
    {
     "data": {
      "text/html": [
       "<div>\n",
       "<style scoped>\n",
       "    .dataframe tbody tr th:only-of-type {\n",
       "        vertical-align: middle;\n",
       "    }\n",
       "\n",
       "    .dataframe tbody tr th {\n",
       "        vertical-align: top;\n",
       "    }\n",
       "\n",
       "    .dataframe thead th {\n",
       "        text-align: right;\n",
       "    }\n",
       "</style>\n",
       "<table border=\"1\" class=\"dataframe\">\n",
       "  <thead>\n",
       "    <tr style=\"text-align: right;\">\n",
       "      <th></th>\n",
       "      <th>MonthlyCharges</th>\n",
       "    </tr>\n",
       "  </thead>\n",
       "  <tbody>\n",
       "    <tr>\n",
       "      <td>count</td>\n",
       "      <td>7043.000000</td>\n",
       "    </tr>\n",
       "    <tr>\n",
       "      <td>mean</td>\n",
       "      <td>64.761692</td>\n",
       "    </tr>\n",
       "    <tr>\n",
       "      <td>std</td>\n",
       "      <td>30.090047</td>\n",
       "    </tr>\n",
       "    <tr>\n",
       "      <td>min</td>\n",
       "      <td>18.250000</td>\n",
       "    </tr>\n",
       "    <tr>\n",
       "      <td>25%</td>\n",
       "      <td>35.500000</td>\n",
       "    </tr>\n",
       "    <tr>\n",
       "      <td>50%</td>\n",
       "      <td>70.350000</td>\n",
       "    </tr>\n",
       "    <tr>\n",
       "      <td>75%</td>\n",
       "      <td>89.850000</td>\n",
       "    </tr>\n",
       "    <tr>\n",
       "      <td>max</td>\n",
       "      <td>118.750000</td>\n",
       "    </tr>\n",
       "  </tbody>\n",
       "</table>\n",
       "</div>"
      ],
      "text/plain": [
       "       MonthlyCharges\n",
       "count     7043.000000\n",
       "mean        64.761692\n",
       "std         30.090047\n",
       "min         18.250000\n",
       "25%         35.500000\n",
       "50%         70.350000\n",
       "75%         89.850000\n",
       "max        118.750000"
      ]
     },
     "execution_count": 3,
     "metadata": {},
     "output_type": "execute_result"
    }
   ],
   "source": [
    "contract.describe()"
   ]
  },
  {
   "cell_type": "code",
   "execution_count": 4,
   "metadata": {
    "scrolled": true
   },
   "outputs": [
    {
     "data": {
      "text/html": [
       "<div>\n",
       "<style scoped>\n",
       "    .dataframe tbody tr th:only-of-type {\n",
       "        vertical-align: middle;\n",
       "    }\n",
       "\n",
       "    .dataframe tbody tr th {\n",
       "        vertical-align: top;\n",
       "    }\n",
       "\n",
       "    .dataframe thead th {\n",
       "        text-align: right;\n",
       "    }\n",
       "</style>\n",
       "<table border=\"1\" class=\"dataframe\">\n",
       "  <thead>\n",
       "    <tr style=\"text-align: right;\">\n",
       "      <th></th>\n",
       "      <th>customerID</th>\n",
       "      <th>BeginDate</th>\n",
       "      <th>EndDate</th>\n",
       "      <th>Type</th>\n",
       "      <th>PaperlessBilling</th>\n",
       "      <th>PaymentMethod</th>\n",
       "      <th>MonthlyCharges</th>\n",
       "      <th>TotalCharges</th>\n",
       "    </tr>\n",
       "  </thead>\n",
       "  <tbody>\n",
       "    <tr>\n",
       "      <td>0</td>\n",
       "      <td>7590-VHVEG</td>\n",
       "      <td>2020-01-01</td>\n",
       "      <td>No</td>\n",
       "      <td>Month-to-month</td>\n",
       "      <td>Yes</td>\n",
       "      <td>Electronic check</td>\n",
       "      <td>29.85</td>\n",
       "      <td>29.85</td>\n",
       "    </tr>\n",
       "    <tr>\n",
       "      <td>1</td>\n",
       "      <td>5575-GNVDE</td>\n",
       "      <td>2017-04-01</td>\n",
       "      <td>No</td>\n",
       "      <td>One year</td>\n",
       "      <td>No</td>\n",
       "      <td>Mailed check</td>\n",
       "      <td>56.95</td>\n",
       "      <td>1889.5</td>\n",
       "    </tr>\n",
       "    <tr>\n",
       "      <td>2</td>\n",
       "      <td>3668-QPYBK</td>\n",
       "      <td>2019-10-01</td>\n",
       "      <td>2019-12-01 00:00:00</td>\n",
       "      <td>Month-to-month</td>\n",
       "      <td>Yes</td>\n",
       "      <td>Mailed check</td>\n",
       "      <td>53.85</td>\n",
       "      <td>108.15</td>\n",
       "    </tr>\n",
       "    <tr>\n",
       "      <td>3</td>\n",
       "      <td>7795-CFOCW</td>\n",
       "      <td>2016-05-01</td>\n",
       "      <td>No</td>\n",
       "      <td>One year</td>\n",
       "      <td>No</td>\n",
       "      <td>Bank transfer (automatic)</td>\n",
       "      <td>42.30</td>\n",
       "      <td>1840.75</td>\n",
       "    </tr>\n",
       "    <tr>\n",
       "      <td>4</td>\n",
       "      <td>9237-HQITU</td>\n",
       "      <td>2019-09-01</td>\n",
       "      <td>2019-11-01 00:00:00</td>\n",
       "      <td>Month-to-month</td>\n",
       "      <td>Yes</td>\n",
       "      <td>Electronic check</td>\n",
       "      <td>70.70</td>\n",
       "      <td>151.65</td>\n",
       "    </tr>\n",
       "  </tbody>\n",
       "</table>\n",
       "</div>"
      ],
      "text/plain": [
       "   customerID   BeginDate              EndDate            Type  \\\n",
       "0  7590-VHVEG  2020-01-01                   No  Month-to-month   \n",
       "1  5575-GNVDE  2017-04-01                   No        One year   \n",
       "2  3668-QPYBK  2019-10-01  2019-12-01 00:00:00  Month-to-month   \n",
       "3  7795-CFOCW  2016-05-01                   No        One year   \n",
       "4  9237-HQITU  2019-09-01  2019-11-01 00:00:00  Month-to-month   \n",
       "\n",
       "  PaperlessBilling              PaymentMethod  MonthlyCharges TotalCharges  \n",
       "0              Yes           Electronic check           29.85        29.85  \n",
       "1               No               Mailed check           56.95       1889.5  \n",
       "2              Yes               Mailed check           53.85       108.15  \n",
       "3               No  Bank transfer (automatic)           42.30      1840.75  \n",
       "4              Yes           Electronic check           70.70       151.65  "
      ]
     },
     "metadata": {},
     "output_type": "display_data"
    },
    {
     "data": {
      "text/html": [
       "<div>\n",
       "<style scoped>\n",
       "    .dataframe tbody tr th:only-of-type {\n",
       "        vertical-align: middle;\n",
       "    }\n",
       "\n",
       "    .dataframe tbody tr th {\n",
       "        vertical-align: top;\n",
       "    }\n",
       "\n",
       "    .dataframe thead th {\n",
       "        text-align: right;\n",
       "    }\n",
       "</style>\n",
       "<table border=\"1\" class=\"dataframe\">\n",
       "  <thead>\n",
       "    <tr style=\"text-align: right;\">\n",
       "      <th></th>\n",
       "      <th>customerID</th>\n",
       "      <th>gender</th>\n",
       "      <th>SeniorCitizen</th>\n",
       "      <th>Partner</th>\n",
       "      <th>Dependents</th>\n",
       "    </tr>\n",
       "  </thead>\n",
       "  <tbody>\n",
       "    <tr>\n",
       "      <td>0</td>\n",
       "      <td>7590-VHVEG</td>\n",
       "      <td>Female</td>\n",
       "      <td>0</td>\n",
       "      <td>Yes</td>\n",
       "      <td>No</td>\n",
       "    </tr>\n",
       "    <tr>\n",
       "      <td>1</td>\n",
       "      <td>5575-GNVDE</td>\n",
       "      <td>Male</td>\n",
       "      <td>0</td>\n",
       "      <td>No</td>\n",
       "      <td>No</td>\n",
       "    </tr>\n",
       "    <tr>\n",
       "      <td>2</td>\n",
       "      <td>3668-QPYBK</td>\n",
       "      <td>Male</td>\n",
       "      <td>0</td>\n",
       "      <td>No</td>\n",
       "      <td>No</td>\n",
       "    </tr>\n",
       "    <tr>\n",
       "      <td>3</td>\n",
       "      <td>7795-CFOCW</td>\n",
       "      <td>Male</td>\n",
       "      <td>0</td>\n",
       "      <td>No</td>\n",
       "      <td>No</td>\n",
       "    </tr>\n",
       "    <tr>\n",
       "      <td>4</td>\n",
       "      <td>9237-HQITU</td>\n",
       "      <td>Female</td>\n",
       "      <td>0</td>\n",
       "      <td>No</td>\n",
       "      <td>No</td>\n",
       "    </tr>\n",
       "  </tbody>\n",
       "</table>\n",
       "</div>"
      ],
      "text/plain": [
       "   customerID  gender  SeniorCitizen Partner Dependents\n",
       "0  7590-VHVEG  Female              0     Yes         No\n",
       "1  5575-GNVDE    Male              0      No         No\n",
       "2  3668-QPYBK    Male              0      No         No\n",
       "3  7795-CFOCW    Male              0      No         No\n",
       "4  9237-HQITU  Female              0      No         No"
      ]
     },
     "metadata": {},
     "output_type": "display_data"
    },
    {
     "data": {
      "text/html": [
       "<div>\n",
       "<style scoped>\n",
       "    .dataframe tbody tr th:only-of-type {\n",
       "        vertical-align: middle;\n",
       "    }\n",
       "\n",
       "    .dataframe tbody tr th {\n",
       "        vertical-align: top;\n",
       "    }\n",
       "\n",
       "    .dataframe thead th {\n",
       "        text-align: right;\n",
       "    }\n",
       "</style>\n",
       "<table border=\"1\" class=\"dataframe\">\n",
       "  <thead>\n",
       "    <tr style=\"text-align: right;\">\n",
       "      <th></th>\n",
       "      <th>customerID</th>\n",
       "      <th>InternetService</th>\n",
       "      <th>OnlineSecurity</th>\n",
       "      <th>OnlineBackup</th>\n",
       "      <th>DeviceProtection</th>\n",
       "      <th>TechSupport</th>\n",
       "      <th>StreamingTV</th>\n",
       "      <th>StreamingMovies</th>\n",
       "    </tr>\n",
       "  </thead>\n",
       "  <tbody>\n",
       "    <tr>\n",
       "      <td>0</td>\n",
       "      <td>7590-VHVEG</td>\n",
       "      <td>DSL</td>\n",
       "      <td>No</td>\n",
       "      <td>Yes</td>\n",
       "      <td>No</td>\n",
       "      <td>No</td>\n",
       "      <td>No</td>\n",
       "      <td>No</td>\n",
       "    </tr>\n",
       "    <tr>\n",
       "      <td>1</td>\n",
       "      <td>5575-GNVDE</td>\n",
       "      <td>DSL</td>\n",
       "      <td>Yes</td>\n",
       "      <td>No</td>\n",
       "      <td>Yes</td>\n",
       "      <td>No</td>\n",
       "      <td>No</td>\n",
       "      <td>No</td>\n",
       "    </tr>\n",
       "    <tr>\n",
       "      <td>2</td>\n",
       "      <td>3668-QPYBK</td>\n",
       "      <td>DSL</td>\n",
       "      <td>Yes</td>\n",
       "      <td>Yes</td>\n",
       "      <td>No</td>\n",
       "      <td>No</td>\n",
       "      <td>No</td>\n",
       "      <td>No</td>\n",
       "    </tr>\n",
       "    <tr>\n",
       "      <td>3</td>\n",
       "      <td>7795-CFOCW</td>\n",
       "      <td>DSL</td>\n",
       "      <td>Yes</td>\n",
       "      <td>No</td>\n",
       "      <td>Yes</td>\n",
       "      <td>Yes</td>\n",
       "      <td>No</td>\n",
       "      <td>No</td>\n",
       "    </tr>\n",
       "    <tr>\n",
       "      <td>4</td>\n",
       "      <td>9237-HQITU</td>\n",
       "      <td>Fiber optic</td>\n",
       "      <td>No</td>\n",
       "      <td>No</td>\n",
       "      <td>No</td>\n",
       "      <td>No</td>\n",
       "      <td>No</td>\n",
       "      <td>No</td>\n",
       "    </tr>\n",
       "  </tbody>\n",
       "</table>\n",
       "</div>"
      ],
      "text/plain": [
       "   customerID InternetService OnlineSecurity OnlineBackup DeviceProtection  \\\n",
       "0  7590-VHVEG             DSL             No          Yes               No   \n",
       "1  5575-GNVDE             DSL            Yes           No              Yes   \n",
       "2  3668-QPYBK             DSL            Yes          Yes               No   \n",
       "3  7795-CFOCW             DSL            Yes           No              Yes   \n",
       "4  9237-HQITU     Fiber optic             No           No               No   \n",
       "\n",
       "  TechSupport StreamingTV StreamingMovies  \n",
       "0          No          No              No  \n",
       "1          No          No              No  \n",
       "2          No          No              No  \n",
       "3         Yes          No              No  \n",
       "4          No          No              No  "
      ]
     },
     "metadata": {},
     "output_type": "display_data"
    },
    {
     "data": {
      "text/html": [
       "<div>\n",
       "<style scoped>\n",
       "    .dataframe tbody tr th:only-of-type {\n",
       "        vertical-align: middle;\n",
       "    }\n",
       "\n",
       "    .dataframe tbody tr th {\n",
       "        vertical-align: top;\n",
       "    }\n",
       "\n",
       "    .dataframe thead th {\n",
       "        text-align: right;\n",
       "    }\n",
       "</style>\n",
       "<table border=\"1\" class=\"dataframe\">\n",
       "  <thead>\n",
       "    <tr style=\"text-align: right;\">\n",
       "      <th></th>\n",
       "      <th>customerID</th>\n",
       "      <th>MultipleLines</th>\n",
       "    </tr>\n",
       "  </thead>\n",
       "  <tbody>\n",
       "    <tr>\n",
       "      <td>0</td>\n",
       "      <td>5575-GNVDE</td>\n",
       "      <td>No</td>\n",
       "    </tr>\n",
       "    <tr>\n",
       "      <td>1</td>\n",
       "      <td>3668-QPYBK</td>\n",
       "      <td>No</td>\n",
       "    </tr>\n",
       "    <tr>\n",
       "      <td>2</td>\n",
       "      <td>9237-HQITU</td>\n",
       "      <td>No</td>\n",
       "    </tr>\n",
       "    <tr>\n",
       "      <td>3</td>\n",
       "      <td>9305-CDSKC</td>\n",
       "      <td>Yes</td>\n",
       "    </tr>\n",
       "    <tr>\n",
       "      <td>4</td>\n",
       "      <td>1452-KIOVK</td>\n",
       "      <td>Yes</td>\n",
       "    </tr>\n",
       "  </tbody>\n",
       "</table>\n",
       "</div>"
      ],
      "text/plain": [
       "   customerID MultipleLines\n",
       "0  5575-GNVDE            No\n",
       "1  3668-QPYBK            No\n",
       "2  9237-HQITU            No\n",
       "3  9305-CDSKC           Yes\n",
       "4  1452-KIOVK           Yes"
      ]
     },
     "execution_count": 4,
     "metadata": {},
     "output_type": "execute_result"
    }
   ],
   "source": [
    "display(contract.head())\n",
    "display(personal.head())\n",
    "display(internet.head())\n",
    "phone.head()"
   ]
  },
  {
   "cell_type": "markdown",
   "metadata": {},
   "source": [
    "# Preprocess Contract Data"
   ]
  },
  {
   "cell_type": "code",
   "execution_count": 5,
   "metadata": {},
   "outputs": [
    {
     "data": {
      "text/plain": [
       "'2020-02-01'"
      ]
     },
     "execution_count": 5,
     "metadata": {},
     "output_type": "execute_result"
    }
   ],
   "source": [
    "contract['BeginDate'].max()"
   ]
  },
  {
   "cell_type": "code",
   "execution_count": 6,
   "metadata": {
    "scrolled": true
   },
   "outputs": [
    {
     "data": {
      "text/plain": [
       "'2020-01-01 00:00:00'"
      ]
     },
     "execution_count": 6,
     "metadata": {},
     "output_type": "execute_result"
    }
   ],
   "source": [
    "contract[contract['EndDate']!=\"No\"]['EndDate'].max()"
   ]
  },
  {
   "cell_type": "code",
   "execution_count": 7,
   "metadata": {
    "scrolled": true
   },
   "outputs": [
    {
     "name": "stdout",
     "output_type": "stream",
     "text": [
      "<class 'pandas.core.frame.DataFrame'>\n",
      "RangeIndex: 7043 entries, 0 to 7042\n",
      "Data columns (total 8 columns):\n",
      "customerID          7043 non-null object\n",
      "BeginDate           7043 non-null object\n",
      "EndDate             7043 non-null object\n",
      "Type                7043 non-null object\n",
      "PaperlessBilling    7043 non-null object\n",
      "PaymentMethod       7043 non-null object\n",
      "MonthlyCharges      7043 non-null float64\n",
      "TotalCharges        7043 non-null object\n",
      "dtypes: float64(1), object(7)\n",
      "memory usage: 440.3+ KB\n"
     ]
    }
   ],
   "source": [
    "# Let's run .info() to see columns types.\n",
    "contract.info()"
   ]
  },
  {
   "cell_type": "markdown",
   "metadata": {},
   "source": [
    "### Create Column End_Date_Mod"
   ]
  },
  {
   "cell_type": "code",
   "execution_count": 8,
   "metadata": {
    "scrolled": false
   },
   "outputs": [
    {
     "data": {
      "text/html": [
       "<div>\n",
       "<style scoped>\n",
       "    .dataframe tbody tr th:only-of-type {\n",
       "        vertical-align: middle;\n",
       "    }\n",
       "\n",
       "    .dataframe tbody tr th {\n",
       "        vertical-align: top;\n",
       "    }\n",
       "\n",
       "    .dataframe thead th {\n",
       "        text-align: right;\n",
       "    }\n",
       "</style>\n",
       "<table border=\"1\" class=\"dataframe\">\n",
       "  <thead>\n",
       "    <tr style=\"text-align: right;\">\n",
       "      <th></th>\n",
       "      <th>customerID</th>\n",
       "      <th>BeginDate</th>\n",
       "      <th>EndDate</th>\n",
       "      <th>Type</th>\n",
       "      <th>PaperlessBilling</th>\n",
       "      <th>PaymentMethod</th>\n",
       "      <th>MonthlyCharges</th>\n",
       "      <th>TotalCharges</th>\n",
       "      <th>End_Date_Mod</th>\n",
       "    </tr>\n",
       "  </thead>\n",
       "  <tbody>\n",
       "    <tr>\n",
       "      <td>0</td>\n",
       "      <td>7590-VHVEG</td>\n",
       "      <td>2020-01-01</td>\n",
       "      <td>No</td>\n",
       "      <td>Month-to-month</td>\n",
       "      <td>Yes</td>\n",
       "      <td>Electronic check</td>\n",
       "      <td>29.85</td>\n",
       "      <td>29.85</td>\n",
       "      <td>2020-02-01</td>\n",
       "    </tr>\n",
       "    <tr>\n",
       "      <td>1</td>\n",
       "      <td>5575-GNVDE</td>\n",
       "      <td>2017-04-01</td>\n",
       "      <td>No</td>\n",
       "      <td>One year</td>\n",
       "      <td>No</td>\n",
       "      <td>Mailed check</td>\n",
       "      <td>56.95</td>\n",
       "      <td>1889.5</td>\n",
       "      <td>2020-02-01</td>\n",
       "    </tr>\n",
       "    <tr>\n",
       "      <td>2</td>\n",
       "      <td>3668-QPYBK</td>\n",
       "      <td>2019-10-01</td>\n",
       "      <td>2019-12-01 00:00:00</td>\n",
       "      <td>Month-to-month</td>\n",
       "      <td>Yes</td>\n",
       "      <td>Mailed check</td>\n",
       "      <td>53.85</td>\n",
       "      <td>108.15</td>\n",
       "      <td>2019-12-01 00:00:00</td>\n",
       "    </tr>\n",
       "    <tr>\n",
       "      <td>3</td>\n",
       "      <td>7795-CFOCW</td>\n",
       "      <td>2016-05-01</td>\n",
       "      <td>No</td>\n",
       "      <td>One year</td>\n",
       "      <td>No</td>\n",
       "      <td>Bank transfer (automatic)</td>\n",
       "      <td>42.30</td>\n",
       "      <td>1840.75</td>\n",
       "      <td>2020-02-01</td>\n",
       "    </tr>\n",
       "    <tr>\n",
       "      <td>4</td>\n",
       "      <td>9237-HQITU</td>\n",
       "      <td>2019-09-01</td>\n",
       "      <td>2019-11-01 00:00:00</td>\n",
       "      <td>Month-to-month</td>\n",
       "      <td>Yes</td>\n",
       "      <td>Electronic check</td>\n",
       "      <td>70.70</td>\n",
       "      <td>151.65</td>\n",
       "      <td>2019-11-01 00:00:00</td>\n",
       "    </tr>\n",
       "    <tr>\n",
       "      <td>...</td>\n",
       "      <td>...</td>\n",
       "      <td>...</td>\n",
       "      <td>...</td>\n",
       "      <td>...</td>\n",
       "      <td>...</td>\n",
       "      <td>...</td>\n",
       "      <td>...</td>\n",
       "      <td>...</td>\n",
       "      <td>...</td>\n",
       "    </tr>\n",
       "    <tr>\n",
       "      <td>7038</td>\n",
       "      <td>6840-RESVB</td>\n",
       "      <td>2018-02-01</td>\n",
       "      <td>No</td>\n",
       "      <td>One year</td>\n",
       "      <td>Yes</td>\n",
       "      <td>Mailed check</td>\n",
       "      <td>84.80</td>\n",
       "      <td>1990.5</td>\n",
       "      <td>2020-02-01</td>\n",
       "    </tr>\n",
       "    <tr>\n",
       "      <td>7039</td>\n",
       "      <td>2234-XADUH</td>\n",
       "      <td>2014-02-01</td>\n",
       "      <td>No</td>\n",
       "      <td>One year</td>\n",
       "      <td>Yes</td>\n",
       "      <td>Credit card (automatic)</td>\n",
       "      <td>103.20</td>\n",
       "      <td>7362.9</td>\n",
       "      <td>2020-02-01</td>\n",
       "    </tr>\n",
       "    <tr>\n",
       "      <td>7040</td>\n",
       "      <td>4801-JZAZL</td>\n",
       "      <td>2019-03-01</td>\n",
       "      <td>No</td>\n",
       "      <td>Month-to-month</td>\n",
       "      <td>Yes</td>\n",
       "      <td>Electronic check</td>\n",
       "      <td>29.60</td>\n",
       "      <td>346.45</td>\n",
       "      <td>2020-02-01</td>\n",
       "    </tr>\n",
       "    <tr>\n",
       "      <td>7041</td>\n",
       "      <td>8361-LTMKD</td>\n",
       "      <td>2019-07-01</td>\n",
       "      <td>2019-11-01 00:00:00</td>\n",
       "      <td>Month-to-month</td>\n",
       "      <td>Yes</td>\n",
       "      <td>Mailed check</td>\n",
       "      <td>74.40</td>\n",
       "      <td>306.6</td>\n",
       "      <td>2019-11-01 00:00:00</td>\n",
       "    </tr>\n",
       "    <tr>\n",
       "      <td>7042</td>\n",
       "      <td>3186-AJIEK</td>\n",
       "      <td>2014-08-01</td>\n",
       "      <td>No</td>\n",
       "      <td>Two year</td>\n",
       "      <td>Yes</td>\n",
       "      <td>Bank transfer (automatic)</td>\n",
       "      <td>105.65</td>\n",
       "      <td>6844.5</td>\n",
       "      <td>2020-02-01</td>\n",
       "    </tr>\n",
       "  </tbody>\n",
       "</table>\n",
       "<p>7043 rows × 9 columns</p>\n",
       "</div>"
      ],
      "text/plain": [
       "      customerID   BeginDate              EndDate            Type  \\\n",
       "0     7590-VHVEG  2020-01-01                   No  Month-to-month   \n",
       "1     5575-GNVDE  2017-04-01                   No        One year   \n",
       "2     3668-QPYBK  2019-10-01  2019-12-01 00:00:00  Month-to-month   \n",
       "3     7795-CFOCW  2016-05-01                   No        One year   \n",
       "4     9237-HQITU  2019-09-01  2019-11-01 00:00:00  Month-to-month   \n",
       "...          ...         ...                  ...             ...   \n",
       "7038  6840-RESVB  2018-02-01                   No        One year   \n",
       "7039  2234-XADUH  2014-02-01                   No        One year   \n",
       "7040  4801-JZAZL  2019-03-01                   No  Month-to-month   \n",
       "7041  8361-LTMKD  2019-07-01  2019-11-01 00:00:00  Month-to-month   \n",
       "7042  3186-AJIEK  2014-08-01                   No        Two year   \n",
       "\n",
       "     PaperlessBilling              PaymentMethod  MonthlyCharges TotalCharges  \\\n",
       "0                 Yes           Electronic check           29.85        29.85   \n",
       "1                  No               Mailed check           56.95       1889.5   \n",
       "2                 Yes               Mailed check           53.85       108.15   \n",
       "3                  No  Bank transfer (automatic)           42.30      1840.75   \n",
       "4                 Yes           Electronic check           70.70       151.65   \n",
       "...               ...                        ...             ...          ...   \n",
       "7038              Yes               Mailed check           84.80       1990.5   \n",
       "7039              Yes    Credit card (automatic)          103.20       7362.9   \n",
       "7040              Yes           Electronic check           29.60       346.45   \n",
       "7041              Yes               Mailed check           74.40        306.6   \n",
       "7042              Yes  Bank transfer (automatic)          105.65       6844.5   \n",
       "\n",
       "             End_Date_Mod  \n",
       "0              2020-02-01  \n",
       "1              2020-02-01  \n",
       "2     2019-12-01 00:00:00  \n",
       "3              2020-02-01  \n",
       "4     2019-11-01 00:00:00  \n",
       "...                   ...  \n",
       "7038           2020-02-01  \n",
       "7039           2020-02-01  \n",
       "7040           2020-02-01  \n",
       "7041  2019-11-01 00:00:00  \n",
       "7042           2020-02-01  \n",
       "\n",
       "[7043 rows x 9 columns]"
      ]
     },
     "execution_count": 8,
     "metadata": {},
     "output_type": "execute_result"
    }
   ],
   "source": [
    "contract['End_Date_Mod'] = contract['EndDate']\n",
    "contract.loc[contract['End_Date_Mod'] == 'No', 'End_Date_Mod'] = '2020-02-01'\n",
    "\n",
    "contract"
   ]
  },
  {
   "cell_type": "code",
   "execution_count": 9,
   "metadata": {},
   "outputs": [
    {
     "data": {
      "text/plain": [
       "str"
      ]
     },
     "metadata": {},
     "output_type": "display_data"
    },
    {
     "name": "stdout",
     "output_type": "stream",
     "text": [
      "<class 'pandas.core.frame.DataFrame'>\n",
      "RangeIndex: 7043 entries, 0 to 7042\n",
      "Data columns (total 9 columns):\n",
      "customerID          7043 non-null object\n",
      "BeginDate           7043 non-null datetime64[ns]\n",
      "EndDate             7043 non-null object\n",
      "Type                7043 non-null object\n",
      "PaperlessBilling    7043 non-null object\n",
      "PaymentMethod       7043 non-null object\n",
      "MonthlyCharges      7043 non-null float64\n",
      "TotalCharges        7043 non-null object\n",
      "End_Date_Mod        7043 non-null datetime64[ns]\n",
      "dtypes: datetime64[ns](2), float64(1), object(6)\n",
      "memory usage: 495.3+ KB\n"
     ]
    }
   ],
   "source": [
    "# Lets Convert dates to datetime format\n",
    "contract['BeginDate']= pd.to_datetime(contract['BeginDate'], format='%Y-%m-%d')\n",
    "\n",
    "contract['End_Date_Mod'] = pd.to_datetime(contract['End_Date_Mod'], errors= 'ignore', format='%Y-%m-%d %H:%M:%S')\n",
    "\n",
    "display(type(contract.iloc[2,2]))\n",
    "\n",
    "contract.info()"
   ]
  },
  {
   "cell_type": "code",
   "execution_count": null,
   "metadata": {},
   "outputs": [],
   "source": []
  },
  {
   "cell_type": "markdown",
   "metadata": {},
   "source": [
    "- We create a new column \"End_Date_Mod\" that displays the current date for people still enrolled."
   ]
  },
  {
   "cell_type": "markdown",
   "metadata": {},
   "source": [
    "### Add duration column"
   ]
  },
  {
   "cell_type": "code",
   "execution_count": 10,
   "metadata": {
    "scrolled": true
   },
   "outputs": [
    {
     "data": {
      "text/html": [
       "<div>\n",
       "<style scoped>\n",
       "    .dataframe tbody tr th:only-of-type {\n",
       "        vertical-align: middle;\n",
       "    }\n",
       "\n",
       "    .dataframe tbody tr th {\n",
       "        vertical-align: top;\n",
       "    }\n",
       "\n",
       "    .dataframe thead th {\n",
       "        text-align: right;\n",
       "    }\n",
       "</style>\n",
       "<table border=\"1\" class=\"dataframe\">\n",
       "  <thead>\n",
       "    <tr style=\"text-align: right;\">\n",
       "      <th></th>\n",
       "      <th>customerID</th>\n",
       "      <th>BeginDate</th>\n",
       "      <th>EndDate</th>\n",
       "      <th>Type</th>\n",
       "      <th>PaperlessBilling</th>\n",
       "      <th>PaymentMethod</th>\n",
       "      <th>MonthlyCharges</th>\n",
       "      <th>TotalCharges</th>\n",
       "      <th>End_Date_Mod</th>\n",
       "      <th>Duration</th>\n",
       "    </tr>\n",
       "  </thead>\n",
       "  <tbody>\n",
       "    <tr>\n",
       "      <td>0</td>\n",
       "      <td>7590-VHVEG</td>\n",
       "      <td>2020-01-01</td>\n",
       "      <td>No</td>\n",
       "      <td>Month-to-month</td>\n",
       "      <td>Yes</td>\n",
       "      <td>Electronic check</td>\n",
       "      <td>29.85</td>\n",
       "      <td>29.85</td>\n",
       "      <td>2020-02-01</td>\n",
       "      <td>31</td>\n",
       "    </tr>\n",
       "    <tr>\n",
       "      <td>1</td>\n",
       "      <td>5575-GNVDE</td>\n",
       "      <td>2017-04-01</td>\n",
       "      <td>No</td>\n",
       "      <td>One year</td>\n",
       "      <td>No</td>\n",
       "      <td>Mailed check</td>\n",
       "      <td>56.95</td>\n",
       "      <td>1889.5</td>\n",
       "      <td>2020-02-01</td>\n",
       "      <td>1036</td>\n",
       "    </tr>\n",
       "    <tr>\n",
       "      <td>2</td>\n",
       "      <td>3668-QPYBK</td>\n",
       "      <td>2019-10-01</td>\n",
       "      <td>2019-12-01 00:00:00</td>\n",
       "      <td>Month-to-month</td>\n",
       "      <td>Yes</td>\n",
       "      <td>Mailed check</td>\n",
       "      <td>53.85</td>\n",
       "      <td>108.15</td>\n",
       "      <td>2019-12-01</td>\n",
       "      <td>61</td>\n",
       "    </tr>\n",
       "    <tr>\n",
       "      <td>3</td>\n",
       "      <td>7795-CFOCW</td>\n",
       "      <td>2016-05-01</td>\n",
       "      <td>No</td>\n",
       "      <td>One year</td>\n",
       "      <td>No</td>\n",
       "      <td>Bank transfer (automatic)</td>\n",
       "      <td>42.30</td>\n",
       "      <td>1840.75</td>\n",
       "      <td>2020-02-01</td>\n",
       "      <td>1371</td>\n",
       "    </tr>\n",
       "    <tr>\n",
       "      <td>4</td>\n",
       "      <td>9237-HQITU</td>\n",
       "      <td>2019-09-01</td>\n",
       "      <td>2019-11-01 00:00:00</td>\n",
       "      <td>Month-to-month</td>\n",
       "      <td>Yes</td>\n",
       "      <td>Electronic check</td>\n",
       "      <td>70.70</td>\n",
       "      <td>151.65</td>\n",
       "      <td>2019-11-01</td>\n",
       "      <td>61</td>\n",
       "    </tr>\n",
       "  </tbody>\n",
       "</table>\n",
       "</div>"
      ],
      "text/plain": [
       "   customerID  BeginDate              EndDate            Type  \\\n",
       "0  7590-VHVEG 2020-01-01                   No  Month-to-month   \n",
       "1  5575-GNVDE 2017-04-01                   No        One year   \n",
       "2  3668-QPYBK 2019-10-01  2019-12-01 00:00:00  Month-to-month   \n",
       "3  7795-CFOCW 2016-05-01                   No        One year   \n",
       "4  9237-HQITU 2019-09-01  2019-11-01 00:00:00  Month-to-month   \n",
       "\n",
       "  PaperlessBilling              PaymentMethod  MonthlyCharges TotalCharges  \\\n",
       "0              Yes           Electronic check           29.85        29.85   \n",
       "1               No               Mailed check           56.95       1889.5   \n",
       "2              Yes               Mailed check           53.85       108.15   \n",
       "3               No  Bank transfer (automatic)           42.30      1840.75   \n",
       "4              Yes           Electronic check           70.70       151.65   \n",
       "\n",
       "  End_Date_Mod  Duration  \n",
       "0   2020-02-01        31  \n",
       "1   2020-02-01      1036  \n",
       "2   2019-12-01        61  \n",
       "3   2020-02-01      1371  \n",
       "4   2019-11-01        61  "
      ]
     },
     "execution_count": 10,
     "metadata": {},
     "output_type": "execute_result"
    }
   ],
   "source": [
    "contract['Duration'] = contract['End_Date_Mod'] - contract['BeginDate']\n",
    "contract['Duration'] = contract['Duration'].dt.days\n",
    "contract.head()"
   ]
  },
  {
   "cell_type": "code",
   "execution_count": 11,
   "metadata": {},
   "outputs": [
    {
     "data": {
      "text/plain": [
       "0"
      ]
     },
     "execution_count": 11,
     "metadata": {},
     "output_type": "execute_result"
    }
   ],
   "source": [
    "contract['TotalCharges'].isna().sum()"
   ]
  },
  {
   "cell_type": "markdown",
   "metadata": {},
   "source": [
    "## Histograms"
   ]
  },
  {
   "cell_type": "markdown",
   "metadata": {},
   "source": [
    "### Monthly Charges"
   ]
  },
  {
   "cell_type": "code",
   "execution_count": 12,
   "metadata": {
    "scrolled": true
   },
   "outputs": [
    {
     "data": {
      "text/plain": [
       "Text(0.5, 1.0, 'Monthly Charges')"
      ]
     },
     "execution_count": 12,
     "metadata": {},
     "output_type": "execute_result"
    },
    {
     "data": {
      "image/png": "[encoded data removed]",
      "text/plain": [
       "<Figure size 432x288 with 1 Axes>"
      ]
     },
     "metadata": {
      "needs_background": "light"
     },
     "output_type": "display_data"
    }
   ],
   "source": [
    "contract['MonthlyCharges'].hist(bins=20)\n",
    "plt.title('Monthly Charges')\n",
    "\n"
   ]
  },
  {
   "cell_type": "markdown",
   "metadata": {},
   "source": [
    "### Total Charges"
   ]
  },
  {
   "cell_type": "code",
   "execution_count": 13,
   "metadata": {},
   "outputs": [],
   "source": [
    "# Convert column from object to float64\n",
    "\n",
    "contract['TotalCharges'] = pd.to_numeric(contract['TotalCharges'], errors='coerce')\n",
    "\n",
    "contract['TotalCharges'] = contract['TotalCharges'].fillna(contract['TotalCharges'].mean())"
   ]
  },
  {
   "cell_type": "code",
   "execution_count": 14,
   "metadata": {},
   "outputs": [
    {
     "data": {
      "text/plain": [
       "<matplotlib.axes._subplots.AxesSubplot at 0x7f4f4106be90>"
      ]
     },
     "execution_count": 14,
     "metadata": {},
     "output_type": "execute_result"
    },
    {
     "data": {
      "image/png": "[encoded data removed]",
      "text/plain": [
       "<Figure size 432x288 with 1 Axes>"
      ]
     },
     "metadata": {
      "needs_background": "light"
     },
     "output_type": "display_data"
    }
   ],
   "source": [
    "contract['TotalCharges'].hist(bins=50)\n"
   ]
  },
  {
   "cell_type": "markdown",
   "metadata": {},
   "source": [
    "# Join Data Using Customer ID"
   ]
  },
  {
   "cell_type": "code",
   "execution_count": 15,
   "metadata": {},
   "outputs": [
    {
     "name": "stdout",
     "output_type": "stream",
     "text": [
      "Contract Unique:  7043\n",
      "Personal Unique:  7043\n",
      "Internet Unique:  5517\n",
      "Phone Unique:  6361\n"
     ]
    }
   ],
   "source": [
    "# check to see # of unique customer ids\n",
    "print('Contract Unique: ', contract['customerID'].nunique())\n",
    "print('Personal Unique: ', personal['customerID'].nunique())\n",
    "print('Internet Unique: ', internet['customerID'].nunique())\n",
    "print('Phone Unique: ', phone['customerID'].nunique())"
   ]
  },
  {
   "cell_type": "code",
   "execution_count": 16,
   "metadata": {},
   "outputs": [],
   "source": [
    "complete_data = contract.merge(internet, on='customerID', how='outer')\n",
    "complete_data = complete_data.merge(personal, on='customerID', how='outer')\n",
    "complete_data = complete_data.merge(phone, on='customerID', how='outer')\n"
   ]
  },
  {
   "cell_type": "code",
   "execution_count": 17,
   "metadata": {},
   "outputs": [
    {
     "name": "stdout",
     "output_type": "stream",
     "text": [
      "<class 'pandas.core.frame.DataFrame'>\n",
      "Int64Index: 7043 entries, 0 to 7042\n",
      "Data columns (total 22 columns):\n",
      "customerID          7043 non-null object\n",
      "BeginDate           7043 non-null datetime64[ns]\n",
      "EndDate             7043 non-null object\n",
      "Type                7043 non-null object\n",
      "PaperlessBilling    7043 non-null object\n",
      "PaymentMethod       7043 non-null object\n",
      "MonthlyCharges      7043 non-null float64\n",
      "TotalCharges        7043 non-null float64\n",
      "End_Date_Mod        7043 non-null datetime64[ns]\n",
      "Duration            7043 non-null int64\n",
      "InternetService     5517 non-null object\n",
      "OnlineSecurity      5517 non-null object\n",
      "OnlineBackup        5517 non-null object\n",
      "DeviceProtection    5517 non-null object\n",
      "TechSupport         5517 non-null object\n",
      "StreamingTV         5517 non-null object\n",
      "StreamingMovies     5517 non-null object\n",
      "gender              7043 non-null object\n",
      "SeniorCitizen       7043 non-null int64\n",
      "Partner             7043 non-null object\n",
      "Dependents          7043 non-null object\n",
      "MultipleLines       6361 non-null object\n",
      "dtypes: datetime64[ns](2), float64(2), int64(2), object(16)\n",
      "memory usage: 1.2+ MB\n"
     ]
    }
   ],
   "source": [
    "complete_data.info()"
   ]
  },
  {
   "cell_type": "code",
   "execution_count": 18,
   "metadata": {},
   "outputs": [
    {
     "data": {
      "text/html": [
       "<div>\n",
       "<style scoped>\n",
       "    .dataframe tbody tr th:only-of-type {\n",
       "        vertical-align: middle;\n",
       "    }\n",
       "\n",
       "    .dataframe tbody tr th {\n",
       "        vertical-align: top;\n",
       "    }\n",
       "\n",
       "    .dataframe thead th {\n",
       "        text-align: right;\n",
       "    }\n",
       "</style>\n",
       "<table border=\"1\" class=\"dataframe\">\n",
       "  <thead>\n",
       "    <tr style=\"text-align: right;\">\n",
       "      <th></th>\n",
       "      <th>customerID</th>\n",
       "      <th>BeginDate</th>\n",
       "      <th>EndDate</th>\n",
       "      <th>Type</th>\n",
       "      <th>PaperlessBilling</th>\n",
       "      <th>PaymentMethod</th>\n",
       "      <th>MonthlyCharges</th>\n",
       "      <th>TotalCharges</th>\n",
       "      <th>End_Date_Mod</th>\n",
       "      <th>Duration</th>\n",
       "      <th>...</th>\n",
       "      <th>DeviceProtection</th>\n",
       "      <th>TechSupport</th>\n",
       "      <th>StreamingTV</th>\n",
       "      <th>StreamingMovies</th>\n",
       "      <th>gender</th>\n",
       "      <th>SeniorCitizen</th>\n",
       "      <th>Partner</th>\n",
       "      <th>Dependents</th>\n",
       "      <th>MultipleLines</th>\n",
       "      <th>active</th>\n",
       "    </tr>\n",
       "  </thead>\n",
       "  <tbody>\n",
       "    <tr>\n",
       "      <td>0</td>\n",
       "      <td>7590-VHVEG</td>\n",
       "      <td>2020-01-01</td>\n",
       "      <td>No</td>\n",
       "      <td>Month-to-month</td>\n",
       "      <td>Yes</td>\n",
       "      <td>Electronic check</td>\n",
       "      <td>29.85</td>\n",
       "      <td>29.85</td>\n",
       "      <td>2020-02-01</td>\n",
       "      <td>31</td>\n",
       "      <td>...</td>\n",
       "      <td>No</td>\n",
       "      <td>No</td>\n",
       "      <td>No</td>\n",
       "      <td>No</td>\n",
       "      <td>Female</td>\n",
       "      <td>0</td>\n",
       "      <td>Yes</td>\n",
       "      <td>No</td>\n",
       "      <td>NaN</td>\n",
       "      <td>0</td>\n",
       "    </tr>\n",
       "    <tr>\n",
       "      <td>1</td>\n",
       "      <td>5575-GNVDE</td>\n",
       "      <td>2017-04-01</td>\n",
       "      <td>No</td>\n",
       "      <td>One year</td>\n",
       "      <td>No</td>\n",
       "      <td>Mailed check</td>\n",
       "      <td>56.95</td>\n",
       "      <td>1889.50</td>\n",
       "      <td>2020-02-01</td>\n",
       "      <td>1036</td>\n",
       "      <td>...</td>\n",
       "      <td>Yes</td>\n",
       "      <td>No</td>\n",
       "      <td>No</td>\n",
       "      <td>No</td>\n",
       "      <td>Male</td>\n",
       "      <td>0</td>\n",
       "      <td>No</td>\n",
       "      <td>No</td>\n",
       "      <td>No</td>\n",
       "      <td>0</td>\n",
       "    </tr>\n",
       "    <tr>\n",
       "      <td>2</td>\n",
       "      <td>3668-QPYBK</td>\n",
       "      <td>2019-10-01</td>\n",
       "      <td>2019-12-01 00:00:00</td>\n",
       "      <td>Month-to-month</td>\n",
       "      <td>Yes</td>\n",
       "      <td>Mailed check</td>\n",
       "      <td>53.85</td>\n",
       "      <td>108.15</td>\n",
       "      <td>2019-12-01</td>\n",
       "      <td>61</td>\n",
       "      <td>...</td>\n",
       "      <td>No</td>\n",
       "      <td>No</td>\n",
       "      <td>No</td>\n",
       "      <td>No</td>\n",
       "      <td>Male</td>\n",
       "      <td>0</td>\n",
       "      <td>No</td>\n",
       "      <td>No</td>\n",
       "      <td>No</td>\n",
       "      <td>1</td>\n",
       "    </tr>\n",
       "    <tr>\n",
       "      <td>3</td>\n",
       "      <td>7795-CFOCW</td>\n",
       "      <td>2016-05-01</td>\n",
       "      <td>No</td>\n",
       "      <td>One year</td>\n",
       "      <td>No</td>\n",
       "      <td>Bank transfer (automatic)</td>\n",
       "      <td>42.30</td>\n",
       "      <td>1840.75</td>\n",
       "      <td>2020-02-01</td>\n",
       "      <td>1371</td>\n",
       "      <td>...</td>\n",
       "      <td>Yes</td>\n",
       "      <td>Yes</td>\n",
       "      <td>No</td>\n",
       "      <td>No</td>\n",
       "      <td>Male</td>\n",
       "      <td>0</td>\n",
       "      <td>No</td>\n",
       "      <td>No</td>\n",
       "      <td>NaN</td>\n",
       "      <td>0</td>\n",
       "    </tr>\n",
       "    <tr>\n",
       "      <td>4</td>\n",
       "      <td>9237-HQITU</td>\n",
       "      <td>2019-09-01</td>\n",
       "      <td>2019-11-01 00:00:00</td>\n",
       "      <td>Month-to-month</td>\n",
       "      <td>Yes</td>\n",
       "      <td>Electronic check</td>\n",
       "      <td>70.70</td>\n",
       "      <td>151.65</td>\n",
       "      <td>2019-11-01</td>\n",
       "      <td>61</td>\n",
       "      <td>...</td>\n",
       "      <td>No</td>\n",
       "      <td>No</td>\n",
       "      <td>No</td>\n",
       "      <td>No</td>\n",
       "      <td>Female</td>\n",
       "      <td>0</td>\n",
       "      <td>No</td>\n",
       "      <td>No</td>\n",
       "      <td>No</td>\n",
       "      <td>1</td>\n",
       "    </tr>\n",
       "    <tr>\n",
       "      <td>...</td>\n",
       "      <td>...</td>\n",
       "      <td>...</td>\n",
       "      <td>...</td>\n",
       "      <td>...</td>\n",
       "      <td>...</td>\n",
       "      <td>...</td>\n",
       "      <td>...</td>\n",
       "      <td>...</td>\n",
       "      <td>...</td>\n",
       "      <td>...</td>\n",
       "      <td>...</td>\n",
       "      <td>...</td>\n",
       "      <td>...</td>\n",
       "      <td>...</td>\n",
       "      <td>...</td>\n",
       "      <td>...</td>\n",
       "      <td>...</td>\n",
       "      <td>...</td>\n",
       "      <td>...</td>\n",
       "      <td>...</td>\n",
       "      <td>...</td>\n",
       "    </tr>\n",
       "    <tr>\n",
       "      <td>7038</td>\n",
       "      <td>6840-RESVB</td>\n",
       "      <td>2018-02-01</td>\n",
       "      <td>No</td>\n",
       "      <td>One year</td>\n",
       "      <td>Yes</td>\n",
       "      <td>Mailed check</td>\n",
       "      <td>84.80</td>\n",
       "      <td>1990.50</td>\n",
       "      <td>2020-02-01</td>\n",
       "      <td>730</td>\n",
       "      <td>...</td>\n",
       "      <td>Yes</td>\n",
       "      <td>Yes</td>\n",
       "      <td>Yes</td>\n",
       "      <td>Yes</td>\n",
       "      <td>Male</td>\n",
       "      <td>0</td>\n",
       "      <td>Yes</td>\n",
       "      <td>Yes</td>\n",
       "      <td>Yes</td>\n",
       "      <td>0</td>\n",
       "    </tr>\n",
       "    <tr>\n",
       "      <td>7039</td>\n",
       "      <td>2234-XADUH</td>\n",
       "      <td>2014-02-01</td>\n",
       "      <td>No</td>\n",
       "      <td>One year</td>\n",
       "      <td>Yes</td>\n",
       "      <td>Credit card (automatic)</td>\n",
       "      <td>103.20</td>\n",
       "      <td>7362.90</td>\n",
       "      <td>2020-02-01</td>\n",
       "      <td>2191</td>\n",
       "      <td>...</td>\n",
       "      <td>Yes</td>\n",
       "      <td>No</td>\n",
       "      <td>Yes</td>\n",
       "      <td>Yes</td>\n",
       "      <td>Female</td>\n",
       "      <td>0</td>\n",
       "      <td>Yes</td>\n",
       "      <td>Yes</td>\n",
       "      <td>Yes</td>\n",
       "      <td>0</td>\n",
       "    </tr>\n",
       "    <tr>\n",
       "      <td>7040</td>\n",
       "      <td>4801-JZAZL</td>\n",
       "      <td>2019-03-01</td>\n",
       "      <td>No</td>\n",
       "      <td>Month-to-month</td>\n",
       "      <td>Yes</td>\n",
       "      <td>Electronic check</td>\n",
       "      <td>29.60</td>\n",
       "      <td>346.45</td>\n",
       "      <td>2020-02-01</td>\n",
       "      <td>337</td>\n",
       "      <td>...</td>\n",
       "      <td>No</td>\n",
       "      <td>No</td>\n",
       "      <td>No</td>\n",
       "      <td>No</td>\n",
       "      <td>Female</td>\n",
       "      <td>0</td>\n",
       "      <td>Yes</td>\n",
       "      <td>Yes</td>\n",
       "      <td>NaN</td>\n",
       "      <td>0</td>\n",
       "    </tr>\n",
       "    <tr>\n",
       "      <td>7041</td>\n",
       "      <td>8361-LTMKD</td>\n",
       "      <td>2019-07-01</td>\n",
       "      <td>2019-11-01 00:00:00</td>\n",
       "      <td>Month-to-month</td>\n",
       "      <td>Yes</td>\n",
       "      <td>Mailed check</td>\n",
       "      <td>74.40</td>\n",
       "      <td>306.60</td>\n",
       "      <td>2019-11-01</td>\n",
       "      <td>123</td>\n",
       "      <td>...</td>\n",
       "      <td>No</td>\n",
       "      <td>No</td>\n",
       "      <td>No</td>\n",
       "      <td>No</td>\n",
       "      <td>Male</td>\n",
       "      <td>1</td>\n",
       "      <td>Yes</td>\n",
       "      <td>No</td>\n",
       "      <td>Yes</td>\n",
       "      <td>1</td>\n",
       "    </tr>\n",
       "    <tr>\n",
       "      <td>7042</td>\n",
       "      <td>3186-AJIEK</td>\n",
       "      <td>2014-08-01</td>\n",
       "      <td>No</td>\n",
       "      <td>Two year</td>\n",
       "      <td>Yes</td>\n",
       "      <td>Bank transfer (automatic)</td>\n",
       "      <td>105.65</td>\n",
       "      <td>6844.50</td>\n",
       "      <td>2020-02-01</td>\n",
       "      <td>2010</td>\n",
       "      <td>...</td>\n",
       "      <td>Yes</td>\n",
       "      <td>Yes</td>\n",
       "      <td>Yes</td>\n",
       "      <td>Yes</td>\n",
       "      <td>Male</td>\n",
       "      <td>0</td>\n",
       "      <td>No</td>\n",
       "      <td>No</td>\n",
       "      <td>No</td>\n",
       "      <td>0</td>\n",
       "    </tr>\n",
       "  </tbody>\n",
       "</table>\n",
       "<p>7043 rows × 23 columns</p>\n",
       "</div>"
      ],
      "text/plain": [
       "      customerID  BeginDate              EndDate            Type  \\\n",
       "0     7590-VHVEG 2020-01-01                   No  Month-to-month   \n",
       "1     5575-GNVDE 2017-04-01                   No        One year   \n",
       "2     3668-QPYBK 2019-10-01  2019-12-01 00:00:00  Month-to-month   \n",
       "3     7795-CFOCW 2016-05-01                   No        One year   \n",
       "4     9237-HQITU 2019-09-01  2019-11-01 00:00:00  Month-to-month   \n",
       "...          ...        ...                  ...             ...   \n",
       "7038  6840-RESVB 2018-02-01                   No        One year   \n",
       "7039  2234-XADUH 2014-02-01                   No        One year   \n",
       "7040  4801-JZAZL 2019-03-01                   No  Month-to-month   \n",
       "7041  8361-LTMKD 2019-07-01  2019-11-01 00:00:00  Month-to-month   \n",
       "7042  3186-AJIEK 2014-08-01                   No        Two year   \n",
       "\n",
       "     PaperlessBilling              PaymentMethod  MonthlyCharges  \\\n",
       "0                 Yes           Electronic check           29.85   \n",
       "1                  No               Mailed check           56.95   \n",
       "2                 Yes               Mailed check           53.85   \n",
       "3                  No  Bank transfer (automatic)           42.30   \n",
       "4                 Yes           Electronic check           70.70   \n",
       "...               ...                        ...             ...   \n",
       "7038              Yes               Mailed check           84.80   \n",
       "7039              Yes    Credit card (automatic)          103.20   \n",
       "7040              Yes           Electronic check           29.60   \n",
       "7041              Yes               Mailed check           74.40   \n",
       "7042              Yes  Bank transfer (automatic)          105.65   \n",
       "\n",
       "      TotalCharges End_Date_Mod  Duration  ... DeviceProtection TechSupport  \\\n",
       "0            29.85   2020-02-01        31  ...               No          No   \n",
       "1          1889.50   2020-02-01      1036  ...              Yes          No   \n",
       "2           108.15   2019-12-01        61  ...               No          No   \n",
       "3          1840.75   2020-02-01      1371  ...              Yes         Yes   \n",
       "4           151.65   2019-11-01        61  ...               No          No   \n",
       "...            ...          ...       ...  ...              ...         ...   \n",
       "7038       1990.50   2020-02-01       730  ...              Yes         Yes   \n",
       "7039       7362.90   2020-02-01      2191  ...              Yes          No   \n",
       "7040        346.45   2020-02-01       337  ...               No          No   \n",
       "7041        306.60   2019-11-01       123  ...               No          No   \n",
       "7042       6844.50   2020-02-01      2010  ...              Yes         Yes   \n",
       "\n",
       "     StreamingTV StreamingMovies  gender SeniorCitizen Partner Dependents  \\\n",
       "0             No              No  Female             0     Yes         No   \n",
       "1             No              No    Male             0      No         No   \n",
       "2             No              No    Male             0      No         No   \n",
       "3             No              No    Male             0      No         No   \n",
       "4             No              No  Female             0      No         No   \n",
       "...          ...             ...     ...           ...     ...        ...   \n",
       "7038         Yes             Yes    Male             0     Yes        Yes   \n",
       "7039         Yes             Yes  Female             0     Yes        Yes   \n",
       "7040          No              No  Female             0     Yes        Yes   \n",
       "7041          No              No    Male             1     Yes         No   \n",
       "7042         Yes             Yes    Male             0      No         No   \n",
       "\n",
       "      MultipleLines active  \n",
       "0               NaN      0  \n",
       "1                No      0  \n",
       "2                No      1  \n",
       "3               NaN      0  \n",
       "4                No      1  \n",
       "...             ...    ...  \n",
       "7038            Yes      0  \n",
       "7039            Yes      0  \n",
       "7040            NaN      0  \n",
       "7041            Yes      1  \n",
       "7042             No      0  \n",
       "\n",
       "[7043 rows x 23 columns]"
      ]
     },
     "execution_count": 18,
     "metadata": {},
     "output_type": "execute_result"
    }
   ],
   "source": [
    "complete_data['active'] = 1\n",
    "complete_data.loc[complete_data['EndDate'] == 'No', 'active'] = 0\n",
    "complete_data"
   ]
  },
  {
   "cell_type": "code",
   "execution_count": 19,
   "metadata": {},
   "outputs": [],
   "source": [
    "# convert yes/no to binary and fillna with mean\n",
    "\n",
    "#columns = ['PaperlessBilling', 'Partner', 'Dependents', 'OnlineSecurity', 'OnlineBackup', 'DeviceProtection', 'TechSupport', 'StreamingTV', 'StreamingMovies', 'MultipleLines']\n",
    "#for n in columns:\n",
    "#    complete_data.loc[complete_data[n] == 'No', n] = 1\n",
    "#    complete_data.loc[complete_data[n] == 'Yes', n] = 0\n",
    "#    complete_data[n].fillna(complete_data[n].mean(), inplace=True)\n",
    "#    display(complete_data[n].value_counts(dropna=False))"
   ]
  },
  {
   "cell_type": "code",
   "execution_count": 20,
   "metadata": {},
   "outputs": [
    {
     "data": {
      "text/html": [
       "<div>\n",
       "<style scoped>\n",
       "    .dataframe tbody tr th:only-of-type {\n",
       "        vertical-align: middle;\n",
       "    }\n",
       "\n",
       "    .dataframe tbody tr th {\n",
       "        vertical-align: top;\n",
       "    }\n",
       "\n",
       "    .dataframe thead th {\n",
       "        text-align: right;\n",
       "    }\n",
       "</style>\n",
       "<table border=\"1\" class=\"dataframe\">\n",
       "  <thead>\n",
       "    <tr style=\"text-align: right;\">\n",
       "      <th></th>\n",
       "      <th>customerID</th>\n",
       "      <th>BeginDate</th>\n",
       "      <th>EndDate</th>\n",
       "      <th>Type</th>\n",
       "      <th>PaperlessBilling</th>\n",
       "      <th>PaymentMethod</th>\n",
       "      <th>MonthlyCharges</th>\n",
       "      <th>TotalCharges</th>\n",
       "      <th>End_Date_Mod</th>\n",
       "      <th>Duration</th>\n",
       "      <th>...</th>\n",
       "      <th>OnlineBackup</th>\n",
       "      <th>DeviceProtection</th>\n",
       "      <th>TechSupport</th>\n",
       "      <th>StreamingTV</th>\n",
       "      <th>StreamingMovies</th>\n",
       "      <th>gender</th>\n",
       "      <th>SeniorCitizen</th>\n",
       "      <th>Partner</th>\n",
       "      <th>Dependents</th>\n",
       "      <th>MultipleLines</th>\n",
       "    </tr>\n",
       "    <tr>\n",
       "      <th>active</th>\n",
       "      <th></th>\n",
       "      <th></th>\n",
       "      <th></th>\n",
       "      <th></th>\n",
       "      <th></th>\n",
       "      <th></th>\n",
       "      <th></th>\n",
       "      <th></th>\n",
       "      <th></th>\n",
       "      <th></th>\n",
       "      <th></th>\n",
       "      <th></th>\n",
       "      <th></th>\n",
       "      <th></th>\n",
       "      <th></th>\n",
       "      <th></th>\n",
       "      <th></th>\n",
       "      <th></th>\n",
       "      <th></th>\n",
       "      <th></th>\n",
       "      <th></th>\n",
       "    </tr>\n",
       "  </thead>\n",
       "  <tbody>\n",
       "    <tr>\n",
       "      <td>0</td>\n",
       "      <td>5174</td>\n",
       "      <td>5174</td>\n",
       "      <td>5174</td>\n",
       "      <td>5174</td>\n",
       "      <td>5174</td>\n",
       "      <td>5174</td>\n",
       "      <td>5174</td>\n",
       "      <td>5174</td>\n",
       "      <td>5174</td>\n",
       "      <td>5174</td>\n",
       "      <td>...</td>\n",
       "      <td>3761</td>\n",
       "      <td>3761</td>\n",
       "      <td>3761</td>\n",
       "      <td>3761</td>\n",
       "      <td>3761</td>\n",
       "      <td>5174</td>\n",
       "      <td>5174</td>\n",
       "      <td>5174</td>\n",
       "      <td>5174</td>\n",
       "      <td>4662</td>\n",
       "    </tr>\n",
       "    <tr>\n",
       "      <td>1</td>\n",
       "      <td>1869</td>\n",
       "      <td>1869</td>\n",
       "      <td>1869</td>\n",
       "      <td>1869</td>\n",
       "      <td>1869</td>\n",
       "      <td>1869</td>\n",
       "      <td>1869</td>\n",
       "      <td>1869</td>\n",
       "      <td>1869</td>\n",
       "      <td>1869</td>\n",
       "      <td>...</td>\n",
       "      <td>1756</td>\n",
       "      <td>1756</td>\n",
       "      <td>1756</td>\n",
       "      <td>1756</td>\n",
       "      <td>1756</td>\n",
       "      <td>1869</td>\n",
       "      <td>1869</td>\n",
       "      <td>1869</td>\n",
       "      <td>1869</td>\n",
       "      <td>1699</td>\n",
       "    </tr>\n",
       "  </tbody>\n",
       "</table>\n",
       "<p>2 rows × 22 columns</p>\n",
       "</div>"
      ],
      "text/plain": [
       "        customerID  BeginDate  EndDate  Type  PaperlessBilling  PaymentMethod  \\\n",
       "active                                                                          \n",
       "0             5174       5174     5174  5174              5174           5174   \n",
       "1             1869       1869     1869  1869              1869           1869   \n",
       "\n",
       "        MonthlyCharges  TotalCharges  End_Date_Mod  Duration  ...  \\\n",
       "active                                                        ...   \n",
       "0                 5174          5174          5174      5174  ...   \n",
       "1                 1869          1869          1869      1869  ...   \n",
       "\n",
       "        OnlineBackup  DeviceProtection  TechSupport  StreamingTV  \\\n",
       "active                                                             \n",
       "0               3761              3761         3761         3761   \n",
       "1               1756              1756         1756         1756   \n",
       "\n",
       "        StreamingMovies  gender  SeniorCitizen  Partner  Dependents  \\\n",
       "active                                                                \n",
       "0                  3761    5174           5174     5174        5174   \n",
       "1                  1756    1869           1869     1869        1869   \n",
       "\n",
       "        MultipleLines  \n",
       "active                 \n",
       "0                4662  \n",
       "1                1699  \n",
       "\n",
       "[2 rows x 22 columns]"
      ]
     },
     "metadata": {},
     "output_type": "display_data"
    },
    {
     "data": {
      "text/html": [
       "<div>\n",
       "<style scoped>\n",
       "    .dataframe tbody tr th:only-of-type {\n",
       "        vertical-align: middle;\n",
       "    }\n",
       "\n",
       "    .dataframe tbody tr th {\n",
       "        vertical-align: top;\n",
       "    }\n",
       "\n",
       "    .dataframe thead th {\n",
       "        text-align: right;\n",
       "    }\n",
       "</style>\n",
       "<table border=\"1\" class=\"dataframe\">\n",
       "  <thead>\n",
       "    <tr style=\"text-align: right;\">\n",
       "      <th></th>\n",
       "      <th>MonthlyCharges</th>\n",
       "      <th>TotalCharges</th>\n",
       "      <th>Duration</th>\n",
       "      <th>SeniorCitizen</th>\n",
       "    </tr>\n",
       "    <tr>\n",
       "      <th>active</th>\n",
       "      <th></th>\n",
       "      <th></th>\n",
       "      <th></th>\n",
       "      <th></th>\n",
       "    </tr>\n",
       "  </thead>\n",
       "  <tbody>\n",
       "    <tr>\n",
       "      <td>0</td>\n",
       "      <td>61.265124</td>\n",
       "      <td>2554.765772</td>\n",
       "      <td>1144.447236</td>\n",
       "      <td>0.128721</td>\n",
       "    </tr>\n",
       "    <tr>\n",
       "      <td>1</td>\n",
       "      <td>74.441332</td>\n",
       "      <td>1531.796094</td>\n",
       "      <td>547.352060</td>\n",
       "      <td>0.254682</td>\n",
       "    </tr>\n",
       "  </tbody>\n",
       "</table>\n",
       "</div>"
      ],
      "text/plain": [
       "        MonthlyCharges  TotalCharges     Duration  SeniorCitizen\n",
       "active                                                          \n",
       "0            61.265124   2554.765772  1144.447236       0.128721\n",
       "1            74.441332   1531.796094   547.352060       0.254682"
      ]
     },
     "metadata": {},
     "output_type": "display_data"
    },
    {
     "data": {
      "text/html": [
       "<div>\n",
       "<style scoped>\n",
       "    .dataframe tbody tr th:only-of-type {\n",
       "        vertical-align: middle;\n",
       "    }\n",
       "\n",
       "    .dataframe tbody tr th {\n",
       "        vertical-align: top;\n",
       "    }\n",
       "\n",
       "    .dataframe thead th {\n",
       "        text-align: right;\n",
       "    }\n",
       "</style>\n",
       "<table border=\"1\" class=\"dataframe\">\n",
       "  <thead>\n",
       "    <tr style=\"text-align: right;\">\n",
       "      <th></th>\n",
       "      <th>MonthlyCharges</th>\n",
       "      <th>TotalCharges</th>\n",
       "      <th>Duration</th>\n",
       "      <th>SeniorCitizen</th>\n",
       "      <th>active</th>\n",
       "    </tr>\n",
       "  </thead>\n",
       "  <tbody>\n",
       "    <tr>\n",
       "      <td>MonthlyCharges</td>\n",
       "      <td>1.000000</td>\n",
       "      <td>0.650468</td>\n",
       "      <td>0.247754</td>\n",
       "      <td>0.220173</td>\n",
       "      <td>0.193356</td>\n",
       "    </tr>\n",
       "    <tr>\n",
       "      <td>TotalCharges</td>\n",
       "      <td>0.650468</td>\n",
       "      <td>1.000000</td>\n",
       "      <td>0.824686</td>\n",
       "      <td>0.102395</td>\n",
       "      <td>-0.199428</td>\n",
       "    </tr>\n",
       "    <tr>\n",
       "      <td>Duration</td>\n",
       "      <td>0.247754</td>\n",
       "      <td>0.824686</td>\n",
       "      <td>1.000000</td>\n",
       "      <td>0.016514</td>\n",
       "      <td>-0.352673</td>\n",
       "    </tr>\n",
       "    <tr>\n",
       "      <td>SeniorCitizen</td>\n",
       "      <td>0.220173</td>\n",
       "      <td>0.102395</td>\n",
       "      <td>0.016514</td>\n",
       "      <td>1.000000</td>\n",
       "      <td>0.150889</td>\n",
       "    </tr>\n",
       "    <tr>\n",
       "      <td>active</td>\n",
       "      <td>0.193356</td>\n",
       "      <td>-0.199428</td>\n",
       "      <td>-0.352673</td>\n",
       "      <td>0.150889</td>\n",
       "      <td>1.000000</td>\n",
       "    </tr>\n",
       "  </tbody>\n",
       "</table>\n",
       "</div>"
      ],
      "text/plain": [
       "                MonthlyCharges  TotalCharges  Duration  SeniorCitizen  \\\n",
       "MonthlyCharges        1.000000      0.650468  0.247754       0.220173   \n",
       "TotalCharges          0.650468      1.000000  0.824686       0.102395   \n",
       "Duration              0.247754      0.824686  1.000000       0.016514   \n",
       "SeniorCitizen         0.220173      0.102395  0.016514       1.000000   \n",
       "active                0.193356     -0.199428 -0.352673       0.150889   \n",
       "\n",
       "                  active  \n",
       "MonthlyCharges  0.193356  \n",
       "TotalCharges   -0.199428  \n",
       "Duration       -0.352673  \n",
       "SeniorCitizen   0.150889  \n",
       "active          1.000000  "
      ]
     },
     "execution_count": 20,
     "metadata": {},
     "output_type": "execute_result"
    }
   ],
   "source": [
    "display(complete_data.groupby(by='active').count())\n",
    "display(complete_data.groupby(by='active').mean())\n",
    "complete_data.corr()"
   ]
  },
  {
   "cell_type": "code",
   "execution_count": 21,
   "metadata": {},
   "outputs": [
    {
     "data": {
      "text/html": [
       "<div>\n",
       "<style scoped>\n",
       "    .dataframe tbody tr th:only-of-type {\n",
       "        vertical-align: middle;\n",
       "    }\n",
       "\n",
       "    .dataframe tbody tr th {\n",
       "        vertical-align: top;\n",
       "    }\n",
       "\n",
       "    .dataframe thead th {\n",
       "        text-align: right;\n",
       "    }\n",
       "</style>\n",
       "<table border=\"1\" class=\"dataframe\">\n",
       "  <thead>\n",
       "    <tr style=\"text-align: right;\">\n",
       "      <th></th>\n",
       "      <th>customerID</th>\n",
       "      <th>BeginDate</th>\n",
       "      <th>EndDate</th>\n",
       "      <th>Type</th>\n",
       "      <th>PaperlessBilling</th>\n",
       "      <th>PaymentMethod</th>\n",
       "      <th>MonthlyCharges</th>\n",
       "      <th>TotalCharges</th>\n",
       "      <th>End_Date_Mod</th>\n",
       "      <th>Duration</th>\n",
       "      <th>...</th>\n",
       "      <th>DeviceProtection</th>\n",
       "      <th>TechSupport</th>\n",
       "      <th>StreamingTV</th>\n",
       "      <th>StreamingMovies</th>\n",
       "      <th>gender</th>\n",
       "      <th>SeniorCitizen</th>\n",
       "      <th>Partner</th>\n",
       "      <th>Dependents</th>\n",
       "      <th>MultipleLines</th>\n",
       "      <th>active</th>\n",
       "    </tr>\n",
       "  </thead>\n",
       "  <tbody>\n",
       "    <tr>\n",
       "      <td>0</td>\n",
       "      <td>7590-VHVEG</td>\n",
       "      <td>2020-01-01</td>\n",
       "      <td>No</td>\n",
       "      <td>Month-to-month</td>\n",
       "      <td>Yes</td>\n",
       "      <td>Electronic check</td>\n",
       "      <td>29.85</td>\n",
       "      <td>29.85</td>\n",
       "      <td>2020-02-01</td>\n",
       "      <td>31</td>\n",
       "      <td>...</td>\n",
       "      <td>No</td>\n",
       "      <td>No</td>\n",
       "      <td>No</td>\n",
       "      <td>No</td>\n",
       "      <td>Female</td>\n",
       "      <td>0</td>\n",
       "      <td>Yes</td>\n",
       "      <td>No</td>\n",
       "      <td>NaN</td>\n",
       "      <td>0</td>\n",
       "    </tr>\n",
       "    <tr>\n",
       "      <td>1</td>\n",
       "      <td>5575-GNVDE</td>\n",
       "      <td>2017-04-01</td>\n",
       "      <td>No</td>\n",
       "      <td>One year</td>\n",
       "      <td>No</td>\n",
       "      <td>Mailed check</td>\n",
       "      <td>56.95</td>\n",
       "      <td>1889.50</td>\n",
       "      <td>2020-02-01</td>\n",
       "      <td>1036</td>\n",
       "      <td>...</td>\n",
       "      <td>Yes</td>\n",
       "      <td>No</td>\n",
       "      <td>No</td>\n",
       "      <td>No</td>\n",
       "      <td>Male</td>\n",
       "      <td>0</td>\n",
       "      <td>No</td>\n",
       "      <td>No</td>\n",
       "      <td>No</td>\n",
       "      <td>0</td>\n",
       "    </tr>\n",
       "    <tr>\n",
       "      <td>2</td>\n",
       "      <td>3668-QPYBK</td>\n",
       "      <td>2019-10-01</td>\n",
       "      <td>2019-12-01 00:00:00</td>\n",
       "      <td>Month-to-month</td>\n",
       "      <td>Yes</td>\n",
       "      <td>Mailed check</td>\n",
       "      <td>53.85</td>\n",
       "      <td>108.15</td>\n",
       "      <td>2019-12-01</td>\n",
       "      <td>61</td>\n",
       "      <td>...</td>\n",
       "      <td>No</td>\n",
       "      <td>No</td>\n",
       "      <td>No</td>\n",
       "      <td>No</td>\n",
       "      <td>Male</td>\n",
       "      <td>0</td>\n",
       "      <td>No</td>\n",
       "      <td>No</td>\n",
       "      <td>No</td>\n",
       "      <td>1</td>\n",
       "    </tr>\n",
       "    <tr>\n",
       "      <td>3</td>\n",
       "      <td>7795-CFOCW</td>\n",
       "      <td>2016-05-01</td>\n",
       "      <td>No</td>\n",
       "      <td>One year</td>\n",
       "      <td>No</td>\n",
       "      <td>Bank transfer (automatic)</td>\n",
       "      <td>42.30</td>\n",
       "      <td>1840.75</td>\n", 
       "      <td>2020-02-01</td>\n",
       "      <td>1371</td>\n",
       "      <td>...</td>\n",
       "      <td>Yes</td>\n",
       "      <td>Yes</td>\n",
       "      <td>No</td>\n",
       "      <td>No</td>\n",
       "      <td>Male</td>\n",
       "      <td>0</td>\n",
       "      <td>No</td>\n",
       "      <td>No</td>\n",
       "      <td>NaN</td>\n",
       "      <td>0</td>\n",
       "    </tr>\n",
       "    <tr>\n",
       "      <td>4</td>\n",
       "      <td>9237-HQITU</td>\n",
       "      <td>2019-09-01</td>\n",
       "      <td>2019-11-01 00:00:00</td>\n",
       "      <td>Month-to-month</td>\n",
       "      <td>Yes</td>\n",
       "      <td>Electronic check</td>\n",
       "      <td>70.70</td>\n",
       "      <td>151.65</td>\n",
       "      <td>2019-11-01</td>\n",
       "      <td>61</td>\n",
       "      <td>...</td>\n",
       "      <td>No</td>\n",
       "      <td>No</td>\n",
       "      <td>No</td>\n",
       "      <td>No</td>\n",
       "      <td>Female</td>\n",
       "      <td>0</td>\n",
       "      <td>No</td>\n",
       "      <td>No</td>\n",
       "      <td>No</td>\n",
       "      <td>1</td>\n",
       "    </tr>\n",
       "  </tbody>\n",
       "</table>\n",
       "<p>5 rows × 23 columns</p>\n",
       "</div>"
      ],
      "text/plain": [
       "   customerID  BeginDate              EndDate            Type  \\\n",
       "0  7590-VHVEG 2020-01-01                   No  Month-to-month   \n",
       "1  5575-GNVDE 2017-04-01                   No        One year   \n",
       "2  3668-QPYBK 2019-10-01  2019-12-01 00:00:00  Month-to-month   \n",
       "3  7795-CFOCW 2016-05-01                   No        One year   \n",
       "4  9237-HQITU 2019-09-01  2019-11-01 00:00:00  Month-to-month   \n",
       "\n",
       "  PaperlessBilling              PaymentMethod  MonthlyCharges  TotalCharges  \\\n",
       "0              Yes           Electronic check           29.85         29.85   \n",
       "1               No               Mailed check           56.95       1889.50   \n",
       "2              Yes               Mailed check           53.85        108.15   \n",
       "3               No  Bank transfer (automatic)           42.30       1840.75   \n",
       "4              Yes           Electronic check           70.70        151.65   \n",
       "\n",
       "  End_Date_Mod  Duration  ... DeviceProtection TechSupport StreamingTV  \\\n",
       "0   2020-02-01        31  ...               No          No          No   \n",
       "1   2020-02-01      1036  ...              Yes          No          No   \n",
       "2   2019-12-01        61  ...               No          No          No   \n",
       "3   2020-02-01      1371  ...              Yes         Yes          No   \n",
       "4   2019-11-01        61  ...               No          No          No   \n",
       "\n",
       "  StreamingMovies  gender SeniorCitizen Partner Dependents  MultipleLines  \\\n",
       "0              No  Female             0     Yes         No            NaN   \n",
       "1              No    Male             0      No         No             No   \n",
       "2              No    Male             0      No         No             No   \n",
       "3              No    Male             0      No         No            NaN   \n",
       "4              No  Female             0      No         No             No   \n",
       "\n",
       "  active  \n",
       "0      0  \n",
       "1      0  \n",
       "2      1  \n",
       "3      0  \n",
       "4      1  \n",
       "\n",
       "[5 rows x 23 columns]"
      ]
     },
     "execution_count": 21,
     "metadata": {},
     "output_type": "execute_result"
    }
   ],
   "source": [
    "complete_data.head()"
   ]
  },
  {
   "cell_type": "markdown",
   "metadata": {},
   "source": [
    "# Convert Columns to OHE"
   ]
  },
  {
   "cell_type": "code",
   "execution_count": 22,
   "metadata": {},
   "outputs": [
    {
     "name": "stdout",
     "output_type": "stream",
     "text": [
      "<class 'pandas.core.frame.DataFrame'>\n",
      "Int64Index: 7043 entries, 0 to 7042\n",
      "Data columns (total 26 columns):\n",
      "customerID                               7043 non-null object\n",
      "BeginDate                                7043 non-null datetime64[ns]\n",
      "EndDate                                  7043 non-null object\n",
      "MonthlyCharges                           7043 non-null float64\n",
      "TotalCharges                             7043 non-null float64\n",
      "End_Date_Mod                             7043 non-null datetime64[ns]\n",
      "Duration                                 7043 non-null int64\n",
      "SeniorCitizen                            7043 non-null int64\n",
      "active                                   7043 non-null int64\n",
      "PaperlessBilling_Yes                     7043 non-null uint8\n",
      "Partner_Yes                              7043 non-null uint8\n",
      "Dependents_Yes                           7043 non-null uint8\n",
      "OnlineSecurity_Yes                       7043 non-null uint8\n",
      "OnlineBackup_Yes                         7043 non-null uint8\n",
      "DeviceProtection_Yes                     7043 non-null uint8\n",
      "TechSupport_Yes                          7043 non-null uint8\n",
      "StreamingTV_Yes                          7043 non-null uint8\n",
      "StreamingMovies_Yes                      7043 non-null uint8\n",
      "MultipleLines_Yes                        7043 non-null uint8\n",
      "Type_One year                            7043 non-null uint8\n",
      "Type_Two year                            7043 non-null uint8\n",
      "PaymentMethod_Credit card (automatic)    7043 non-null uint8\n",
      "PaymentMethod_Electronic check           7043 non-null uint8\n",
      "PaymentMethod_Mailed check               7043 non-null uint8\n",
      "gender_Male                              7043 non-null uint8\n",
      "InternetService_Fiber optic              7043 non-null uint8\n",
      "dtypes: datetime64[ns](2), float64(2), int64(3), object(2), uint8(17)\n",
      "memory usage: 667.2+ KB\n"
     ]
    }
   ],
   "source": [
    "columns = ['PaperlessBilling', 'Partner', 'Dependents', 'OnlineSecurity',\n",
    "           'OnlineBackup', 'DeviceProtection', 'TechSupport', 'StreamingTV', \n",
    "           'StreamingMovies', 'MultipleLines', 'Type', 'PaymentMethod', \n",
    "           'gender', 'InternetService']\n",
    "complete_data_ohe = pd.get_dummies(complete_data, columns=columns, drop_first=True)\n",
    "\n",
    "complete_data_ohe.info()"
   ]
  },
  {
   "cell_type": "code",
   "execution_count": 23,
   "metadata": {},
   "outputs": [],
   "source": [
    "complete_data_ohe = complete_data_ohe.drop(axis=1, columns=['customerID', 'BeginDate', 'EndDate', 'End_Date_Mod'])"
   ]
  },
  {
   "cell_type": "code",
   "execution_count": 24,
   "metadata": {
    "scrolled": true
   },
   "outputs": [
    {
     "name": "stdout",
     "output_type": "stream",
     "text": [
      "<class 'pandas.core.frame.DataFrame'>\n",
      "Int64Index: 7043 entries, 0 to 7042\n",
      "Data columns (total 22 columns):\n",
      "MonthlyCharges                           7043 non-null float64\n",
      "TotalCharges                             7043 non-null float64\n",
      "Duration                                 7043 non-null int64\n",
      "SeniorCitizen                            7043 non-null int64\n",
      "active                                   7043 non-null int64\n",
      "PaperlessBilling_Yes                     7043 non-null uint8\n",
      "Partner_Yes                              7043 non-null uint8\n",
      "Dependents_Yes                           7043 non-null uint8\n",
      "OnlineSecurity_Yes                       7043 non-null uint8\n",
      "OnlineBackup_Yes                         7043 non-null uint8\n",
      "DeviceProtection_Yes                     7043 non-null uint8\n",
      "TechSupport_Yes                          7043 non-null uint8\n",
      "StreamingTV_Yes                          7043 non-null uint8\n",
      "StreamingMovies_Yes                      7043 non-null uint8\n",
      "MultipleLines_Yes                        7043 non-null uint8\n",
      "Type_One year                            7043 non-null uint8\n",
      "Type_Two year                            7043 non-null uint8\n",
      "PaymentMethod_Credit card (automatic)    7043 non-null uint8\n",
      "PaymentMethod_Electronic check           7043 non-null uint8\n",
      "PaymentMethod_Mailed check               7043 non-null uint8\n",
      "gender_Male                              7043 non-null uint8\n",
      "InternetService_Fiber optic              7043 non-null uint8\n",
      "dtypes: float64(2), int64(3), uint8(17)\n",
      "memory usage: 447.1 KB\n"
     ]
    }
   ],
   "source": [
    "complete_data_ohe.info()"
   ]
  },
  {
   "cell_type": "code",
   "execution_count": 25,
   "metadata": {
    "scrolled": true
   },
   "outputs": [
    {
     "data": {
      "text/html": [
       "<div>\n",
       "<style scoped>\n",
       "    .dataframe tbody tr th:only-of-type {\n",
       "        vertical-align: middle;\n",
       "    }\n",
       "\n",
       "    .dataframe tbody tr th {\n",
       "        vertical-align: top;\n",
       "    }\n",
       "\n",
       "    .dataframe thead th {\n",
       "        text-align: right;\n",
       "    }\n",
       "</style>\n",
       "<table border=\"1\" class=\"dataframe\">\n",
       "  <thead>\n",
       "    <tr style=\"text-align: right;\">\n",
       "      <th></th>\n",
       "      <th>MonthlyCharges</th>\n",
       "      <th>TotalCharges</th>\n",
       "      <th>Duration</th>\n",
       "      <th>SeniorCitizen</th>\n",
       "      <th>active</th>\n",
       "      <th>PaperlessBilling_Yes</th>\n",
       "      <th>Partner_Yes</th>\n",
       "      <th>Dependents_Yes</th>\n",
       "      <th>OnlineSecurity_Yes</th>\n",
       "      <th>OnlineBackup_Yes</th>\n",
       "      <th>...</th>\n",
       "      <th>StreamingTV_Yes</th>\n",
       "      <th>StreamingMovies_Yes</th>\n",
       "      <th>MultipleLines_Yes</th>\n",
       "      <th>Type_One year</th>\n",
       "      <th>Type_Two year</th>\n",
       "      <th>PaymentMethod_Credit card (automatic)</th>\n",
       "      <th>PaymentMethod_Electronic check</th>\n",
       "      <th>PaymentMethod_Mailed check</th>\n",
       "      <th>gender_Male</th>\n",
       "      <th>InternetService_Fiber optic</th>\n",
       "    </tr>\n",
       "  </thead>\n",
       "  <tbody>\n",
       "    <tr>\n",
       "      <td>MonthlyCharges</td>\n",
       "      <td>1.000000</td>\n",
       "      <td>0.650468</td>\n",
       "      <td>0.247754</td>\n",
       "      <td>0.220173</td>\n",
       "      <td>0.193356</td>\n",
       "      <td>0.352150</td>\n",
       "      <td>0.096848</td>\n",
       "      <td>-0.113890</td>\n",
       "      <td>0.296594</td>\n",
       "      <td>0.441780</td>\n",
       "      <td>...</td>\n",
       "      <td>0.629603</td>\n",
       "      <td>0.627429</td>\n",
       "      <td>0.490434</td>\n",
       "      <td>0.004904</td>\n",
       "      <td>-0.074681</td>\n",
       "      <td>0.030550</td>\n",
       "      <td>0.271625</td>\n",
       "      <td>-0.377437</td>\n",
       "      <td>-0.014569</td>\n",
       "      <td>0.787066</td>\n",
       "    </tr>\n",
       "    <tr>\n",
       "      <td>TotalCharges</td>\n",
       "      <td>0.650468</td>\n",
       "      <td>1.000000</td>\n",
       "      <td>0.824686</td>\n",
       "      <td>0.102395</td>\n",
       "      <td>-0.199428</td>\n",
       "      <td>0.157676</td>\n",
       "      <td>0.318812</td>\n",
       "      <td>0.064535</td>\n",
       "      <td>0.412245</td>\n",
       "      <td>0.509692</td>\n",
       "      <td>...</td>\n",
       "      <td>0.515314</td>\n",
       "      <td>0.519574</td>\n",
       "      <td>0.468689</td>\n",
       "      <td>0.170491</td>\n",
       "      <td>0.357224</td>\n",
       "      <td>0.182581</td>\n",
       "      <td>-0.060412</td>\n",
       "      <td>-0.294125</td>\n",
       "      <td>0.000048</td>\n",
       "      <td>0.360547</td>\n",
       "    </tr>\n",
       "    <tr>\n",
       "      <td>Duration</td>\n",
       "      <td>0.247754</td>\n",
       "      <td>0.824686</td>\n",
       "      <td>1.000000</td>\n",
       "      <td>0.016514</td>\n",
       "      <td>-0.352673</td>\n",
       "      <td>0.006059</td>\n",
       "      <td>0.379709</td>\n",
       "      <td>0.159766</td>\n",
       "      <td>0.327203</td>\n",
       "      <td>0.360238</td>\n",
       "      <td>...</td>\n",
       "      <td>0.279657</td>\n",
       "      <td>0.286007</td>\n",
       "      <td>0.331833</td>\n",
       "      <td>0.202650</td>\n",
       "      <td>0.558544</td>\n",
       "      <td>0.233032</td>\n",
       "      <td>-0.208465</td>\n",
       "      <td>-0.233755</td>\n",
       "      <td>0.005111</td>\n",
       "      <td>0.019574</td>\n",
       "    </tr>\n",
       "    <tr>\n",
       "      <td>SeniorCitizen</td>\n",
       "      <td>0.220173</td>\n",
       "      <td>0.102395</td>\n",
       "      <td>0.016514</td>\n",
       "      <td>1.000000</td>\n",
       "      <td>0.150889</td>\n",
       "      <td>0.156530</td>\n",
       "      <td>0.016479</td>\n",
       "      <td>-0.211185</td>\n",
       "      <td>-0.038653</td>\n",
       "      <td>0.066572</td>\n",
       "      <td>...</td>\n",
       "      <td>0.105378</td>\n",
       "      <td>0.120176</td>\n",
       "      <td>0.142948</td>\n",
       "      <td>-0.046262</td>\n",
       "      <td>-0.117000</td>\n",
       "      <td>-0.024135</td>\n",
       "      <td>0.171718</td>\n",
       "      <td>-0.153477</td>\n",
       "      <td>-0.001874</td>\n",
       "      <td>0.255338</td>\n",
       "    </tr>\n",
       "    <tr>\n",
       "      <td>active</td>\n",
       "      <td>0.193356</td>\n",
       "      <td>-0.199428</td>\n",
       "      <td>-0.352673</td>\n",
       "      <td>0.150889</td>\n",
       "      <td>1.000000</td>\n",
       "      <td>0.191825</td>\n",
       "      <td>-0.150448</td>\n",
       "      <td>-0.164221</td>\n",
       "      <td>-0.171226</td>\n",
       "      <td>-0.082255</td>\n",
       "      <td>...</td>\n",
       "      <td>0.063228</td>\n",
       "      <td>0.061382</td>\n",
       "      <td>0.040102</td>\n",
       "      <td>-0.177820</td>\n",
       "      <td>-0.302253</td>\n",
       "      <td>-0.134302</td>\n",
       "      <td>0.301919</td>\n",
       "      <td>-0.091683</td>\n",
       "      <td>-0.008612</td>\n",
       "      <td>0.308020</td>\n",
       "    </tr>\n",
       "    <tr>\n",
       "      <td>PaperlessBilling_Yes</td>\n",
       "      <td>0.352150</td>\n",
       "      <td>0.157676</td>\n",
       "      <td>0.006059</td>\n",
       "      <td>0.156530</td>\n",
       "      <td>0.191825</td>\n",
       "      <td>1.000000</td>\n",
       "      <td>-0.014877</td>\n",
       "      <td>-0.111377</td>\n",
       "      <td>-0.003636</td>\n",
       "      <td>0.126735</td>\n",
       "      <td>...</td>\n",
       "      <td>0.223841</td>\n",
       "      <td>0.211716</td>\n",
       "      <td>0.163530</td>\n",
       "      <td>-0.051391</td>\n",
       "      <td>-0.147889</td>\n",
       "      <td>-0.013589</td>\n",
       "      <td>0.208865</td>\n",
       "      <td>-0.205398</td>\n",
       "      <td>-0.011754</td>\n",
       "      <td>0.326853</td>\n",
       "    </tr>\n",
       "    <tr>\n",
       "      <td>Partner_Yes</td>\n",
       "      <td>0.096848</td>\n",
       "      <td>0.318812</td>\n",
       "      <td>0.379709</td>\n",
       "      <td>0.016479</td>\n",
       "      <td>-0.150448</td>\n",
       "      <td>-0.014877</td>\n",
       "      <td>1.000000</td>\n",
       "      <td>0.452676</td>\n",
       "      <td>0.143106</td>\n",
       "      <td>0.141498</td>\n",
       "      <td>...</td>\n",
       "      <td>0.124666</td>\n",
       "      <td>0.117412</td>\n",
       "      <td>0.142057</td>\n",
       "      <td>0.082783</td>\n",
       "      <td>0.248091</td>\n",
       "      <td>0.082029</td>\n",
       "      <td>-0.083852</td>\n",
       "      <td>-0.095125</td>\n",
       "      <td>-0.001808</td>\n",
       "      <td>0.000304</td>\n",
       "    </tr>\n",
       "    <tr>\n",
       "      <td>Dependents_Yes</td>\n",
       "      <td>-0.113890</td>\n",
       "      <td>0.064535</td>\n",
       "      <td>0.159766</td>\n",
       "      <td>-0.211185</td>\n",
       "      <td>-0.164221</td>\n",
       "      <td>-0.111377</td>\n",
       "      <td>0.452676</td>\n",
       "      <td>1.000000</td>\n",
       "      <td>0.080972</td>\n",
       "      <td>0.023671</td>\n",
       "      <td>...</td>\n",
       "      <td>-0.016558</td>\n",
       "      <td>-0.039741</td>\n",
       "      <td>-0.024526</td>\n",
       "      <td>0.068368</td>\n",
       "      <td>0.204613</td>\n",
       "      <td>0.060267</td>\n",
       "      <td>-0.150642</td>\n",
       "      <td>0.059071</td>\n",
       "      <td>0.010517</td>\n",
       "      <td>-0.165818</td>\n",
       "    </tr>\n",
       "    <tr>\n",
       "      <td>OnlineSecurity_Yes</td>\n",
       "      <td>0.296594</td>\n",
       "      <td>0.412245</td>\n",
       "      <td>0.327203</td>\n",
       "      <td>-0.038653</td>\n",
       "      <td>-0.171226</td>\n",
       "      <td>-0.003636</td>\n",
       "      <td>0.143106</td>\n",
       "      <td>0.080972</td>\n",
       "      <td>1.000000</td>\n",
       "      <td>0.283832</td>\n",
       "      <td>...</td>\n",
       "      <td>0.176207</td>\n",
       "      <td>0.187398</td>\n",
       "      <td>0.098108</td>\n",
       "      <td>0.100162</td>\n",
       "      <td>0.191773</td>\n",
       "      <td>0.115721</td>\n",
       "      <td>-0.112338</td>\n",
       "      <td>-0.080798</td>\n",
       "      <td>-0.017021</td>\n",
       "      <td>-0.030696</td>\n",
       "    </tr>\n",
       "    <tr>\n",
       "      <td>OnlineBackup_Yes</td>\n",
       "      <td>0.441780</td>\n",
       "      <td>0.509692</td>\n",
       "      <td>0.360238</td>\n",
       "      <td>0.066572</td>\n",
       "      <td>-0.082255</td>\n",
       "      <td>0.126735</td>\n",
       "      <td>0.141498</td>\n",
       "      <td>0.023671</td>\n",
       "      <td>0.283832</td>\n",
       "      <td>1.000000</td>\n",
       "      <td>...</td>\n",
       "      <td>0.282106</td>\n",
       "      <td>0.274501</td>\n",
       "      <td>0.202237</td>\n",
       "      <td>0.083722</td>\n",
       "      <td>0.111400</td>\n",
       "      <td>0.090785</td>\n",
       "      <td>-0.000408</td>\n",
       "      <td>-0.174164</td>\n",
       "      <td>-0.013773</td>\n",
       "      <td>0.165651</td>\n",
       "    </tr>\n",
       "    <tr>\n",
       "      <td>DeviceProtection_Yes</td>\n",
       "      <td>0.482692</td>\n",
       "      <td>0.522462</td>\n",
       "      <td>0.360602</td>\n",
       "      <td>0.059428</td>\n",
       "      <td>-0.066160</td>\n",
       "      <td>0.103797</td>\n",
       "      <td>0.153786</td>\n",
       "      <td>0.013963</td>\n",
       "      <td>0.275438</td>\n",
       "      <td>0.303546</td>\n",
       "      <td>...</td>\n",
       "      <td>0.390874</td>\n",
       "      <td>0.402111</td>\n",
       "      <td>0.201137</td>\n",
       "      <td>0.102495</td>\n",
       "      <td>0.165096</td>\n",
       "      <td>0.111554</td>\n",
       "      <td>-0.003351</td>\n",
       "      <td>-0.187373</td>\n",
       "      <td>-0.002105</td>\n",
       "      <td>0.176049</td>\n",
       "    </tr>\n",
       "    <tr>\n",
       "      <td>TechSupport_Yes</td>\n",
       "      <td>0.338304</td>\n",
       "      <td>0.432480</td>\n",
       "      <td>0.324238</td>\n",
       "      <td>-0.060625</td>\n",
       "      <td>-0.164674</td>\n",
       "      <td>0.037880</td>\n",
       "      <td>0.119999</td>\n",
       "      <td>0.063268</td>\n",
       "      <td>0.354931</td>\n",
       "      <td>0.294233</td>\n",
       "      <td>...</td>\n",
       "      <td>0.278070</td>\n",
       "      <td>0.279358</td>\n",
       "      <td>0.100571</td>\n",
       "      <td>0.095775</td>\n",
       "      <td>0.240824</td>\n",
       "      <td>0.117272</td>\n",
       "      <td>-0.114839</td>\n",
       "      <td>-0.085509</td>\n",
       "      <td>-0.009212</td>\n",
       "      <td>-0.020492</td>\n",
       "    </tr>\n",
       "    <tr>\n",
       "      <td>StreamingTV_Yes</td>\n",
       "      <td>0.629603</td>\n",
       "      <td>0.515314</td>\n",
       "      <td>0.279657</td>\n",
       "      <td>0.105378</td>\n",
       "      <td>0.063228</td>\n",
       "      <td>0.223841</td>\n",
       "      <td>0.124666</td>\n",
       "      <td>-0.016558</td>\n",
       "      <td>0.176207</td>\n",
       "      <td>0.282106</td>\n",
       "      <td>...</td>\n",
       "      <td>1.000000</td>\n",
       "      <td>0.533094</td>\n",
       "      <td>0.257152</td>\n",
       "      <td>0.061612</td>\n",
       "      <td>0.072049</td>\n",
       "      <td>0.040433</td>\n",
       "      <td>0.144626</td>\n",
       "      <td>-0.247742</td>\n",
       "      <td>-0.008393</td>\n",
       "      <td>0.329349</td>\n",
       "    </tr>\n",
       "    <tr>\n",
       "      <td>StreamingMovies_Yes</td>\n",
       "      <td>0.627429</td>\n",
       "      <td>0.519574</td>\n",
       "      <td>0.286007</td>\n",
       "      <td>0.120176</td>\n",
       "      <td>0.061382</td>\n",
       "      <td>0.211716</td>\n",
       "      <td>0.117412</td>\n",
       "      <td>-0.039741</td>\n",
       "      <td>0.187398</td>\n",
       "      <td>0.274501</td>\n",
       "      <td>...</td>\n",
       "      <td>0.533094</td>\n",
       "      <td>1.000000</td>\n",
       "      <td>0.258751</td>\n",
       "      <td>0.064926</td>\n",
       "      <td>0.073960</td>\n",
       "      <td>0.048575</td>\n",
       "      <td>0.137966</td>\n",
       "      <td>-0.250595</td>\n",
       "      <td>-0.010487</td>\n",
       "      <td>0.322923</td>\n",
       "    </tr>\n",
       "    <tr>\n",
       "      <td>MultipleLines_Yes</td>\n",
       "      <td>0.490434</td>\n",
       "      <td>0.468689</td>\n",
       "      <td>0.331833</td>\n",
       "      <td>0.142948</td>\n",
       "      <td>0.040102</td>\n",
       "      <td>0.163530</td>\n",
       "      <td>0.142057</td>\n",
       "      <td>-0.024526</td>\n",
       "      <td>0.098108</td>\n",
       "      <td>0.202237</td>\n",
       "      <td>...</td>\n",
       "      <td>0.257152</td>\n",
       "      <td>0.258751</td>\n",
       "      <td>1.000000</td>\n",
       "      <td>-0.003794</td>\n",
       "      <td>0.106253</td>\n",
       "      <td>0.060048</td>\n",
       "      <td>0.083618</td>\n",
       "      <td>-0.227206</td>\n",
       "      <td>-0.008414</td>\n",
       "      <td>0.366083</td>\n",
       "    </tr>\n",
       "    <tr>\n",
       "      <td>Type_One year</td>\n",
       "      <td>0.004904</td>\n",
       "      <td>0.170491</td>\n",
       "      <td>0.202650</td>\n",
       "      <td>-0.046262</td>\n",
       "      <td>-0.177820</td>\n",
       "      <td>-0.051391</td>\n",
       "      <td>0.082783</td>\n",
       "      <td>0.068368</td>\n",
       "      <td>0.100162</td>\n",
       "      <td>0.083722</td>\n",
       "      <td>...</td>\n",
       "      <td>0.061612</td>\n",
       "      <td>0.064926</td>\n",
       "      <td>-0.003794</td>\n",
       "      <td>1.000000</td>\n",
       "      <td>-0.289510</td>\n",
       "      <td>0.067589</td>\n",
       "      <td>-0.109130</td>\n",
       "      <td>-0.000116</td>\n",
       "      <td>0.008026</td>\n",
       "      <td>-0.076324</td>\n",
       "    </tr>\n",
       "    <tr>\n",
       "      <td>Type_Two year</td>\n",
       "      <td>-0.074681</td>\n",
       "      <td>0.357224</td>\n",
       "      <td>0.558544</td>\n",
       "      <td>-0.117000</td>\n",
       "      <td>-0.302253</td>\n",
       "      <td>-0.147889</td>\n",
       "      <td>0.248091</td>\n",
       "      <td>0.204613</td>\n",
       "      <td>0.191773</td>\n",
       "      <td>0.111400</td>\n",
       "      <td>...</td>\n",
       "      <td>0.072049</td>\n",
       "      <td>0.073960</td>\n",
       "      <td>0.106253</td>\n",
       "      <td>-0.289510</td>\n",
       "      <td>1.000000</td>\n",
       "      <td>0.173265</td>\n",
       "      <td>-0.282138</td>\n",
       "      <td>-0.004705</td>\n",
       "      <td>-0.003695</td>\n",
       "      <td>-0.211526</td>\n",
       "    </tr>\n",
       "    <tr>\n",
       "      <td>PaymentMethod_Credit card (automatic)</td>\n",
       "      <td>0.030550</td>\n",
       "      <td>0.182581</td>\n",
       "      <td>0.233032</td>\n",
       "      <td>-0.024135</td>\n",
       "      <td>-0.134302</td>\n",
       "      <td>-0.013589</td>\n",
       "      <td>0.082029</td>\n",
       "      <td>0.060267</td>\n",
       "      <td>0.115721</td>\n",
       "      <td>0.090785</td>\n",
       "      <td>...</td>\n",
       "      <td>0.040433</td>\n",
       "      <td>0.048575</td>\n",
       "      <td>0.060048</td>\n",
       "      <td>0.067589</td>\n",
       "      <td>0.173265</td>\n",
       "      <td>1.000000</td>\n",
       "      <td>-0.373322</td>\n",
       "      <td>-0.286049</td>\n",
       "      <td>0.001215</td>\n",
       "      <td>-0.050077</td>\n",
       "    </tr>\n",
       "    <tr>\n",
       "      <td>PaymentMethod_Electronic check</td>\n",
       "      <td>0.271625</td>\n",
       "      <td>-0.060412</td>\n",
       "      <td>-0.208465</td>\n",
       "      <td>0.171718</td>\n",
       "      <td>0.301919</td>\n",
       "      <td>0.208865</td>\n",
       "      <td>-0.083852</td>\n",
       "      <td>-0.150642</td>\n",
       "      <td>-0.112338</td>\n",
       "      <td>-0.000408</td>\n",
       "      <td>...</td>\n",
       "      <td>0.144626</td>\n",
       "      <td>0.137966</td>\n",
       "      <td>0.083618</td>\n",
       "      <td>-0.109130</td>\n",
       "      <td>-0.282138</td>\n",
       "      <td>-0.373322</td>\n",
       "      <td>1.000000</td>\n",
       "      <td>-0.387372</td>\n",
       "      <td>0.000752</td>\n",
       "      <td>0.336410</td>\n",
       "    </tr>\n",
       "    <tr>\n",
       "      <td>PaymentMethod_Mailed check</td>\n",
       "      <td>-0.377437</td>\n",
       "      <td>-0.294125</td>\n",
       "      <td>-0.233755</td>\n",
       "      <td>-0.153477</td>\n",
       "      <td>-0.091683</td>\n",
       "      <td>-0.205398</td>\n",
       "      <td>-0.095125</td>\n",
       "      <td>0.059071</td>\n",
       "      <td>-0.080798</td>\n",
       "      <td>-0.174164</td>\n",
       "      <td>...</td>\n",
       "      <td>-0.247742</td>\n",
       "      <td>-0.250595</td>\n",
       "      <td>-0.227206</td>\n",
       "      <td>-0.000116</td>\n",
       "      <td>-0.004705</td>\n",
       "      <td>-0.286049</td>\n",
       "      <td>-0.387372</td>\n",
       "      <td>1.000000</td>\n",
       "      <td>0.013744</td>\n",
       "      <td>-0.306834</td>\n",
       "    </tr>\n",
       "    <tr>\n",
       "      <td>gender_Male</td>\n",
       "      <td>-0.014569</td>\n",
       "      <td>0.000048</td>\n",
       "      <td>0.005111</td>\n",
       "      <td>-0.001874</td>\n",
       "      <td>-0.008612</td>\n",
       "      <td>-0.011754</td>\n",
       "      <td>-0.001808</td>\n",
       "      <td>0.010517</td>\n",
       "      <td>-0.017021</td>\n",
       "      <td>-0.013773</td>\n",
       "      <td>...</td>\n",
       "      <td>-0.008393</td>\n",
       "      <td>-0.010487</td>\n",
       "      <td>-0.008414</td>\n",
       "      <td>0.008026</td>\n",
       "      <td>-0.003695</td>\n",
       "      <td>0.001215</td>\n",
       "      <td>0.000752</td>\n",
       "      <td>0.013744</td>\n",
       "      <td>1.000000</td>\n",
       "      <td>-0.011286</td>\n",
       "    </tr>\n",
       "    <tr>\n",
       "      <td>InternetService_Fiber optic</td>\n",
       "      <td>0.787066</td>\n",
       "      <td>0.360547</td>\n",
       "      <td>0.019574</td>\n",
       "      <td>0.255338</td>\n",
       "      <td>0.308020</td>\n",
       "      <td>0.326853</td>\n",
       "      <td>0.000304</td>\n",
       "      <td>-0.165818</td>\n",
       "      <td>-0.030696</td>\n",
       "      <td>0.165651</td>\n",
       "      <td>...</td>\n",
       "      <td>0.329349</td>\n",
       "      <td>0.322923</td>\n",
       "      <td>0.366083</td>\n",
       "      <td>-0.076324</td>\n",
       "      <td>-0.211526</td>\n",
       "      <td>-0.050077</td>\n",
       "      <td>0.336410</td>\n",
       "      <td>-0.306834</td>\n",
       "      <td>-0.011286</td>\n",
       "      <td>1.000000</td>\n",
       "    </tr>\n",
       "  </tbody>\n",
       "</table>\n",
       "<p>22 rows × 22 columns</p>\n",
       "</div>"
      ],
      "text/plain": [
       "                                       MonthlyCharges  TotalCharges  Duration  \\\n",
       "MonthlyCharges                               1.000000      0.650468  0.247754   \n",
       "TotalCharges                                 0.650468      1.000000  0.824686   \n",
       "Duration                                     0.247754      0.824686  1.000000   \n",
       "SeniorCitizen                                0.220173      0.102395  0.016514   \n",
       "active                                       0.193356     -0.199428 -0.352673   \n",
       "PaperlessBilling_Yes                         0.352150      0.157676  0.006059   \n",
       "Partner_Yes                                  0.096848      0.318812  0.379709   \n",
       "Dependents_Yes                              -0.113890      0.064535  0.159766   \n",
       "OnlineSecurity_Yes                           0.296594      0.412245  0.327203   \n",
       "OnlineBackup_Yes                             0.441780      0.509692  0.360238   \n",
       "DeviceProtection_Yes                         0.482692      0.522462  0.360602   \n",
       "TechSupport_Yes                              0.338304      0.432480  0.324238   \n",
       "StreamingTV_Yes                              0.629603      0.515314  0.279657   \n",
       "StreamingMovies_Yes                          0.627429      0.519574  0.286007   \n",
       "MultipleLines_Yes                            0.490434      0.468689  0.331833   \n",
       "Type_One year                                0.004904      0.170491  0.202650   \n",
       "Type_Two year                               -0.074681      0.357224  0.558544   \n",
       "PaymentMethod_Credit card (automatic)        0.030550      0.182581  0.233032   \n",
       "PaymentMethod_Electronic check               0.271625     -0.060412 -0.208465   \n",
       "PaymentMethod_Mailed check                  -0.377437     -0.294125 -0.233755   \n",
       "gender_Male                                 -0.014569      0.000048  0.005111   \n",
       "InternetService_Fiber optic                  0.787066      0.360547  0.019574   \n",
       "\n",
       "                                       SeniorCitizen    active  \\\n",
       "MonthlyCharges                              0.220173  0.193356   \n",
       "TotalCharges                                0.102395 -0.199428   \n",
       "Duration                                    0.016514 -0.352673   \n",
       "SeniorCitizen                               1.000000  0.150889   \n",
       "active                                      0.150889  1.000000   \n",
       "PaperlessBilling_Yes                        0.156530  0.191825   \n",
       "Partner_Yes                                 0.016479 -0.150448   \n",
       "Dependents_Yes                             -0.211185 -0.164221   \n",
       "OnlineSecurity_Yes                         -0.038653 -0.171226   \n",
       "OnlineBackup_Yes                            0.066572 -0.082255   \n",
       "DeviceProtection_Yes                        0.059428 -0.066160   \n",
       "TechSupport_Yes                            -0.060625 -0.164674   \n",
       "StreamingTV_Yes                             0.105378  0.063228   \n",
       "StreamingMovies_Yes                         0.120176  0.061382   \n",
       "MultipleLines_Yes                           0.142948  0.040102   \n",
       "Type_One year                              -0.046262 -0.177820   \n",
       "Type_Two year                              -0.117000 -0.302253   \n",
       "PaymentMethod_Credit card (automatic)      -0.024135 -0.134302   \n",
       "PaymentMethod_Electronic check              0.171718  0.301919   \n",
       "PaymentMethod_Mailed check                 -0.153477 -0.091683   \n",
       "gender_Male                                -0.001874 -0.008612   \n",
       "InternetService_Fiber optic                 0.255338  0.308020   \n",
       "\n",
       "                                       PaperlessBilling_Yes  Partner_Yes  \\\n",
       "MonthlyCharges                                     0.352150     0.096848   \n",
       "TotalCharges                                       0.157676     0.318812   \n",
       "Duration                                           0.006059     0.379709   \n",
       "SeniorCitizen                                      0.156530     0.016479   \n",
       "active                                             0.191825    -0.150448   \n",
       "PaperlessBilling_Yes                               1.000000    -0.014877   \n",
       "Partner_Yes                                       -0.014877     1.000000   \n",
       "Dependents_Yes                                    -0.111377     0.452676   \n",
       "OnlineSecurity_Yes                                -0.003636     0.143106   \n",
       "OnlineBackup_Yes                                   0.126735     0.141498   \n",
       "DeviceProtection_Yes                               0.103797     0.153786   \n",
       "TechSupport_Yes                                    0.037880     0.119999   \n",
       "StreamingTV_Yes                                    0.223841     0.124666   \n",
       "StreamingMovies_Yes                                0.211716     0.117412   \n",
       "MultipleLines_Yes                                  0.163530     0.142057   \n",
       "Type_One year                                     -0.051391     0.082783   \n",
       "Type_Two year                                     -0.147889     0.248091   \n",
       "PaymentMethod_Credit card (automatic)             -0.013589     0.082029   \n",
       "PaymentMethod_Electronic check                     0.208865    -0.083852   \n",
       "PaymentMethod_Mailed check                        -0.205398    -0.095125   \n",
       "gender_Male                                       -0.011754    -0.001808   \n",
       "InternetService_Fiber optic                        0.326853     0.000304   \n",
       "\n",
       "                                       Dependents_Yes  OnlineSecurity_Yes  \\\n",
       "MonthlyCharges                              -0.113890            0.296594   \n",
       "TotalCharges                                 0.064535            0.412245   \n",
       "Duration                                     0.159766            0.327203   \n",
       "SeniorCitizen                               -0.211185           -0.038653   \n",
       "active                                      -0.164221           -0.171226   \n",
       "PaperlessBilling_Yes                        -0.111377           -0.003636   \n",
       "Partner_Yes                                  0.452676            0.143106   \n",
       "Dependents_Yes                               1.000000            0.080972   \n",
       "OnlineSecurity_Yes                           0.080972            1.000000   \n",
       "OnlineBackup_Yes                             0.023671            0.283832   \n",
       "DeviceProtection_Yes                         0.013963            0.275438   \n",
       "TechSupport_Yes                              0.063268            0.354931   \n",
       "StreamingTV_Yes                             -0.016558            0.176207   \n",
       "StreamingMovies_Yes                         -0.039741            0.187398   \n",
       "MultipleLines_Yes                           -0.024526            0.098108   \n",
       "Type_One year                                0.068368            0.100162   \n",
       "Type_Two year                                0.204613            0.191773   \n",
       "PaymentMethod_Credit card (automatic)        0.060267            0.115721   \n",
       "PaymentMethod_Electronic check              -0.150642           -0.112338   \n",
       "PaymentMethod_Mailed check                   0.059071           -0.080798   \n",
       "gender_Male                                  0.010517           -0.017021   \n",
       "InternetService_Fiber optic                 -0.165818           -0.030696   \n",
       "\n",
       "                                       OnlineBackup_Yes  ...  StreamingTV_Yes  \\\n",
       "MonthlyCharges                                 0.441780  ...         0.629603   \n",
       "TotalCharges                                   0.509692  ...         0.515314   \n",
       "Duration                                       0.360238  ...         0.279657   \n",
       "SeniorCitizen                                  0.066572  ...         0.105378   \n",
       "active                                        -0.082255  ...         0.063228   \n",
       "PaperlessBilling_Yes                           0.126735  ...         0.223841   \n",
       "Partner_Yes                                    0.141498  ...         0.124666   \n",
       "Dependents_Yes                                 0.023671  ...        -0.016558   \n",
       "OnlineSecurity_Yes                             0.283832  ...         0.176207   \n",
       "OnlineBackup_Yes                               1.000000  ...         0.282106   \n",
       "DeviceProtection_Yes                           0.303546  ...         0.390874   \n",
       "TechSupport_Yes                                0.294233  ...         0.278070   \n",
       "StreamingTV_Yes                                0.282106  ...         1.000000   \n",
       "StreamingMovies_Yes                            0.274501  ...         0.533094   \n",
       "MultipleLines_Yes                              0.202237  ...         0.257152   \n",
       "Type_One year                                  0.083722  ...         0.061612   \n",
       "Type_Two year                                  0.111400  ...         0.072049   \n",
       "PaymentMethod_Credit card (automatic)          0.090785  ...         0.040433   \n",
       "PaymentMethod_Electronic check                -0.000408  ...         0.144626   \n",
       "PaymentMethod_Mailed check                    -0.174164  ...        -0.247742   \n",
       "gender_Male                                   -0.013773  ...        -0.008393   \n",
       "InternetService_Fiber optic                    0.165651  ...         0.329349   \n",
       "\n",
       "                                       StreamingMovies_Yes  MultipleLines_Yes  \\\n",
       "MonthlyCharges                                    0.627429           0.490434   \n",
       "TotalCharges                                      0.519574           0.468689   \n",
       "Duration                                          0.286007           0.331833   \n",
       "SeniorCitizen                                     0.120176           0.142948   \n",
       "active                                            0.061382           0.040102   \n",
       "PaperlessBilling_Yes                              0.211716           0.163530   \n",
       "Partner_Yes                                       0.117412           0.142057   \n",
       "Dependents_Yes                                   -0.039741          -0.024526   \n",
       "OnlineSecurity_Yes                                0.187398           0.098108   \n",
       "OnlineBackup_Yes                                  0.274501           0.202237   \n",
       "DeviceProtection_Yes                              0.402111           0.201137   \n",
       "TechSupport_Yes                                   0.279358           0.100571   \n",
       "StreamingTV_Yes                                   0.533094           0.257152   \n",
       "StreamingMovies_Yes                               1.000000           0.258751   \n",
       "MultipleLines_Yes                                 0.258751           1.000000   \n",
       "Type_One year                                     0.064926          -0.003794   \n",
       "Type_Two year                                     0.073960           0.106253   \n",
       "PaymentMethod_Credit card (automatic)             0.048575           0.060048   \n",
       "PaymentMethod_Electronic check                    0.137966           0.083618   \n",
       "PaymentMethod_Mailed check                       -0.250595          -0.227206   \n",
       "gender_Male                                      -0.010487          -0.008414   \n",
       "InternetService_Fiber optic                       0.322923           0.366083   \n",
       "\n",
       "                                       Type_One year  Type_Two year  \\\n",
       "MonthlyCharges                              0.004904      -0.074681   \n",
       "TotalCharges                                0.170491       0.357224   \n",
       "Duration                                    0.202650       0.558544   \n",
       "SeniorCitizen                              -0.046262      -0.117000   \n",
       "active                                     -0.177820      -0.302253   \n",
       "PaperlessBilling_Yes                       -0.051391      -0.147889   \n",
       "Partner_Yes                                 0.082783       0.248091   \n",
       "Dependents_Yes                              0.068368       0.204613   \n",
       "OnlineSecurity_Yes                          0.100162       0.191773   \n",
       "OnlineBackup_Yes                            0.083722       0.111400   \n",
       "DeviceProtection_Yes                        0.102495       0.165096   \n",
       "TechSupport_Yes                             0.095775       0.240824   \n",
       "StreamingTV_Yes                             0.061612       0.072049   \n",
       "StreamingMovies_Yes                         0.064926       0.073960   \n",
       "MultipleLines_Yes                          -0.003794       0.106253   \n",
       "Type_One year                               1.000000      -0.289510   \n",
       "Type_Two year                              -0.289510       1.000000   \n",
       "PaymentMethod_Credit card (automatic)       0.067589       0.173265   \n",
       "PaymentMethod_Electronic check             -0.109130      -0.282138   \n",
       "PaymentMethod_Mailed check                 -0.000116      -0.004705   \n",
       "gender_Male                                 0.008026      -0.003695   \n",
       "InternetService_Fiber optic                -0.076324      -0.211526   \n",
       "\n",
       "                                       PaymentMethod_Credit card (automatic)  \\\n",
       "MonthlyCharges                                                      0.030550   \n",
       "TotalCharges                                                        0.182581   \n",
       "Duration                                                            0.233032   \n",
       "SeniorCitizen                                                      -0.024135   \n",
       "active                                                             -0.134302   \n",
       "PaperlessBilling_Yes                                               -0.013589   \n",
       "Partner_Yes                                                         0.082029   \n",
       "Dependents_Yes                                                      0.060267   \n",
       "OnlineSecurity_Yes                                                  0.115721   \n",
       "OnlineBackup_Yes                                                    0.090785   \n",
       "DeviceProtection_Yes                                                0.111554   \n",
       "TechSupport_Yes                                                     0.117272   \n",
       "StreamingTV_Yes                                                     0.040433   \n",
       "StreamingMovies_Yes                                                 0.048575   \n",
       "MultipleLines_Yes                                                   0.060048   \n",
       "Type_One year                                                       0.067589   \n",
       "Type_Two year                                                       0.173265   \n",
       "PaymentMethod_Credit card (automatic)                               1.000000   \n",
       "PaymentMethod_Electronic check                                     -0.373322   \n",
       "PaymentMethod_Mailed check                                         -0.286049   \n",
       "gender_Male                                                         0.001215   \n",
       "InternetService_Fiber optic                                        -0.050077   \n",
       "\n",
       "                                       PaymentMethod_Electronic check  \\\n",
       "MonthlyCharges                                               0.271625   \n",
       "TotalCharges                                                -0.060412   \n",
       "Duration                                                    -0.208465   \n",
       "SeniorCitizen                                                0.171718   \n",
       "active                                                       0.301919   \n",
       "PaperlessBilling_Yes                                         0.208865   \n",
       "Partner_Yes                                                 -0.083852   \n",
       "Dependents_Yes                                              -0.150642   \n",
       "OnlineSecurity_Yes                                          -0.112338   \n",
       "OnlineBackup_Yes                                            -0.000408   \n",
       "DeviceProtection_Yes                                        -0.003351   \n",
       "TechSupport_Yes                                             -0.114839   \n",
       "StreamingTV_Yes                                              0.144626   \n",
       "StreamingMovies_Yes                                          0.137966   \n",
       "MultipleLines_Yes                                            0.083618   \n",
       "Type_One year                                               -0.109130   \n",
       "Type_Two year                                               -0.282138   \n",
       "PaymentMethod_Credit card (automatic)                       -0.373322   \n",
       "PaymentMethod_Electronic check                               1.000000   \n",
       "PaymentMethod_Mailed check                                  -0.387372   \n",
       "gender_Male                                                  0.000752   \n",
       "InternetService_Fiber optic                                  0.336410   \n",
       "\n",
       "                                       PaymentMethod_Mailed check  \\\n",
       "MonthlyCharges                                          -0.377437   \n",
       "TotalCharges                                            -0.294125   \n",
       "Duration                                                -0.233755   \n",
       "SeniorCitizen                                           -0.153477   \n",
       "active                                                  -0.091683   \n",
       "PaperlessBilling_Yes                                    -0.205398   \n",
       "Partner_Yes                                             -0.095125   \n",
       "Dependents_Yes                                           0.059071   \n",
       "OnlineSecurity_Yes                                      -0.080798   \n",
       "OnlineBackup_Yes                                        -0.174164   \n",
       "DeviceProtection_Yes                                    -0.187373   \n",
       "TechSupport_Yes                                         -0.085509   \n",
       "StreamingTV_Yes                                         -0.247742   \n",
       "StreamingMovies_Yes                                     -0.250595   \n",
       "MultipleLines_Yes                                       -0.227206   \n",
       "Type_One year                                           -0.000116   \n",
       "Type_Two year                                           -0.004705   \n",
       "PaymentMethod_Credit card (automatic)                   -0.286049   \n",
       "PaymentMethod_Electronic check                          -0.387372   \n",
       "PaymentMethod_Mailed check                               1.000000   \n",
       "gender_Male                                              0.013744   \n",
       "InternetService_Fiber optic                             -0.306834   \n",
       "\n",
       "                                       gender_Male  \\\n",
       "MonthlyCharges                           -0.014569   \n",
       "TotalCharges                              0.000048   \n",
       "Duration                                  0.005111   \n",
       "SeniorCitizen                            -0.001874   \n",
       "active                                   -0.008612   \n",
       "PaperlessBilling_Yes                     -0.011754   \n",
       "Partner_Yes                              -0.001808   \n",
       "Dependents_Yes                            0.010517   \n",
       "OnlineSecurity_Yes                       -0.017021   \n",
       "OnlineBackup_Yes                         -0.013773   \n",
       "DeviceProtection_Yes                     -0.002105   \n",
       "TechSupport_Yes                          -0.009212   \n",
       "StreamingTV_Yes                          -0.008393   \n",
       "StreamingMovies_Yes                      -0.010487   \n",
       "MultipleLines_Yes                        -0.008414   \n",
       "Type_One year                             0.008026   \n",
       "Type_Two year                            -0.003695   \n",
       "PaymentMethod_Credit card (automatic)     0.001215   \n",
       "PaymentMethod_Electronic check            0.000752   \n",
       "PaymentMethod_Mailed check                0.013744   \n",
       "gender_Male                               1.000000   \n",
       "InternetService_Fiber optic              -0.011286   \n",
       "\n",
       "                                       InternetService_Fiber optic  \n",
       "MonthlyCharges                                            0.787066  \n",
       "TotalCharges                                              0.360547  \n",
       "Duration                                                  0.019574  \n",
       "SeniorCitizen                                             0.255338  \n",
       "active                                                    0.308020  \n",
       "PaperlessBilling_Yes                                      0.326853  \n",
       "Partner_Yes                                               0.000304  \n",
       "Dependents_Yes                                           -0.165818  \n",
       "OnlineSecurity_Yes                                       -0.030696  \n",
       "OnlineBackup_Yes                                          0.165651  \n",
       "DeviceProtection_Yes                                      0.176049  \n",
       "TechSupport_Yes                                          -0.020492  \n",
       "StreamingTV_Yes                                           0.329349  \n",
       "StreamingMovies_Yes                                       0.322923  \n",
       "MultipleLines_Yes                                         0.366083  \n",
       "Type_One year                                            -0.076324  \n",
       "Type_Two year                                            -0.211526  \n",
       "PaymentMethod_Credit card (automatic)                    -0.050077  \n",
       "PaymentMethod_Electronic check                            0.336410  \n",
       "PaymentMethod_Mailed check                               -0.306834  \n",
       "gender_Male                                              -0.011286  \n",
       "InternetService_Fiber optic                               1.000000  \n",
       "\n",
       "[22 rows x 22 columns]"
      ]
     },
     "execution_count": 25,
     "metadata": {},
     "output_type": "execute_result"
    }
   ],
   "source": [
    "complete_data_ohe.corr()"
   ]
  },
  {
   "cell_type": "markdown",
   "metadata": {},
   "source": [
    "# Check For Class Imbalance"
   ]
  },
  {
   "cell_type": "code",
   "execution_count": 26,
   "metadata": {
    "scrolled": true
   },
   "outputs": [
    {
     "name": "stdout",
     "output_type": "stream",
     "text": [
      "Total customers:  7043\n",
      "Customers still with company% 73.46\n",
      "Customers left: % 26.54\n"
     ]
    }
   ],
   "source": [
    "customersTotal = contract.shape[0]\n",
    "customersWithUs = contract[contract['EndDate'] == 'No'].shape[0]\n",
    "customersLeftCount = customersTotal - customersWithUs\n",
    "\n",
    "print('Total customers: ', customersTotal)\n",
    "print('Customers still with company%', round( ((customersWithUs / customersTotal) * 100),2))\n",
    "print('Customers left: %', round( ((customersLeftCount / customersTotal) * 100),2))"
   ]
  },
  {
   "cell_type": "markdown",
   "metadata": {},
   "source": [
    "# Split Data"
   ]
  },
  {
   "cell_type": "code",
   "execution_count": 27,
   "metadata": {},
   "outputs": [],
   "source": [
    "target = complete_data_ohe['active']\n",
    "features = complete_data_ohe.drop(['active'], axis=1)\n",
    "\n",
    "features_train, features_valid, target_train, target_valid = train_test_split(\n",
    "    features, target, test_size=.2, random_state=12345)\n",
    "\n",
    "scaler = StandardScaler()\n",
    "scaler.fit(features_train)\n",
    "\n",
    "features_train = scaler.transform(features_train)\n",
    "features_valid = scaler.transform(features_valid)"
   ]
  },
  {
   "cell_type": "markdown",
   "metadata": {},
   "source": [
    "# Create evaluate_model()"
   ]
  },
  {
   "cell_type": "code",
   "execution_count": 28,
   "metadata": {},
   "outputs": [],
   "source": [
    "import sklearn.metrics as metrics\n",
    "\n",
    "def evaluate_model(model, train_features, train_target, test_features, test_target):\n",
    "    \n",
    "    eval_stats = {}\n",
    "    \n",
    "    fig, axs = plt.subplots(1, 3, figsize=(20, 6)) \n",
    "    \n",
    "    for type, features, target in (('train', train_features, train_target), ('test', test_features, test_target)):\n",
    "        \n",
    "        eval_stats[type] = {}\n",
    "    \n",
    "        pred_target = model.predict(features)\n",
    "        pred_proba = model.predict_proba(features)[:, 1]\n",
    "        \n",
    "        # F1\n",
    "        f1_thresholds = np.arange(0, 1.01, 0.05)\n",
    "        f1_scores = [metrics.f1_score(target, pred_proba>=threshold) for threshold in f1_thresholds]\n",
    "        \n",
    "        # ROC\n",
    "        fpr, tpr, roc_thresholds = metrics.roc_curve(target, pred_proba)\n",
    "        roc_auc = metrics.roc_auc_score(target, pred_proba)    \n",
    "        eval_stats[type]['ROC AUC'] = roc_auc\n",
    "\n",
    "        # PRC\n",
    "        precision, recall, pr_thresholds = metrics.precision_recall_curve(target, pred_proba)\n",
    "        aps = metrics.average_precision_score(target, pred_proba)\n",
    "        eval_stats[type]['APS'] = aps\n",
    "        \n",
    "        if type == 'train':\n",
    "            color = 'blue'\n",
    "        else:\n",
    "            color = 'green'\n",
    "\n",
    "        # F1 Score\n",
    "        ax = axs[0]\n",
    "        max_f1_score_idx = np.argmax(f1_scores)\n",
    "        ax.plot(f1_thresholds, f1_scores, color=color, label=f'{type}, max={f1_scores[max_f1_score_idx]:.2f} @ {f1_thresholds[max_f1_score_idx]:.2f}')\n",
    "        # setting crosses for some thresholds\n",
    "        for threshold in (0.2, 0.4, 0.5, 0.6, 0.8):\n",
    "            closest_value_idx = np.argmin(np.abs(f1_thresholds-threshold))\n",
    "            marker_color = 'orange' if threshold != 0.5 else 'red'\n",
    "            ax.plot(f1_thresholds[closest_value_idx], f1_scores[closest_value_idx], color=marker_color, marker='X', markersize=7)\n",
    "        ax.set_xlim([-0.02, 1.02])    \n",
    "        ax.set_ylim([-0.02, 1.02])\n",
    "        ax.set_xlabel('threshold')\n",
    "        ax.set_ylabel('F1')\n",
    "        ax.legend(loc='lower center')\n",
    "        ax.set_title(f'F1 Score') \n",
    "\n",
    "        # ROC\n",
    "        ax = axs[1]    \n",
    "        ax.plot(fpr, tpr, color=color, label=f'{type}, ROC AUC={roc_auc:.2f}')\n",
    "        # setting crosses for some thresholds\n",
    "        for threshold in (0.2, 0.4, 0.5, 0.6, 0.8):\n",
    "            closest_value_idx = np.argmin(np.abs(roc_thresholds-threshold))\n",
    "            marker_color = 'orange' if threshold != 0.5 else 'red'            \n",
    "            ax.plot(fpr[closest_value_idx], tpr[closest_value_idx], color=marker_color, marker='X', markersize=7)\n",
    "        ax.plot([0, 1], [0, 1], color='grey', linestyle='--')\n",
    "        ax.set_xlim([-0.02, 1.02])    \n",
    "        ax.set_ylim([-0.02, 1.02])\n",
    "        ax.set_xlabel('FPR')\n",
    "        ax.set_ylabel('TPR')\n",
    "        ax.legend(loc='lower center')        \n",
    "        ax.set_title(f'ROC Curve')\n",
    "        \n",
    "        # PRC\n",
    "        ax = axs[2]\n",
    "        ax.plot(recall, precision, color=color, label=f'{type}, AP={aps:.2f}')\n",
    "        # setting crosses for some thresholds\n",
    "        for threshold in (0.2, 0.4, 0.5, 0.6, 0.8):\n",
    "            closest_value_idx = np.argmin(np.abs(pr_thresholds-threshold))\n",
    "            marker_color = 'orange' if threshold != 0.5 else 'red'\n",
    "            ax.plot(recall[closest_value_idx], precision[closest_value_idx], color=marker_color, marker='X', markersize=7)\n",
    "        ax.set_xlim([-0.02, 1.02])    \n",
    "        ax.set_ylim([-0.02, 1.02])\n",
    "        ax.set_xlabel('recall')\n",
    "        ax.set_ylabel('precision')\n",
    "        ax.legend(loc='lower center')\n",
    "        ax.set_title(f'PRC')        \n",
    "\n",
    "        eval_stats[type]['Accuracy'] = metrics.accuracy_score(target, pred_target)\n",
    "        eval_stats[type]['F1'] = metrics.f1_score(target, pred_target)\n",
    "    \n",
    "    df_eval_stats = pd.DataFrame(eval_stats)\n",
    "    df_eval_stats = df_eval_stats.round(2)\n",
    "    df_eval_stats = df_eval_stats.reindex(index=('Accuracy', 'F1', 'APS', 'ROC AUC'))\n",
    "    \n",
    "    print(df_eval_stats)\n",
    "    \n",
    "    return"
   ]
  },
  {
   "cell_type": "markdown",
   "metadata": {},
   "source": [
    "# Decision Tree Classifier"
   ]
  },
  {
   "cell_type": "code",
   "execution_count": 29,
   "metadata": {
    "scrolled": true
   },
   "outputs": [
    {
     "name": "stderr",
     "output_type": "stream",
     "text": [
      "/opt/conda/lib/python3.7/site-packages/sklearn/model_selection/_split.py:1978: FutureWarning: The default value of cv will change from 3 to 5 in version 0.22. Specify it explicitly to silence this warning.\n",
      "  warnings.warn(CV_WARNING, FutureWarning)\n"
     ]
    }
   ],
   "source": [
    "model = RandomForestClassifier(class_weight='balanced')\n",
    "\n",
    "parameters = {'n_estimators': [100, 200], 'max_depth': [5, 25]}\n",
    "\n",
    "from sklearn.model_selection import GridSearchCV\n",
    "clf = GridSearchCV(estimator=model, param_grid=parameters, scoring='roc_auc')\n",
    "clf.fit(features_train, target_train)\n",
    "\n",
    "predicted_valid = clf.predict(features_valid)\n"
   ]
  },
  {
   "cell_type": "code",
   "execution_count": 30,
   "metadata": {},
   "outputs": [
    {
     "name": "stderr",
     "output_type": "stream",
     "text": [
      "/opt/conda/lib/python3.7/site-packages/sklearn/metrics/classification.py:1437: UndefinedMetricWarning: F-score is ill-defined and being set to 0.0 due to no predicted samples.\n",
      "  'precision', 'predicted', average, warn_for)\n",
      "/opt/conda/lib/python3.7/site-packages/sklearn/metrics/classification.py:1437: UndefinedMetricWarning: F-score is ill-defined and being set to 0.0 due to no predicted samples.\n",
      "  'precision', 'predicted', average, warn_for)\n"
     ]
    },
    {
     "name": "stdout",
     "output_type": "stream",
     "text": [
      "          train  test\n",
      "Accuracy   0.77  0.76\n",
      "F1         0.65  0.65\n",
      "APS        0.71  0.68\n",
      "ROC AUC    0.87  0.85\n"
     ]
    },
    {
     "data": {
      "image/png": "[encoded data removed]",
      "text/plain": [
       "<Figure size 1440x432 with 3 Axes>"
      ]
     },
     "metadata": {
      "needs_background": "light"
     },
     "output_type": "display_data"
    }
   ],
   "source": [
    "evaluate_model(clf, features_train, target_train, features_valid, target_valid)"
   ]
  },
  {
   "cell_type": "markdown",
   "metadata": {},
   "source": [
    "# LGBM Classifier"
   ]
  },
  {
   "cell_type": "code",
   "execution_count": 31,
   "metadata": {},
   "outputs": [],
   "source": [
    "from lightgbm import LGBMClassifier"
   ]
  },
  {
   "cell_type": "code",
   "execution_count": 32,
   "metadata": {},
   "outputs": [
    {
     "data": {
      "text/plain": [
       "LGBMClassifier(boosting_type='gbdt', class_weight=None, colsample_bytree=1.0,\n",
       "               importance_type='split', learning_rate=0.1, max_depth=-1,\n",
       "               min_child_samples=20, min_child_weight=0.001, min_split_gain=0.0,\n",
       "               n_estimators=100, n_jobs=-1, num_leaves=31, objective=None,\n",
       "               random_state=None, reg_alpha=0.0, reg_lambda=0.0, silent=True,\n",
       "               subsample=1.0, subsample_for_bin=200000, subsample_freq=0)"
      ]
     },
     "execution_count": 32,
     "metadata": {},
     "output_type": "execute_result"
    }
   ],
   "source": [
    "lightgbm = LGBMClassifier()\n",
    "\n",
    "lightgbm.fit(features_train, target_train)"
   ]
  },
  {
   "cell_type": "code",
   "execution_count": 33,
   "metadata": {},
   "outputs": [
    {
     "name": "stderr",
     "output_type": "stream",
     "text": [
      "/opt/conda/lib/python3.7/site-packages/sklearn/metrics/classification.py:1437: UndefinedMetricWarning: F-score is ill-defined and being set to 0.0 due to no predicted samples.\n",
      "  'precision', 'predicted', average, warn_for)\n",
      "/opt/conda/lib/python3.7/site-packages/sklearn/metrics/classification.py:1437: UndefinedMetricWarning: F-score is ill-defined and being set to 0.0 due to no predicted samples.\n",
      "  'precision', 'predicted', average, warn_for)\n"
     ]
    },
    {
     "name": "stdout",
     "output_type": "stream",
     "text": [
      "          train  test\n",
      "Accuracy   0.92  0.85\n",
      "F1         0.84  0.67\n",
      "APS        0.94  0.80\n",
      "ROC AUC    0.98  0.89\n"
     ]
    },
    {
     "data": {
      "image/png": "[encoded data removed]",
      "text/plain": [
       "<Figure size 1440x432 with 3 Axes>"
      ]
     },
     "metadata": {
      "needs_background": "light"
     },
     "output_type": "display_data"
    }
   ],
   "source": [
    "evaluate_model(lightgbm, features_train, target_train, features_valid, target_valid)"
   ]
  },
  {
   "cell_type": "markdown",
   "metadata": {},
   "source": [
    "# Rough Plan\n",
    "1. Preprocess the data by analyzing each column. Address data type and missing values.\n",
    "2. Run OHE on necessary features and target.\n",
    "3. Balance classes and normalize the data.\n",
    "4. Extract more features such as duration, year of enrollment, etc.\n",
    "5. Split data into training set, and test set. Test different models and optimize parameters.\n",
    "6. Cross validate AUC-ROC."
   ]
  },
  {
   "cell_type": "markdown",
   "metadata": {},
   "source": [
    "# Clarifying Questions\n",
    "1. When running OHE is it improtant to have dummy_na = True?\n",
    "2. What other EDA would be good to have in this case, I ran a correlation matrix,\n",
    "is it necessary to have plots with so many features?"
   ]
  },
  {
   "cell_type": "markdown",
   "metadata": {},
   "source": [
    "# Clarifying Report"
   ]
  },
  {
   "cell_type": "markdown",
   "metadata": {},
   "source": [
    "1. All the steps were successfuly performed. \n",
    "2. Difficulties included not getting the minimum successful scores set out in the task. To increase our score features were added such as customer duration and year of enrollment.\n",
    "3. A key step to solving the task was optomizing parameters for the DecisionTreeClassifier model. This task was made easier through the use of GridSearchCV; which automates the process of tuning hyperparameters. Another critical step was to maximize the Scores by adjusting the threshold value.\n",
    "4. LGBM Classifier was the most successful model. Test Scores: Accuracy = 0.85,  F1 = 0.67,  APS = 0.8, & ROC AUC = 0.89.\n",
    "5. Preprocessing steps taken: normalized the data, applied OHE to categorical columns, converted dates to datetime format in order to calculate customer duration, made a binary target column, changed end dates with output \"no\" to the latest date from the dataset.\n",
    "6. Features Used:\n",
    "       'MonthlyCharges', 'TotalCharges', 'Duration', 'SeniorCitizen',\n",
    "       'PaperlessBilling_Yes', 'Partner_Yes', 'Dependents_Yes',\n",
    "       'OnlineSecurity_Yes', 'OnlineBackup_Yes', 'DeviceProtection_Yes',\n",
    "       'TechSupport_Yes', 'StreamingTV_Yes', 'StreamingMovies_Yes',\n",
    "       'MultipleLines_Yes', 'Type_One year', 'Type_Two year',\n",
    "       'PaymentMethod_Credit card (automatic)',\n",
    "       'PaymentMethod_Electronic check', 'PaymentMethod_Mailed check',\n",
    "       'gender_Male', 'InternetService_Fiber optic'"
   ]
  },
  {
   "cell_type": "code",
   "execution_count": null,
   "metadata": {},
   "outputs": [],
   "source": []
  }
 ],
 "metadata": {
  "ExecuteTimeLog": [
   {
    "duration": 344,
    "start_time": "2021-08-04T11:14:53.981Z"
   },
   {
    "duration": 1760,
    "start_time": "2021-08-04T11:14:57.144Z"
   },
   {
    "duration": 52,
    "start_time": "2021-08-04T11:14:58.908Z"
   },
   {
    "duration": 32,
    "start_time": "2021-08-04T11:15:02.192Z"
   },
   {
    "duration": 127,
    "start_time": "2021-08-04T11:15:55.257Z"
   },
   {
    "duration": 28,
    "start_time": "2021-08-04T11:16:03.068Z"
   },
   {
    "duration": 26,
    "start_time": "2021-08-04T11:16:07.453Z"
   },
   {
    "duration": 15,
    "start_time": "2021-08-04T11:16:12.092Z"
   },
   {
    "duration": 14,
    "start_time": "2021-08-04T11:21:20.923Z"
   },
   {
    "duration": 75,
    "start_time": "2021-08-04T11:21:37.332Z"
   },
   {
    "duration": 10,
    "start_time": "2021-08-04T11:22:57.287Z"
   },
   {
    "duration": 395,
    "start_time": "2021-08-04T11:24:28.145Z"
   },
   {
    "duration": 427,
    "start_time": "2021-08-04T11:24:32.046Z"
   },
   {
    "duration": 717,
    "start_time": "2021-08-04T11:24:39.171Z"
   },
   {
    "duration": 447,
    "start_time": "2021-08-04T11:24:43.913Z"
   },
   {
    "duration": 426,
    "start_time": "2021-08-04T11:24:48.617Z"
   },
   {
    "duration": 347,
    "start_time": "2021-08-04T11:24:53.094Z"
   },
   {
    "duration": 441,
    "start_time": "2021-08-04T11:25:07.447Z"
   },
   {
    "duration": 494,
    "start_time": "2021-08-04T11:25:18.710Z"
   },
   {
    "duration": 1562,
    "start_time": "2021-08-04T11:26:22.283Z"
   },
   {
    "duration": 125,
    "start_time": "2021-08-04T11:26:23.847Z"
   },
   {
    "duration": 52,
    "start_time": "2021-08-04T11:26:23.976Z"
   },
   {
    "duration": 1607,
    "start_time": "2021-08-04T11:27:43.282Z"
   },
   {
    "duration": 122,
    "start_time": "2021-08-04T11:27:44.891Z"
   },
   {
    "duration": 60,
    "start_time": "2021-08-04T11:27:45.016Z"
   },
   {
    "duration": 504,
    "start_time": "2021-08-04T11:27:45.081Z"
   },
   {
    "duration": 1630,
    "start_time": "2021-08-04T11:29:35.616Z"
   },
   {
    "duration": 121,
    "start_time": "2021-08-04T11:29:37.249Z"
   },
   {
    "duration": 66,
    "start_time": "2021-08-04T11:29:37.374Z"
   },
   {
    "duration": 447,
    "start_time": "2021-08-04T11:29:37.443Z"
   },
   {
    "duration": -83,
    "start_time": "2021-08-04T11:29:37.976Z"
   },
   {
    "duration": 15,
    "start_time": "2021-08-04T11:29:43.008Z"
   },
   {
    "duration": 20,
    "start_time": "2021-08-04T11:29:55.970Z"
   },
   {
    "duration": 24,
    "start_time": "2021-08-04T11:30:16.679Z"
   },
   {
    "duration": 277,
    "start_time": "2021-08-04T16:58:09.810Z"
   },
   {
    "duration": 240,
    "start_time": "2021-08-04T16:58:38.503Z"
   },
   {
    "duration": 1055,
    "start_time": "2021-08-04T16:59:10.183Z"
   },
   {
    "duration": 90,
    "start_time": "2021-08-04T16:59:11.240Z"
   },
   {
    "duration": 16,
    "start_time": "2021-08-04T16:59:11.332Z"
   },
   {
    "duration": 35,
    "start_time": "2021-08-04T16:59:11.349Z"
   },
   {
    "duration": 5,
    "start_time": "2021-08-04T16:59:11.386Z"
   },
   {
    "duration": 206,
    "start_time": "2021-08-04T16:59:11.392Z"
   },
   {
    "duration": 221,
    "start_time": "2021-08-05T13:02:41.640Z"
   },
   {
    "duration": 1091,
    "start_time": "2021-08-05T13:02:49.147Z"
   },
   {
    "duration": 97,
    "start_time": "2021-08-05T13:02:50.240Z"
   },
   {
    "duration": 18,
    "start_time": "2021-08-05T13:02:50.339Z"
   },
   {
    "duration": 30,
    "start_time": "2021-08-05T13:02:50.359Z"
   },
   {
    "duration": 6,
    "start_time": "2021-08-05T13:02:50.391Z"
   },
   {
    "duration": 12,
    "start_time": "2021-08-05T13:02:50.399Z"
   },
   {
    "duration": 220,
    "start_time": "2021-08-05T13:02:50.413Z"
   },
   {
    "duration": 5,
    "start_time": "2021-08-05T13:03:11.413Z"
   },
   {
    "duration": 7,
    "start_time": "2021-08-05T13:03:37.732Z"
   },
   {
    "duration": 7,
    "start_time": "2021-08-05T13:11:36.143Z"
   },
   {
    "duration": 15,
    "start_time": "2021-08-05T13:11:56.813Z"
   },
   {
    "duration": 12,
    "start_time": "2021-08-05T13:12:29.253Z"
   },
   {
    "duration": 14,
    "start_time": "2021-08-05T13:12:48.294Z"
   },
   {
    "duration": 8,
    "start_time": "2021-08-05T13:13:01.042Z"
   },
   {
    "duration": 268,
    "start_time": "2021-08-05T13:13:29.141Z"
   },
   {
    "duration": 6,
    "start_time": "2021-08-05T13:13:50.111Z"
   },
   {
    "duration": 11,
    "start_time": "2021-08-05T13:17:23.168Z"
   },
   {
    "duration": 10,
    "start_time": "2021-08-05T13:17:32.800Z"
   },
   {
    "duration": 14,
    "start_time": "2021-08-05T13:17:35.413Z"
   },
   {
    "duration": 1085,
    "start_time": "2021-08-05T13:17:51.105Z"
   },
   {
    "duration": 102,
    "start_time": "2021-08-05T13:17:52.192Z"
   },
   {
    "duration": 17,
    "start_time": "2021-08-05T13:17:52.296Z"
   },
   {
    "duration": 25,
    "start_time": "2021-08-05T13:17:52.315Z"
   },
   {
    "duration": 4,
    "start_time": "2021-08-05T13:17:52.342Z"
   },
   {
    "duration": 13,
    "start_time": "2021-08-05T13:17:52.347Z"
   },
   {
    "duration": 36,
    "start_time": "2021-08-05T13:17:52.361Z"
   },
   {
    "duration": 14,
    "start_time": "2021-08-05T13:17:52.400Z"
   },
   {
    "duration": 6,
    "start_time": "2021-08-05T13:17:52.417Z"
   },
   {
    "duration": 238,
    "start_time": "2021-08-05T13:17:52.424Z"
   },
   {
    "duration": 290,
    "start_time": "2021-08-05T13:19:30.029Z"
   },
   {
    "duration": 194,
    "start_time": "2021-08-05T13:19:38.089Z"
   },
   {
    "duration": 12,
    "start_time": "2021-08-05T13:19:55.128Z"
   },
   {
    "duration": 175,
    "start_time": "2021-08-05T13:25:21.800Z"
   },
   {
    "duration": 546,
    "start_time": "2021-08-05T20:39:57.205Z"
   },
   {
    "duration": 1584,
    "start_time": "2021-08-05T20:40:07.244Z"
   },
   {
    "duration": 113,
    "start_time": "2021-08-05T20:40:08.831Z"
   },
   {
    "duration": 23,
    "start_time": "2021-08-05T20:40:08.947Z"
   },
   {
    "duration": 49,
    "start_time": "2021-08-05T20:40:08.973Z"
   },
   {
    "duration": 8,
    "start_time": "2021-08-05T20:40:09.024Z"
   },
   {
    "duration": 11,
    "start_time": "2021-08-05T20:40:09.034Z"
   },
   {
    "duration": 522,
    "start_time": "2021-08-05T20:40:09.087Z"
   },
   {
    "duration": -25,
    "start_time": "2021-08-05T20:40:09.636Z"
   },
   {
    "duration": -26,
    "start_time": "2021-08-05T20:40:09.639Z"
   },
   {
    "duration": -28,
    "start_time": "2021-08-05T20:40:09.642Z"
   },
   {
    "duration": 423,
    "start_time": "2021-08-05T20:40:30.551Z"
   },
   {
    "duration": 10,
    "start_time": "2021-08-05T20:41:07.447Z"
   },
   {
    "duration": 17,
    "start_time": "2021-08-05T20:41:20.603Z"
   },
   {
    "duration": 6,
    "start_time": "2021-08-05T20:42:00.665Z"
   },
   {
    "duration": 27,
    "start_time": "2021-08-05T20:42:05.705Z"
   },
   {
    "duration": 30,
    "start_time": "2021-08-05T20:43:38.530Z"
   },
   {
    "duration": 27,
    "start_time": "2021-08-05T20:43:46.006Z"
   },
   {
    "duration": 9,
    "start_time": "2021-08-05T20:45:20.083Z"
   },
   {
    "duration": 29,
    "start_time": "2021-08-05T21:42:09.056Z"
   },
   {
    "duration": 10,
    "start_time": "2021-08-05T21:42:56.086Z"
   },
   {
    "duration": 31,
    "start_time": "2021-08-05T21:43:00.130Z"
   },
   {
    "duration": -192,
    "start_time": "2021-08-05T21:43:53.498Z"
   },
   {
    "duration": 1627,
    "start_time": "2021-08-05T21:43:57.368Z"
   },
   {
    "duration": 115,
    "start_time": "2021-08-05T21:43:58.998Z"
   },
   {
    "duration": 24,
    "start_time": "2021-08-05T21:43:59.116Z"
   },
   {
    "duration": 45,
    "start_time": "2021-08-05T21:43:59.143Z"
   },
   {
    "duration": 6,
    "start_time": "2021-08-05T21:43:59.190Z"
   },
   {
    "duration": 12,
    "start_time": "2021-08-05T21:43:59.198Z"
   },
   {
    "duration": 10532,
    "start_time": "2021-08-05T21:43:59.212Z"
   },
   {
    "duration": -113,
    "start_time": "2021-08-05T21:44:09.861Z"
   },
   {
    "duration": -114,
    "start_time": "2021-08-05T21:44:09.864Z"
   },
   {
    "duration": -114,
    "start_time": "2021-08-05T21:44:09.866Z"
   },
   {
    "duration": 32,
    "start_time": "2021-08-05T21:44:21.651Z"
   },
   {
    "duration": 31,
    "start_time": "2021-08-05T21:45:00.072Z"
   },
   {
    "duration": 7695,
    "start_time": "2021-08-05T21:45:43.968Z"
   },
   {
    "duration": 2721,
    "start_time": "2021-08-05T21:46:02.753Z"
   },
   {
    "duration": 27,
    "start_time": "2021-08-05T21:46:54.634Z"
   },
   {
    "duration": 466,
    "start_time": "2021-08-05T21:51:17.987Z"
   },
   {
    "duration": 131,
    "start_time": "2021-08-05T21:51:28.903Z"
   },
   {
    "duration": 27,
    "start_time": "2021-08-05T21:51:43.666Z"
   },
   {
    "duration": 12,
    "start_time": "2021-08-05T21:53:05.139Z"
   },
   {
    "duration": 27,
    "start_time": "2021-08-05T21:54:04.075Z"
   },
   {
    "duration": 15,
    "start_time": "2021-08-05T21:54:07.021Z"
   },
   {
    "duration": 19,
    "start_time": "2021-08-05T21:54:09.710Z"
   },
   {
    "duration": 409,
    "start_time": "2021-08-05T21:54:16.656Z"
   },
   {
    "duration": 12,
    "start_time": "2021-08-05T21:55:16.900Z"
   },
   {
    "duration": 6,
    "start_time": "2021-08-05T21:56:54.071Z"
   },
   {
    "duration": 6,
    "start_time": "2021-08-05T21:57:02.122Z"
   },
   {
    "duration": 8,
    "start_time": "2021-08-05T21:57:43.643Z"
   },
   {
    "duration": 403,
    "start_time": "2021-08-05T22:06:40.261Z"
   },
   {
    "duration": 10027,
    "start_time": "2021-08-05T22:06:59.083Z"
   },
   {
    "duration": 2651,
    "start_time": "2021-08-05T22:07:21.247Z"
   },
   {
    "duration": 13,
    "start_time": "2021-08-05T22:11:15.649Z"
   },
   {
    "duration": 11,
    "start_time": "2021-08-05T22:11:20.065Z"
   },
   {
    "duration": 2694,
    "start_time": "2021-08-05T22:14:56.837Z"
   },
   {
    "duration": 8,
    "start_time": "2021-08-05T22:15:24.012Z"
   },
   {
    "duration": 21,
    "start_time": "2021-08-05T22:15:33.991Z"
   },
   {
    "duration": 30,
    "start_time": "2021-08-05T22:15:43.352Z"
   },
   {
    "duration": 95,
    "start_time": "2021-08-06T01:50:30.871Z"
   },
   {
    "duration": 337,
    "start_time": "2021-08-06T01:50:48.070Z"
   },
   {
    "duration": 1383,
    "start_time": "2021-08-06T01:50:55.032Z"
   },
   {
    "duration": 98,
    "start_time": "2021-08-06T01:50:56.417Z"
   },
   {
    "duration": 22,
    "start_time": "2021-08-06T01:50:56.518Z"
   },
   {
    "duration": 59,
    "start_time": "2021-08-06T01:50:56.543Z"
   },
   {
    "duration": 7,
    "start_time": "2021-08-06T01:50:56.605Z"
   },
   {
    "duration": 10,
    "start_time": "2021-08-06T01:50:56.616Z"
   },
   {
    "duration": 55,
    "start_time": "2021-08-06T01:50:56.629Z"
   },
   {
    "duration": 2827,
    "start_time": "2021-08-06T01:50:56.688Z"
   },
   {
    "duration": -148,
    "start_time": "2021-08-06T01:50:59.667Z"
   },
   {
    "duration": -148,
    "start_time": "2021-08-06T01:50:59.669Z"
   },
   {
    "duration": -149,
    "start_time": "2021-08-06T01:50:59.672Z"
   },
   {
    "duration": -148,
    "start_time": "2021-08-06T01:50:59.673Z"
   },
   {
    "duration": 657,
    "start_time": "2021-08-06T01:51:38.739Z"
   },
   {
    "duration": 29,
    "start_time": "2021-08-06T01:52:18.607Z"
   },
   {
    "duration": 33,
    "start_time": "2021-08-06T01:52:43.865Z"
   },
   {
    "duration": 1402,
    "start_time": "2021-08-06T01:52:58.668Z"
   },
   {
    "duration": 95,
    "start_time": "2021-08-06T01:53:00.073Z"
   },
   {
    "duration": 26,
    "start_time": "2021-08-06T01:53:00.171Z"
   },
   {
    "duration": 40,
    "start_time": "2021-08-06T01:53:00.200Z"
   },
   {
    "duration": 6,
    "start_time": "2021-08-06T01:53:00.243Z"
   },
   {
    "duration": 12,
    "start_time": "2021-08-06T01:53:00.282Z"
   },
   {
    "duration": 15,
    "start_time": "2021-08-06T01:53:00.297Z"
   },
   {
    "duration": 32,
    "start_time": "2021-08-06T01:53:00.315Z"
   },
   {
    "duration": 62,
    "start_time": "2021-08-06T01:53:00.349Z"
   },
   {
    "duration": 25,
    "start_time": "2021-08-06T01:53:00.413Z"
   },
   {
    "duration": 49,
    "start_time": "2021-08-06T01:53:00.441Z"
   },
   {
    "duration": 348,
    "start_time": "2021-08-06T01:53:00.493Z"
   },
   {
    "duration": 19,
    "start_time": "2021-08-06T01:53:08.100Z"
   },
   {
    "duration": 33,
    "start_time": "2021-08-06T01:53:25.792Z"
   },
   {
    "duration": 33,
    "start_time": "2021-08-06T01:53:50.606Z"
   },
   {
    "duration": 17,
    "start_time": "2021-08-06T01:53:58.325Z"
   },
   {
    "duration": 10,
    "start_time": "2021-08-06T01:54:06.564Z"
   },
   {
    "duration": 31,
    "start_time": "2021-08-06T01:55:00.926Z"
   },
   {
    "duration": 6783,
    "start_time": "2021-08-06T01:55:19.721Z"
   },
   {
    "duration": 314,
    "start_time": "2021-08-06T01:55:31.574Z"
   },
   {
    "duration": 14,
    "start_time": "2021-08-06T01:56:05.864Z"
   },
   {
    "duration": 15,
    "start_time": "2021-08-06T01:56:21.467Z"
   },
   {
    "duration": 12,
    "start_time": "2021-08-06T01:56:35.332Z"
   },
   {
    "duration": 54,
    "start_time": "2021-08-06T01:56:52.759Z"
   },
   {
    "duration": 8,
    "start_time": "2021-08-06T01:56:57.000Z"
   },
   {
    "duration": 20,
    "start_time": "2021-08-06T01:58:53.478Z"
   },
   {
    "duration": 13,
    "start_time": "2021-08-06T01:59:18.725Z"
   },
   {
    "duration": 20,
    "start_time": "2021-08-06T01:59:27.676Z"
   },
   {
    "duration": 13,
    "start_time": "2021-08-06T02:00:07.911Z"
   },
   {
    "duration": 31,
    "start_time": "2021-08-06T02:00:12.254Z"
   },
   {
    "duration": 1520,
    "start_time": "2021-08-06T02:06:34.072Z"
   },
   {
    "duration": 96,
    "start_time": "2021-08-06T02:06:35.596Z"
   },
   {
    "duration": 22,
    "start_time": "2021-08-06T02:06:35.695Z"
   },
   {
    "duration": 64,
    "start_time": "2021-08-06T02:06:35.720Z"
   },
   {
    "duration": 8,
    "start_time": "2021-08-06T02:06:35.786Z"
   },
   {
    "duration": 10,
    "start_time": "2021-08-06T02:06:35.797Z"
   },
   {
    "duration": 12,
    "start_time": "2021-08-06T02:06:35.810Z"
   },
   {
    "duration": 81,
    "start_time": "2021-08-06T02:06:35.825Z"
   },
   {
    "duration": 31,
    "start_time": "2021-08-06T02:06:35.911Z"
   },
   {
    "duration": 52,
    "start_time": "2021-08-06T02:06:35.945Z"
   },
   {
    "duration": 8,
    "start_time": "2021-08-06T02:06:36.000Z"
   },
   {
    "duration": 348,
    "start_time": "2021-08-06T02:06:36.011Z"
   },
   {
    "duration": 29,
    "start_time": "2021-08-06T02:07:05.538Z"
   },
   {
    "duration": 1403,
    "start_time": "2021-08-06T02:07:11.933Z"
   },
   {
    "duration": 95,
    "start_time": "2021-08-06T02:07:13.339Z"
   },
   {
    "duration": 22,
    "start_time": "2021-08-06T02:07:13.436Z"
   },
   {
    "duration": 46,
    "start_time": "2021-08-06T02:07:13.461Z"
   },
   {
    "duration": 6,
    "start_time": "2021-08-06T02:07:13.510Z"
   },
   {
    "duration": 20,
    "start_time": "2021-08-06T02:07:13.519Z"
   },
   {
    "duration": 28,
    "start_time": "2021-08-06T02:07:13.542Z"
   },
   {
    "duration": 49,
    "start_time": "2021-08-06T02:07:13.574Z"
   },
   {
    "duration": 9,
    "start_time": "2021-08-06T02:07:13.626Z"
   },
   {
    "duration": 44,
    "start_time": "2021-08-06T02:07:13.638Z"
   },
   {
    "duration": 9,
    "start_time": "2021-08-06T02:07:13.685Z"
   },
   {
    "duration": 338,
    "start_time": "2021-08-06T02:07:13.697Z"
   },
   {
    "duration": 13,
    "start_time": "2021-08-06T02:07:33.562Z"
   },
   {
    "duration": 31,
    "start_time": "2021-08-06T02:07:43.017Z"
   },
   {
    "duration": 31,
    "start_time": "2021-08-06T02:08:07.240Z"
   },
   {
    "duration": 32,
    "start_time": "2021-08-06T02:08:13.324Z"
   },
   {
    "duration": 31,
    "start_time": "2021-08-06T02:12:51.102Z"
   },
   {
    "duration": 33,
    "start_time": "2021-08-06T02:13:04.838Z"
   },
   {
    "duration": 30,
    "start_time": "2021-08-06T02:13:14.216Z"
   },
   {
    "duration": 42,
    "start_time": "2021-08-06T02:13:20.155Z"
   },
   {
    "duration": 16,
    "start_time": "2021-08-06T02:13:26.079Z"
   },
   {
    "duration": 36,
    "start_time": "2021-08-06T02:13:30.267Z"
   },
   {
    "duration": 1433,
    "start_time": "2021-08-06T02:14:13.961Z"
   },
   {
    "duration": 91,
    "start_time": "2021-08-06T02:14:15.397Z"
   },
   {
    "duration": 24,
    "start_time": "2021-08-06T02:14:15.492Z"
   },
   {
    "duration": 64,
    "start_time": "2021-08-06T02:14:15.518Z"
   },
   {
    "duration": 9,
    "start_time": "2021-08-06T02:14:15.585Z"
   },
   {
    "duration": 13,
    "start_time": "2021-08-06T02:14:15.597Z"
   },
   {
    "duration": 11,
    "start_time": "2021-08-06T02:14:15.612Z"
   },
   {
    "duration": 2691,
    "start_time": "2021-08-06T02:14:15.625Z"
   },
   {
    "duration": -84,
    "start_time": "2021-08-06T02:14:18.404Z"
   },
   {
    "duration": -84,
    "start_time": "2021-08-06T02:14:18.406Z"
   },
   {
    "duration": -84,
    "start_time": "2021-08-06T02:14:18.408Z"
   },
   {
    "duration": -83,
    "start_time": "2021-08-06T02:14:18.409Z"
   },
   {
    "duration": 31,
    "start_time": "2021-08-06T02:14:29.199Z"
   },
   {
    "duration": 42,
    "start_time": "2021-08-06T02:14:38.982Z"
   },
   {
    "duration": 30,
    "start_time": "2021-08-06T02:14:52.217Z"
   },
   {
    "duration": 27,
    "start_time": "2021-08-06T02:14:56.417Z"
   },
   {
    "duration": 1233,
    "start_time": "2021-08-06T02:15:10.242Z"
   },
   {
    "duration": 28,
    "start_time": "2021-08-06T02:15:11.952Z"
   },
   {
    "duration": 28,
    "start_time": "2021-08-06T02:15:17.254Z"
   },
   {
    "duration": 12,
    "start_time": "2021-08-06T02:15:28.854Z"
   },
   {
    "duration": 35,
    "start_time": "2021-08-06T02:15:33.969Z"
   },
   {
    "duration": 47,
    "start_time": "2021-08-06T02:16:27.688Z"
   },
   {
    "duration": 33,
    "start_time": "2021-08-06T02:18:40.540Z"
   },
   {
    "duration": 1345,
    "start_time": "2021-08-06T02:18:47.843Z"
   },
   {
    "duration": 95,
    "start_time": "2021-08-06T02:18:49.191Z"
   },
   {
    "duration": 26,
    "start_time": "2021-08-06T02:18:49.290Z"
   },
   {
    "duration": 38,
    "start_time": "2021-08-06T02:18:49.319Z"
   },
   {
    "duration": 6,
    "start_time": "2021-08-06T02:18:49.383Z"
   },
   {
    "duration": 10,
    "start_time": "2021-08-06T02:18:49.391Z"
   },
   {
    "duration": 11,
    "start_time": "2021-08-06T02:18:49.403Z"
   },
   {
    "duration": 75,
    "start_time": "2021-08-06T02:18:49.417Z"
   },
   {
    "duration": 31,
    "start_time": "2021-08-06T02:18:49.497Z"
   },
   {
    "duration": 26,
    "start_time": "2021-08-06T02:18:49.531Z"
   },
   {
    "duration": 31,
    "start_time": "2021-08-06T02:18:49.559Z"
   },
   {
    "duration": 319,
    "start_time": "2021-08-06T02:18:49.593Z"
   },
   {
    "duration": 40,
    "start_time": "2021-08-06T02:20:04.370Z"
   },
   {
    "duration": 1385,
    "start_time": "2021-08-06T02:20:11.912Z"
   },
   {
    "duration": 93,
    "start_time": "2021-08-06T02:20:13.299Z"
   },
   {
    "duration": 23,
    "start_time": "2021-08-06T02:20:13.396Z"
   },
   {
    "duration": 72,
    "start_time": "2021-08-06T02:20:13.423Z"
   },
   {
    "duration": 6,
    "start_time": "2021-08-06T02:20:13.498Z"
   },
   {
    "duration": 10,
    "start_time": "2021-08-06T02:20:13.506Z"
   },
   {
    "duration": 12,
    "start_time": "2021-08-06T02:20:13.518Z"
   },
   {
    "duration": 2946,
    "start_time": "2021-08-06T02:20:13.532Z"
   },
   {
    "duration": -115,
    "start_time": "2021-08-06T02:20:16.596Z"
   },
   {
    "duration": -116,
    "start_time": "2021-08-06T02:20:16.599Z"
   },
   {
    "duration": -117,
    "start_time": "2021-08-06T02:20:16.601Z"
   },
   {
    "duration": -125,
    "start_time": "2021-08-06T02:20:16.611Z"
   },
   {
    "duration": 29,
    "start_time": "2021-08-06T02:20:52.936Z"
   },
   {
    "duration": 10,
    "start_time": "2021-08-06T02:24:23.030Z"
   },
   {
    "duration": 36,
    "start_time": "2021-08-06T02:24:26.879Z"
   },
   {
    "duration": 35,
    "start_time": "2021-08-06T02:25:50.730Z"
   },
   {
    "duration": 33,
    "start_time": "2021-08-06T02:26:03.114Z"
   },
   {
    "duration": 1413,
    "start_time": "2021-08-06T02:26:21.790Z"
   },
   {
    "duration": 95,
    "start_time": "2021-08-06T02:26:23.206Z"
   },
   {
    "duration": 23,
    "start_time": "2021-08-06T02:26:23.303Z"
   },
   {
    "duration": 59,
    "start_time": "2021-08-06T02:26:23.329Z"
   },
   {
    "duration": 8,
    "start_time": "2021-08-06T02:26:23.391Z"
   },
   {
    "duration": 15,
    "start_time": "2021-08-06T02:26:23.402Z"
   },
   {
    "duration": 17,
    "start_time": "2021-08-06T02:26:23.419Z"
   },
   {
    "duration": 67,
    "start_time": "2021-08-06T02:26:23.439Z"
   },
   {
    "duration": 32,
    "start_time": "2021-08-06T02:26:23.509Z"
   },
   {
    "duration": 50,
    "start_time": "2021-08-06T02:26:23.544Z"
   },
   {
    "duration": 8,
    "start_time": "2021-08-06T02:26:23.596Z"
   },
   {
    "duration": 335,
    "start_time": "2021-08-06T02:26:23.606Z"
   },
   {
    "duration": 32,
    "start_time": "2021-08-06T02:28:07.299Z"
   },
   {
    "duration": 1365,
    "start_time": "2021-08-06T02:28:13.621Z"
   },
   {
    "duration": 94,
    "start_time": "2021-08-06T02:28:14.989Z"
   },
   {
    "duration": 26,
    "start_time": "2021-08-06T02:28:15.088Z"
   },
   {
    "duration": 67,
    "start_time": "2021-08-06T02:28:15.117Z"
   },
   {
    "duration": 9,
    "start_time": "2021-08-06T02:28:15.186Z"
   },
   {
    "duration": 10,
    "start_time": "2021-08-06T02:28:15.198Z"
   },
   {
    "duration": 12,
    "start_time": "2021-08-06T02:28:15.211Z"
   },
   {
    "duration": 86,
    "start_time": "2021-08-06T02:28:15.226Z"
   },
   {
    "duration": 33,
    "start_time": "2021-08-06T02:28:15.315Z"
   },
   {
    "duration": 51,
    "start_time": "2021-08-06T02:28:15.350Z"
   },
   {
    "duration": 7,
    "start_time": "2021-08-06T02:28:15.404Z"
   },
   {
    "duration": 344,
    "start_time": "2021-08-06T02:28:15.413Z"
   },
   {
    "duration": 20,
    "start_time": "2021-08-06T02:28:54.931Z"
   },
   {
    "duration": 1445,
    "start_time": "2021-08-07T14:26:24.852Z"
   },
   {
    "duration": 104,
    "start_time": "2021-08-07T14:26:26.300Z"
   },
   {
    "duration": 21,
    "start_time": "2021-08-07T14:26:26.407Z"
   },
   {
    "duration": 39,
    "start_time": "2021-08-07T14:26:26.431Z"
   },
   {
    "duration": 6,
    "start_time": "2021-08-07T14:26:26.473Z"
   },
   {
    "duration": 9,
    "start_time": "2021-08-07T14:26:26.481Z"
   },
   {
    "duration": 11,
    "start_time": "2021-08-07T14:26:26.492Z"
   },
   {
    "duration": 8763,
    "start_time": "2021-08-07T14:26:26.505Z"
   },
   {
    "duration": -131,
    "start_time": "2021-08-07T14:26:35.403Z"
   },
   {
    "duration": -132,
    "start_time": "2021-08-07T14:26:35.405Z"
   },
   {
    "duration": -132,
    "start_time": "2021-08-07T14:26:35.407Z"
   },
   {
    "duration": -133,
    "start_time": "2021-08-07T14:26:35.410Z"
   },
   {
    "duration": 31,
    "start_time": "2021-08-07T14:27:06.248Z"
   },
   {
    "duration": 19,
    "start_time": "2021-08-07T14:27:08.384Z"
   },
   {
    "duration": 29,
    "start_time": "2021-08-07T14:27:14.355Z"
   },
   {
    "duration": 6,
    "start_time": "2021-08-07T14:28:28.140Z"
   },
   {
    "duration": 352,
    "start_time": "2021-08-07T14:28:32.360Z"
   },
   {
    "duration": 30,
    "start_time": "2021-08-07T14:28:34.436Z"
   },
   {
    "duration": 34,
    "start_time": "2021-08-07T14:28:48.674Z"
   },
   {
    "duration": 311,
    "start_time": "2021-08-07T14:30:59.864Z"
   },
   {
    "duration": 14,
    "start_time": "2021-08-07T14:33:20.397Z"
   },
   {
    "duration": 15,
    "start_time": "2021-08-07T14:33:41.652Z"
   },
   {
    "duration": 350,
    "start_time": "2021-08-07T15:08:20.446Z"
   },
   {
    "duration": 20,
    "start_time": "2021-08-07T15:10:56.272Z"
   },
   {
    "duration": 111,
    "start_time": "2021-08-07T15:11:14.270Z"
   },
   {
    "duration": 333,
    "start_time": "2021-08-07T15:11:19.060Z"
   },
   {
    "duration": 364,
    "start_time": "2021-08-07T15:13:38.969Z"
   },
   {
    "duration": 19,
    "start_time": "2021-08-07T15:15:31.793Z"
   },
   {
    "duration": 53,
    "start_time": "2021-08-07T15:15:40.309Z"
   },
   {
    "duration": 337,
    "start_time": "2021-08-07T15:16:09.215Z"
   },
   {
    "duration": 1441,
    "start_time": "2021-08-07T15:16:22.046Z"
   },
   {
    "duration": 107,
    "start_time": "2021-08-07T15:16:23.490Z"
   },
   {
    "duration": 23,
    "start_time": "2021-08-07T15:16:23.600Z"
   },
   {
    "duration": 46,
    "start_time": "2021-08-07T15:16:23.628Z"
   },
   {
    "duration": 7,
    "start_time": "2021-08-07T15:16:23.676Z"
   },
   {
    "duration": 10,
    "start_time": "2021-08-07T15:16:23.686Z"
   },
   {
    "duration": 11,
    "start_time": "2021-08-07T15:16:23.699Z"
   },
   {
    "duration": 28,
    "start_time": "2021-08-07T15:16:23.757Z"
   },
   {
    "duration": 19,
    "start_time": "2021-08-07T15:16:23.788Z"
   },
   {
    "duration": 55,
    "start_time": "2021-08-07T15:16:23.809Z"
   },
   {
    "duration": 30,
    "start_time": "2021-08-07T15:16:23.867Z"
   },
   {
    "duration": 7,
    "start_time": "2021-08-07T15:16:23.899Z"
   },
   {
    "duration": 339,
    "start_time": "2021-08-07T15:16:23.909Z"
   },
   {
    "duration": 16,
    "start_time": "2021-08-07T15:16:24.255Z"
   },
   {
    "duration": 470,
    "start_time": "2021-08-07T15:16:24.273Z"
   },
   {
    "duration": 358,
    "start_time": "2021-08-07T15:21:32.966Z"
   },
   {
    "duration": 11,
    "start_time": "2021-08-07T15:23:28.718Z"
   },
   {
    "duration": 10,
    "start_time": "2021-08-07T15:23:38.580Z"
   },
   {
    "duration": 400,
    "start_time": "2021-08-07T15:25:07.371Z"
   },
   {
    "duration": 502,
    "start_time": "2021-08-07T15:28:54.352Z"
   },
   {
    "duration": 26,
    "start_time": "2021-08-07T15:29:20.212Z"
   },
   {
    "duration": 28,
    "start_time": "2021-08-07T15:29:32.703Z"
   },
   {
    "duration": 364,
    "start_time": "2021-08-07T15:29:40.829Z"
   },
   {
    "duration": 1448,
    "start_time": "2021-08-07T15:37:45.990Z"
   },
   {
    "duration": 104,
    "start_time": "2021-08-07T15:37:47.440Z"
   },
   {
    "duration": 22,
    "start_time": "2021-08-07T15:37:47.547Z"
   },
   {
    "duration": 45,
    "start_time": "2021-08-07T15:37:47.571Z"
   },
   {
    "duration": 40,
    "start_time": "2021-08-07T15:37:47.619Z"
   },
   {
    "duration": 8,
    "start_time": "2021-08-07T15:37:47.662Z"
   },
   {
    "duration": 11,
    "start_time": "2021-08-07T15:37:47.673Z"
   },
   {
    "duration": 29,
    "start_time": "2021-08-07T15:37:47.687Z"
   },
   {
    "duration": 56,
    "start_time": "2021-08-07T15:37:47.718Z"
   },
   {
    "duration": 30,
    "start_time": "2021-08-07T15:37:47.776Z"
   },
   {
    "duration": 59,
    "start_time": "2021-08-07T15:37:47.808Z"
   },
   {
    "duration": 6,
    "start_time": "2021-08-07T15:37:47.869Z"
   },
   {
    "duration": 338,
    "start_time": "2021-08-07T15:37:47.877Z"
   },
   {
    "duration": 14,
    "start_time": "2021-08-07T15:37:48.218Z"
   },
   {
    "duration": 28,
    "start_time": "2021-08-07T15:37:48.234Z"
   },
   {
    "duration": 13,
    "start_time": "2021-08-07T15:37:48.265Z"
   },
   {
    "duration": 621,
    "start_time": "2021-08-07T15:37:48.280Z"
   },
   {
    "duration": 53,
    "start_time": "2021-08-07T15:42:37.103Z"
   },
   {
    "duration": 360,
    "start_time": "2021-08-07T15:43:28.265Z"
   },
   {
    "duration": 55,
    "start_time": "2021-08-07T15:43:44.789Z"
   },
   {
    "duration": 33,
    "start_time": "2021-08-07T15:44:03.436Z"
   },
   {
    "duration": 44,
    "start_time": "2021-08-07T15:44:15.375Z"
   },
   {
    "duration": 35,
    "start_time": "2021-08-07T15:44:21.164Z"
   },
   {
    "duration": 5,
    "start_time": "2021-08-07T15:47:03.520Z"
   },
   {
    "duration": 41,
    "start_time": "2021-08-07T15:47:15.808Z"
   },
   {
    "duration": 45,
    "start_time": "2021-08-07T15:50:33.736Z"
   },
   {
    "duration": 60,
    "start_time": "2021-08-07T15:50:36.888Z"
   },
   {
    "duration": 336,
    "start_time": "2021-08-07T16:08:21.639Z"
   },
   {
    "duration": 11,
    "start_time": "2021-08-07T16:08:30.346Z"
   },
   {
    "duration": 15,
    "start_time": "2021-08-07T16:27:21.361Z"
   },
   {
    "duration": 14,
    "start_time": "2021-08-07T16:27:36.792Z"
   },
   {
    "duration": 7,
    "start_time": "2021-08-07T16:27:46.672Z"
   },
   {
    "duration": 6,
    "start_time": "2021-08-07T16:27:51.277Z"
   },
   {
    "duration": 422,
    "start_time": "2021-08-07T16:28:00.350Z"
   },
   {
    "duration": 1877,
    "start_time": "2021-08-07T16:32:24.585Z"
   },
   {
    "duration": 122,
    "start_time": "2021-08-07T16:32:26.466Z"
   },
   {
    "duration": 30,
    "start_time": "2021-08-07T16:32:26.592Z"
   },
   {
    "duration": 55,
    "start_time": "2021-08-07T16:32:26.626Z"
   },
   {
    "duration": 9,
    "start_time": "2021-08-07T16:32:26.684Z"
   },
   {
    "duration": 10,
    "start_time": "2021-08-07T16:32:26.696Z"
   },
   {
    "duration": 56,
    "start_time": "2021-08-07T16:32:26.708Z"
   },
   {
    "duration": 29,
    "start_time": "2021-08-07T16:32:26.766Z"
   },
   {
    "duration": 21,
    "start_time": "2021-08-07T16:32:26.799Z"
   },
   {
    "duration": 63,
    "start_time": "2021-08-07T16:32:26.823Z"
   },
   {
    "duration": 7,
    "start_time": "2021-08-07T16:32:26.889Z"
   },
   {
    "duration": 364,
    "start_time": "2021-08-07T16:32:26.898Z"
   },
   {
    "duration": 14,
    "start_time": "2021-08-07T16:32:27.264Z"
   },
   {
    "duration": 43,
    "start_time": "2021-08-07T16:32:27.280Z"
   },
   {
    "duration": 89,
    "start_time": "2021-08-07T16:32:27.325Z"
   },
   {
    "duration": 10,
    "start_time": "2021-08-07T16:32:27.416Z"
   },
   {
    "duration": 10,
    "start_time": "2021-08-07T16:51:29.839Z"
   },
   {
    "duration": 8,
    "start_time": "2021-08-07T16:51:53.421Z"
   },
   {
    "duration": 495,
    "start_time": "2021-08-07T17:01:06.620Z"
   },
   {
    "duration": 416,
    "start_time": "2021-08-07T17:06:13.303Z"
   },
   {
    "duration": 5,
    "start_time": "2021-08-07T17:06:25.726Z"
   },
   {
    "duration": 7,
    "start_time": "2021-08-07T17:06:50.091Z"
   },
   {
    "duration": 2547,
    "start_time": "2021-08-07T17:11:03.378Z"
   },
   {
    "duration": 437,
    "start_time": "2021-08-07T17:11:53.943Z"
   },
   {
    "duration": 13,
    "start_time": "2021-08-07T17:11:57.220Z"
   },
   {
    "duration": 11,
    "start_time": "2021-08-07T17:12:12.628Z"
   },
   {
    "duration": 11,
    "start_time": "2021-08-07T17:12:16.273Z"
   },
   {
    "duration": 8,
    "start_time": "2021-08-07T17:12:28.287Z"
   },
   {
    "duration": 10,
    "start_time": "2021-08-07T17:12:35.317Z"
   },
   {
    "duration": 8,
    "start_time": "2021-08-07T17:12:44.611Z"
   },
   {
    "duration": 7,
    "start_time": "2021-08-07T17:12:49.000Z"
   },
   {
    "duration": 10,
    "start_time": "2021-08-07T17:14:14.933Z"
   },
   {
    "duration": 9,
    "start_time": "2021-08-07T17:14:43.494Z"
   },
   {
    "duration": 262,
    "start_time": "2021-08-07T17:15:03.376Z"
   },
   {
    "duration": 511,
    "start_time": "2021-08-07T17:15:11.178Z"
   },
   {
    "duration": 383,
    "start_time": "2021-08-07T17:15:17.335Z"
   },
   {
    "duration": 10,
    "start_time": "2021-08-07T17:26:10.995Z"
   },
   {
    "duration": 1390,
    "start_time": "2021-08-07T17:26:55.389Z"
   },
   {
    "duration": 103,
    "start_time": "2021-08-07T17:26:56.782Z"
   },
   {
    "duration": 23,
    "start_time": "2021-08-07T17:26:56.888Z"
   },
   {
    "duration": 50,
    "start_time": "2021-08-07T17:26:56.913Z"
   },
   {
    "duration": 6,
    "start_time": "2021-08-07T17:26:56.965Z"
   },
   {
    "duration": 21,
    "start_time": "2021-08-07T17:26:56.973Z"
   },
   {
    "duration": 10,
    "start_time": "2021-08-07T17:26:56.997Z"
   },
   {
    "duration": 52,
    "start_time": "2021-08-07T17:26:57.010Z"
   },
   {
    "duration": 29,
    "start_time": "2021-08-07T17:26:57.065Z"
   },
   {
    "duration": 72,
    "start_time": "2021-08-07T17:26:57.097Z"
   },
   {
    "duration": 8,
    "start_time": "2021-08-07T17:26:57.172Z"
   },
   {
    "duration": 360,
    "start_time": "2021-08-07T17:26:57.183Z"
   },
   {
    "duration": 17,
    "start_time": "2021-08-07T17:26:57.545Z"
   },
   {
    "duration": 408,
    "start_time": "2021-08-07T17:26:57.564Z"
   },
   {
    "duration": 13,
    "start_time": "2021-08-07T17:26:57.975Z"
   },
   {
    "duration": 65,
    "start_time": "2021-08-07T17:26:57.991Z"
   },
   {
    "duration": 56,
    "start_time": "2021-08-07T17:26:58.059Z"
   },
   {
    "duration": 11,
    "start_time": "2021-08-07T17:26:58.118Z"
   },
   {
    "duration": 467,
    "start_time": "2021-08-07T17:27:07.971Z"
   },
   {
    "duration": 15,
    "start_time": "2021-08-07T17:27:15.336Z"
   },
   {
    "duration": 343,
    "start_time": "2021-08-07T18:54:29.231Z"
   },
   {
    "duration": 1491,
    "start_time": "2021-08-07T18:55:00.921Z"
   },
   {
    "duration": 6,
    "start_time": "2021-08-07T19:46:18.030Z"
   },
   {
    "duration": 57,
    "start_time": "2021-08-07T19:46:28.247Z"
   },
   {
    "duration": 65,
    "start_time": "2021-08-07T19:46:40.660Z"
   },
   {
    "duration": 18,
    "start_time": "2021-08-07T19:46:58.521Z"
   },
   {
    "duration": 19,
    "start_time": "2021-08-07T19:51:53.967Z"
   },
   {
    "duration": 18,
    "start_time": "2021-08-07T19:52:04.292Z"
   },
   {
    "duration": 43,
    "start_time": "2021-08-07T19:59:53.915Z"
   },
   {
    "duration": 10,
    "start_time": "2021-08-07T20:04:00.542Z"
   },
   {
    "duration": 61,
    "start_time": "2021-08-07T20:04:07.891Z"
   },
   {
    "duration": 32,
    "start_time": "2021-08-07T20:04:34.703Z"
   },
   {
    "duration": 61,
    "start_time": "2021-08-07T20:06:11.324Z"
   },
   {
    "duration": 49,
    "start_time": "2021-08-07T20:23:33.672Z"
   },
   {
    "duration": 9,
    "start_time": "2021-08-07T20:26:11.622Z"
   },
   {
    "duration": 12,
    "start_time": "2021-08-07T20:26:43.461Z"
   },
   {
    "duration": 8363,
    "start_time": "2021-08-07T22:12:03.217Z"
   },
   {
    "duration": 17,
    "start_time": "2021-08-07T22:12:24.467Z"
   },
   {
    "duration": 20,
    "start_time": "2021-08-07T22:13:51.968Z"
   },
   {
    "duration": 23,
    "start_time": "2021-08-07T22:14:07.107Z"
   },
   {
    "duration": 25,
    "start_time": "2021-08-07T22:16:24.328Z"
   },
   {
    "duration": 16,
    "start_time": "2021-08-07T22:19:26.266Z"
   },
   {
    "duration": 117,
    "start_time": "2021-08-07T22:38:13.734Z"
   },
   {
    "duration": 8809,
    "start_time": "2021-08-07T22:38:36.731Z"
   },
   {
    "duration": 145,
    "start_time": "2021-08-07T22:39:11.283Z"
   },
   {
    "duration": 69,
    "start_time": "2021-08-07T22:39:19.303Z"
   },
   {
    "duration": 66,
    "start_time": "2021-08-07T22:46:47.005Z"
   },
   {
    "duration": 70,
    "start_time": "2021-08-07T22:47:06.250Z"
   },
   {
    "duration": 1488,
    "start_time": "2021-08-07T22:49:09.404Z"
   },
   {
    "duration": 106,
    "start_time": "2021-08-07T22:49:10.894Z"
   },
   {
    "duration": 22,
    "start_time": "2021-08-07T22:49:11.003Z"
   },
   {
    "duration": 42,
    "start_time": "2021-08-07T22:49:11.027Z"
   },
   {
    "duration": 6,
    "start_time": "2021-08-07T22:49:11.072Z"
   },
   {
    "duration": 9,
    "start_time": "2021-08-07T22:49:11.081Z"
   },
   {
    "duration": 12,
    "start_time": "2021-08-07T22:49:11.092Z"
   },
   {
    "duration": 72,
    "start_time": "2021-08-07T22:49:11.108Z"
   },
   {
    "duration": 23,
    "start_time": "2021-08-07T22:49:11.183Z"
   },
   {
    "duration": 62,
    "start_time": "2021-08-07T22:49:11.209Z"
   },
   {
    "duration": 7,
    "start_time": "2021-08-07T22:49:11.273Z"
   },
   {
    "duration": 336,
    "start_time": "2021-08-07T22:49:11.283Z"
   },
   {
    "duration": 13,
    "start_time": "2021-08-07T22:49:11.622Z"
   },
   {
    "duration": 390,
    "start_time": "2021-08-07T22:49:11.637Z"
   },
   {
    "duration": 28,
    "start_time": "2021-08-07T22:49:12.029Z"
   },
   {
    "duration": 45,
    "start_time": "2021-08-07T22:49:12.060Z"
   },
   {
    "duration": 20,
    "start_time": "2021-08-07T22:49:12.107Z"
   },
   {
    "duration": 108,
    "start_time": "2021-08-07T22:49:12.130Z"
   },
   {
    "duration": 13,
    "start_time": "2021-08-07T22:49:12.257Z"
   },
   {
    "duration": 210,
    "start_time": "2021-08-07T22:49:12.273Z"
   },
   {
    "duration": 89,
    "start_time": "2021-08-07T22:49:12.486Z"
   },
   {
    "duration": 10,
    "start_time": "2021-08-07T22:49:12.578Z"
   },
   {
    "duration": 2,
    "start_time": "2021-08-07T22:49:12.592Z"
   },
   {
    "duration": 14,
    "start_time": "2021-08-07T22:49:41.059Z"
   },
   {
    "duration": 35,
    "start_time": "2021-08-07T22:50:55.610Z"
   },
   {
    "duration": 9,
    "start_time": "2021-08-07T22:51:13.702Z"
   },
   {
    "duration": 9,
    "start_time": "2021-08-07T22:51:20.503Z"
   },
   {
    "duration": 57,
    "start_time": "2021-08-08T00:10:16.822Z"
   },
   {
    "duration": 1423,
    "start_time": "2021-08-08T00:27:18.657Z"
   },
   {
    "duration": 110,
    "start_time": "2021-08-08T00:27:20.083Z"
   },
   {
    "duration": 25,
    "start_time": "2021-08-08T00:27:20.196Z"
   },
   {
    "duration": 47,
    "start_time": "2021-08-08T00:27:20.224Z"
   },
   {
    "duration": 7,
    "start_time": "2021-08-08T00:27:20.274Z"
   },
   {
    "duration": 9,
    "start_time": "2021-08-08T00:27:20.283Z"
   },
   {
    "duration": 19,
    "start_time": "2021-08-08T00:27:20.294Z"
   },
   {
    "duration": 63,
    "start_time": "2021-08-08T00:27:20.317Z"
   },
   {
    "duration": 21,
    "start_time": "2021-08-08T00:27:20.384Z"
   },
   {
    "duration": 57,
    "start_time": "2021-08-08T00:27:20.407Z"
   },
   {
    "duration": 6,
    "start_time": "2021-08-08T00:27:20.467Z"
   },
   {
    "duration": 332,
    "start_time": "2021-08-08T00:27:20.475Z"
   },
   {
    "duration": 13,
    "start_time": "2021-08-08T00:27:20.810Z"
   },
   {
    "duration": 397,
    "start_time": "2021-08-08T00:27:20.826Z"
   },
   {
    "duration": 31,
    "start_time": "2021-08-08T00:27:21.226Z"
   },
   {
    "duration": 42,
    "start_time": "2021-08-08T00:27:21.259Z"
   },
   {
    "duration": 20,
    "start_time": "2021-08-08T00:27:21.303Z"
   },
   {
    "duration": 80,
    "start_time": "2021-08-08T00:27:21.325Z"
   },
   {
    "duration": 8,
    "start_time": "2021-08-08T00:27:21.407Z"
   },
   {
    "duration": 182,
    "start_time": "2021-08-08T00:27:21.418Z"
   },
   {
    "duration": 88,
    "start_time": "2021-08-08T00:27:21.603Z"
   },
   {
    "duration": 34,
    "start_time": "2021-08-08T00:27:21.694Z"
   },
   {
    "duration": 30,
    "start_time": "2021-08-08T00:27:21.732Z"
   },
   {
    "duration": 14,
    "start_time": "2021-08-08T00:27:21.764Z"
   },
   {
    "duration": 749,
    "start_time": "2021-08-08T00:29:21.300Z"
   },
   {
    "duration": 741,
    "start_time": "2021-08-08T00:29:28.040Z"
   },
   {
    "duration": 1401,
    "start_time": "2021-08-08T00:36:04.684Z"
   },
   {
    "duration": 105,
    "start_time": "2021-08-08T00:36:06.088Z"
   },
   {
    "duration": 22,
    "start_time": "2021-08-08T00:36:06.196Z"
   },
   {
    "duration": 42,
    "start_time": "2021-08-08T00:36:06.220Z"
   },
   {
    "duration": 7,
    "start_time": "2021-08-08T00:36:06.265Z"
   },
   {
    "duration": 23,
    "start_time": "2021-08-08T00:36:06.275Z"
   },
   {
    "duration": 12,
    "start_time": "2021-08-08T00:36:06.301Z"
   },
   {
    "duration": 60,
    "start_time": "2021-08-08T00:36:06.319Z"
   },
   {
    "duration": 24,
    "start_time": "2021-08-08T00:36:06.383Z"
   },
   {
    "duration": 64,
    "start_time": "2021-08-08T00:36:06.410Z"
   },
   {
    "duration": 10,
    "start_time": "2021-08-08T00:36:06.477Z"
   },
   {
    "duration": 347,
    "start_time": "2021-08-08T00:36:06.489Z"
   },
   {
    "duration": 22,
    "start_time": "2021-08-08T00:36:06.838Z"
   },
   {
    "duration": 404,
    "start_time": "2021-08-08T00:36:06.862Z"
   },
   {
    "duration": 15,
    "start_time": "2021-08-08T00:36:07.269Z"
   },
   {
    "duration": 69,
    "start_time": "2021-08-08T00:36:07.287Z"
   },
   {
    "duration": 22,
    "start_time": "2021-08-08T00:36:07.359Z"
   },
   {
    "duration": 76,
    "start_time": "2021-08-08T00:36:07.384Z"
   },
   {
    "duration": 9,
    "start_time": "2021-08-08T00:36:07.463Z"
   },
   {
    "duration": 12,
    "start_time": "2021-08-08T00:36:07.474Z"
   },
   {
    "duration": 78,
    "start_time": "2021-08-08T00:36:07.488Z"
   },
   {
    "duration": 35,
    "start_time": "2021-08-08T00:36:07.569Z"
   },
   {
    "duration": 779,
    "start_time": "2021-08-08T00:36:07.608Z"
   },
   {
    "duration": 11,
    "start_time": "2021-08-08T00:36:08.390Z"
   },
   {
    "duration": 5,
    "start_time": "2021-08-08T00:36:08.403Z"
   },
   {
    "duration": 718,
    "start_time": "2021-08-08T00:37:01.229Z"
   },
   {
    "duration": 722,
    "start_time": "2021-08-08T00:37:24.107Z"
   },
   {
    "duration": 685,
    "start_time": "2021-08-08T00:37:29.224Z"
   },
   {
    "duration": 688,
    "start_time": "2021-08-08T00:37:45.827Z"
   },
   {
    "duration": 694,
    "start_time": "2021-08-08T00:37:53.374Z"
   },
   {
    "duration": 1187,
    "start_time": "2021-08-08T00:38:04.286Z"
   },
   {
    "duration": 699,
    "start_time": "2021-08-08T00:38:22.195Z"
   },
   {
    "duration": 695,
    "start_time": "2021-08-08T00:38:28.262Z"
   },
   {
    "duration": 683,
    "start_time": "2021-08-08T00:38:34.873Z"
   },
   {
    "duration": 689,
    "start_time": "2021-08-08T00:38:39.834Z"
   },
   {
    "duration": 7,
    "start_time": "2021-08-08T00:46:09.916Z"
   },
   {
    "duration": 381,
    "start_time": "2021-08-08T00:46:12.077Z"
   },
   {
    "duration": 680,
    "start_time": "2021-08-08T01:02:16.326Z"
   },
   {
    "duration": 358,
    "start_time": "2021-08-08T01:02:43.276Z"
   },
   {
    "duration": 36,
    "start_time": "2021-08-08T01:02:55.848Z"
   },
   {
    "duration": 1406,
    "start_time": "2021-08-08T01:03:04.971Z"
   },
   {
    "duration": 107,
    "start_time": "2021-08-08T01:03:06.380Z"
   },
   {
    "duration": 23,
    "start_time": "2021-08-08T01:03:06.491Z"
   },
   {
    "duration": 49,
    "start_time": "2021-08-08T01:03:06.517Z"
   },
   {
    "duration": 6,
    "start_time": "2021-08-08T01:03:06.568Z"
   },
   {
    "duration": 25,
    "start_time": "2021-08-08T01:03:06.576Z"
   },
   {
    "duration": 20,
    "start_time": "2021-08-08T01:03:06.604Z"
   },
   {
    "duration": 42,
    "start_time": "2021-08-08T01:03:06.626Z"
   },
   {
    "duration": 21,
    "start_time": "2021-08-08T01:03:06.672Z"
   },
   {
    "duration": 31,
    "start_time": "2021-08-08T01:03:06.695Z"
   },
   {
    "duration": 31,
    "start_time": "2021-08-08T01:03:06.728Z"
   },
   {
    "duration": 320,
    "start_time": "2021-08-08T01:03:06.761Z"
   },
   {
    "duration": 9,
    "start_time": "2021-08-08T01:03:07.084Z"
   },
   {
    "duration": 403,
    "start_time": "2021-08-08T01:03:07.095Z"
   },
   {
    "duration": 13,
    "start_time": "2021-08-08T01:03:07.500Z"
   },
   {
    "duration": 60,
    "start_time": "2021-08-08T01:03:07.516Z"
   },
   {
    "duration": 19,
    "start_time": "2021-08-08T01:03:07.578Z"
   },
   {
    "duration": 73,
    "start_time": "2021-08-08T01:03:07.600Z"
   },
   {
    "duration": 3,
    "start_time": "2021-08-08T01:03:07.675Z"
   },
   {
    "duration": 62,
    "start_time": "2021-08-08T01:03:07.680Z"
   },
   {
    "duration": 31,
    "start_time": "2021-08-08T01:03:07.756Z"
   },
   {
    "duration": 35,
    "start_time": "2021-08-08T01:03:07.790Z"
   },
   {
    "duration": 34,
    "start_time": "2021-08-08T01:03:07.827Z"
   },
   {
    "duration": 16,
    "start_time": "2021-08-08T01:03:07.864Z"
   },
   {
    "duration": 46,
    "start_time": "2021-08-08T01:03:16.551Z"
   },
   {
    "duration": 46,
    "start_time": "2021-08-08T01:05:18.636Z"
   },
   {
    "duration": 46,
    "start_time": "2021-08-08T01:05:38.288Z"
   },
   {
    "duration": 66,
    "start_time": "2021-08-08T01:07:36.408Z"
   },
   {
    "duration": 550,
    "start_time": "2021-08-08T01:08:47.928Z"
   },
   {
    "duration": 43,
    "start_time": "2021-08-08T01:08:50.402Z"
   },
   {
    "duration": 7,
    "start_time": "2021-08-08T01:09:09.868Z"
   },
   {
    "duration": 7,
    "start_time": "2021-08-08T01:09:17.421Z"
   },
   {
    "duration": 8,
    "start_time": "2021-08-08T01:10:32.867Z"
   },
   {
    "duration": 9,
    "start_time": "2021-08-08T01:11:41.325Z"
   },
   {
    "duration": 13,
    "start_time": "2021-08-08T01:17:01.129Z"
   },
   {
    "duration": 1381,
    "start_time": "2021-08-08T01:17:08.511Z"
   },
   {
    "duration": 104,
    "start_time": "2021-08-08T01:17:09.894Z"
   },
   {
    "duration": 22,
    "start_time": "2021-08-08T01:17:10.001Z"
   },
   {
    "duration": 40,
    "start_time": "2021-08-08T01:17:10.026Z"
   },
   {
    "duration": 6,
    "start_time": "2021-08-08T01:17:10.068Z"
   },
   {
    "duration": 12,
    "start_time": "2021-08-08T01:17:10.076Z"
   },
   {
    "duration": 14,
    "start_time": "2021-08-08T01:17:10.090Z"
   },
   {
    "duration": 55,
    "start_time": "2021-08-08T01:17:10.108Z"
   },
   {
    "duration": 21,
    "start_time": "2021-08-08T01:17:10.167Z"
   },
   {
    "duration": 29,
    "start_time": "2021-08-08T01:17:10.191Z"
   },
   {
    "duration": 39,
    "start_time": "2021-08-08T01:17:10.222Z"
   },
   {
    "duration": 353,
    "start_time": "2021-08-08T01:17:10.264Z"
   },
   {
    "duration": 10,
    "start_time": "2021-08-08T01:17:10.620Z"
   },
   {
    "duration": 426,
    "start_time": "2021-08-08T01:17:10.632Z"
   },
   {
    "duration": 15,
    "start_time": "2021-08-08T01:17:11.061Z"
   },
   {
    "duration": 41,
    "start_time": "2021-08-08T01:17:11.078Z"
   },
   {
    "duration": 47,
    "start_time": "2021-08-08T01:17:11.121Z"
   },
   {
    "duration": 57,
    "start_time": "2021-08-08T01:17:11.171Z"
   },
   {
    "duration": 3,
    "start_time": "2021-08-08T01:17:11.230Z"
   },
   {
    "duration": 49,
    "start_time": "2021-08-08T01:17:11.255Z"
   },
   {
    "duration": 58,
    "start_time": "2021-08-08T01:17:11.306Z"
   },
   {
    "duration": 64,
    "start_time": "2021-08-08T01:17:11.366Z"
   },
   {
    "duration": 21,
    "start_time": "2021-08-08T01:17:11.435Z"
   },
   {
    "duration": 11,
    "start_time": "2021-08-08T01:17:11.458Z"
   },
   {
    "duration": 10,
    "start_time": "2021-08-08T01:17:11.472Z"
   },
   {
    "duration": 137,
    "start_time": "2021-08-08T01:17:28.915Z"
   },
   {
    "duration": 66,
    "start_time": "2021-08-08T01:18:21.803Z"
   },
   {
    "duration": 1436,
    "start_time": "2021-08-08T01:19:09.656Z"
   },
   {
    "duration": 104,
    "start_time": "2021-08-08T01:19:11.095Z"
   },
   {
    "duration": 22,
    "start_time": "2021-08-08T01:19:11.201Z"
   },
   {
    "duration": 43,
    "start_time": "2021-08-08T01:19:11.226Z"
   },
   {
    "duration": 7,
    "start_time": "2021-08-08T01:19:11.272Z"
   },
   {
    "duration": 23,
    "start_time": "2021-08-08T01:19:11.283Z"
   },
   {
    "duration": 19,
    "start_time": "2021-08-08T01:19:11.309Z"
   },
   {
    "duration": 47,
    "start_time": "2021-08-08T01:19:11.331Z"
   },
   {
    "duration": 24,
    "start_time": "2021-08-08T01:19:11.384Z"
   },
   {
    "duration": 68,
    "start_time": "2021-08-08T01:19:11.412Z"
   },
   {
    "duration": 7,
    "start_time": "2021-08-08T01:19:11.483Z"
   },
   {
    "duration": 335,
    "start_time": "2021-08-08T01:19:11.493Z"
   },
   {
    "duration": 25,
    "start_time": "2021-08-08T01:19:11.831Z"
   },
   {
    "duration": 442,
    "start_time": "2021-08-08T01:19:11.858Z"
   },
   {
    "duration": 15,
    "start_time": "2021-08-08T01:19:12.356Z"
   },
   {
    "duration": 89,
    "start_time": "2021-08-08T01:19:12.374Z"
   },
   {
    "duration": 21,
    "start_time": "2021-08-08T01:19:12.466Z"
   },
   {
    "duration": 111,
    "start_time": "2021-08-08T01:19:12.489Z"
   },
   {
    "duration": 3,
    "start_time": "2021-08-08T01:19:12.657Z"
   },
   {
    "duration": 111,
    "start_time": "2021-08-08T01:19:12.662Z"
   },
   {
    "duration": 87,
    "start_time": "2021-08-08T01:19:12.776Z"
   },
   {
    "duration": 98,
    "start_time": "2021-08-08T01:19:12.865Z"
   },
   {
    "duration": 104,
    "start_time": "2021-08-08T01:19:12.965Z"
   },
   {
    "duration": 10,
    "start_time": "2021-08-08T01:19:13.071Z"
   },
   {
    "duration": 3,
    "start_time": "2021-08-08T01:19:13.083Z"
   },
   {
    "duration": 7,
    "start_time": "2021-08-08T01:29:49.649Z"
   },
   {
    "duration": 21,
    "start_time": "2021-08-08T01:29:57.818Z"
   },
   {
    "duration": 1424,
    "start_time": "2021-08-08T01:30:07.350Z"
   },
   {
    "duration": 103,
    "start_time": "2021-08-08T01:30:08.777Z"
   },
   {
    "duration": 22,
    "start_time": "2021-08-08T01:30:08.883Z"
   },
   {
    "duration": 57,
    "start_time": "2021-08-08T01:30:08.907Z"
   },
   {
    "duration": 7,
    "start_time": "2021-08-08T01:30:08.966Z"
   },
   {
    "duration": 11,
    "start_time": "2021-08-08T01:30:08.975Z"
   },
   {
    "duration": 11,
    "start_time": "2021-08-08T01:30:08.988Z"
   },
   {
    "duration": 70,
    "start_time": "2021-08-08T01:30:09.003Z"
   },
   {
    "duration": 21,
    "start_time": "2021-08-08T01:30:09.076Z"
   },
   {
    "duration": 20,
    "start_time": "2021-08-08T01:30:09.100Z"
   },
   {
    "duration": 35,
    "start_time": "2021-08-08T01:30:09.123Z"
   },
   {
    "duration": 329,
    "start_time": "2021-08-08T01:30:09.160Z"
   },
   {
    "duration": 9,
    "start_time": "2021-08-08T01:30:09.492Z"
   },
   {
    "duration": 391,
    "start_time": "2021-08-08T01:30:09.503Z"
   },
   {
    "duration": 14,
    "start_time": "2021-08-08T01:30:09.897Z"
   },
   {
    "duration": 74,
    "start_time": "2021-08-08T01:30:09.913Z"
   },
   {
    "duration": 21,
    "start_time": "2021-08-08T01:30:09.989Z"
   },
   {
    "duration": 75,
    "start_time": "2021-08-08T01:30:10.013Z"
   },
   {
    "duration": 3,
    "start_time": "2021-08-08T01:30:10.091Z"
   },
   {
    "duration": 70,
    "start_time": "2021-08-08T01:30:10.096Z"
   },
   {
    "duration": 32,
    "start_time": "2021-08-08T01:30:10.169Z"
   },
   {
    "duration": 70,
    "start_time": "2021-08-08T01:30:10.204Z"
   },
   {
    "duration": 80,
    "start_time": "2021-08-08T01:30:10.278Z"
   },
   {
    "duration": 13,
    "start_time": "2021-08-08T01:30:10.360Z"
   },
   {
    "duration": 1398,
    "start_time": "2021-08-08T01:43:09.006Z"
   },
   {
    "duration": 104,
    "start_time": "2021-08-08T01:43:10.407Z"
   },
   {
    "duration": 22,
    "start_time": "2021-08-08T01:43:10.515Z"
   },
   {
    "duration": 41,
    "start_time": "2021-08-08T01:43:10.540Z"
   },
   {
    "duration": 6,
    "start_time": "2021-08-08T01:43:10.583Z"
   },
   {
    "duration": 10,
    "start_time": "2021-08-08T01:43:10.591Z"
   },
   {
    "duration": 10,
    "start_time": "2021-08-08T01:43:10.603Z"
   },
   {
    "duration": 68,
    "start_time": "2021-08-08T01:43:10.615Z"
   },
   {
    "duration": 26,
    "start_time": "2021-08-08T01:43:10.688Z"
   },
   {
    "duration": 55,
    "start_time": "2021-08-08T01:43:10.717Z"
   },
   {
    "duration": 6,
    "start_time": "2021-08-08T01:43:10.775Z"
   },
   {
    "duration": 323,
    "start_time": "2021-08-08T01:43:10.783Z"
   },
   {
    "duration": 10,
    "start_time": "2021-08-08T01:43:11.108Z"
   },
   {
    "duration": 386,
    "start_time": "2021-08-08T01:43:11.120Z"
   },
   {
    "duration": 14,
    "start_time": "2021-08-08T01:43:11.508Z"
   },
   {
    "duration": 60,
    "start_time": "2021-08-08T01:43:11.525Z"
   },
   {
    "duration": 18,
    "start_time": "2021-08-08T01:43:11.588Z"
   },
   {
    "duration": 77,
    "start_time": "2021-08-08T01:43:11.609Z"
   },
   {
    "duration": 3,
    "start_time": "2021-08-08T01:43:11.689Z"
   },
   {
    "duration": 74,
    "start_time": "2021-08-08T01:43:11.694Z"
   },
   {
    "duration": 33,
    "start_time": "2021-08-08T01:43:11.771Z"
   },
   {
    "duration": 71,
    "start_time": "2021-08-08T01:43:11.807Z"
   },
   {
    "duration": 76,
    "start_time": "2021-08-08T01:43:11.880Z"
   },
   {
    "duration": 12,
    "start_time": "2021-08-08T01:43:11.958Z"
   },
   {
    "duration": 1802,
    "start_time": "2021-08-10T01:55:41.298Z"
   },
   {
    "duration": 110,
    "start_time": "2021-08-10T01:55:43.103Z"
   },
   {
    "duration": 23,
    "start_time": "2021-08-10T01:55:43.216Z"
   },
   {
    "duration": 49,
    "start_time": "2021-08-10T01:55:43.242Z"
   },
   {
    "duration": 7,
    "start_time": "2021-08-10T01:55:43.293Z"
   },
   {
    "duration": 34,
    "start_time": "2021-08-10T01:55:43.302Z"
   },
   {
    "duration": 37,
    "start_time": "2021-08-10T01:55:43.339Z"
   },
   {
    "duration": 41,
    "start_time": "2021-08-10T01:55:43.379Z"
   },
   {
    "duration": 26,
    "start_time": "2021-08-10T01:55:43.423Z"
   },
   {
    "duration": 24,
    "start_time": "2021-08-10T01:55:43.451Z"
   },
   {
    "duration": 20,
    "start_time": "2021-08-10T01:55:43.478Z"
   },
   {
    "duration": 341,
    "start_time": "2021-08-10T01:55:43.501Z"
   },
   {
    "duration": 14,
    "start_time": "2021-08-10T01:55:43.844Z"
   },
   {
    "duration": 512,
    "start_time": "2021-08-10T01:55:43.861Z"
   },
   {
    "duration": 14,
    "start_time": "2021-08-10T01:55:44.375Z"
   },
   {
    "duration": 69,
    "start_time": "2021-08-10T01:55:44.392Z"
   },
   {
    "duration": 21,
    "start_time": "2021-08-10T01:55:44.464Z"
   },
   {
    "duration": 110,
    "start_time": "2021-08-10T01:55:44.487Z"
   },
   {
    "duration": 3,
    "start_time": "2021-08-10T01:55:44.600Z"
   },
   {
    "duration": 93,
    "start_time": "2021-08-10T01:55:44.606Z"
   },
   {
    "duration": 60,
    "start_time": "2021-08-10T01:55:44.702Z"
   },
   {
    "duration": 71,
    "start_time": "2021-08-10T01:55:44.765Z"
   },
   {
    "duration": 51,
    "start_time": "2021-08-10T01:55:44.856Z"
   },
   {
    "duration": 11,
    "start_time": "2021-08-10T01:55:44.910Z"
   },
   {
    "duration": 47,
    "start_time": "2021-08-10T01:59:24.895Z"
   },
   {
    "duration": 32,
    "start_time": "2021-08-10T02:02:27.255Z"
   },
   {
    "duration": 6,
    "start_time": "2021-08-10T02:03:05.274Z"
   },
   {
    "duration": 31,
    "start_time": "2021-08-10T02:03:18.815Z"
   },
   {
    "duration": 11,
    "start_time": "2021-08-10T02:03:28.499Z"
   },
   {
    "duration": 1412,
    "start_time": "2021-08-10T02:16:25.313Z"
   },
   {
    "duration": 106,
    "start_time": "2021-08-10T02:16:26.727Z"
   },
   {
    "duration": 23,
    "start_time": "2021-08-10T02:16:26.836Z"
   },
   {
    "duration": 42,
    "start_time": "2021-08-10T02:16:26.861Z"
   },
   {
    "duration": 6,
    "start_time": "2021-08-10T02:16:26.905Z"
   },
   {
    "duration": 45,
    "start_time": "2021-08-10T02:16:26.913Z"
   },
   {
    "duration": 10,
    "start_time": "2021-08-10T02:16:26.961Z"
   },
   {
    "duration": 30,
    "start_time": "2021-08-10T02:16:26.975Z"
   },
   {
    "duration": 53,
    "start_time": "2021-08-10T02:16:27.008Z"
   },
   {
    "duration": 21,
    "start_time": "2021-08-10T02:16:27.063Z"
   },
   {
    "duration": 6,
    "start_time": "2021-08-10T02:16:27.087Z"
   },
   {
    "duration": 361,
    "start_time": "2021-08-10T02:16:27.095Z"
   },
   {
    "duration": 9,
    "start_time": "2021-08-10T02:16:27.459Z"
   },
   {
    "duration": 394,
    "start_time": "2021-08-10T02:16:27.470Z"
   },
   {
    "duration": 13,
    "start_time": "2021-08-10T02:16:27.867Z"
   },
   {
    "duration": 43,
    "start_time": "2021-08-10T02:16:27.882Z"
   },
   {
    "duration": 20,
    "start_time": "2021-08-10T02:16:27.954Z"
   },
   {
    "duration": 83,
    "start_time": "2021-08-10T02:16:27.976Z"
   },
   {
    "duration": 3,
    "start_time": "2021-08-10T02:16:28.061Z"
   },
   {
    "duration": 54,
    "start_time": "2021-08-10T02:16:28.066Z"
   },
   {
    "duration": 65,
    "start_time": "2021-08-10T02:16:28.123Z"
   },
   {
    "duration": 65,
    "start_time": "2021-08-10T02:16:28.191Z"
   },
   {
    "duration": 5,
    "start_time": "2021-08-10T02:16:28.261Z"
   },
   {
    "duration": 13,
    "start_time": "2021-08-10T02:16:28.269Z"
   },
   {
    "duration": 79,
    "start_time": "2021-08-10T02:16:28.284Z"
   },
   {
    "duration": 11,
    "start_time": "2021-08-10T02:16:28.366Z"
   },
   {
    "duration": 667,
    "start_time": "2021-08-10T02:19:42.941Z"
   },
   {
    "duration": 671,
    "start_time": "2021-08-10T02:19:48.608Z"
   },
   {
    "duration": 6,
    "start_time": "2021-08-10T02:20:10.300Z"
   },
   {
    "duration": 10,
    "start_time": "2021-08-10T02:20:57.697Z"
   },
   {
    "duration": 18,
    "start_time": "2021-08-10T02:28:15.702Z"
   },
   {
    "duration": 7,
    "start_time": "2021-08-10T02:28:27.161Z"
   },
   {
    "duration": 6,
    "start_time": "2021-08-10T02:28:42.168Z"
   },
   {
    "duration": 4,
    "start_time": "2021-08-10T02:29:02.108Z"
   },
   {
    "duration": 35,
    "start_time": "2021-08-10T02:29:05.594Z"
   },
   {
    "duration": 21,
    "start_time": "2021-08-10T02:30:42.698Z"
   },
   {
    "duration": 31,
    "start_time": "2021-08-10T02:31:41.598Z"
   },
   {
    "duration": 32,
    "start_time": "2021-08-10T02:35:18.844Z"
   },
   {
    "duration": 43,
    "start_time": "2021-08-10T02:35:55.353Z"
   },
   {
    "duration": 48,
    "start_time": "2021-08-10T02:36:05.450Z"
   },
   {
    "duration": 42,
    "start_time": "2021-08-10T02:36:09.763Z"
   },
   {
    "duration": 32,
    "start_time": "2021-08-10T02:36:13.604Z"
   },
   {
    "duration": 24,
    "start_time": "2021-08-10T02:36:18.685Z"
   },
   {
    "duration": 32,
    "start_time": "2021-08-10T02:36:22.834Z"
   },
   {
    "duration": 32,
    "start_time": "2021-08-10T02:36:25.883Z"
   },
   {
    "duration": 93,
    "start_time": "2021-08-10T03:23:05.336Z"
   },
   {
    "duration": 485,
    "start_time": "2021-08-10T03:23:11.856Z"
   },
   {
    "duration": 8892,
    "start_time": "2021-08-10T03:23:45.553Z"
   },
   {
    "duration": 9312,
    "start_time": "2021-08-10T03:25:00.146Z"
   },
   {
    "duration": 22,
    "start_time": "2021-08-10T03:28:28.104Z"
   },
   {
    "duration": 1230,
    "start_time": "2021-08-10T03:29:53.966Z"
   },
   {
    "duration": 18,
    "start_time": "2021-08-10T03:29:55.199Z"
   },
   {
    "duration": 9148,
    "start_time": "2021-08-10T03:31:10.742Z"
   },
   {
    "duration": 1456,
    "start_time": "2021-08-10T03:31:20.731Z"
   },
   {
    "duration": 1466,
    "start_time": "2021-08-11T00:35:27.958Z"
   },
   {
    "duration": 106,
    "start_time": "2021-08-11T00:35:29.427Z"
   },
   {
    "duration": 23,
    "start_time": "2021-08-11T00:35:29.536Z"
   },
   {
    "duration": 41,
    "start_time": "2021-08-11T00:35:29.562Z"
   },
   {
    "duration": 6,
    "start_time": "2021-08-11T00:35:29.606Z"
   },
   {
    "duration": 9,
    "start_time": "2021-08-11T00:35:29.615Z"
   },
   {
    "duration": 47,
    "start_time": "2021-08-11T00:35:29.626Z"
   },
   {
    "duration": 30,
    "start_time": "2021-08-11T00:35:29.677Z"
   },
   {
    "duration": 21,
    "start_time": "2021-08-11T00:35:29.710Z"
   },
   {
    "duration": 21,
    "start_time": "2021-08-11T00:35:29.767Z"
   },
   {
    "duration": 6,
    "start_time": "2021-08-11T00:35:29.791Z"
   },
   {
    "duration": 359,
    "start_time": "2021-08-11T00:35:29.799Z"
   },
   {
    "duration": 13,
    "start_time": "2021-08-11T00:35:30.161Z"
   },
   {
    "duration": 404,
    "start_time": "2021-08-11T00:35:30.176Z"
   },
   {
    "duration": 13,
    "start_time": "2021-08-11T00:35:30.582Z"
   },
   {
    "duration": 72,
    "start_time": "2021-08-11T00:35:30.597Z"
   },
   {
    "duration": 20,
    "start_time": "2021-08-11T00:35:30.671Z"
   },
   {
    "duration": 81,
    "start_time": "2021-08-11T00:35:30.694Z"
   },
   {
    "duration": 2,
    "start_time": "2021-08-11T00:35:30.778Z"
   },
   {
    "duration": 66,
    "start_time": "2021-08-11T00:35:30.783Z"
   },
   {
    "duration": 50,
    "start_time": "2021-08-11T00:35:30.852Z"
   },
   {
    "duration": 66,
    "start_time": "2021-08-11T00:35:30.905Z"
   },
   {
    "duration": 5,
    "start_time": "2021-08-11T00:35:30.976Z"
   },
   {
    "duration": 28,
    "start_time": "2021-08-11T00:35:30.983Z"
   },
   {
    "duration": 62,
    "start_time": "2021-08-11T00:35:31.013Z"
   },
   {
    "duration": 10,
    "start_time": "2021-08-11T00:35:31.078Z"
   },
   {
    "duration": 40,
    "start_time": "2021-08-11T00:35:31.090Z"
   },
   {
    "duration": 22,
    "start_time": "2021-08-11T00:35:31.133Z"
   },
   {
    "duration": 9546,
    "start_time": "2021-08-11T00:35:31.158Z"
   },
   {
    "duration": 1568,
    "start_time": "2021-08-11T00:35:40.706Z"
   },
   {
    "duration": 373,
    "start_time": "2021-08-11T00:35:42.276Z"
   },
   {
    "duration": 9675,
    "start_time": "2021-08-11T00:37:00.590Z"
   },
   {
    "duration": 9712,
    "start_time": "2021-08-11T00:37:18.162Z"
   },
   {
    "duration": 250,
    "start_time": "2021-08-11T00:37:27.877Z"
   },
   {
    "duration": 18,
    "start_time": "2021-08-11T01:05:34.901Z"
   },
   {
    "duration": 4,
    "start_time": "2021-08-11T01:05:37.139Z"
   },
   {
    "duration": 4,
    "start_time": "2021-08-11T01:08:00.296Z"
   },
   {
    "duration": 252,
    "start_time": "2021-08-11T01:08:19.541Z"
   },
   {
    "duration": 309,
    "start_time": "2021-08-11T01:08:35.727Z"
   },
   {
    "duration": 248,
    "start_time": "2021-08-11T01:08:45.444Z"
   },
   {
    "duration": 1459,
    "start_time": "2021-08-11T01:12:23.754Z"
   },
   {
    "duration": 100,
    "start_time": "2021-08-11T01:12:25.215Z"
   },
   {
    "duration": 22,
    "start_time": "2021-08-11T01:12:25.318Z"
   },
   {
    "duration": 53,
    "start_time": "2021-08-11T01:12:25.342Z"
   },
   {
    "duration": 6,
    "start_time": "2021-08-11T01:12:25.397Z"
   },
   {
    "duration": 12,
    "start_time": "2021-08-11T01:12:25.406Z"
   },
   {
    "duration": 14,
    "start_time": "2021-08-11T01:12:25.420Z"
   },
   {
    "duration": 30,
    "start_time": "2021-08-11T01:12:25.467Z"
   },
   {
    "duration": 21,
    "start_time": "2021-08-11T01:12:25.501Z"
   },
   {
    "duration": 57,
    "start_time": "2021-08-11T01:12:25.525Z"
   },
   {
    "duration": 6,
    "start_time": "2021-08-11T01:12:25.586Z"
   },
   {
    "duration": 353,
    "start_time": "2021-08-11T01:12:25.595Z"
   },
   {
    "duration": 24,
    "start_time": "2021-08-11T01:12:25.951Z"
   },
   {
    "duration": 410,
    "start_time": "2021-08-11T01:12:25.977Z"
   },
   {
    "duration": 14,
    "start_time": "2021-08-11T01:12:26.390Z"
   },
   {
    "duration": 68,
    "start_time": "2021-08-11T01:12:26.406Z"
   },
   {
    "duration": 21,
    "start_time": "2021-08-11T01:12:26.477Z"
   },
   {
    "duration": 84,
    "start_time": "2021-08-11T01:12:26.500Z"
   },
   {
    "duration": 3,
    "start_time": "2021-08-11T01:12:26.587Z"
   },
   {
    "duration": 76,
    "start_time": "2021-08-11T01:12:26.592Z"
   },
   {
    "duration": 35,
    "start_time": "2021-08-11T01:12:26.671Z"
   },
   {
    "duration": 66,
    "start_time": "2021-08-11T01:12:26.708Z"
   },
   {
    "duration": 6,
    "start_time": "2021-08-11T01:12:26.776Z"
   },
   {
    "duration": 14,
    "start_time": "2021-08-11T01:12:26.784Z"
   },
   {
    "duration": 75,
    "start_time": "2021-08-11T01:12:26.800Z"
   },
   {
    "duration": 11,
    "start_time": "2021-08-11T01:12:26.877Z"
   },
   {
    "duration": 18,
    "start_time": "2021-08-11T01:12:26.892Z"
   },
   {
    "duration": 22,
    "start_time": "2021-08-11T01:12:26.913Z"
   },
   {
    "duration": 9574,
    "start_time": "2021-08-11T01:12:26.967Z"
   },
   {
    "duration": 1583,
    "start_time": "2021-08-11T01:12:36.544Z"
   },
   {
    "duration": 18,
    "start_time": "2021-08-11T01:12:38.129Z"
   },
   {
    "duration": 403,
    "start_time": "2021-08-11T01:12:38.150Z"
   },
   {
    "duration": 6,
    "start_time": "2021-08-11T01:12:48.774Z"
   },
   {
    "duration": 1190,
    "start_time": "2021-08-11T01:13:01.885Z"
   },
   {
    "duration": 1442,
    "start_time": "2021-08-11T01:23:44.409Z"
   },
   {
    "duration": 1405,
    "start_time": "2021-08-11T01:53:14.817Z"
   },
   {
    "duration": 98,
    "start_time": "2021-08-11T01:53:16.225Z"
   },
   {
    "duration": 22,
    "start_time": "2021-08-11T01:53:16.326Z"
   },
   {
    "duration": 39,
    "start_time": "2021-08-11T01:53:16.351Z"
   },
   {
    "duration": 5,
    "start_time": "2021-08-11T01:53:16.393Z"
   },
   {
    "duration": 10,
    "start_time": "2021-08-11T01:53:16.401Z"
   },
   {
    "duration": 11,
    "start_time": "2021-08-11T01:53:16.413Z"
   },
   {
    "duration": 62,
    "start_time": "2021-08-11T01:53:16.427Z"
   },
   {
    "duration": 22,
    "start_time": "2021-08-11T01:53:16.493Z"
   },
   {
    "duration": 54,
    "start_time": "2021-08-11T01:53:16.518Z"
   },
   {
    "duration": 8,
    "start_time": "2021-08-11T01:53:16.574Z"
   },
   {
    "duration": 359,
    "start_time": "2021-08-11T01:53:16.584Z"
   },
   {
    "duration": 21,
    "start_time": "2021-08-11T01:53:16.946Z"
   },
   {
    "duration": 414,
    "start_time": "2021-08-11T01:53:16.970Z"
   },
   {
    "duration": 14,
    "start_time": "2021-08-11T01:53:17.386Z"
   },
   {
    "duration": 74,
    "start_time": "2021-08-11T01:53:17.402Z"
   },
   {
    "duration": 22,
    "start_time": "2021-08-11T01:53:17.478Z"
   },
   {
    "duration": 84,
    "start_time": "2021-08-11T01:53:17.502Z"
   },
   {
    "duration": 3,
    "start_time": "2021-08-11T01:53:17.589Z"
   },
   {
    "duration": 79,
    "start_time": "2021-08-11T01:53:17.594Z"
   },
   {
    "duration": 37,
    "start_time": "2021-08-11T01:53:17.675Z"
   },
   {
    "duration": 75,
    "start_time": "2021-08-11T01:53:17.714Z"
   },
   {
    "duration": 5,
    "start_time": "2021-08-11T01:53:17.792Z"
   },
   {
    "duration": 17,
    "start_time": "2021-08-11T01:53:17.800Z"
   },
   {
    "duration": 69,
    "start_time": "2021-08-11T01:53:17.819Z"
   },
   {
    "duration": 11,
    "start_time": "2021-08-11T01:53:17.891Z"
   },
   {
    "duration": 66,
    "start_time": "2021-08-11T01:53:17.907Z"
   },
   {
    "duration": 22,
    "start_time": "2021-08-11T01:53:17.976Z"
   },
   {
    "duration": 10549,
    "start_time": "2021-08-11T01:53:18.000Z"
   },
   {
    "duration": 1791,
    "start_time": "2021-08-11T01:53:28.551Z"
   },
   {
    "duration": 98,
    "start_time": "2021-08-11T01:53:30.344Z"
   },
   {
    "duration": 1327,
    "start_time": "2021-08-11T01:53:30.444Z"
   },
   {
    "duration": 1386,
    "start_time": "2021-08-11T01:53:31.774Z"
   },
   {
    "duration": 1460,
    "start_time": "2021-08-11T01:54:27.362Z"
   },
   {
    "duration": 100,
    "start_time": "2021-08-11T01:54:28.824Z"
   },
   {
    "duration": 26,
    "start_time": "2021-08-11T01:54:28.927Z"
   },
   {
    "duration": 44,
    "start_time": "2021-08-11T01:54:28.956Z"
   },
   {
    "duration": 6,
    "start_time": "2021-08-11T01:54:29.002Z"
   },
   {
    "duration": 11,
    "start_time": "2021-08-11T01:54:29.010Z"
   },
   {
    "duration": 51,
    "start_time": "2021-08-11T01:54:29.023Z"
   },
   {
    "duration": 31,
    "start_time": "2021-08-11T01:54:29.077Z"
   },
   {
    "duration": 22,
    "start_time": "2021-08-11T01:54:29.111Z"
   },
   {
    "duration": 51,
    "start_time": "2021-08-11T01:54:29.135Z"
   },
   {
    "duration": 6,
    "start_time": "2021-08-11T01:54:29.188Z"
   },
   {
    "duration": 358,
    "start_time": "2021-08-11T01:54:29.197Z"
   },
   {
    "duration": 14,
    "start_time": "2021-08-11T01:54:29.557Z"
   },
   {
    "duration": 420,
    "start_time": "2021-08-11T01:54:29.574Z"
   },
   {
    "duration": 14,
    "start_time": "2021-08-11T01:54:29.996Z"
   },
   {
    "duration": 72,
    "start_time": "2021-08-11T01:54:30.012Z"
   },
   {
    "duration": 22,
    "start_time": "2021-08-11T01:54:30.086Z"
   },
   {
    "duration": 83,
    "start_time": "2021-08-11T01:54:30.110Z"
   },
   {
    "duration": 3,
    "start_time": "2021-08-11T01:54:30.195Z"
   },
   {
    "duration": 75,
    "start_time": "2021-08-11T01:54:30.200Z"
   },
   {
    "duration": 35,
    "start_time": "2021-08-11T01:54:30.277Z"
   },
   {
    "duration": 66,
    "start_time": "2021-08-11T01:54:30.314Z"
   },
   {
    "duration": 6,
    "start_time": "2021-08-11T01:54:30.385Z"
   },
   {
    "duration": 17,
    "start_time": "2021-08-11T01:54:30.393Z"
   },
   {
    "duration": 79,
    "start_time": "2021-08-11T01:54:30.412Z"
   },
   {
    "duration": 13,
    "start_time": "2021-08-11T01:54:30.493Z"
   },
   {
    "duration": 20,
    "start_time": "2021-08-11T01:54:30.509Z"
   },
   {
    "duration": 55,
    "start_time": "2021-08-11T01:54:30.531Z"
   },
   {
    "duration": 9779,
    "start_time": "2021-08-11T01:54:30.588Z"
   },
   {
    "duration": 1578,
    "start_time": "2021-08-11T01:54:40.369Z"
   },
   {
    "duration": 25,
    "start_time": "2021-08-11T01:54:41.950Z"
   },
   {
    "duration": 1197,
    "start_time": "2021-08-11T01:54:41.977Z"
   },
   {
    "duration": 1450,
    "start_time": "2021-08-11T01:54:43.177Z"
   },
   {
    "duration": 9184,
    "start_time": "2021-08-11T01:59:17.488Z"
   },
   {
    "duration": 1453,
    "start_time": "2021-08-11T01:59:34.276Z"
   },
   {
    "duration": 99,
    "start_time": "2021-08-11T01:59:35.732Z"
   },
   {
    "duration": 24,
    "start_time": "2021-08-11T01:59:35.834Z"
   },
   {
    "duration": 42,
    "start_time": "2021-08-11T01:59:35.861Z"
   },
   {
    "duration": 6,
    "start_time": "2021-08-11T01:59:35.905Z"
   },
   {
    "duration": 11,
    "start_time": "2021-08-11T01:59:35.913Z"
   },
   {
    "duration": 48,
    "start_time": "2021-08-11T01:59:35.926Z"
   },
   {
    "duration": 37,
    "start_time": "2021-08-11T01:59:35.977Z"
   },
   {
    "duration": 22,
    "start_time": "2021-08-11T01:59:36.017Z"
   },
   {
    "duration": 43,
    "start_time": "2021-08-11T01:59:36.042Z"
   },
   {
    "duration": 7,
    "start_time": "2021-08-11T01:59:36.087Z"
   },
   {
    "duration": 356,
    "start_time": "2021-08-11T01:59:36.097Z"
   },
   {
    "duration": 18,
    "start_time": "2021-08-11T01:59:36.456Z"
   },
   {
    "duration": 396,
    "start_time": "2021-08-11T01:59:36.477Z"
   },
   {
    "duration": 13,
    "start_time": "2021-08-11T01:59:36.876Z"
   },
   {
    "duration": 43,
    "start_time": "2021-08-11T01:59:36.891Z"
   },
   {
    "duration": 48,
    "start_time": "2021-08-11T01:59:36.936Z"
   },
   {
    "duration": 58,
    "start_time": "2021-08-11T01:59:36.987Z"
   },
   {
    "duration": 3,
    "start_time": "2021-08-11T01:59:37.068Z"
   },
   {
    "duration": 55,
    "start_time": "2021-08-11T01:59:37.073Z"
   },
   {
    "duration": 59,
    "start_time": "2021-08-11T01:59:37.131Z"
   },
   {
    "duration": 45,
    "start_time": "2021-08-11T01:59:37.192Z"
   },
   {
    "duration": 30,
    "start_time": "2021-08-11T01:59:37.240Z"
   },
   {
    "duration": 23,
    "start_time": "2021-08-11T01:59:37.272Z"
   },
   {
    "duration": 51,
    "start_time": "2021-08-11T01:59:37.297Z"
   },
   {
    "duration": 23,
    "start_time": "2021-08-11T01:59:37.350Z"
   },
   {
    "duration": 18,
    "start_time": "2021-08-11T01:59:37.378Z"
   },
   {
    "duration": 23,
    "start_time": "2021-08-11T01:59:37.399Z"
   },
   {
    "duration": 9274,
    "start_time": "2021-08-11T01:59:37.425Z"
   },
   {
    "duration": 1336,
    "start_time": "2021-08-11T01:59:46.701Z"
   },
   {
    "duration": 106,
    "start_time": "2021-08-11T01:59:48.039Z"
   },
   {
    "duration": 1131,
    "start_time": "2021-08-11T01:59:48.148Z"
   },
   {
    "duration": 1480,
    "start_time": "2021-08-11T01:59:49.281Z"
   },
   {
    "duration": 1511,
    "start_time": "2021-08-12T02:19:47.633Z"
   },
   {
    "duration": 461,
    "start_time": "2021-08-12T02:19:49.147Z"
   },
   {
    "duration": 22,
    "start_time": "2021-08-12T02:19:49.611Z"
   },
   {
    "duration": 56,
    "start_time": "2021-08-12T02:19:49.637Z"
   },
   {
    "duration": 7,
    "start_time": "2021-08-12T02:19:49.696Z"
   },
   {
    "duration": 11,
    "start_time": "2021-08-12T02:19:49.706Z"
   },
   {
    "duration": 14,
    "start_time": "2021-08-12T02:19:49.719Z"
   },
   {
    "duration": 70,
    "start_time": "2021-08-12T02:19:49.736Z"
   },
   {
    "duration": 23,
    "start_time": "2021-08-12T02:19:49.810Z"
   },
   {
    "duration": 21,
    "start_time": "2021-08-12T02:19:49.837Z"
   },
   {
    "duration": 6,
    "start_time": "2021-08-12T02:19:49.887Z"
   },
   {
    "duration": 343,
    "start_time": "2021-08-12T02:19:49.896Z"
   },
   {
    "duration": 9,
    "start_time": "2021-08-12T02:19:50.242Z"
   },
   {
    "duration": 404,
    "start_time": "2021-08-12T02:19:50.253Z"
   },
   {
    "duration": 27,
    "start_time": "2021-08-12T02:19:50.659Z"
   },
   {
    "duration": 46,
    "start_time": "2021-08-12T02:19:50.688Z"
   },
   {
    "duration": 20,
    "start_time": "2021-08-12T02:19:50.736Z"
   },
   {
    "duration": 88,
    "start_time": "2021-08-12T02:19:50.758Z"
   },
   {
    "duration": 4,
    "start_time": "2021-08-12T02:19:50.849Z"
   },
   {
    "duration": 52,
    "start_time": "2021-08-12T02:19:50.885Z"
   },
   {
    "duration": 53,
    "start_time": "2021-08-12T02:19:50.940Z"
   },
   {
    "duration": 51,
    "start_time": "2021-08-12T02:19:50.996Z"
   },
   {
    "duration": 6,
    "start_time": "2021-08-12T02:19:51.049Z"
   },
   {
    "duration": 37,
    "start_time": "2021-08-12T02:19:51.057Z"
   },
   {
    "duration": 49,
    "start_time": "2021-08-12T02:19:51.096Z"
   },
   {
    "duration": 39,
    "start_time": "2021-08-12T02:19:51.147Z"
   },
   {
    "duration": 18,
    "start_time": "2021-08-12T02:19:51.191Z"
   },
   {
    "duration": 20,
    "start_time": "2021-08-12T02:19:51.212Z"
   },
   {
    "duration": 9155,
    "start_time": "2021-08-12T02:19:51.235Z"
   },
   {
    "duration": 1324,
    "start_time": "2021-08-12T02:20:00.392Z"
   },
   {
    "duration": 106,
    "start_time": "2021-08-12T02:20:01.718Z"
   },
   {
    "duration": 1167,
    "start_time": "2021-08-12T02:20:01.826Z"
   },
   {
    "duration": 1367,
    "start_time": "2021-08-12T02:20:02.996Z"
   },
   {
    "duration": 173,
    "start_time": "2021-08-12T08:12:04.876Z"
   },
   {
    "duration": 1405,
    "start_time": "2021-08-12T11:28:32.431Z"
   },
   {
    "duration": 105,
    "start_time": "2021-08-12T11:28:33.839Z"
   },
   {
    "duration": 23,
    "start_time": "2021-08-12T11:28:33.947Z"
   },
   {
    "duration": 42,
    "start_time": "2021-08-12T11:28:33.972Z"
   },
   {
    "duration": 5,
    "start_time": "2021-08-12T11:28:34.017Z"
   },
   {
    "duration": 11,
    "start_time": "2021-08-12T11:28:34.025Z"
   },
   {
    "duration": 11,
    "start_time": "2021-08-12T11:28:34.038Z"
   },
   {
    "duration": 71,
    "start_time": "2021-08-12T11:28:34.053Z"
   },
   {
    "duration": 22,
    "start_time": "2021-08-12T11:28:34.126Z"
   },
   {
    "duration": 52,
    "start_time": "2021-08-12T11:28:34.150Z"
   },
   {
    "duration": 6,
    "start_time": "2021-08-12T11:28:34.204Z"
   },
   {
    "duration": 432,
    "start_time": "2021-08-12T11:28:34.212Z"
   },
   {
    "duration": 9,
    "start_time": "2021-08-12T11:28:34.646Z"
   },
   {
    "duration": 418,
    "start_time": "2021-08-12T11:28:34.657Z"
   },
   {
    "duration": 25,
    "start_time": "2021-08-12T11:28:35.078Z"
   },
   {
    "duration": 44,
    "start_time": "2021-08-12T11:28:35.105Z"
   },
   {
    "duration": 23,
    "start_time": "2021-08-12T11:28:35.151Z"
   },
   {
    "duration": 61,
    "start_time": "2021-08-12T11:28:35.202Z"
   },
   {
    "duration": 4,
    "start_time": "2021-08-12T11:28:35.266Z"
   },
   {
    "duration": 54,
    "start_time": "2021-08-12T11:28:35.300Z"
   },
   {
    "duration": 65,
    "start_time": "2021-08-12T11:28:35.357Z"
   },
   {
    "duration": 53,
    "start_time": "2021-08-12T11:28:35.425Z"
   },
   {
    "duration": 23,
    "start_time": "2021-08-12T11:28:35.483Z"
   },
   {
    "duration": 17,
    "start_time": "2021-08-12T11:28:35.509Z"
   },
   {
    "duration": 57,
    "start_time": "2021-08-12T11:28:35.528Z"
   },
   {
    "duration": 18,
    "start_time": "2021-08-12T11:28:35.588Z"
   },
   {
    "duration": 17,
    "start_time": "2021-08-12T11:28:35.608Z"
   },
   {
    "duration": 24,
    "start_time": "2021-08-12T11:28:35.628Z"
   },
   {
    "duration": 8972,
    "start_time": "2021-08-12T11:28:35.655Z"
   },
   {
    "duration": 1320,
    "start_time": "2021-08-12T11:28:44.630Z"
   },
   {
    "duration": 94,
    "start_time": "2021-08-12T11:28:45.953Z"
   },
   {
    "duration": 1556,
    "start_time": "2021-08-12T11:28:46.049Z"
   },
   {
    "duration": 1368,
    "start_time": "2021-08-12T11:28:47.608Z"
   },
   {
    "duration": 472,
    "start_time": "2021-08-12T11:28:48.978Z"
   },
   {
    "duration": 376,
    "start_time": "2021-08-12T11:29:06.102Z"
   },
   {
    "duration": 407,
    "start_time": "2021-08-12T11:30:17.134Z"
   },
   {
    "duration": 28,
    "start_time": "2021-08-12T11:30:21.874Z"
   },
   {
    "duration": 6,
    "start_time": "2021-08-12T11:30:26.914Z"
   },
   {
    "duration": 109,
    "start_time": "2021-08-12T20:09:37.508Z"
   },
   {
    "duration": 1410,
    "start_time": "2021-09-05T01:31:36.291Z"
   },
   {
    "duration": 111,
    "start_time": "2021-09-05T01:31:37.704Z"
   },
   {
    "duration": 23,
    "start_time": "2021-09-05T01:31:37.818Z"
   },
   {
    "duration": 39,
    "start_time": "2021-09-05T01:31:37.844Z"
   },
   {
    "duration": 6,
    "start_time": "2021-09-05T01:31:37.885Z"
   },
   {
    "duration": 12,
    "start_time": "2021-09-05T01:31:37.893Z"
   },
   {
    "duration": 11,
    "start_time": "2021-09-05T01:31:37.907Z"
   },
   {
    "duration": 69,
    "start_time": "2021-09-05T01:31:37.922Z"
   },
   {
    "duration": 22,
    "start_time": "2021-09-05T01:31:37.994Z"
   },
   {
    "duration": 55,
    "start_time": "2021-09-05T01:31:38.018Z"
   },
   {
    "duration": 7,
    "start_time": "2021-09-05T01:31:38.075Z"
   },
   {
    "duration": 341,
    "start_time": "2021-09-05T01:31:38.084Z"
   },
   {
    "duration": 10,
    "start_time": "2021-09-05T01:31:38.427Z"
   },
   {
    "duration": 409,
    "start_time": "2021-09-05T01:31:38.439Z"
   },
   {
    "duration": 23,
    "start_time": "2021-09-05T01:31:38.850Z"
   },
   {
    "duration": 42,
    "start_time": "2021-09-05T01:31:38.876Z"
   },
   {
    "duration": 20,
    "start_time": "2021-09-05T01:31:38.921Z"
   },
   {
    "duration": 81,
    "start_time": "2021-09-05T01:31:38.943Z"
   },
   {
    "duration": 3,
    "start_time": "2021-09-05T01:31:39.027Z"
   },
   {
    "duration": 83,
    "start_time": "2021-09-05T01:31:39.032Z"
   },
   {
    "duration": 57,
    "start_time": "2021-09-05T01:31:39.117Z"
   },
   {
    "duration": 57,
    "start_time": "2021-09-05T01:31:39.177Z"
   },
   {
    "duration": 6,
    "start_time": "2021-09-05T01:31:39.238Z"
   },
   {
    "duration": 27,
    "start_time": "2021-09-05T01:31:39.247Z"
   },
   {
    "duration": 49,
    "start_time": "2021-09-05T01:31:39.276Z"
   },
   {
    "duration": 12,
    "start_time": "2021-09-05T01:31:39.328Z"
   },
   {
    "duration": 19,
    "start_time": "2021-09-05T01:31:39.368Z"
   },
   {
    "duration": 22,
    "start_time": "2021-09-05T01:31:39.390Z"
   },
   {
    "duration": 9899,
    "start_time": "2021-09-05T01:31:39.415Z"
   },
   {
    "duration": 1609,
    "start_time": "2021-09-05T01:31:49.317Z"
   },
   {
    "duration": 20,
    "start_time": "2021-09-05T01:31:50.929Z"
   },
   {
    "duration": 1304,
    "start_time": "2021-09-05T01:31:50.967Z"
   },
   {
    "duration": 1399,
    "start_time": "2021-09-05T01:31:52.274Z"
   }
  ],
  "kernelspec": {
   "display_name": "Python 3",
   "language": "python",
   "name": "python3"
  },
  "language_info": {
   "codemirror_mode": {
    "name": "ipython",
    "version": 3
   },
   "file_extension": ".py",
   "mimetype": "text/x-python",
   "name": "python",
   "nbconvert_exporter": "python",
   "pygments_lexer": "ipython3",
   "version": "3.7.8"
  },
  "toc": {
   "base_numbering": 1,
   "nav_menu": {},
   "number_sections": true,
   "sideBar": true,
   "skip_h1_title": false,
   "title_cell": "Table of Contents",
   "title_sidebar": "Contents",
   "toc_cell": false,
   "toc_position": {
    "height": "calc(100% - 180px)",
    "left": "10px",
    "top": "150px",
    "width": "288px"
   },
   "toc_section_display": true,
   "toc_window_display": true
  }
 },
 "nbformat": 4,
 "nbformat_minor": 2
}
