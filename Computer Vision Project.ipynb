{
 "cells": [
  {
   "cell_type": "markdown",
   "metadata": {},
   "source": [
    "# Project description\n",
    "The supermarket chain Good Seed would like to explore whether Data Science can help them adhere to alcohol laws by making sure they do not sell alcohol to people underage. You are asked to conduct that evaluation, so as you set to work, keep the following in mind:\n",
    "\n",
    "- The shops are equipped with cameras in the checkout area which are triggered when a person is buying alcohol.\n",
    "\n",
    "- Computer vision methods can be used to determine age of a person from a photo.\n",
    "\n",
    "- The task then is to build and evaluate a model for verifying people's age.\n",
    "\n",
    "- To start working on the task, you'll have a set of photographs of people with their ages indicated.\n"
   ]
  },
  {
   "cell_type": "markdown",
   "metadata": {},
   "source": [
    "## Initialization"
   ]
  },
  {
   "cell_type": "code",
   "execution_count": 1,
   "metadata": {},
   "outputs": [],
   "source": [
    "import pandas as pd\n",
    "import matplotlib.pyplot as plt\n",
    "\n",
    "from tensorflow.keras.preprocessing.image import ImageDataGenerator"
   ]
  },
  {
   "cell_type": "markdown",
   "metadata": {},
   "source": [
    "## Load Data"
   ]
  },
  {
   "cell_type": "code",
   "execution_count": 2,
   "metadata": {},
   "outputs": [
    {
     "data": {
      "text/plain": [
       "(7591, 2)"
      ]
     },
     "execution_count": 2,
     "metadata": {},
     "output_type": "execute_result"
    }
   ],
   "source": [
    "labels = pd.read_csv('/datasets/faces/labels.csv')\n",
    "\n",
    "labels.head()\n",
    "\n",
    "labels.shape"
   ]
  },
  {
   "cell_type": "code",
   "execution_count": null,
   "metadata": {},
   "outputs": [],
   "source": [
    "datagen = ImageDataGenerator(rescale=1./255)\n",
    "\n",
    "gen_flow = datagen.flow_from_dataframe(\n",
    "        dataframe=labels,\n",
    "        directory='faces/final_files/final_files/',\n",
    "        x_col='file_name',\n",
    "        y_col='real_age',\n",
    "        target_size=(224, 224),\n",
    "        batch_size=32,\n",
    "        class_mode='raw',\n",
    "        seed=12345)"
   ]
  },
  {
   "cell_type": "code",
   "execution_count": null,
   "metadata": {},
   "outputs": [],
   "source": [
    "def show_batch(batch, predictions=None):\n",
    "    fig = plt.figure(figsize=(10, 20))\n",
    "\n",
    "    for i in range(15):\n",
    "        fig.add_subplot(5, 3, i+1)\n",
    "        plt.imshow(batch[0][i])\n",
    "        title = batch[1][i]\n",
    "        if predictions is not None:\n",
    "            title = f'gt: {title}, pred: {round(predictions[i])}'\n",
    "        plt.title(title)\n",
    "\n",
    "    fig.tight_layout()\n",
    "\n",
    "show_batch(next(gen_flow))"
   ]
  },
  {
   "cell_type": "markdown",
   "metadata": {},
   "source": [
    "## EDA"
   ]
  },
  {
   "cell_type": "code",
   "execution_count": null,
   "metadata": {},
   "outputs": [],
   "source": [
    "plt.hist(labels['real_age'], density=True, bins=100)\n",
    "pass"
   ]
  },
  {
   "cell_type": "markdown",
   "metadata": {},
   "source": [
    "### Findings"
   ]
  },
  {
   "cell_type": "markdown",
   "metadata": {},
   "source": [
    "- Looks to be a somewhat normal distribution.\n",
    "- There is a class imbalance at the right tail of the histogram.\n",
    "- The model may not produce accurate results for age group > 80 due to a lack of a data."
   ]
  },
  {
   "cell_type": "markdown",
   "metadata": {},
   "source": [
    "## Modelling"
   ]
  },
  {
   "cell_type": "markdown",
   "metadata": {},
   "source": [
    "Define the necessary functions to train your model on the GPU platform and build a single script containing all of them along with the initialization section.\n",
    "\n",
    "To make this task easier, you can define them in this notebook and run a ready code in the next section to automatically compose the script.\n",
    "\n",
    "The definitions below will be checked by project reviewers as well, so that they can understand how you built the model."
   ]
  },
  {
   "cell_type": "code",
   "execution_count": null,
   "metadata": {},
   "outputs": [],
   "source": [
    "import pandas as pd\n",
    "\n",
    "import tensorflow as tf\n",
    "\n",
    "from tensorflow.keras.preprocessing.image import ImageDataGenerator\n",
    "from tensorflow.keras.applications.resnet import ResNet50\n",
    "from tensorflow.keras.models import Sequential\n",
    "from tensorflow.keras.layers import GlobalAveragePooling2D, Dense, Dropout, Flatten\n",
    "from tensorflow.keras.optimizers import Adam"
   ]
  },
  {
   "cell_type": "code",
   "execution_count": null,
   "metadata": {},
   "outputs": [],
   "source": [
    "def load_train(path):\n",
    "    labels = pd.read_csv(path + 'labels.csv')\n",
    "    train_datagen = ImageDataGenerator(\n",
    "        validation_split=0.25,\n",
    "        horizontal_flip=True,\n",
    "        rescale=1./255)\n",
    "    train_gen_flow = train_datagen.flow_from_dataframe(\n",
    "        dataframe=labels,\n",
    "        directory=path + 'final_files/',\n",
    "        x_col='file_name',\n",
    "        y_col='real_age',\n",
    "        target_size=(224, 224),\n",
    "        batch_size=16,\n",
    "        class_mode='raw',\n",
    "        subset='training',\n",
    "        seed=12345)\n",
    " \n",
    "    return train_gen_flow"
   ]
  },
  {
   "cell_type": "code",
   "execution_count": null,
   "metadata": {},
   "outputs": [],
   "source": [
    "def load_test(path):\n",
    "    labels = pd.read_csv(path + 'labels.csv')\n",
    "    test_datagen = ImageDataGenerator(\n",
    "        validation_split=0.25,\n",
    "        rescale=1./255)\n",
    "    test_gen_flow = test_datagen.flow_from_dataframe(\n",
    "        dataframe=labels,\n",
    "        directory=path + 'final_files/',\n",
    "        x_col='file_name',\n",
    "        y_col='real_age',\n",
    "        target_size=(224, 224),\n",
    "        batch_size=16,\n",
    "        class_mode='raw',\n",
    "        subset='validation',\n",
    "        seed=12345)\n",
    "\n",
    "    return test_gen_flow"
   ]
  },
  {
   "cell_type": "code",
   "execution_count": null,
   "metadata": {},
   "outputs": [],
   "source": [
    "def create_model(input_shape):\n",
    "    backbone = ResNet50(weights='imagenet',\n",
    "                        input_shape=input_shape,\n",
    "                        include_top=False)\n",
    " \n",
    "    model = Sequential()\n",
    "    model.add(backbone)\n",
    "    model.add(GlobalAveragePooling2D())\n",
    "    model.add(Dense(1, activation='relu'))\n",
    " \n",
    "    optimizer = Adam(lr=0.0005)\n",
    "    model.compile(optimizer=optimizer, loss='mse', metrics=['mae'])\n",
    " \n",
    "    return model"
   ]
  },
  {
   "cell_type": "code",
   "execution_count": null,
   "metadata": {},
   "outputs": [],
   "source": [
    "def train_model(model, train_data, test_data, batch_size=None, epochs=20,\n",
    "                steps_per_epoch=None, validation_steps=None):\n",
    " \n",
    "    if steps_per_epoch is None:\n",
    "        steps_per_epoch = len(train_data)\n",
    "    if validation_steps is None:\n",
    "        validation_steps = len(test_data)\n",
    " \n",
    "    model.fit(train_data,\n",
    "              validation_data=test_data,\n",
    "              batch_size=batch_size, epochs=epochs,\n",
    "              steps_per_epoch=steps_per_epoch,\n",
    "              validation_steps=validation_steps,\n",
    "              verbose=2)\n",
    " \n",
    "    return model"
   ]
  },
  {
   "cell_type": "markdown",
   "metadata": {},
   "source": [
    "## Prepare the Script to Run on the GPU Platform"
   ]
  },
  {
   "cell_type": "markdown",
   "metadata": {},
   "source": [
    "Given you've defined the necessary functions you can compose a script for the GPU platform, download it via the \"File|Open...\" menu, and to upload it later for running on the GPU platform.\n",
    "\n",
    "N.B.: The script should include the initialization section as well. An example of this is shown below."
   ]
  },
  {
   "cell_type": "code",
   "execution_count": null,
   "metadata": {},
   "outputs": [],
   "source": [
    "# prepare a script to run on the GPU platform\n",
    "\n",
    "init_str = \"\"\"\n",
    "import pandas as pd\n",
    "\n",
    "import tensorflow as tf\n",
    "\n",
    "from tensorflow.keras.preprocessing.image import ImageDataGenerator\n",
    "from tensorflow.keras.applications.resnet import ResNet50\n",
    "from tensorflow.keras.models import Sequential\n",
    "from tensorflow.keras.layers import GlobalAveragePooling2D, Dense, Dropout, Flatten\n",
    "from tensorflow.keras.optimizers import Adam\n",
    "\"\"\"\n",
    "\n",
    "import inspect\n",
    "\n",
    "with open('run_model_on_gpu.py', 'w') as f:\n",
    "    \n",
    "    f.write(init_str)\n",
    "    f.write('\\n\\n')\n",
    "        \n",
    "    for fn_name in [load_train, load_test, create_model, train_model]:\n",
    "        \n",
    "        src = inspect.getsource(fn_name)\n",
    "        f.write(src)\n",
    "        f.write('\\n\\n')"
   ]
  },
  {
   "cell_type": "markdown",
   "metadata": {},
   "source": [
    "### Output"
   ]
  },
  {
   "cell_type": "markdown",
   "metadata": {},
   "source": [
    "Place the output from the GPU platform as an Markdown cell here."
   ]
  },
  {
   "cell_type": "raw",
   "metadata": {},
   "source": [
    "2021-07-12 03:42:48.587809: I tensorflow/stream_executor/platform/default/dso_loader.cc:44] Successfully opened dynamic library libnvinfer.so.6\n",
    "2021-07-12 03:42:48.987707: I tensorflow/stream_executor/platform/default/dso_loader.cc:44] Successfully opened dynamic library libnvinfer_plugin.so.6\n",
    "Using TensorFlow backend.\n",
    "Found 5694 validated image filenames.\n",
    "Found 1897 validated image filenames.\n",
    "2021-07-12 03:43:03.486779: I tensorflow/stream_executor/platform/default/dso_loader.cc:44] Successfully opened dynamic library libcuda.so.1\n",
    "2021-07-12 03:43:04.191165: I tensorflow/core/common_runtime/gpu/gpu_device.cc:1555] Found device 0 with properties: \n",
    "pciBusID: 0000:8b:00.0 name: Tesla V100-SXM2-32GB computeCapability: 7.0\n",
    "coreClock: 1.53GHz coreCount: 80 deviceMemorySize: 31.75GiB deviceMemoryBandwidth: 836.37GiB/s\n",
    "2021-07-12 03:43:04.191243: I tensorflow/stream_executor/platform/default/dso_loader.cc:44] Successfully opened dynamic library libcudart.so.10.1\n",
    "2021-07-12 03:43:04.191275: I tensorflow/stream_executor/platform/default/dso_loader.cc:44] Successfully opened dynamic library libcublas.so.10\n",
    "2021-07-12 03:43:04.473228: I tensorflow/stream_executor/platform/default/dso_loader.cc:44] Successfully opened dynamic library libcufft.so.10\n",
    "2021-07-12 03:43:04.582142: I tensorflow/stream_executor/platform/default/dso_loader.cc:44] Successfully opened dynamic library libcurand.so.10\n",
    "2021-07-12 03:43:05.527189: I tensorflow/stream_executor/platform/default/dso_loader.cc:44] Successfully opened dynamic library libcusolver.so.10\n",
    "2021-07-12 03:43:05.581046: I tensorflow/stream_executor/platform/default/dso_loader.cc:44] Successfully opened dynamic library libcusparse.so.10\n",
    "2021-07-12 03:43:05.581168: I tensorflow/stream_executor/platform/default/dso_loader.cc:44] Successfully opened dynamic library libcudnn.so.7\n",
    "2021-07-12 03:43:05.585398: I tensorflow/core/common_runtime/gpu/gpu_device.cc:1697] Adding visible gpu devices: 0\n",
    "2021-07-12 03:43:05.585813: I tensorflow/core/platform/cpu_feature_guard.cc:142] Your CPU supports instructions that this TensorFlow binary was not compiled to use: AVX2 AVX512F FMA\n",
    "2021-07-12 03:43:05.832251: I tensorflow/core/platform/profile_utils/cpu_utils.cc:94] CPU Frequency: 2099990000 Hz\n",
    "2021-07-12 03:43:05.838415: I tensorflow/compiler/xla/service/service.cc:168] XLA service 0x47f02e0 initialized for platform Host (this does not guarantee that XLA will be used). Devices:\n",
    "2021-07-12 03:43:05.838452: I tensorflow/compiler/xla/service/service.cc:176]   StreamExecutor device (0): Host, Default Version\n",
    "2021-07-12 03:43:06.364478: I tensorflow/compiler/xla/service/service.cc:168] XLA service 0x55378f0 initialized for platform CUDA (this does not guarantee that XLA will be used). Devices:\n",
    "2021-07-12 03:43:06.364518: I tensorflow/compiler/xla/service/service.cc:176]   StreamExecutor device (0): Tesla V100-SXM2-32GB, Compute Capability 7.0\n",
    "2021-07-12 03:43:06.366963: I tensorflow/core/common_runtime/gpu/gpu_device.cc:1555] Found device 0 with properties: \n",
    "pciBusID: 0000:8b:00.0 name: Tesla V100-SXM2-32GB computeCapability: 7.0\n",
    "coreClock: 1.53GHz coreCount: 80 deviceMemorySize: 31.75GiB deviceMemoryBandwidth: 836.37GiB/s\n",
    "2021-07-12 03:43:06.367020: I tensorflow/stream_executor/platform/default/dso_loader.cc:44] Successfully opened dynamic library libcudart.so.10.1\n",
    "2021-07-12 03:43:06.367030: I tensorflow/stream_executor/platform/default/dso_loader.cc:44] Successfully opened dynamic library libcublas.so.10\n",
    "2021-07-12 03:43:06.367058: I tensorflow/stream_executor/platform/default/dso_loader.cc:44] Successfully opened dynamic library libcufft.so.10\n",
    "2021-07-12 03:43:06.367067: I tensorflow/stream_executor/platform/default/dso_loader.cc:44] Successfully opened dynamic library libcurand.so.10\n",
    "2021-07-12 03:43:06.367076: I tensorflow/stream_executor/platform/default/dso_loader.cc:44] Successfully opened dynamic library libcusolver.so.10\n",
    "2021-07-12 03:43:06.367085: I tensorflow/stream_executor/platform/default/dso_loader.cc:44] Successfully opened dynamic library libcusparse.so.10\n",
    "2021-07-12 03:43:06.367092: I tensorflow/stream_executor/platform/default/dso_loader.cc:44] Successfully opened dynamic library libcudnn.so.7\n",
    "2021-07-12 03:43:06.371495: I tensorflow/core/common_runtime/gpu/gpu_device.cc:1697] Adding visible gpu devices: 0\n",
    "2021-07-12 03:43:06.383657: I tensorflow/stream_executor/platform/default/dso_loader.cc:44] Successfully opened dynamic library libcudart.so.10.1\n",
    "2021-07-12 03:43:12.551198: I tensorflow/core/common_runtime/gpu/gpu_device.cc:1096] Device interconnect StreamExecutor with strength 1 edge matrix:\n",
    "2021-07-12 03:43:12.551247: I tensorflow/core/common_runtime/gpu/gpu_device.cc:1102]      0 \n",
    "2021-07-12 03:43:12.551258: I tensorflow/core/common_runtime/gpu/gpu_device.cc:1115] 0:   N \n",
    "2021-07-12 03:43:12.568595: I tensorflow/core/common_runtime/gpu/gpu_device.cc:1241] Created TensorFlow device (/job:localhost/replica:0/task:0/device:GPU:0 with 30509 MB memory) -> physical GPU (device: 0, name: Tesla V100-SXM2-32GB, pci bus id: 0000:8b:00.0, compute capability: 7.0)\n",
    "<class 'tensorflow.python.keras.engine.sequential.Sequential'>\n",
    "WARNING:tensorflow:sample_weight modes were coerced from\n",
    "  ...\n",
    "    to  \n",
    "  ['...']\n",
    "WARNING:tensorflow:sample_weight modes were coerced from\n",
    "  ...\n",
    "    to  \n",
    "  ['...']\n",
    "Train for 356 steps, validate for 119 steps\n",
    "Epoch 1/20\n",
    "2021-07-12 03:43:49.057707: I tensorflow/stream_executor/platform/default/dso_loader.cc:44] Successfully opened dynamic library libcublas.so.10\n",
    "2021-07-12 03:43:53.003295: I tensorflow/stream_executor/platform/default/dso_loader.cc:44] Successfully opened dynamic library libcudnn.so.7\n",
    "356/356 - 124s - loss: 205.5643 - mae: 10.8580 - val_loss: 398.6398 - val_mae: 14.9877\n",
    "Epoch 2/20\n",
    "356/356 - 37s - loss: 140.6503 - mae: 8.9638 - val_loss: 221.1851 - val_mae: 11.4264\n",
    "Epoch 3/20\n",
    "356/356 - 37s - loss: 113.3934 - mae: 8.0952 - val_loss: 208.7652 - val_mae: 11.0632\n",
    "Epoch 4/20\n",
    "356/356 - 37s - loss: 98.6338 - mae: 7.5248 - val_loss: 148.3382 - val_mae: 9.1090\n",
    "Epoch 5/20\n",
    "356/356 - 37s - loss: 76.0075 - mae: 6.5908 - val_loss: 155.3999 - val_mae: 10.1680\n",
    "Epoch 6/20\n",
    "356/356 - 37s - loss: 67.6279 - mae: 6.2878 - val_loss: 102.4863 - val_mae: 7.9773\n",
    "Epoch 7/20\n",
    "356/356 - 37s - loss: 60.0903 - mae: 5.9439 - val_loss: 110.3693 - val_mae: 8.0945\n",
    "Epoch 8/20\n",
    "356/356 - 37s - loss: 48.3136 - mae: 5.3701 - val_loss: 144.3590 - val_mae: 8.9175\n",
    "Epoch 9/20\n",
    "356/356 - 37s - loss: 44.5969 - mae: 5.1263 - val_loss: 96.1629 - val_mae: 7.3044\n",
    "Epoch 10/20\n",
    "356/356 - 37s - loss: 39.8955 - mae: 4.8479 - val_loss: 116.0389 - val_mae: 8.1062\n",
    "Epoch 11/20\n",
    "356/356 - 37s - loss: 32.2469 - mae: 4.4055 - val_loss: 127.7954 - val_mae: 8.5667\n",
    "Epoch 12/20\n",
    "356/356 - 37s - loss: 29.8646 - mae: 4.1837 - val_loss: 154.0498 - val_mae: 9.2381\n",
    "Epoch 13/20\n",
    "356/356 - 37s - loss: 30.4197 - mae: 4.2355 - val_loss: 97.7452 - val_mae: 7.4388\n",
    "Epoch 14/20\n",
    "356/356 - 37s - loss: 22.7650 - mae: 3.6931 - val_loss: 83.0797 - val_mae: 6.9225\n",
    "Epoch 15/20\n",
    "356/356 - 37s - loss: 19.2019 - mae: 3.3759 - val_loss: 104.9237 - val_mae: 8.0603\n",
    "Epoch 16/20\n",
    "356/356 - 37s - loss: 18.3428 - mae: 3.2625 - val_loss: 98.0030 - val_mae: 7.5022\n",
    "Epoch 17/20\n",
    "356/356 - 37s - loss: 18.5815 - mae: 3.3310 - val_loss: 141.2953 - val_mae: 9.1053\n",
    "Epoch 18/20\n",
    "356/356 - 37s - loss: 17.2924 - mae: 3.1991 - val_loss: 83.0445 - val_mae: 6.9618\n",
    "Epoch 19/20\n",
    "356/356 - 37s - loss: 16.9168 - mae: 3.1463 - val_loss: 81.5698 - val_mae: 6.8767\n",
    "Epoch 20/20\n",
    "356/356 - 37s - loss: 16.3645 - mae: 3.1400 - val_loss: 84.9420 - val_mae: 6.9553"
   ]
  },
  {
   "cell_type": "markdown",
   "metadata": {},
   "source": [
    "## Conclusions"
   ]
  },
  {
   "cell_type": "markdown",
   "metadata": {},
   "source": [
    "- Our goal was to predict age based off of photos of people.\n",
    "- We added to the data by horizontally flipping the photos using ImageDataGenerator.\n",
    "- ResNET50 architecture was used for the neural network.\n",
    "- MSE was used as our loss function because it computes faster that MAE.\n",
    "- Our model had 1 output because this a regression task. \n",
    "- Relu activation function was used to cut off negative values, because age can't be < 0.\n",
    "- We successfully reached val_mae < 7.\n",
    "- If we want to further decrease MAE we can add more data by zooming in on the photos or rotating them."
   ]
  },
  {
   "cell_type": "markdown",
   "metadata": {},
   "source": [
    "# Checklist"
   ]
  },
  {
   "cell_type": "markdown",
   "metadata": {},
   "source": [
    "- [x]  Notebook was opened\n",
    "- [x]  The code is error free\n",
    "- [x]  The cells with code have been arranged by order of execution\n",
    "- [x]  The exploratory data analysis has been performed\n",
    "- [x]  The results of the exploratory data analysis are presented in the final notebook\n",
    "- [x]  The model's MAE score is not higher than 8\n",
    "- [x]  The model training code has been copied to the final notebook\n",
    "- [x]  The model training output has been copied to the final notebook\n",
    "- [x]  The findings have been provided based on the results of the model training"
   ]
  },
  {
   "cell_type": "code",
   "execution_count": null,
   "metadata": {},
   "outputs": [],
   "source": []
  }
 ],
 "metadata": {
  "ExecuteTimeLog": [
   {
    "duration": 4524,
    "start_time": "2021-07-12T20:48:00.511Z"
   },
   {
    "duration": 40,
    "start_time": "2021-07-12T20:48:05.038Z"
   },
   {
    "duration": 299,
    "start_time": "2021-09-08T00:28:31.550Z"
   },
   {
    "duration": 4155,
    "start_time": "2021-09-08T00:28:39.787Z"
   },
   {
    "duration": 34,
    "start_time": "2021-09-08T00:28:43.945Z"
   }
  ],
  "kernelspec": {
   "display_name": "Python 3",
   "language": "python",
   "name": "python3"
  },
  "language_info": {
   "codemirror_mode": {
    "name": "ipython",
    "version": 3
   },
   "file_extension": ".py",
   "mimetype": "text/x-python",
   "name": "python",
   "nbconvert_exporter": "python",
   "pygments_lexer": "ipython3",
   "version": "3.7.8"
  },
  "toc": {
   "base_numbering": 1,
   "nav_menu": {},
   "number_sections": true,
   "sideBar": true,
   "skip_h1_title": true,
   "title_cell": "Table of Contents",
   "title_sidebar": "Contents",
   "toc_cell": false,
   "toc_position": {},
   "toc_section_display": true,
   "toc_window_display": false
  }
 },
 "nbformat": 4,
 "nbformat_minor": 4
}
