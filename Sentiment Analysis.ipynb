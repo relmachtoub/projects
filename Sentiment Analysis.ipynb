{
 "cells": [
  {
   "cell_type": "code",
   "execution_count": 2,
   "metadata": {},
   "outputs": [],
   "source": [
    "import pandas as pd\n",
    "from sklearn.tree import DecisionTreeClassifier\n",
    "from sklearn.ensemble import RandomForestClassifier\n",
    "from sklearn.linear_model import LogisticRegression\n",
    "from sklearn.tree import DecisionTreeRegressor\n",
    "from sklearn.metrics import mean_squared_error\n",
    "from sklearn.ensemble import RandomForestRegressor\n",
    "from sklearn.linear_model import LinearRegression\n",
    "from sklearn.model_selection import train_test_split\n",
    "from joblib import dump\n",
    "from sklearn.metrics import r2_score\n",
    "from sklearn.preprocessing import StandardScaler\n",
    "from sklearn.metrics import f1_score\n",
    "from sklearn.metrics import accuracy_score\n",
    "from sklearn.utils import shuffle\n",
    "from sklearn.metrics import roc_curve\n",
    "from sklearn.metrics import roc_auc_score\n",
    "import matplotlib.pyplot as plt\n",
    "from sklearn.model_selection import cross_val_score\n",
    "from sklearn.metrics import fbeta_score, make_scorer\n",
    "from sklearn.metrics import mean_absolute_error\n",
    "import numpy as np\n",
    "from sklearn.preprocessing import OrdinalEncoder"
   ]
  },
  {
   "cell_type": "code",
   "execution_count": 3,
   "metadata": {},
   "outputs": [
    {
     "data": {
      "text/html": [
       "<div>\n",
       "<style scoped>\n",
       "    .dataframe tbody tr th:only-of-type {\n",
       "        vertical-align: middle;\n",
       "    }\n",
       "\n",
       "    .dataframe tbody tr th {\n",
       "        vertical-align: top;\n",
       "    }\n",
       "\n",
       "    .dataframe thead th {\n",
       "        text-align: right;\n",
       "    }\n",
       "</style>\n",
       "<table border=\"1\" class=\"dataframe\">\n",
       "  <thead>\n",
       "    <tr style=\"text-align: right;\">\n",
       "      <th></th>\n",
       "      <th>tconst</th>\n",
       "      <th>original_title</th>\n",
       "      <th>review</th>\n",
       "      <th>review_lemm</th>\n",
       "      <th>pos</th>\n",
       "    </tr>\n",
       "  </thead>\n",
       "  <tbody>\n",
       "    <tr>\n",
       "      <td>0</td>\n",
       "      <td>tt0087803</td>\n",
       "      <td>Nineteen Eighty-Four</td>\n",
       "      <td>I saw this movie last year in Media class and ...</td>\n",
       "      <td>i see this movie last year in medium class and...</td>\n",
       "      <td>0</td>\n",
       "    </tr>\n",
       "    <tr>\n",
       "      <td>1</td>\n",
       "      <td>tt0087803</td>\n",
       "      <td>Nineteen Eighty-Four</td>\n",
       "      <td>I must admit, there are few books with corresp...</td>\n",
       "      <td>i must admit there be few book with correspond...</td>\n",
       "      <td>0</td>\n",
       "    </tr>\n",
       "    <tr>\n",
       "      <td>2</td>\n",
       "      <td>tt0087803</td>\n",
       "      <td>Nineteen Eighty-Four</td>\n",
       "      <td>I think that the shots and lighting were very ...</td>\n",
       "      <td>i think that the shot and light be very poor w...</td>\n",
       "      <td>0</td>\n",
       "    </tr>\n",
       "    <tr>\n",
       "      <td>3</td>\n",
       "      <td>tt0087803</td>\n",
       "      <td>Nineteen Eighty-Four</td>\n",
       "      <td>A few weeks ago, I read the classic George Orw...</td>\n",
       "      <td>a few week ago i read the classic george orwel...</td>\n",
       "      <td>0</td>\n",
       "    </tr>\n",
       "    <tr>\n",
       "      <td>4</td>\n",
       "      <td>tt0087803</td>\n",
       "      <td>Nineteen Eighty-Four</td>\n",
       "      <td>I saw this movie literally directly after fini...</td>\n",
       "      <td>i see this movie literally directly after fini...</td>\n",
       "      <td>0</td>\n",
       "    </tr>\n",
       "  </tbody>\n",
       "</table>\n",
       "</div>"
      ],
      "text/plain": [
       "      tconst        original_title  \\\n",
       "0  tt0087803  Nineteen Eighty-Four   \n",
       "1  tt0087803  Nineteen Eighty-Four   \n",
       "2  tt0087803  Nineteen Eighty-Four   \n",
       "3  tt0087803  Nineteen Eighty-Four   \n",
       "4  tt0087803  Nineteen Eighty-Four   \n",
       "\n",
       "                                              review  \\\n",
       "0  I saw this movie last year in Media class and ...   \n",
       "1  I must admit, there are few books with corresp...   \n",
       "2  I think that the shots and lighting were very ...   \n",
       "3  A few weeks ago, I read the classic George Orw...   \n",
       "4  I saw this movie literally directly after fini...   \n",
       "\n",
       "                                         review_lemm  pos  \n",
       "0  i see this movie last year in medium class and...    0  \n",
       "1  i must admit there be few book with correspond...    0  \n",
       "2  i think that the shot and light be very poor w...    0  \n",
       "3  a few week ago i read the classic george orwel...    0  \n",
       "4  i see this movie literally directly after fini...    0  "
      ]
     },
     "metadata": {},
     "output_type": "display_data"
    },
    {
     "name": "stdout",
     "output_type": "stream",
     "text": [
      "\n"
     ]
    },
    {
     "data": {
      "text/html": [
       "<div>\n",
       "<style scoped>\n",
       "    .dataframe tbody tr th:only-of-type {\n",
       "        vertical-align: middle;\n",
       "    }\n",
       "\n",
       "    .dataframe tbody tr th {\n",
       "        vertical-align: top;\n",
       "    }\n",
       "\n",
       "    .dataframe thead th {\n",
       "        text-align: right;\n",
       "    }\n",
       "</style>\n",
       "<table border=\"1\" class=\"dataframe\">\n",
       "  <thead>\n",
       "    <tr style=\"text-align: right;\">\n",
       "      <th></th>\n",
       "      <th>tconst</th>\n",
       "      <th>original_title</th>\n",
       "      <th>review</th>\n",
       "      <th>review_lemm</th>\n",
       "    </tr>\n",
       "  </thead>\n",
       "  <tbody>\n",
       "    <tr>\n",
       "      <td>0</td>\n",
       "      <td>tt0108999</td>\n",
       "      <td>...And the Earth Did Not Swallow Him</td>\n",
       "      <td>I rented this movie from a local library witho...</td>\n",
       "      <td>i rent this movie from a local library without...</td>\n",
       "    </tr>\n",
       "    <tr>\n",
       "      <td>1</td>\n",
       "      <td>tt0108999</td>\n",
       "      <td>...And the Earth Did Not Swallow Him</td>\n",
       "      <td>The movie \". . . And The Earth Did not Swallow...</td>\n",
       "      <td>the movie and the earth do not swallow -PRON- ...</td>\n",
       "    </tr>\n",
       "    <tr>\n",
       "      <td>2</td>\n",
       "      <td>tt0108999</td>\n",
       "      <td>...And the Earth Did Not Swallow Him</td>\n",
       "      <td>I was very moved by the young life experiences...</td>\n",
       "      <td>i be very move by the young life experience of...</td>\n",
       "    </tr>\n",
       "    <tr>\n",
       "      <td>3</td>\n",
       "      <td>tt0108999</td>\n",
       "      <td>...And the Earth Did Not Swallow Him</td>\n",
       "      <td>Recently finally available in DVD (11/11/08), ...</td>\n",
       "      <td>recently finally available in dvd severo p rez...</td>\n",
       "    </tr>\n",
       "    <tr>\n",
       "      <td>4</td>\n",
       "      <td>tt0063308</td>\n",
       "      <td>Un minuto per pregare, un istante per morire</td>\n",
       "      <td>I saw this movie over 20 years ago and had rat...</td>\n",
       "      <td>i see this movie over year ago and have rather...</td>\n",
       "    </tr>\n",
       "  </tbody>\n",
       "</table>\n",
       "</div>"
      ],
      "text/plain": [
       "      tconst                                original_title  \\\n",
       "0  tt0108999          ...And the Earth Did Not Swallow Him   \n",
       "1  tt0108999          ...And the Earth Did Not Swallow Him   \n",
       "2  tt0108999          ...And the Earth Did Not Swallow Him   \n",
       "3  tt0108999          ...And the Earth Did Not Swallow Him   \n",
       "4  tt0063308  Un minuto per pregare, un istante per morire   \n",
       "\n",
       "                                              review  \\\n",
       "0  I rented this movie from a local library witho...   \n",
       "1  The movie \". . . And The Earth Did not Swallow...   \n",
       "2  I was very moved by the young life experiences...   \n",
       "3  Recently finally available in DVD (11/11/08), ...   \n",
       "4  I saw this movie over 20 years ago and had rat...   \n",
       "\n",
       "                                         review_lemm  \n",
       "0  i rent this movie from a local library without...  \n",
       "1  the movie and the earth do not swallow -PRON- ...  \n",
       "2  i be very move by the young life experience of...  \n",
       "3  recently finally available in dvd severo p rez...  \n",
       "4  i see this movie over year ago and have rather...  "
      ]
     },
     "metadata": {},
     "output_type": "display_data"
    },
    {
     "name": "stdout",
     "output_type": "stream",
     "text": [
      "<class 'pandas.core.frame.DataFrame'>\n",
      "RangeIndex: 2220 entries, 0 to 2219\n",
      "Data columns (total 4 columns):\n",
      "tconst            2220 non-null object\n",
      "original_title    2220 non-null object\n",
      "review            2220 non-null object\n",
      "review_lemm       2220 non-null object\n",
      "dtypes: object(4)\n",
      "memory usage: 69.5+ KB\n"
     ]
    },
    {
     "data": {
      "text/plain": [
       "A Guy Thing                         30\n",
       "Raising Victor Vargas               30\n",
       "Written on the Wind                 30\n",
       "Fay Grim                            30\n",
       "Grand Canyon                        30\n",
       "                                    ..\n",
       "Thank You, Jeeves!                   1\n",
       "Give Us This Day                     1\n",
       "Anne of Green Gables: The Sequel     1\n",
       "Steelyard Blues                      1\n",
       "Dallas Doll                          1\n",
       "Name: original_title, Length: 143, dtype: int64"
      ]
     },
     "execution_count": 3,
     "metadata": {},
     "output_type": "execute_result"
    }
   ],
   "source": [
    "train = pd.read_csv('/datasets/imdb_reviews_small_lemm_train.tsv', sep='\\t')\n",
    "test = pd.read_csv('/datasets/imdb_reviews_small_lemm_test.tsv', sep='\\t')\n",
    "\n",
    "display(train.head())\n",
    "print()\n",
    "display(test.head())\n",
    "\n",
    "test.info()\n",
    "\n",
    "train['original_title'].value_counts()"
   ]
  },
  {
   "cell_type": "code",
   "execution_count": 3,
   "metadata": {},
   "outputs": [],
   "source": [
    "features_train = train['review_lemm']\n",
    "target_train = train['pos']\n",
    "\n",
    "corpus = features_train"
   ]
  },
  {
   "cell_type": "code",
   "execution_count": null,
   "metadata": {},
   "outputs": [],
   "source": []
  },
  {
   "cell_type": "code",
   "execution_count": 4,
   "metadata": {},
   "outputs": [],
   "source": [
    "from sklearn.feature_extraction.text import CountVectorizer\n",
    "\n",
    "import nltk\n",
    "\n",
    "from nltk.corpus import stopwords\n",
    "\n",
    "from sklearn.feature_extraction.text import TfidfVectorizer\n",
    "\n",
    "stop_words = set(stopwords.words('english'))\n",
    "count_tf_idf = TfidfVectorizer(stop_words=stop_words) \n",
    "tf_idf = count_tf_idf.fit_transform(corpus)\n"
   ]
  },
  {
   "cell_type": "code",
   "execution_count": 5,
   "metadata": {},
   "outputs": [],
   "source": [
    "columns_train = count_tf_idf.get_feature_names()"
   ]
  },
  {
   "cell_type": "code",
   "execution_count": 6,
   "metadata": {},
   "outputs": [
    {
     "data": {
      "text/html": [
       "<div>\n",
       "<style scoped>\n",
       "    .dataframe tbody tr th:only-of-type {\n",
       "        vertical-align: middle;\n",
       "    }\n",
       "\n",
       "    .dataframe tbody tr th {\n",
       "        vertical-align: top;\n",
       "    }\n",
       "\n",
       "    .dataframe thead th {\n",
       "        text-align: right;\n",
       "    }\n",
       "</style>\n",
       "<table border=\"1\" class=\"dataframe\">\n",
       "  <thead>\n",
       "    <tr style=\"text-align: right;\">\n",
       "      <th></th>\n",
       "      <th>aaja</th>\n",
       "      <th>aan</th>\n",
       "      <th>aarp</th>\n",
       "      <th>aback</th>\n",
       "      <th>abandon</th>\n",
       "      <th>abandonment</th>\n",
       "      <th>abbas</th>\n",
       "      <th>abbey</th>\n",
       "      <th>abc</th>\n",
       "      <th>abdoman</th>\n",
       "      <th>...</th>\n",
       "      <th>zoom</th>\n",
       "      <th>zorie</th>\n",
       "      <th>zorro</th>\n",
       "      <th>zsigmond</th>\n",
       "      <th>zucco</th>\n",
       "      <th>zuckerman</th>\n",
       "      <th>zugsmith</th>\n",
       "      <th>zvezda</th>\n",
       "      <th>zy</th>\n",
       "      <th>zz</th>\n",
       "    </tr>\n",
       "  </thead>\n",
       "  <tbody>\n",
       "    <tr>\n",
       "      <td>0</td>\n",
       "      <td>0.0</td>\n",
       "      <td>0.0</td>\n",
       "      <td>0.0</td>\n",
       "      <td>0.0</td>\n",
       "      <td>0.0</td>\n",
       "      <td>0.0</td>\n",
       "      <td>0.0</td>\n",
       "      <td>0.0</td>\n",
       "      <td>0.0</td>\n",
       "      <td>0.0</td>\n",
       "      <td>...</td>\n",
       "      <td>0.0</td>\n",
       "      <td>0.0</td>\n",
       "      <td>0.0</td>\n",
       "      <td>0.0</td>\n",
       "      <td>0.0</td>\n",
       "      <td>0.0</td>\n",
       "      <td>0.0</td>\n",
       "      <td>0.0</td>\n",
       "      <td>0.0</td>\n",
       "      <td>0.0</td>\n",
       "    </tr>\n",
       "    <tr>\n",
       "      <td>1</td>\n",
       "      <td>0.0</td>\n",
       "      <td>0.0</td>\n",
       "      <td>0.0</td>\n",
       "      <td>0.0</td>\n",
       "      <td>0.0</td>\n",
       "      <td>0.0</td>\n",
       "      <td>0.0</td>\n",
       "      <td>0.0</td>\n",
       "      <td>0.0</td>\n",
       "      <td>0.0</td>\n",
       "      <td>...</td>\n",
       "      <td>0.0</td>\n",
       "      <td>0.0</td>\n",
       "      <td>0.0</td>\n",
       "      <td>0.0</td>\n",
       "      <td>0.0</td>\n",
       "      <td>0.0</td>\n",
       "      <td>0.0</td>\n",
       "      <td>0.0</td>\n",
       "      <td>0.0</td>\n",
       "      <td>0.0</td>\n",
       "    </tr>\n",
       "    <tr>\n",
       "      <td>2</td>\n",
       "      <td>0.0</td>\n",
       "      <td>0.0</td>\n",
       "      <td>0.0</td>\n",
       "      <td>0.0</td>\n",
       "      <td>0.0</td>\n",
       "      <td>0.0</td>\n",
       "      <td>0.0</td>\n",
       "      <td>0.0</td>\n",
       "      <td>0.0</td>\n",
       "      <td>0.0</td>\n",
       "      <td>...</td>\n",
       "      <td>0.0</td>\n",
       "      <td>0.0</td>\n",
       "      <td>0.0</td>\n",
       "      <td>0.0</td>\n",
       "      <td>0.0</td>\n",
       "      <td>0.0</td>\n",
       "      <td>0.0</td>\n",
       "      <td>0.0</td>\n",
       "      <td>0.0</td>\n",
       "      <td>0.0</td>\n",
       "    </tr>\n",
       "    <tr>\n",
       "      <td>3</td>\n",
       "      <td>0.0</td>\n",
       "      <td>0.0</td>\n",
       "      <td>0.0</td>\n",
       "      <td>0.0</td>\n",
       "      <td>0.0</td>\n",
       "      <td>0.0</td>\n",
       "      <td>0.0</td>\n",
       "      <td>0.0</td>\n",
       "      <td>0.0</td>\n",
       "      <td>0.0</td>\n",
       "      <td>...</td>\n",
       "      <td>0.0</td>\n",
       "      <td>0.0</td>\n",
       "      <td>0.0</td>\n",
       "      <td>0.0</td>\n",
       "      <td>0.0</td>\n",
       "      <td>0.0</td>\n",
       "      <td>0.0</td>\n",
       "      <td>0.0</td>\n",
       "      <td>0.0</td>\n",
       "      <td>0.0</td>\n",
       "    </tr>\n",
       "    <tr>\n",
       "      <td>4</td>\n",
       "      <td>0.0</td>\n",
       "      <td>0.0</td>\n",
       "      <td>0.0</td>\n",
       "      <td>0.0</td>\n",
       "      <td>0.0</td>\n",
       "      <td>0.0</td>\n",
       "      <td>0.0</td>\n",
       "      <td>0.0</td>\n",
       "      <td>0.0</td>\n",
       "      <td>0.0</td>\n",
       "      <td>...</td>\n",
       "      <td>0.0</td>\n",
       "      <td>0.0</td>\n",
       "      <td>0.0</td>\n",
       "      <td>0.0</td>\n",
       "      <td>0.0</td>\n",
       "      <td>0.0</td>\n",
       "      <td>0.0</td>\n",
       "      <td>0.0</td>\n",
       "      <td>0.0</td>\n",
       "      <td>0.0</td>\n",
       "    </tr>\n",
       "  </tbody>\n",
       "</table>\n",
       "<p>5 rows × 18036 columns</p>\n",
       "</div>"
      ],
      "text/plain": [
       "   aaja  aan  aarp  aback  abandon  abandonment  abbas  abbey  abc  abdoman  \\\n",
       "0   0.0  0.0   0.0    0.0      0.0          0.0    0.0    0.0  0.0      0.0   \n",
       "1   0.0  0.0   0.0    0.0      0.0          0.0    0.0    0.0  0.0      0.0   \n",
       "2   0.0  0.0   0.0    0.0      0.0          0.0    0.0    0.0  0.0      0.0   \n",
       "3   0.0  0.0   0.0    0.0      0.0          0.0    0.0    0.0  0.0      0.0   \n",
       "4   0.0  0.0   0.0    0.0      0.0          0.0    0.0    0.0  0.0      0.0   \n",
       "\n",
       "   ...  zoom  zorie  zorro  zsigmond  zucco  zuckerman  zugsmith  zvezda   zy  \\\n",
       "0  ...   0.0    0.0    0.0       0.0    0.0        0.0       0.0     0.0  0.0   \n",
       "1  ...   0.0    0.0    0.0       0.0    0.0        0.0       0.0     0.0  0.0   \n",
       "2  ...   0.0    0.0    0.0       0.0    0.0        0.0       0.0     0.0  0.0   \n",
       "3  ...   0.0    0.0    0.0       0.0    0.0        0.0       0.0     0.0  0.0   \n",
       "4  ...   0.0    0.0    0.0       0.0    0.0        0.0       0.0     0.0  0.0   \n",
       "\n",
       "    zz  \n",
       "0  0.0  \n",
       "1  0.0  \n",
       "2  0.0  \n",
       "3  0.0  \n",
       "4  0.0  \n",
       "\n",
       "[5 rows x 18036 columns]"
      ]
     },
     "execution_count": 6,
     "metadata": {},
     "output_type": "execute_result"
    }
   ],
   "source": [
    "features_train = pd.DataFrame.sparse.from_spmatrix(tf_idf, columns = columns_train)\n",
    "features_train.head()\n"
   ]
  },
  {
   "cell_type": "code",
   "execution_count": 7,
   "metadata": {},
   "outputs": [
    {
     "name": "stderr",
     "output_type": "stream",
     "text": [
      "/opt/conda/lib/python3.7/site-packages/sklearn/linear_model/logistic.py:432: FutureWarning: Default solver will be changed to 'lbfgs' in 0.22. Specify a solver to silence this warning.\n",
      "  FutureWarning)\n"
     ]
    },
    {
     "data": {
      "text/plain": [
       "LogisticRegression(C=1.0, class_weight=None, dual=False, fit_intercept=True,\n",
       "                   intercept_scaling=1, l1_ratio=None, max_iter=100,\n",
       "                   multi_class='warn', n_jobs=None, penalty='l2',\n",
       "                   random_state=None, solver='warn', tol=0.0001, verbose=0,\n",
       "                   warm_start=False)"
      ]
     },
     "execution_count": 7,
     "metadata": {},
     "output_type": "execute_result"
    }
   ],
   "source": [
    "model = LogisticRegression()\n",
    "target_train = train['pos']\n",
    "model.fit(features_train, target_train)"
   ]
  },
  {
   "cell_type": "code",
   "execution_count": 8,
   "metadata": {
    "scrolled": true
   },
   "outputs": [
    {
     "data": {
      "text/html": [
       "<div>\n",
       "<style scoped>\n",
       "    .dataframe tbody tr th:only-of-type {\n",
       "        vertical-align: middle;\n",
       "    }\n",
       "\n",
       "    .dataframe tbody tr th {\n",
       "        vertical-align: top;\n",
       "    }\n",
       "\n",
       "    .dataframe thead th {\n",
       "        text-align: right;\n",
       "    }\n",
       "</style>\n",
       "<table border=\"1\" class=\"dataframe\">\n",
       "  <thead>\n",
       "    <tr style=\"text-align: right;\">\n",
       "      <th></th>\n",
       "      <th>aaaaah</th>\n",
       "      <th>aaagh</th>\n",
       "      <th>aaah</th>\n",
       "      <th>aaron</th>\n",
       "      <th>aawip</th>\n",
       "      <th>ab</th>\n",
       "      <th>aback</th>\n",
       "      <th>abandon</th>\n",
       "      <th>abandonment</th>\n",
       "      <th>abbas</th>\n",
       "      <th>...</th>\n",
       "      <th>zoom</th>\n",
       "      <th>zooming</th>\n",
       "      <th>zorba</th>\n",
       "      <th>zorro</th>\n",
       "      <th>zotoh</th>\n",
       "      <th>zu</th>\n",
       "      <th>zucker</th>\n",
       "      <th>zula</th>\n",
       "      <th>zwart</th>\n",
       "      <th>zz</th>\n",
       "    </tr>\n",
       "  </thead>\n",
       "  <tbody>\n",
       "    <tr>\n",
       "      <td>0</td>\n",
       "      <td>0.0</td>\n",
       "      <td>0.0</td>\n",
       "      <td>0.0</td>\n",
       "      <td>0.0</td>\n",
       "      <td>0.0</td>\n",
       "      <td>0.0</td>\n",
       "      <td>0.0</td>\n",
       "      <td>0.0</td>\n",
       "      <td>0.0</td>\n",
       "      <td>0.0</td>\n",
       "      <td>...</td>\n",
       "      <td>0.0</td>\n",
       "      <td>0.0</td>\n",
       "      <td>0.0</td>\n",
       "      <td>0.0</td>\n",
       "      <td>0.0</td>\n",
       "      <td>0.0</td>\n",
       "      <td>0.0</td>\n",
       "      <td>0.0</td>\n",
       "      <td>0.0</td>\n",
       "      <td>0.0</td>\n",
       "    </tr>\n",
       "    <tr>\n",
       "      <td>1</td>\n",
       "      <td>0.0</td>\n",
       "      <td>0.0</td>\n",
       "      <td>0.0</td>\n",
       "      <td>0.0</td>\n",
       "      <td>0.0</td>\n",
       "      <td>0.0</td>\n",
       "      <td>0.0</td>\n",
       "      <td>0.0</td>\n",
       "      <td>0.0</td>\n",
       "      <td>0.0</td>\n",
       "      <td>...</td>\n",
       "      <td>0.0</td>\n",
       "      <td>0.0</td>\n",
       "      <td>0.0</td>\n",
       "      <td>0.0</td>\n",
       "      <td>0.0</td>\n",
       "      <td>0.0</td>\n",
       "      <td>0.0</td>\n",
       "      <td>0.0</td>\n",
       "      <td>0.0</td>\n",
       "      <td>0.0</td>\n",
       "    </tr>\n",
       "    <tr>\n",
       "      <td>2</td>\n",
       "      <td>0.0</td>\n",
       "      <td>0.0</td>\n",
       "      <td>0.0</td>\n",
       "      <td>0.0</td>\n",
       "      <td>0.0</td>\n",
       "      <td>0.0</td>\n",
       "      <td>0.0</td>\n",
       "      <td>0.0</td>\n",
       "      <td>0.0</td>\n",
       "      <td>0.0</td>\n",
       "      <td>...</td>\n",
       "      <td>0.0</td>\n",
       "      <td>0.0</td>\n",
       "      <td>0.0</td>\n",
       "      <td>0.0</td>\n",
       "      <td>0.0</td>\n",
       "      <td>0.0</td>\n",
       "      <td>0.0</td>\n",
       "      <td>0.0</td>\n",
       "      <td>0.0</td>\n",
       "      <td>0.0</td>\n",
       "    </tr>\n",
       "    <tr>\n",
       "      <td>3</td>\n",
       "      <td>0.0</td>\n",
       "      <td>0.0</td>\n",
       "      <td>0.0</td>\n",
       "      <td>0.0</td>\n",
       "      <td>0.0</td>\n",
       "      <td>0.0</td>\n",
       "      <td>0.0</td>\n",
       "      <td>0.0</td>\n",
       "      <td>0.0</td>\n",
       "      <td>0.0</td>\n",
       "      <td>...</td>\n",
       "      <td>0.0</td>\n",
       "      <td>0.0</td>\n",
       "      <td>0.0</td>\n",
       "      <td>0.0</td>\n",
       "      <td>0.0</td>\n",
       "      <td>0.0</td>\n",
       "      <td>0.0</td>\n",
       "      <td>0.0</td>\n",
       "      <td>0.0</td>\n",
       "      <td>0.0</td>\n",
       "    </tr>\n",
       "    <tr>\n",
       "      <td>4</td>\n",
       "      <td>0.0</td>\n",
       "      <td>0.0</td>\n",
       "      <td>0.0</td>\n",
       "      <td>0.0</td>\n",
       "      <td>0.0</td>\n",
       "      <td>0.0</td>\n",
       "      <td>0.0</td>\n",
       "      <td>0.0</td>\n",
       "      <td>0.0</td>\n",
       "      <td>0.0</td>\n",
       "      <td>...</td>\n",
       "      <td>0.0</td>\n",
       "      <td>0.0</td>\n",
       "      <td>0.0</td>\n",
       "      <td>0.0</td>\n",
       "      <td>0.0</td>\n",
       "      <td>0.0</td>\n",
       "      <td>0.0</td>\n",
       "      <td>0.0</td>\n",
       "      <td>0.0</td>\n",
       "      <td>0.0</td>\n",
       "    </tr>\n",
       "  </tbody>\n",
       "</table>\n",
       "<p>5 rows × 18455 columns</p>\n",
       "</div>"
      ],
      "text/plain": [
       "   aaaaah  aaagh  aaah  aaron  aawip   ab  aback  abandon  abandonment  abbas  \\\n",
       "0     0.0    0.0   0.0    0.0    0.0  0.0    0.0      0.0          0.0    0.0   \n",
       "1     0.0    0.0   0.0    0.0    0.0  0.0    0.0      0.0          0.0    0.0   \n",
       "2     0.0    0.0   0.0    0.0    0.0  0.0    0.0      0.0          0.0    0.0   \n",
       "3     0.0    0.0   0.0    0.0    0.0  0.0    0.0      0.0          0.0    0.0   \n",
       "4     0.0    0.0   0.0    0.0    0.0  0.0    0.0      0.0          0.0    0.0   \n",
       "\n",
       "   ...  zoom  zooming  zorba  zorro  zotoh   zu  zucker  zula  zwart   zz  \n",
       "0  ...   0.0      0.0    0.0    0.0    0.0  0.0     0.0   0.0    0.0  0.0  \n",
       "1  ...   0.0      0.0    0.0    0.0    0.0  0.0     0.0   0.0    0.0  0.0  \n",
       "2  ...   0.0      0.0    0.0    0.0    0.0  0.0     0.0   0.0    0.0  0.0  \n",
       "3  ...   0.0      0.0    0.0    0.0    0.0  0.0     0.0   0.0    0.0  0.0  \n",
       "4  ...   0.0      0.0    0.0    0.0    0.0  0.0     0.0   0.0    0.0  0.0  \n",
       "\n",
       "[5 rows x 18455 columns]"
      ]
     },
     "execution_count": 8,
     "metadata": {},
     "output_type": "execute_result"
    }
   ],
   "source": [
    "features_test = test['review_lemm']\n",
    "\n",
    "corpus = features_test\n",
    "\n",
    "count_tf_idf = TfidfVectorizer(stop_words=stop_words) \n",
    "tf_idf = count_tf_idf.fit_transform(corpus)\n",
    "\n",
    "\n",
    "columns = count_tf_idf.get_feature_names()\n",
    "features_test = pd.DataFrame.sparse.from_spmatrix(tf_idf, columns = columns)\n",
    "features_test.head()"
   ]
  },
  {
   "cell_type": "code",
   "execution_count": 9,
   "metadata": {},
   "outputs": [
    {
     "data": {
      "text/plain": [
       "['aaja',\n",
       " 'aan',\n",
       " 'aarp',\n",
       " 'aback',\n",
       " 'abandon',\n",
       " 'abandonment',\n",
       " 'abbas',\n",
       " 'abbey',\n",
       " 'abc',\n",
       " 'abdoman',\n",
       " 'abduct',\n",
       " 'abduction',\n",
       " 'aberystwyth',\n",
       " 'abet',\n",
       " 'abhijeet',\n",
       " 'abhishek',\n",
       " 'abhorrent',\n",
       " 'abide',\n",
       " 'ability',\n",
       " 'able',\n",
       " 'ably',\n",
       " 'abnormal',\n",
       " 'abnormally',\n",
       " 'abo',\n",
       " 'aboard',\n",
       " 'abolition',\n",
       " 'abominable',\n",
       " 'abominably',\n",
       " 'abomination',\n",
       " 'abort',\n",
       " 'abortion',\n",
       " 'abound',\n",
       " 'abraham',\n",
       " 'abrahams',\n",
       " 'abrasively',\n",
       " 'abroad',\n",
       " 'abrupt',\n",
       " 'abruptly',\n",
       " 'abscond',\n",
       " 'absence',\n",
       " 'absent',\n",
       " 'absolute',\n",
       " 'absolutely',\n",
       " 'absolutly',\n",
       " 'absolve',\n",
       " 'absorb',\n",
       " 'absorbing',\n",
       " 'abstain',\n",
       " 'abstract',\n",
       " 'absurd',\n",
       " 'absurdist',\n",
       " 'absurdity',\n",
       " 'absurdly',\n",
       " 'absurdness',\n",
       " 'abuelita',\n",
       " 'abundance',\n",
       " 'abundant',\n",
       " 'abundantly',\n",
       " 'abuse',\n",
       " 'abuser',\n",
       " 'abusive',\n",
       " 'abysmal',\n",
       " 'abysmally',\n",
       " 'abyss',\n",
       " 'academic',\n",
       " 'academy',\n",
       " 'acapulco',\n",
       " 'accent',\n",
       " 'accented',\n",
       " 'accentuate',\n",
       " 'accept',\n",
       " 'acceptable',\n",
       " 'acceptance',\n",
       " 'accepted',\n",
       " 'access',\n",
       " 'accessible',\n",
       " 'accessory',\n",
       " 'accident',\n",
       " 'accidental',\n",
       " 'accidentally',\n",
       " 'acclaim',\n",
       " 'acclaimed',\n",
       " 'accolade',\n",
       " 'accommodate',\n",
       " 'accompaniment',\n",
       " 'accompany',\n",
       " 'accomplice',\n",
       " 'accomplish',\n",
       " 'accomplished',\n",
       " 'accomplishment',\n",
       " 'accord',\n",
       " 'accordian',\n",
       " 'accordingly',\n",
       " 'accost',\n",
       " 'account',\n",
       " 'accountant',\n",
       " 'accuracy',\n",
       " 'accurate',\n",
       " 'accurately',\n",
       " 'accuse',\n",
       " 'accustom',\n",
       " 'accustomed',\n",
       " 'ace',\n",
       " 'acedmy',\n",
       " 'acerbic',\n",
       " 'acerbity',\n",
       " 'acharya',\n",
       " 'ache',\n",
       " 'achieve',\n",
       " 'achievement',\n",
       " 'achille',\n",
       " 'achilles',\n",
       " 'acid',\n",
       " 'acidic',\n",
       " 'ackland',\n",
       " 'acknowledge',\n",
       " 'acknowledgement',\n",
       " 'acl',\n",
       " 'acolyte',\n",
       " 'acomplication',\n",
       " 'acorn',\n",
       " 'acosta',\n",
       " 'acquaint',\n",
       " 'acquaintance',\n",
       " 'acquire',\n",
       " 'acquisition',\n",
       " 'acquit',\n",
       " 'across',\n",
       " 'act',\n",
       " 'acted',\n",
       " 'acting',\n",
       " 'actingwise',\n",
       " 'action',\n",
       " 'actioneer',\n",
       " 'actioner',\n",
       " 'activate',\n",
       " 'active',\n",
       " 'actively',\n",
       " 'activist',\n",
       " 'activitie',\n",
       " 'activity',\n",
       " 'actor',\n",
       " 'actress',\n",
       " 'actresse',\n",
       " 'actual',\n",
       " 'actuality',\n",
       " 'actually',\n",
       " 'acuman',\n",
       " 'acupat',\n",
       " 'acus',\n",
       " 'acute',\n",
       " 'acutely',\n",
       " 'ad',\n",
       " 'ada',\n",
       " 'adair',\n",
       " 'adam',\n",
       " 'adams',\n",
       " 'adapt',\n",
       " 'adaptation',\n",
       " 'adapter',\n",
       " 'adaption',\n",
       " 'add',\n",
       " 'addict',\n",
       " 'addiction',\n",
       " 'addictive',\n",
       " 'addition',\n",
       " 'additional',\n",
       " 'additionally',\n",
       " 'address',\n",
       " 'addy',\n",
       " 'adele',\n",
       " 'ademir',\n",
       " 'adept',\n",
       " 'adequate',\n",
       " 'adequately',\n",
       " 'adherence',\n",
       " 'adherent',\n",
       " 'aditya',\n",
       " 'adjani',\n",
       " 'adjective',\n",
       " 'adjust',\n",
       " 'adjustment',\n",
       " 'adma',\n",
       " 'admarible',\n",
       " 'administration',\n",
       " 'admirable',\n",
       " 'admirably',\n",
       " 'admiral',\n",
       " 'admiration',\n",
       " 'admire',\n",
       " 'admiree',\n",
       " 'admirer',\n",
       " 'admission',\n",
       " 'admit',\n",
       " 'admittedly',\n",
       " 'ado',\n",
       " 'adolescence',\n",
       " 'adolescent',\n",
       " 'adolf',\n",
       " 'adopt',\n",
       " 'adopter',\n",
       " 'adoption',\n",
       " 'adoptive',\n",
       " 'adorable',\n",
       " 'adore',\n",
       " 'adorn',\n",
       " 'adrenalin',\n",
       " 'adrenaline',\n",
       " 'adrian',\n",
       " 'adrift',\n",
       " 'adult',\n",
       " 'adulterate',\n",
       " 'adulteress',\n",
       " 'adulterous',\n",
       " 'adultery',\n",
       " 'advance',\n",
       " 'advanced',\n",
       " 'advantage',\n",
       " 'advent',\n",
       " 'adventure',\n",
       " 'adventuresome',\n",
       " 'adventurous',\n",
       " 'adventurously',\n",
       " 'adversary',\n",
       " 'adversity',\n",
       " 'advert',\n",
       " 'advertise',\n",
       " 'advertisement',\n",
       " 'advertising',\n",
       " 'advice',\n",
       " 'advise',\n",
       " 'adviser',\n",
       " 'advocacy',\n",
       " 'advocate',\n",
       " 'aesthetic',\n",
       " 'afar',\n",
       " 'affair',\n",
       " 'affairs',\n",
       " 'affect',\n",
       " 'affectation',\n",
       " 'affected',\n",
       " 'affecting',\n",
       " 'affectingly',\n",
       " 'affection',\n",
       " 'affiliate',\n",
       " 'affinity',\n",
       " 'affirm',\n",
       " 'affirmation',\n",
       " 'afflict',\n",
       " 'affluent',\n",
       " 'afford',\n",
       " 'affords',\n",
       " 'affront',\n",
       " 'afganistan',\n",
       " 'afghanistan',\n",
       " 'afi',\n",
       " 'aficionado',\n",
       " 'afield',\n",
       " 'afm',\n",
       " 'afore',\n",
       " 'aforementioned',\n",
       " 'afraid',\n",
       " 'africa',\n",
       " 'african',\n",
       " 'aftereffect',\n",
       " 'afterlife',\n",
       " 'aftermath',\n",
       " 'afternoon',\n",
       " 'aftershock',\n",
       " 'afterthought',\n",
       " 'afterward',\n",
       " 'afterwards',\n",
       " 'afterword',\n",
       " 'agape',\n",
       " 'age',\n",
       " 'aged',\n",
       " 'agency',\n",
       " 'agenda',\n",
       " 'agent',\n",
       " 'agentine',\n",
       " 'ager',\n",
       " 'agey',\n",
       " 'aggravate',\n",
       " 'aggravatingly',\n",
       " 'aggravation',\n",
       " 'aggression',\n",
       " 'aggressive',\n",
       " 'aghast',\n",
       " 'aghhh',\n",
       " 'agi',\n",
       " 'agile',\n",
       " 'aging',\n",
       " 'agis',\n",
       " 'agitate',\n",
       " 'agitated',\n",
       " 'agitation',\n",
       " 'agne',\n",
       " 'agnostic',\n",
       " 'ago',\n",
       " 'agonizing',\n",
       " 'agonizingly',\n",
       " 'agony',\n",
       " 'agoraphobic',\n",
       " 'agree',\n",
       " 'agreeable',\n",
       " 'agreement',\n",
       " 'aguirre',\n",
       " 'agy',\n",
       " 'ah',\n",
       " 'ahab',\n",
       " 'ahead',\n",
       " 'ahh',\n",
       " 'aicha',\n",
       " 'aid',\n",
       " 'aide',\n",
       " 'aiello',\n",
       " 'aielo',\n",
       " 'aiken',\n",
       " 'aikido',\n",
       " 'aikidoist',\n",
       " 'ailing',\n",
       " 'aim',\n",
       " 'aime',\n",
       " 'aimee',\n",
       " 'aimless',\n",
       " 'aimlessly',\n",
       " 'aimlessness',\n",
       " 'air',\n",
       " 'aircraft',\n",
       " 'airhead',\n",
       " 'airheadedness',\n",
       " 'airhostess',\n",
       " 'airial',\n",
       " 'airlift',\n",
       " 'airline',\n",
       " 'airlines',\n",
       " 'airman',\n",
       " 'airplane',\n",
       " 'airplay',\n",
       " 'airport',\n",
       " 'airship',\n",
       " 'airtime',\n",
       " 'aise',\n",
       " 'aisle',\n",
       " 'ajeeb',\n",
       " 'ak',\n",
       " 'aka',\n",
       " 'akbar',\n",
       " 'akimoto',\n",
       " 'akin',\n",
       " 'akira',\n",
       " 'akki',\n",
       " 'akria',\n",
       " 'akshay',\n",
       " 'akshaye',\n",
       " 'akshey',\n",
       " 'al',\n",
       " 'ala',\n",
       " 'alain',\n",
       " 'alan',\n",
       " 'alarik',\n",
       " 'alarm',\n",
       " 'alarming',\n",
       " 'alas',\n",
       " 'alaska',\n",
       " 'alastair',\n",
       " 'albeit',\n",
       " 'alberni',\n",
       " 'albert',\n",
       " 'alberto',\n",
       " 'album',\n",
       " 'alchemy',\n",
       " 'alcohol',\n",
       " 'alcoholic',\n",
       " 'alcoholism',\n",
       " 'alcs',\n",
       " 'alec',\n",
       " 'alecia',\n",
       " 'alert',\n",
       " 'alex',\n",
       " 'alexander',\n",
       " 'alexandra',\n",
       " 'alexis',\n",
       " 'alfre',\n",
       " 'alfred',\n",
       " 'alfredo',\n",
       " 'algae',\n",
       " 'alger',\n",
       " 'ali',\n",
       " 'alia',\n",
       " 'alias',\n",
       " 'alibi',\n",
       " 'alice',\n",
       " 'alicia',\n",
       " 'alien',\n",
       " 'alienate',\n",
       " 'alienated',\n",
       " 'alienation',\n",
       " 'align',\n",
       " 'alignment',\n",
       " 'alike',\n",
       " 'alisha',\n",
       " 'alissia',\n",
       " 'alittle',\n",
       " 'alive',\n",
       " 'allan',\n",
       " 'allege',\n",
       " 'alleged',\n",
       " 'allegedly',\n",
       " 'allegory',\n",
       " 'allen',\n",
       " 'allergic',\n",
       " 'allergy',\n",
       " 'alleviate',\n",
       " 'alley',\n",
       " 'alliance',\n",
       " 'allocate',\n",
       " 'allot',\n",
       " 'allow',\n",
       " 'alloy',\n",
       " 'allsuperb',\n",
       " 'allude',\n",
       " 'allure',\n",
       " 'alluring',\n",
       " 'allusion',\n",
       " 'ally',\n",
       " 'allyson',\n",
       " 'alma',\n",
       " 'almeida',\n",
       " 'almighty',\n",
       " 'almodovar',\n",
       " 'almond',\n",
       " 'almost',\n",
       " 'alone',\n",
       " 'along',\n",
       " 'alongside',\n",
       " 'aloof',\n",
       " 'aloofness',\n",
       " 'alot',\n",
       " 'aloud',\n",
       " 'alpha',\n",
       " 'alphabetti',\n",
       " 'already',\n",
       " 'alright',\n",
       " 'alselmo',\n",
       " 'also',\n",
       " 'altagracia',\n",
       " 'alter',\n",
       " 'alteration',\n",
       " 'alternante',\n",
       " 'alternate',\n",
       " 'alternately',\n",
       " 'alternative',\n",
       " 'alternatively',\n",
       " 'altho',\n",
       " 'although',\n",
       " 'altman',\n",
       " 'altogether',\n",
       " 'alum',\n",
       " 'alumnus',\n",
       " 'alvin',\n",
       " 'always',\n",
       " 'alyson',\n",
       " 'amadeu',\n",
       " 'amalgam',\n",
       " 'amalgamation',\n",
       " 'amanda',\n",
       " 'amateur',\n",
       " 'amateurish',\n",
       " 'amati',\n",
       " 'amato',\n",
       " 'amatuer',\n",
       " 'amaze',\n",
       " 'amazed',\n",
       " 'amazing',\n",
       " 'amazingly',\n",
       " 'amazon',\n",
       " 'ambassador',\n",
       " 'amber',\n",
       " 'ambiance',\n",
       " 'ambience',\n",
       " 'ambientation',\n",
       " 'ambigious',\n",
       " 'ambiguity',\n",
       " 'ambiguous',\n",
       " 'ambition',\n",
       " 'ambitious',\n",
       " 'ambitiousness',\n",
       " 'ambulance',\n",
       " 'ambush',\n",
       " 'amelia',\n",
       " 'amends',\n",
       " 'america',\n",
       " 'american',\n",
       " 'americanise',\n",
       " 'americanised',\n",
       " 'americanism',\n",
       " 'americanize',\n",
       " 'americanized',\n",
       " 'americans',\n",
       " 'ami',\n",
       " 'amiable',\n",
       " 'amid',\n",
       " 'amidst',\n",
       " 'amigo',\n",
       " 'amitabh',\n",
       " 'ammon',\n",
       " 'ammunition',\n",
       " 'amnesia',\n",
       " 'among',\n",
       " 'amongst',\n",
       " 'amoral',\n",
       " 'amore',\n",
       " 'amount',\n",
       " 'amour',\n",
       " 'amoure',\n",
       " 'amourous',\n",
       " 'amp',\n",
       " 'ampe',\n",
       " 'ample',\n",
       " 'amputee',\n",
       " 'amrish',\n",
       " 'amu',\n",
       " 'amuck',\n",
       " 'amuse',\n",
       " 'amused',\n",
       " 'amusement',\n",
       " 'amusing',\n",
       " 'amusingly',\n",
       " 'amy',\n",
       " 'ana',\n",
       " 'anachronism',\n",
       " 'anachronistic',\n",
       " 'anaheim',\n",
       " 'anal',\n",
       " 'analogous',\n",
       " 'analogy',\n",
       " 'analysis',\n",
       " 'analytical',\n",
       " 'analyze',\n",
       " 'anamorphic',\n",
       " 'ananka',\n",
       " 'anansie',\n",
       " 'anarchic',\n",
       " 'anarchistic',\n",
       " 'anarchy',\n",
       " 'anatomical',\n",
       " 'ancestry',\n",
       " 'anchor',\n",
       " 'ancient',\n",
       " 'andaaz',\n",
       " 'andalou',\n",
       " 'anderson',\n",
       " 'andoheb',\n",
       " 'andr',\n",
       " 'andrea',\n",
       " 'andrei',\n",
       " 'andres',\n",
       " 'andrew',\n",
       " 'andrews',\n",
       " 'android',\n",
       " 'andy',\n",
       " 'anecdotal',\n",
       " 'anecdote',\n",
       " 'anemic',\n",
       " 'anesthetic',\n",
       " 'aneurism',\n",
       " 'ang',\n",
       " 'angel',\n",
       " 'angela',\n",
       " 'angele',\n",
       " 'angeles',\n",
       " 'angelina',\n",
       " 'angelo',\n",
       " 'angels',\n",
       " 'anger',\n",
       " 'angle',\n",
       " 'anglicize',\n",
       " 'angrily',\n",
       " 'angry',\n",
       " 'angst',\n",
       " 'anguish',\n",
       " 'angus',\n",
       " 'anil',\n",
       " 'animal',\n",
       " 'animaniacs',\n",
       " 'animate',\n",
       " 'animated',\n",
       " 'animation',\n",
       " 'animator',\n",
       " 'anime',\n",
       " 'animosity',\n",
       " 'aniston',\n",
       " 'anita',\n",
       " 'anjali',\n",
       " 'ankle',\n",
       " 'ann',\n",
       " 'anna',\n",
       " 'annabel',\n",
       " 'annal',\n",
       " 'anne',\n",
       " 'annelle',\n",
       " 'annette',\n",
       " 'annex',\n",
       " 'annie',\n",
       " 'annihilate',\n",
       " 'anniston',\n",
       " 'anniversary',\n",
       " 'annna',\n",
       " 'announce',\n",
       " 'announcement',\n",
       " 'announcer',\n",
       " 'annoy',\n",
       " 'annoyance',\n",
       " 'annoyed',\n",
       " 'annoying',\n",
       " 'annoyingly',\n",
       " 'annual',\n",
       " 'anny',\n",
       " 'anomalous',\n",
       " 'anomaly',\n",
       " 'anonymous',\n",
       " 'anorexic',\n",
       " 'another',\n",
       " 'ans',\n",
       " 'anselmo',\n",
       " 'ansen',\n",
       " 'answer',\n",
       " 'answerman',\n",
       " 'ant',\n",
       " 'antagonist',\n",
       " 'antagonistic',\n",
       " 'antagonize',\n",
       " 'ante',\n",
       " 'antecedently',\n",
       " 'anthem',\n",
       " 'anthology',\n",
       " 'anthony',\n",
       " 'anthropological',\n",
       " 'anthropologist',\n",
       " 'anti',\n",
       " 'antic',\n",
       " 'antichrist',\n",
       " 'anticipate',\n",
       " 'anticipated',\n",
       " 'anticipation',\n",
       " 'anticlimactic',\n",
       " 'antidote',\n",
       " 'antihero',\n",
       " 'antimatter',\n",
       " 'antiquated',\n",
       " 'antique',\n",
       " 'antisocial',\n",
       " 'antithesis',\n",
       " 'antoinette',\n",
       " 'anton',\n",
       " 'antonietta',\n",
       " 'antoniette',\n",
       " 'antony',\n",
       " 'antwerp',\n",
       " 'anus',\n",
       " 'anvil',\n",
       " 'anxiety',\n",
       " 'anxious',\n",
       " 'anxiously',\n",
       " 'anybody',\n",
       " 'anyhow',\n",
       " 'anymore',\n",
       " 'anyone',\n",
       " 'anything',\n",
       " 'anyway',\n",
       " 'anyways',\n",
       " 'anywhere',\n",
       " 'ao',\n",
       " 'aoki',\n",
       " 'aonghas',\n",
       " 'apart',\n",
       " 'apartment',\n",
       " 'apathetic',\n",
       " 'ape',\n",
       " 'apeshyt',\n",
       " 'apex',\n",
       " 'apharan',\n",
       " 'aphoristic',\n",
       " 'aphrodite',\n",
       " 'aplenty',\n",
       " 'aplogise',\n",
       " 'aplomb',\n",
       " 'apocalypse',\n",
       " 'apocalyptic',\n",
       " 'apollo',\n",
       " 'apologize',\n",
       " 'apology',\n",
       " 'appal',\n",
       " 'appalling',\n",
       " 'appallingly',\n",
       " 'apparent',\n",
       " 'apparently',\n",
       " 'apparition',\n",
       " 'appeal',\n",
       " 'appealing',\n",
       " 'appear',\n",
       " 'appearance',\n",
       " 'appearantly',\n",
       " 'appease',\n",
       " 'appendage',\n",
       " 'appetite',\n",
       " 'applaud',\n",
       " 'applause',\n",
       " 'apple',\n",
       " 'applecart',\n",
       " 'appliance',\n",
       " 'applicability',\n",
       " 'applicable',\n",
       " 'applicant',\n",
       " 'application',\n",
       " 'apply',\n",
       " 'appointment',\n",
       " 'appose',\n",
       " 'apposite',\n",
       " 'appreciate',\n",
       " 'appreciation',\n",
       " 'appreciative',\n",
       " 'appreciator',\n",
       " 'apprehensive',\n",
       " 'apprentice',\n",
       " 'apprenticeship',\n",
       " 'approach',\n",
       " 'appropriate',\n",
       " 'appropriately',\n",
       " 'appropriation',\n",
       " 'approval',\n",
       " 'approve',\n",
       " 'approximate',\n",
       " 'approximately',\n",
       " 'apps',\n",
       " 'april',\n",
       " 'aprone',\n",
       " 'apropos',\n",
       " 'apt',\n",
       " 'aptly',\n",
       " 'aquarium',\n",
       " 'aquatania',\n",
       " 'aquire',\n",
       " 'arab',\n",
       " 'arabella',\n",
       " 'arabia',\n",
       " 'aracnophobia',\n",
       " 'arawak',\n",
       " 'arbanville',\n",
       " 'arbitrarily',\n",
       " 'arbitrary',\n",
       " 'arbuthnot',\n",
       " 'arc',\n",
       " 'arch',\n",
       " 'archaeologist',\n",
       " 'archaic',\n",
       " 'archetypal',\n",
       " 'archetype',\n",
       " 'archetypes',\n",
       " 'archetypical',\n",
       " 'archibald',\n",
       " 'archie',\n",
       " 'archipelago',\n",
       " 'architect',\n",
       " 'architectural',\n",
       " 'architecture',\n",
       " 'archival',\n",
       " 'archive',\n",
       " 'arcs',\n",
       " 'arctic',\n",
       " 'arden',\n",
       " 'ardent',\n",
       " 'ardently',\n",
       " 'ardu',\n",
       " 'arduous',\n",
       " 'area',\n",
       " 'arena',\n",
       " 'argeninean',\n",
       " 'argentina',\n",
       " 'argentine',\n",
       " 'argentinean',\n",
       " 'argentinian',\n",
       " 'argh',\n",
       " 'arguably',\n",
       " 'argue',\n",
       " 'argument',\n",
       " 'argyle',\n",
       " 'argyll',\n",
       " 'ari',\n",
       " 'aria',\n",
       " 'arid',\n",
       " 'arigatou',\n",
       " 'arise',\n",
       " 'aristocracy',\n",
       " 'aristocrat',\n",
       " 'aristocratic',\n",
       " 'aristocrats',\n",
       " 'ariszted',\n",
       " 'arizona',\n",
       " 'ark',\n",
       " 'arkin',\n",
       " 'arlington',\n",
       " 'arm',\n",
       " 'armageddon',\n",
       " 'armando',\n",
       " 'armateur',\n",
       " 'armature',\n",
       " 'armed',\n",
       " 'armena',\n",
       " 'armor',\n",
       " 'armour',\n",
       " 'armourae',\n",
       " 'armpit',\n",
       " 'armstrong',\n",
       " 'army',\n",
       " 'arngrim',\n",
       " 'arnie',\n",
       " 'arnim',\n",
       " 'arnold',\n",
       " 'arora',\n",
       " 'around',\n",
       " 'arouse',\n",
       " 'arquette',\n",
       " 'arrange',\n",
       " 'arrangement',\n",
       " 'arranging',\n",
       " 'array',\n",
       " 'arrest',\n",
       " 'arrival',\n",
       " 'arrive',\n",
       " 'arriviste',\n",
       " 'arrogance',\n",
       " 'arrogant',\n",
       " 'arrow',\n",
       " 'arse',\n",
       " 'arsenal',\n",
       " 'arson',\n",
       " 'art',\n",
       " 'artagnan',\n",
       " 'arte',\n",
       " 'arterie',\n",
       " 'artful',\n",
       " 'arthur',\n",
       " 'arthy',\n",
       " 'article',\n",
       " 'articulate',\n",
       " 'artifact',\n",
       " 'artifice',\n",
       " 'artificial',\n",
       " 'artificially',\n",
       " 'artist',\n",
       " 'artistic',\n",
       " 'artistically',\n",
       " 'artistry',\n",
       " 'artsie',\n",
       " 'artsieness',\n",
       " 'artsy',\n",
       " 'artwork',\n",
       " 'arty',\n",
       " 'arzenta',\n",
       " 'asano',\n",
       " 'ascend',\n",
       " 'ascendancy',\n",
       " 'ascertain',\n",
       " 'asexual',\n",
       " 'ash',\n",
       " 'asha',\n",
       " 'ashamed',\n",
       " 'ashe',\n",
       " 'ashford',\n",
       " 'ashitaka',\n",
       " 'ashley',\n",
       " 'ashton',\n",
       " 'asia',\n",
       " 'asian',\n",
       " 'asians',\n",
       " 'aside',\n",
       " 'asif',\n",
       " 'asinine',\n",
       " 'ask',\n",
       " 'asking',\n",
       " 'asleep',\n",
       " 'aspect',\n",
       " 'asphalt',\n",
       " 'aspirant',\n",
       " 'aspiration',\n",
       " 'aspire',\n",
       " 'asquith',\n",
       " 'asrani',\n",
       " 'ass',\n",
       " 'assailant',\n",
       " 'assassin',\n",
       " 'assassinate',\n",
       " 'assassination',\n",
       " 'assault',\n",
       " 'asse',\n",
       " 'assemble',\n",
       " 'assembly',\n",
       " 'assent',\n",
       " 'assert',\n",
       " 'assertive',\n",
       " 'assess',\n",
       " 'asset',\n",
       " 'assign',\n",
       " 'assignation',\n",
       " 'assignment',\n",
       " 'assimilate',\n",
       " 'assist',\n",
       " 'assistance',\n",
       " 'assistant',\n",
       " 'associa',\n",
       " 'associate',\n",
       " 'associated',\n",
       " 'associates',\n",
       " 'association',\n",
       " 'assorted',\n",
       " 'assortment',\n",
       " 'assuage',\n",
       " 'assume',\n",
       " 'assumed',\n",
       " 'assumption',\n",
       " 'assurance',\n",
       " 'assure',\n",
       " 'assuredness',\n",
       " 'astaire',\n",
       " 'asthma',\n",
       " 'astonish',\n",
       " 'astonished',\n",
       " 'astonishing',\n",
       " 'astound',\n",
       " 'astounding',\n",
       " 'astoundingly',\n",
       " 'astray',\n",
       " 'astride',\n",
       " 'astro',\n",
       " 'astronomically',\n",
       " 'astros',\n",
       " 'astroturf',\n",
       " 'astute',\n",
       " 'astutely',\n",
       " 'asylum',\n",
       " 'atavism',\n",
       " 'atenborough',\n",
       " 'atheist',\n",
       " 'athena',\n",
       " 'athens',\n",
       " 'athletic',\n",
       " 'athleticism',\n",
       " 'athsma',\n",
       " 'atkin',\n",
       " 'atkins',\n",
       " 'atlantean',\n",
       " 'atlantian',\n",
       " 'atlantic',\n",
       " 'atlantis',\n",
       " 'atmosphere',\n",
       " 'atmospheric',\n",
       " 'atom',\n",
       " 'atomic',\n",
       " 'atone',\n",
       " 'atonement',\n",
       " 'atop',\n",
       " 'ator',\n",
       " 'atrocious',\n",
       " 'atrociously',\n",
       " 'atrocity',\n",
       " 'att',\n",
       " 'attach',\n",
       " 'attached',\n",
       " 'attachment',\n",
       " 'attack',\n",
       " 'attain',\n",
       " 'attal',\n",
       " 'attempt',\n",
       " 'attenborough',\n",
       " 'attend',\n",
       " 'attendance',\n",
       " 'attendant',\n",
       " 'attention',\n",
       " 'attic',\n",
       " 'attitiude',\n",
       " 'attitude',\n",
       " 'attlee',\n",
       " 'attorney',\n",
       " 'attract',\n",
       " 'attraction',\n",
       " 'attractive',\n",
       " 'attractiveness',\n",
       " 'attribute',\n",
       " 'attune',\n",
       " 'atul',\n",
       " 'atypical',\n",
       " 'audacious',\n",
       " 'audacity',\n",
       " 'audience',\n",
       " 'audio',\n",
       " 'audiocassette',\n",
       " 'audition',\n",
       " 'auditorium',\n",
       " ...]"
      ]
     },
     "execution_count": 9,
     "metadata": {},
     "output_type": "execute_result"
    }
   ],
   "source": [
    "columns_train"
   ]
  },
  {
   "cell_type": "code",
   "execution_count": 10,
   "metadata": {},
   "outputs": [
    {
     "name": "stderr",
     "output_type": "stream",
     "text": [
      "/opt/conda/lib/python3.7/site-packages/pandas/core/indexing.py:1418: FutureWarning: \n",
      "Passing list-likes to .loc or [] with any missing label will raise\n",
      "KeyError in the future, you can use .reindex() as an alternative.\n",
      "\n",
      "See the documentation here:\n",
      "https://pandas.pydata.org/pandas-docs/stable/user_guide/indexing.html#deprecate-loc-reindex-listlike\n",
      "  return self._getitem_tuple(key)\n"
     ]
    }
   ],
   "source": [
    "features_test = features_test.loc[:,columns_train]\n",
    "features_test = features_test.fillna(0)\n"
   ]
  },
  {
   "cell_type": "code",
   "execution_count": 11,
   "metadata": {},
   "outputs": [],
   "source": [
    "pred_test = model.predict(features_test)"
   ]
  },
  {
   "cell_type": "code",
   "execution_count": 12,
   "metadata": {},
   "outputs": [
    {
     "data": {
      "text/html": [
       "<div>\n",
       "<style scoped>\n",
       "    .dataframe tbody tr th:only-of-type {\n",
       "        vertical-align: middle;\n",
       "    }\n",
       "\n",
       "    .dataframe tbody tr th {\n",
       "        vertical-align: top;\n",
       "    }\n",
       "\n",
       "    .dataframe thead th {\n",
       "        text-align: right;\n",
       "    }\n",
       "</style>\n",
       "<table border=\"1\" class=\"dataframe\">\n",
       "  <thead>\n",
       "    <tr style=\"text-align: right;\">\n",
       "      <th></th>\n",
       "      <th>tconst</th>\n",
       "      <th>original_title</th>\n",
       "      <th>review</th>\n",
       "      <th>review_lemm</th>\n",
       "      <th>pos</th>\n",
       "    </tr>\n",
       "  </thead>\n",
       "  <tbody>\n",
       "    <tr>\n",
       "      <td>0</td>\n",
       "      <td>tt0108999</td>\n",
       "      <td>...And the Earth Did Not Swallow Him</td>\n",
       "      <td>I rented this movie from a local library witho...</td>\n",
       "      <td>i rent this movie from a local library without...</td>\n",
       "      <td>0</td>\n",
       "    </tr>\n",
       "    <tr>\n",
       "      <td>1</td>\n",
       "      <td>tt0108999</td>\n",
       "      <td>...And the Earth Did Not Swallow Him</td>\n",
       "      <td>The movie \". . . And The Earth Did not Swallow...</td>\n",
       "      <td>the movie and the earth do not swallow -PRON- ...</td>\n",
       "      <td>1</td>\n",
       "    </tr>\n",
       "    <tr>\n",
       "      <td>2</td>\n",
       "      <td>tt0108999</td>\n",
       "      <td>...And the Earth Did Not Swallow Him</td>\n",
       "      <td>I was very moved by the young life experiences...</td>\n",
       "      <td>i be very move by the young life experience of...</td>\n",
       "      <td>1</td>\n",
       "    </tr>\n",
       "    <tr>\n",
       "      <td>3</td>\n",
       "      <td>tt0108999</td>\n",
       "      <td>...And the Earth Did Not Swallow Him</td>\n",
       "      <td>Recently finally available in DVD (11/11/08), ...</td>\n",
       "      <td>recently finally available in dvd severo p rez...</td>\n",
       "      <td>1</td>\n",
       "    </tr>\n",
       "    <tr>\n",
       "      <td>4</td>\n",
       "      <td>tt0063308</td>\n",
       "      <td>Un minuto per pregare, un istante per morire</td>\n",
       "      <td>I saw this movie over 20 years ago and had rat...</td>\n",
       "      <td>i see this movie over year ago and have rather...</td>\n",
       "      <td>0</td>\n",
       "    </tr>\n",
       "  </tbody>\n",
       "</table>\n",
       "</div>"
      ],
      "text/plain": [
       "      tconst                                original_title  \\\n",
       "0  tt0108999          ...And the Earth Did Not Swallow Him   \n",
       "1  tt0108999          ...And the Earth Did Not Swallow Him   \n",
       "2  tt0108999          ...And the Earth Did Not Swallow Him   \n",
       "3  tt0108999          ...And the Earth Did Not Swallow Him   \n",
       "4  tt0063308  Un minuto per pregare, un istante per morire   \n",
       "\n",
       "                                              review  \\\n",
       "0  I rented this movie from a local library witho...   \n",
       "1  The movie \". . . And The Earth Did not Swallow...   \n",
       "2  I was very moved by the young life experiences...   \n",
       "3  Recently finally available in DVD (11/11/08), ...   \n",
       "4  I saw this movie over 20 years ago and had rat...   \n",
       "\n",
       "                                         review_lemm  pos  \n",
       "0  i rent this movie from a local library without...    0  \n",
       "1  the movie and the earth do not swallow -PRON- ...    1  \n",
       "2  i be very move by the young life experience of...    1  \n",
       "3  recently finally available in dvd severo p rez...    1  \n",
       "4  i see this movie over year ago and have rather...    0  "
      ]
     },
     "execution_count": 12,
     "metadata": {},
     "output_type": "execute_result"
    }
   ],
   "source": [
    "test['pos'] = pd.Series(pred_test)\n",
    "test.head()"
   ]
  },
  {
   "cell_type": "code",
   "execution_count": 13,
   "metadata": {},
   "outputs": [],
   "source": [
    "test.to_csv('predictions')"
   ]
  },
  {
   "cell_type": "code",
   "execution_count": null,
   "metadata": {},
   "outputs": [],
   "source": []
  },
  {
   "cell_type": "code",
   "execution_count": null,
   "metadata": {},
   "outputs": [],
   "source": []
  }
 ],
 "metadata": {
  "ExecuteTimeLog": [
   {
    "duration": 325,
    "start_time": "2021-06-17T17:37:25.140Z"
   },
   {
    "duration": 1422,
    "start_time": "2021-06-17T17:41:43.785Z"
   },
   {
    "duration": 266,
    "start_time": "2021-06-17T17:43:34.878Z"
   },
   {
    "duration": 913,
    "start_time": "2021-06-17T18:34:14.447Z"
   },
   {
    "duration": 171,
    "start_time": "2021-06-17T18:34:39.329Z"
   },
   {
    "duration": 163,
    "start_time": "2021-06-17T18:35:10.254Z"
   },
   {
    "duration": 343,
    "start_time": "2021-06-17T18:44:37.360Z"
   },
   {
    "duration": 6,
    "start_time": "2021-06-17T18:45:43.918Z"
   },
   {
    "duration": 5,
    "start_time": "2021-06-17T18:46:16.794Z"
   },
   {
    "duration": 376,
    "start_time": "2021-06-17T18:46:37.040Z"
   },
   {
    "duration": 177,
    "start_time": "2021-06-17T18:47:40.054Z"
   },
   {
    "duration": 4,
    "start_time": "2021-06-17T21:16:17.535Z"
   },
   {
    "duration": 508,
    "start_time": "2021-06-17T21:17:45.656Z"
   },
   {
    "duration": 287,
    "start_time": "2021-06-17T21:18:23.502Z"
   },
   {
    "duration": 4,
    "start_time": "2021-06-17T21:18:33.156Z"
   },
   {
    "duration": 470,
    "start_time": "2021-06-17T21:18:34.045Z"
   },
   {
    "duration": 4,
    "start_time": "2021-06-17T21:18:54.013Z"
   },
   {
    "duration": 449,
    "start_time": "2021-06-17T21:18:55.744Z"
   },
   {
    "duration": 505,
    "start_time": "2021-06-17T21:19:21.357Z"
   },
   {
    "duration": 6,
    "start_time": "2021-06-17T21:19:28.588Z"
   },
   {
    "duration": 13,
    "start_time": "2021-06-17T21:21:14.716Z"
   },
   {
    "duration": 150,
    "start_time": "2021-06-17T21:27:19.180Z"
   },
   {
    "duration": 245,
    "start_time": "2021-06-17T21:27:29.891Z"
   },
   {
    "duration": 426,
    "start_time": "2021-06-17T21:31:33.220Z"
   },
   {
    "duration": 730,
    "start_time": "2021-06-17T21:31:58.722Z"
   },
   {
    "duration": 735,
    "start_time": "2021-06-17T21:32:04.498Z"
   },
   {
    "duration": 164,
    "start_time": "2021-06-17T21:32:11.663Z"
   },
   {
    "duration": 281,
    "start_time": "2021-06-17T21:32:43.174Z"
   },
   {
    "duration": 283,
    "start_time": "2021-06-17T21:33:51.702Z"
   },
   {
    "duration": 277,
    "start_time": "2021-06-17T21:34:35.301Z"
   },
   {
    "duration": 8588,
    "start_time": "2021-06-17T21:38:11.795Z"
   },
   {
    "duration": 13772,
    "start_time": "2021-06-17T21:38:27.874Z"
   },
   {
    "duration": 1552,
    "start_time": "2021-06-17T22:32:54.157Z"
   },
   {
    "duration": 191,
    "start_time": "2021-06-17T22:32:55.711Z"
   },
   {
    "duration": 4,
    "start_time": "2021-06-17T22:32:55.906Z"
   },
   {
    "duration": 693,
    "start_time": "2021-06-17T22:32:55.912Z"
   },
   {
    "duration": 13720,
    "start_time": "2021-06-17T22:32:56.607Z"
   },
   {
    "duration": 553,
    "start_time": "2021-06-17T22:33:10.329Z"
   },
   {
    "duration": 1259,
    "start_time": "2021-06-17T22:38:22.689Z"
   },
   {
    "duration": 266,
    "start_time": "2021-06-17T22:55:12.943Z"
   },
   {
    "duration": 267,
    "start_time": "2021-06-17T22:55:29.329Z"
   },
   {
    "duration": 268,
    "start_time": "2021-06-17T22:55:37.298Z"
   },
   {
    "duration": 462,
    "start_time": "2021-06-17T22:55:57.413Z"
   },
   {
    "duration": 454,
    "start_time": "2021-06-17T22:56:06.121Z"
   },
   {
    "duration": 1212,
    "start_time": "2021-06-17T22:56:45.042Z"
   },
   {
    "duration": 1581,
    "start_time": "2021-06-17T22:57:48.096Z"
   },
   {
    "duration": 182,
    "start_time": "2021-06-17T22:57:49.680Z"
   },
   {
    "duration": 4,
    "start_time": "2021-06-17T22:57:49.864Z"
   },
   {
    "duration": 1465,
    "start_time": "2021-06-17T22:57:49.870Z"
   },
   {
    "duration": 125135,
    "start_time": "2021-06-17T22:57:51.337Z"
   },
   {
    "duration": 1442,
    "start_time": "2021-06-17T23:03:39.222Z"
   },
   {
    "duration": 1467,
    "start_time": "2021-06-17T23:03:56.440Z"
   },
   {
    "duration": 775,
    "start_time": "2021-06-17T23:03:57.909Z"
   },
   {
    "duration": 5,
    "start_time": "2021-06-17T23:03:58.688Z"
   },
   {
    "duration": 672,
    "start_time": "2021-06-17T23:03:58.696Z"
   },
   {
    "duration": 13166,
    "start_time": "2021-06-17T23:03:59.371Z"
   },
   {
    "duration": 1917,
    "start_time": "2021-06-17T23:04:12.539Z"
   },
   {
    "duration": 429,
    "start_time": "2021-06-17T23:08:13.055Z"
   },
   {
    "duration": 452,
    "start_time": "2021-06-17T23:10:02.363Z"
   },
   {
    "duration": 492,
    "start_time": "2021-06-17T23:18:39.382Z"
   },
   {
    "duration": 310,
    "start_time": "2021-06-17T23:18:41.064Z"
   },
   {
    "duration": 306,
    "start_time": "2021-06-17T23:18:59.371Z"
   },
   {
    "duration": 14222,
    "start_time": "2021-06-17T23:19:22.766Z"
   },
   {
    "duration": 525,
    "start_time": "2021-06-17T23:31:51.151Z"
   },
   {
    "duration": 389,
    "start_time": "2021-06-17T23:31:55.768Z"
   },
   {
    "duration": 556,
    "start_time": "2021-06-17T23:40:43.139Z"
   },
   {
    "duration": 1404,
    "start_time": "2021-06-17T23:40:55.777Z"
   },
   {
    "duration": 184,
    "start_time": "2021-06-17T23:40:57.183Z"
   },
   {
    "duration": 3,
    "start_time": "2021-06-17T23:40:57.371Z"
   },
   {
    "duration": 652,
    "start_time": "2021-06-17T23:40:57.377Z"
   },
   {
    "duration": 13150,
    "start_time": "2021-06-17T23:40:58.031Z"
   },
   {
    "duration": 1976,
    "start_time": "2021-06-17T23:41:11.183Z"
   },
   {
    "duration": 423,
    "start_time": "2021-06-17T23:43:53.870Z"
   },
   {
    "duration": 86,
    "start_time": "2021-06-17T23:45:58.300Z"
   },
   {
    "duration": 465,
    "start_time": "2021-06-17T23:46:04.138Z"
   },
   {
    "duration": 178,
    "start_time": "2021-06-17T23:47:06.893Z"
   },
   {
    "duration": 734,
    "start_time": "2021-06-17T23:56:11.634Z"
   },
   {
    "duration": 456,
    "start_time": "2021-06-17T23:56:57.442Z"
   },
   {
    "duration": 6,
    "start_time": "2021-06-17T23:57:00.586Z"
   },
   {
    "duration": 6,
    "start_time": "2021-06-17T23:57:20.205Z"
   },
   {
    "duration": 14,
    "start_time": "2021-06-17T23:57:24.475Z"
   },
   {
    "duration": 276,
    "start_time": "2021-06-18T03:05:15.549Z"
   },
   {
    "duration": 311,
    "start_time": "2021-06-18T03:05:27.679Z"
   },
   {
    "duration": 383,
    "start_time": "2021-06-18T03:09:47.597Z"
   },
   {
    "duration": 149,
    "start_time": "2021-06-18T03:09:55.262Z"
   },
   {
    "duration": 268,
    "start_time": "2021-06-18T03:10:09.834Z"
   },
   {
    "duration": 271,
    "start_time": "2021-06-18T03:10:36.103Z"
   },
   {
    "duration": 264,
    "start_time": "2021-06-18T03:10:57.534Z"
   },
   {
    "duration": 1473,
    "start_time": "2021-06-18T03:11:12.069Z"
   },
   {
    "duration": 187,
    "start_time": "2021-06-18T03:11:13.545Z"
   },
   {
    "duration": 4,
    "start_time": "2021-06-18T03:11:13.735Z"
   },
   {
    "duration": 667,
    "start_time": "2021-06-18T03:11:13.742Z"
   },
   {
    "duration": 13456,
    "start_time": "2021-06-18T03:11:14.411Z"
   },
   {
    "duration": 2087,
    "start_time": "2021-06-18T03:11:27.870Z"
   },
   {
    "duration": 572,
    "start_time": "2021-06-18T03:11:29.960Z"
   },
   {
    "duration": 25,
    "start_time": "2021-06-18T03:11:30.534Z"
   },
   {
    "duration": 666,
    "start_time": "2021-06-18T03:11:30.562Z"
   },
   {
    "duration": 303,
    "start_time": "2021-06-18T03:11:48.766Z"
   },
   {
    "duration": 1392,
    "start_time": "2021-06-18T03:12:03.400Z"
   },
   {
    "duration": 191,
    "start_time": "2021-06-18T03:12:04.795Z"
   },
   {
    "duration": 4,
    "start_time": "2021-06-18T03:12:04.990Z"
   },
   {
    "duration": 670,
    "start_time": "2021-06-18T03:12:04.998Z"
   },
   {
    "duration": 13671,
    "start_time": "2021-06-18T03:12:05.670Z"
   },
   {
    "duration": 2111,
    "start_time": "2021-06-18T03:12:19.344Z"
   },
   {
    "duration": 562,
    "start_time": "2021-06-18T03:12:21.459Z"
   },
   {
    "duration": 29,
    "start_time": "2021-06-18T03:12:22.024Z"
   },
   {
    "duration": 144,
    "start_time": "2021-06-18T03:12:22.056Z"
   },
   {
    "duration": 497,
    "start_time": "2021-06-18T03:12:22.203Z"
   },
   {
    "duration": 280,
    "start_time": "2021-06-18T03:13:00.848Z"
   },
   {
    "duration": 1477,
    "start_time": "2021-06-18T03:13:12.357Z"
   },
   {
    "duration": 183,
    "start_time": "2021-06-18T03:13:13.837Z"
   },
   {
    "duration": 4,
    "start_time": "2021-06-18T03:13:14.023Z"
   },
   {
    "duration": 674,
    "start_time": "2021-06-18T03:13:14.030Z"
   },
   {
    "duration": 13728,
    "start_time": "2021-06-18T03:13:14.707Z"
   },
   {
    "duration": 2122,
    "start_time": "2021-06-18T03:13:28.438Z"
   },
   {
    "duration": 572,
    "start_time": "2021-06-18T03:13:30.563Z"
   },
   {
    "duration": 25,
    "start_time": "2021-06-18T03:13:31.139Z"
   },
   {
    "duration": 779,
    "start_time": "2021-06-18T03:13:31.168Z"
   },
   {
    "duration": 579,
    "start_time": "2021-06-18T03:13:58.996Z"
   },
   {
    "duration": 404,
    "start_time": "2021-06-18T13:31:07.818Z"
   },
   {
    "duration": 1609,
    "start_time": "2021-06-18T13:31:20.592Z"
   },
   {
    "duration": 1002,
    "start_time": "2021-06-18T13:31:22.203Z"
   },
   {
    "duration": 4,
    "start_time": "2021-06-18T13:31:23.208Z"
   },
   {
    "duration": 687,
    "start_time": "2021-06-18T13:31:23.215Z"
   },
   {
    "duration": 14325,
    "start_time": "2021-06-18T13:31:23.904Z"
   },
   {
    "duration": 1999,
    "start_time": "2021-06-18T13:31:38.232Z"
   },
   {
    "duration": 588,
    "start_time": "2021-06-18T13:31:40.234Z"
   },
   {
    "duration": 17,
    "start_time": "2021-06-18T13:31:40.825Z"
   },
   {
    "duration": 812,
    "start_time": "2021-06-18T13:31:40.845Z"
   },
   {
    "duration": 103,
    "start_time": "2021-06-18T13:40:20.263Z"
   },
   {
    "duration": 106,
    "start_time": "2021-06-18T13:40:29.314Z"
   },
   {
    "duration": 538,
    "start_time": "2021-06-18T13:40:53.421Z"
   },
   {
    "duration": 19,
    "start_time": "2021-06-18T13:40:57.253Z"
   },
   {
    "duration": 499,
    "start_time": "2021-06-18T13:41:09.007Z"
   },
   {
    "duration": 733,
    "start_time": "2021-06-18T13:44:47.893Z"
   },
   {
    "duration": 1551,
    "start_time": "2021-06-18T14:12:42.940Z"
   },
   {
    "duration": 207,
    "start_time": "2021-06-18T14:12:44.494Z"
   },
   {
    "duration": 4,
    "start_time": "2021-06-18T14:12:44.704Z"
   },
   {
    "duration": 673,
    "start_time": "2021-06-18T14:12:44.726Z"
   },
   {
    "duration": 13743,
    "start_time": "2021-06-18T14:12:45.401Z"
   },
   {
    "duration": 2082,
    "start_time": "2021-06-18T14:12:59.146Z"
   },
   {
    "duration": 1858,
    "start_time": "2021-06-18T14:13:01.325Z"
   },
   {
    "duration": -74,
    "start_time": "2021-06-18T14:13:03.260Z"
   },
   {
    "duration": -204,
    "start_time": "2021-06-18T14:13:03.391Z"
   },
   {
    "duration": 1536,
    "start_time": "2021-06-18T14:15:48.794Z"
   },
   {
    "duration": 182,
    "start_time": "2021-06-18T14:15:50.333Z"
   },
   {
    "duration": 3,
    "start_time": "2021-06-18T14:15:50.526Z"
   },
   {
    "duration": 1534,
    "start_time": "2021-06-18T14:15:50.532Z"
   },
   {
    "duration": 138043,
    "start_time": "2021-06-18T14:15:52.069Z"
   },
   {
    "duration": 468,
    "start_time": "2021-06-18T14:18:37.882Z"
   },
   {
    "duration": 1545,
    "start_time": "2021-06-18T14:18:57.052Z"
   },
   {
    "duration": 1020,
    "start_time": "2021-06-18T14:18:58.600Z"
   },
   {
    "duration": 4,
    "start_time": "2021-06-18T14:18:59.623Z"
   },
   {
    "duration": 1582,
    "start_time": "2021-06-18T14:18:59.631Z"
   },
   {
    "duration": 22,
    "start_time": "2021-06-18T14:19:01.225Z"
   },
   {
    "duration": 651,
    "start_time": "2021-06-18T14:19:01.259Z"
   },
   {
    "duration": -198,
    "start_time": "2021-06-18T14:19:02.111Z"
   },
   {
    "duration": -201,
    "start_time": "2021-06-18T14:19:02.115Z"
   },
   {
    "duration": -202,
    "start_time": "2021-06-18T14:19:02.118Z"
   },
   {
    "duration": 1569,
    "start_time": "2021-06-18T14:19:45.716Z"
   },
   {
    "duration": 184,
    "start_time": "2021-06-18T14:19:47.287Z"
   },
   {
    "duration": 3,
    "start_time": "2021-06-18T14:19:47.474Z"
   },
   {
    "duration": 1553,
    "start_time": "2021-06-18T14:19:47.480Z"
   },
   {
    "duration": 84205,
    "start_time": "2021-06-18T14:19:49.035Z"
   },
   {
    "duration": 1524,
    "start_time": "2021-06-18T14:22:26.373Z"
   },
   {
    "duration": 1562,
    "start_time": "2021-06-18T15:08:07.982Z"
   },
   {
    "duration": 1408,
    "start_time": "2021-06-18T15:08:09.546Z"
   },
   {
    "duration": 7,
    "start_time": "2021-06-18T15:08:10.957Z"
   },
   {
    "duration": 2675,
    "start_time": "2021-06-18T15:08:10.967Z"
   },
   {
    "duration": 3,
    "start_time": "2021-06-18T15:08:13.644Z"
   },
   {
    "duration": 544,
    "start_time": "2021-06-18T15:08:13.650Z"
   },
   {
    "duration": -250,
    "start_time": "2021-06-18T15:08:14.447Z"
   },
   {
    "duration": -251,
    "start_time": "2021-06-18T15:08:14.449Z"
   },
   {
    "duration": -251,
    "start_time": "2021-06-18T15:08:14.450Z"
   },
   {
    "duration": 1567,
    "start_time": "2021-06-18T15:08:42.100Z"
   },
   {
    "duration": 196,
    "start_time": "2021-06-18T15:08:43.670Z"
   },
   {
    "duration": 5,
    "start_time": "2021-06-18T15:08:43.870Z"
   },
   {
    "duration": 1554,
    "start_time": "2021-06-18T15:08:43.878Z"
   },
   {
    "duration": 87541,
    "start_time": "2021-06-18T15:08:45.435Z"
   },
   {
    "duration": 377,
    "start_time": "2021-06-18T15:10:45.995Z"
   },
   {
    "duration": 328,
    "start_time": "2021-06-18T15:11:42.427Z"
   },
   {
    "duration": 1560,
    "start_time": "2021-06-18T15:11:50.943Z"
   },
   {
    "duration": 1089,
    "start_time": "2021-06-18T15:11:52.506Z"
   },
   {
    "duration": 5,
    "start_time": "2021-06-18T15:11:53.599Z"
   },
   {
    "duration": 1549,
    "start_time": "2021-06-18T15:11:53.627Z"
   },
   {
    "duration": 135268,
    "start_time": "2021-06-18T15:11:55.178Z"
   },
   {
    "duration": 1595,
    "start_time": "2021-06-18T15:14:52.265Z"
   },
   {
    "duration": 882,
    "start_time": "2021-06-18T15:14:53.862Z"
   },
   {
    "duration": 4,
    "start_time": "2021-06-18T15:14:54.747Z"
   },
   {
    "duration": 728,
    "start_time": "2021-06-18T15:14:54.754Z"
   },
   {
    "duration": 15489,
    "start_time": "2021-06-18T15:14:55.484Z"
   },
   {
    "duration": 2063,
    "start_time": "2021-06-18T15:15:10.975Z"
   },
   {
    "duration": 1941,
    "start_time": "2021-06-18T15:15:13.127Z"
   },
   {
    "duration": -86,
    "start_time": "2021-06-18T15:15:15.157Z"
   },
   {
    "duration": -89,
    "start_time": "2021-06-18T15:15:15.161Z"
   },
   {
    "duration": 183,
    "start_time": "2021-06-18T15:15:28.207Z"
   },
   {
    "duration": 1861,
    "start_time": "2021-06-18T15:25:33.090Z"
   },
   {
    "duration": 1543,
    "start_time": "2021-06-18T15:25:48.244Z"
   },
   {
    "duration": 191,
    "start_time": "2021-06-18T15:25:49.790Z"
   },
   {
    "duration": 3,
    "start_time": "2021-06-18T15:25:49.984Z"
   },
   {
    "duration": 691,
    "start_time": "2021-06-18T15:25:49.990Z"
   },
   {
    "duration": 14120,
    "start_time": "2021-06-18T15:25:50.684Z"
   },
   {
    "duration": 1927,
    "start_time": "2021-06-18T15:26:04.807Z"
   },
   {
    "duration": 2100,
    "start_time": "2021-06-18T15:26:06.737Z"
   },
   {
    "duration": -37,
    "start_time": "2021-06-18T15:26:08.877Z"
   },
   {
    "duration": -160,
    "start_time": "2021-06-18T15:26:09.002Z"
   },
   {
    "duration": 962,
    "start_time": "2021-06-18T15:26:24.070Z"
   },
   {
    "duration": 1463,
    "start_time": "2021-06-18T15:27:04.225Z"
   },
   {
    "duration": 197,
    "start_time": "2021-06-18T15:27:05.691Z"
   },
   {
    "duration": 5,
    "start_time": "2021-06-18T15:27:05.893Z"
   },
   {
    "duration": 688,
    "start_time": "2021-06-18T15:27:05.900Z"
   },
   {
    "duration": 14220,
    "start_time": "2021-06-18T15:27:06.590Z"
   },
   {
    "duration": 2016,
    "start_time": "2021-06-18T15:27:20.812Z"
   },
   {
    "duration": 1127,
    "start_time": "2021-06-18T15:27:22.832Z"
   },
   {
    "duration": -7,
    "start_time": "2021-06-18T15:27:23.968Z"
   },
   {
    "duration": -121,
    "start_time": "2021-06-18T15:27:24.084Z"
   },
   {
    "duration": 511,
    "start_time": "2021-06-18T15:28:04.714Z"
   },
   {
    "duration": 851,
    "start_time": "2021-06-18T15:28:12.300Z"
   },
   {
    "duration": 666,
    "start_time": "2021-06-18T15:28:48.809Z"
   },
   {
    "duration": 667,
    "start_time": "2021-06-18T15:28:55.158Z"
   },
   {
    "duration": 10127,
    "start_time": "2021-06-18T15:29:24.818Z"
   },
   {
    "duration": 15275,
    "start_time": "2021-06-18T15:29:35.824Z"
   },
   {
    "duration": 404,
    "start_time": "2021-06-18T15:33:35.025Z"
   },
   {
    "duration": 43,
    "start_time": "2021-06-18T15:37:30.233Z"
   },
   {
    "duration": 26,
    "start_time": "2021-06-18T15:37:47.499Z"
   },
   {
    "duration": 14997,
    "start_time": "2021-06-18T15:37:51.292Z"
   },
   {
    "duration": 15302,
    "start_time": "2021-06-18T15:39:03.673Z"
   },
   {
    "duration": 1544,
    "start_time": "2021-06-18T15:39:52.023Z"
   },
   {
    "duration": 195,
    "start_time": "2021-06-18T15:39:53.569Z"
   },
   {
    "duration": 4,
    "start_time": "2021-06-18T15:39:53.767Z"
   },
   {
    "duration": 698,
    "start_time": "2021-06-18T15:39:53.773Z"
   },
   {
    "duration": 24,
    "start_time": "2021-06-18T15:39:54.473Z"
   },
   {
    "duration": 14038,
    "start_time": "2021-06-18T15:39:54.500Z"
   },
   {
    "duration": 2089,
    "start_time": "2021-06-18T15:40:08.540Z"
   },
   {
    "duration": 1207,
    "start_time": "2021-06-18T15:40:10.635Z"
   },
   {
    "duration": -113,
    "start_time": "2021-06-18T15:40:11.957Z"
   },
   {
    "duration": -113,
    "start_time": "2021-06-18T15:40:11.959Z"
   },
   {
    "duration": -114,
    "start_time": "2021-06-18T15:40:11.961Z"
   },
   {
    "duration": 15410,
    "start_time": "2021-06-18T15:40:32.936Z"
   },
   {
    "duration": 1550,
    "start_time": "2021-06-18T15:42:00.591Z"
   },
   {
    "duration": 192,
    "start_time": "2021-06-18T15:42:02.144Z"
   },
   {
    "duration": 5,
    "start_time": "2021-06-18T15:42:02.339Z"
   },
   {
    "duration": 700,
    "start_time": "2021-06-18T15:42:02.347Z"
   },
   {
    "duration": 19,
    "start_time": "2021-06-18T15:42:03.050Z"
   },
   {
    "duration": 13498,
    "start_time": "2021-06-18T15:42:03.072Z"
   },
   {
    "duration": 2759,
    "start_time": "2021-06-18T15:42:16.573Z"
   },
   {
    "duration": 23743,
    "start_time": "2021-06-18T15:42:19.340Z"
   },
   {
    "duration": 108,
    "start_time": "2021-06-18T15:42:43.086Z"
   },
   {
    "duration": -171,
    "start_time": "2021-06-18T15:42:43.367Z"
   },
   {
    "duration": -174,
    "start_time": "2021-06-18T15:42:43.372Z"
   },
   {
    "duration": 7449,
    "start_time": "2021-06-18T15:43:10.394Z"
   },
   {
    "duration": 23,
    "start_time": "2021-06-18T15:43:33.847Z"
   },
   {
    "duration": 322,
    "start_time": "2021-06-18T15:43:43.585Z"
   },
   {
    "duration": 348,
    "start_time": "2021-06-18T15:43:49.823Z"
   },
   {
    "duration": 369,
    "start_time": "2021-06-18T15:43:58.919Z"
   },
   {
    "duration": 23,
    "start_time": "2021-06-18T15:44:04.240Z"
   },
   {
    "duration": 22,
    "start_time": "2021-06-18T15:44:40.697Z"
   },
   {
    "duration": 6692,
    "start_time": "2021-06-18T15:45:24.316Z"
   },
   {
    "duration": 119,
    "start_time": "2021-06-18T15:45:58.897Z"
   },
   {
    "duration": 2233,
    "start_time": "2021-06-18T15:46:01.924Z"
   },
   {
    "duration": 2265,
    "start_time": "2021-06-18T15:46:09.865Z"
   },
   {
    "duration": 6861,
    "start_time": "2021-06-18T15:47:06.052Z"
   },
   {
    "duration": 4765,
    "start_time": "2021-06-18T15:47:16.779Z"
   },
   {
    "duration": 6150,
    "start_time": "2021-06-18T15:47:42.099Z"
   },
   {
    "duration": 4273,
    "start_time": "2021-06-18T15:47:48.252Z"
   },
   {
    "duration": 14,
    "start_time": "2021-06-18T15:47:57.045Z"
   },
   {
    "duration": 603,
    "start_time": "2021-06-18T15:48:02.199Z"
   },
   {
    "duration": 1598,
    "start_time": "2021-06-18T15:48:08.664Z"
   },
   {
    "duration": 198,
    "start_time": "2021-06-18T15:48:10.265Z"
   },
   {
    "duration": 5,
    "start_time": "2021-06-18T15:48:10.467Z"
   },
   {
    "duration": 719,
    "start_time": "2021-06-18T15:48:10.475Z"
   },
   {
    "duration": 19,
    "start_time": "2021-06-18T15:48:11.196Z"
   },
   {
    "duration": 13897,
    "start_time": "2021-06-18T15:48:11.217Z"
   },
   {
    "duration": 2414,
    "start_time": "2021-06-18T15:48:25.117Z"
   },
   {
    "duration": 15761,
    "start_time": "2021-06-18T15:48:27.536Z"
   },
   {
    "duration": 40,
    "start_time": "2021-06-18T15:48:43.300Z"
   },
   {
    "duration": 6440,
    "start_time": "2021-06-18T15:48:43.344Z"
   },
   {
    "duration": 4144,
    "start_time": "2021-06-18T15:48:49.787Z"
   },
   {
    "duration": 101,
    "start_time": "2021-06-18T15:48:53.934Z"
   },
   {
    "duration": 619,
    "start_time": "2021-06-18T15:48:54.038Z"
   },
   {
    "duration": 383,
    "start_time": "2021-06-18T19:24:40.317Z"
   },
   {
    "duration": 1462,
    "start_time": "2021-06-18T19:24:44.735Z"
   },
   {
    "duration": 857,
    "start_time": "2021-06-18T19:24:46.199Z"
   }
  ],
  "kernelspec": {
   "display_name": "Python 3",
   "language": "python",
   "name": "python3"
  },
  "language_info": {
   "codemirror_mode": {
    "name": "ipython",
    "version": 3
   },
   "file_extension": ".py",
   "mimetype": "text/x-python",
   "name": "python",
   "nbconvert_exporter": "python",
   "pygments_lexer": "ipython3",
   "version": "3.7.8"
  },
  "toc": {
   "base_numbering": 1,
   "nav_menu": {},
   "number_sections": true,
   "sideBar": true,
   "skip_h1_title": true,
   "title_cell": "Table of Contents",
   "title_sidebar": "Contents",
   "toc_cell": false,
   "toc_position": {},
   "toc_section_display": true,
   "toc_window_display": false
  }
 },
 "nbformat": 4,
 "nbformat_minor": 2
}
